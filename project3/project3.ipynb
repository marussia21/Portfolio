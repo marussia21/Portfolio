{
 "cells": [
  {
   "cell_type": "markdown",
   "id": "16a847d0",
   "metadata": {},
   "source": [
    "# Анализ товарного ассортимента \n",
    "### Задача и цель:\n",
    "Интернет-магазин товаров для дома «Пока все ещё тут». Нужно проанализировать данные бизнеса, отработать корректные и некректные данные. Сделать вывод, на какие ассортименты и на каких клиентов бизнесу стоит обращать внимание, чтобы было больше заказов и клиентов. Показать насколько отличается тот или иной вариант. Выявить закономерности в данных и дать рекомендации"
   ]
  },
  {
   "cell_type": "markdown",
   "id": "d76cc48f",
   "metadata": {},
   "source": [
    "### Ход работы\n",
    "\n",
    "#### Предобработка информации \n",
    "- отработать дубликаты\n",
    "- отработать пустые значения\n",
    "- удалить случаи когда на один индетификатор заказа несколько покупателей\n",
    "#### Проведите исследовательский анализ данных\n",
    "\n",
    "- выяснить как взаимосвязанны данные\n",
    "- построить графики\n",
    "- построить кореляции \n",
    "#### Проанализируйте торговый ассортимент;\n",
    "- Классифицировать ассортимент и создать новый столбец (проведя ABC анализ)\n",
    "- Выяснить как зависят данные от ассортимента.\n",
    "- Выделите основной и дополнительный ассортимент\n",
    "#### Сформулируйте и проверьте статистические гипотезы.\n",
    "- Динамика роста заказа оснвого ассортимента в больше чем дополнительного\n",
    "- Люди которые покупают много чего чаще возвращаются еще раз за покупкой  "
   ]
  },
  {
   "cell_type": "markdown",
   "id": "373dbf13",
   "metadata": {},
   "source": [
    "### Вывод\n",
    "- Сделать вывод, на какие ассортименты и на каких клиентов бизнесу стоит обращать внимание, чтобы было больше заказов и клиентов. Показать насколько отличается тот или иной вариант"
   ]
  },
  {
   "cell_type": "markdown",
   "id": "570a105f",
   "metadata": {},
   "source": [
    "### Загрузка данных и импортирование библиотек"
   ]
  },
  {
   "cell_type": "code",
   "execution_count": 1,
   "id": "190d4da7",
   "metadata": {},
   "outputs": [],
   "source": [
    "import pandas as pd\n",
    "import matplotlib.pyplot as plt\n",
    "import seaborn as sns\n",
    "import folium\n",
    "import plotly.express as px \n",
    "from plotly import graph_objects as go\n",
    "import warnings\n",
    "import scipy.stats as stats\n",
    "import numpy as np\n",
    "import os\n",
    "from pymystem3 import Mystem\n",
    "from collections import Counter"
   ]
  },
  {
   "cell_type": "code",
   "execution_count": 2,
   "id": "00a59a07",
   "metadata": {},
   "outputs": [],
   "source": [
    "pth1 = '/Users/marksuskov/ЯП/final/ecom_dataset_upd.csv'\n",
    "pth2 = '/datasets/ecom_dataset_upd.csv'\n",
    "if os.path.exists(pth1):\n",
    "    data = pd.read_csv(pth1)\n",
    "elif os.path.exists(pth2):\n",
    "    data = pd.read_csv(pth2)\n",
    "else:\n",
    "    print('Something is wrong')\n"
   ]
  },
  {
   "cell_type": "code",
   "execution_count": 3,
   "id": "df122d24",
   "metadata": {},
   "outputs": [
    {
     "data": {
      "text/html": [
       "<div>\n",
       "<style scoped>\n",
       "    .dataframe tbody tr th:only-of-type {\n",
       "        vertical-align: middle;\n",
       "    }\n",
       "\n",
       "    .dataframe tbody tr th {\n",
       "        vertical-align: top;\n",
       "    }\n",
       "\n",
       "    .dataframe thead th {\n",
       "        text-align: right;\n",
       "    }\n",
       "</style>\n",
       "<table border=\"1\" class=\"dataframe\">\n",
       "  <thead>\n",
       "    <tr style=\"text-align: right;\">\n",
       "      <th></th>\n",
       "      <th>date</th>\n",
       "      <th>customer_id</th>\n",
       "      <th>order_id</th>\n",
       "      <th>product</th>\n",
       "      <th>quantity</th>\n",
       "      <th>price</th>\n",
       "    </tr>\n",
       "  </thead>\n",
       "  <tbody>\n",
       "    <tr>\n",
       "      <th>0</th>\n",
       "      <td>2018100100</td>\n",
       "      <td>ee47d746-6d2f-4d3c-9622-c31412542920</td>\n",
       "      <td>68477</td>\n",
       "      <td>Комнатное растение в горшке Алое Вера, d12, h30</td>\n",
       "      <td>1</td>\n",
       "      <td>142.0</td>\n",
       "    </tr>\n",
       "    <tr>\n",
       "      <th>1</th>\n",
       "      <td>2018100100</td>\n",
       "      <td>ee47d746-6d2f-4d3c-9622-c31412542920</td>\n",
       "      <td>68477</td>\n",
       "      <td>Комнатное растение в горшке Кофе Арабика, d12,...</td>\n",
       "      <td>1</td>\n",
       "      <td>194.0</td>\n",
       "    </tr>\n",
       "    <tr>\n",
       "      <th>2</th>\n",
       "      <td>2018100100</td>\n",
       "      <td>ee47d746-6d2f-4d3c-9622-c31412542920</td>\n",
       "      <td>68477</td>\n",
       "      <td>Радермахера d-12 см h-20 см</td>\n",
       "      <td>1</td>\n",
       "      <td>112.0</td>\n",
       "    </tr>\n",
       "    <tr>\n",
       "      <th>3</th>\n",
       "      <td>2018100100</td>\n",
       "      <td>ee47d746-6d2f-4d3c-9622-c31412542920</td>\n",
       "      <td>68477</td>\n",
       "      <td>Хризолидокарпус Лутесценс d-9 см</td>\n",
       "      <td>1</td>\n",
       "      <td>179.0</td>\n",
       "    </tr>\n",
       "    <tr>\n",
       "      <th>4</th>\n",
       "      <td>2018100100</td>\n",
       "      <td>ee47d746-6d2f-4d3c-9622-c31412542920</td>\n",
       "      <td>68477</td>\n",
       "      <td>Циперус Зумула d-12 см h-25 см</td>\n",
       "      <td>1</td>\n",
       "      <td>112.0</td>\n",
       "    </tr>\n",
       "    <tr>\n",
       "      <th>...</th>\n",
       "      <td>...</td>\n",
       "      <td>...</td>\n",
       "      <td>...</td>\n",
       "      <td>...</td>\n",
       "      <td>...</td>\n",
       "      <td>...</td>\n",
       "    </tr>\n",
       "    <tr>\n",
       "      <th>7469</th>\n",
       "      <td>2020013021</td>\n",
       "      <td>63208953-a8e4-4f77-9b47-3a46e7b72eee</td>\n",
       "      <td>104002</td>\n",
       "      <td>томата (помидор) Черниченский черри № 116 сорт...</td>\n",
       "      <td>2</td>\n",
       "      <td>38.0</td>\n",
       "    </tr>\n",
       "    <tr>\n",
       "      <th>7470</th>\n",
       "      <td>2020013022</td>\n",
       "      <td>d99d25f1-4017-4fcd-8d29-c580cc695a1a</td>\n",
       "      <td>107336</td>\n",
       "      <td>Дендробиум Санок Анна Грин 1 ствол d-12 см</td>\n",
       "      <td>1</td>\n",
       "      <td>869.0</td>\n",
       "    </tr>\n",
       "    <tr>\n",
       "      <th>7471</th>\n",
       "      <td>2020013102</td>\n",
       "      <td>2c9bd08d-8c55-4e7a-9bfb-8c56ba42c6d6</td>\n",
       "      <td>106336</td>\n",
       "      <td>Подставка для обуви резиновая Attribute 80x40 ...</td>\n",
       "      <td>1</td>\n",
       "      <td>354.0</td>\n",
       "    </tr>\n",
       "    <tr>\n",
       "      <th>7472</th>\n",
       "      <td>2020013112</td>\n",
       "      <td>cdd17932-623e-415f-a577-3b31312fd0e2</td>\n",
       "      <td>102002</td>\n",
       "      <td>Тагетис крупноцветковый рассада однолетних цве...</td>\n",
       "      <td>1</td>\n",
       "      <td>128.0</td>\n",
       "    </tr>\n",
       "    <tr>\n",
       "      <th>7473</th>\n",
       "      <td>2020013115</td>\n",
       "      <td>2e460a26-35af-453d-a369-a036e95a40e0</td>\n",
       "      <td>103225</td>\n",
       "      <td>Вешалка для блузок 41 см красный Attribute AHM781</td>\n",
       "      <td>1</td>\n",
       "      <td>104.0</td>\n",
       "    </tr>\n",
       "  </tbody>\n",
       "</table>\n",
       "<p>7474 rows × 6 columns</p>\n",
       "</div>"
      ],
      "text/plain": [
       "            date                           customer_id  order_id  \\\n",
       "0     2018100100  ee47d746-6d2f-4d3c-9622-c31412542920     68477   \n",
       "1     2018100100  ee47d746-6d2f-4d3c-9622-c31412542920     68477   \n",
       "2     2018100100  ee47d746-6d2f-4d3c-9622-c31412542920     68477   \n",
       "3     2018100100  ee47d746-6d2f-4d3c-9622-c31412542920     68477   \n",
       "4     2018100100  ee47d746-6d2f-4d3c-9622-c31412542920     68477   \n",
       "...          ...                                   ...       ...   \n",
       "7469  2020013021  63208953-a8e4-4f77-9b47-3a46e7b72eee    104002   \n",
       "7470  2020013022  d99d25f1-4017-4fcd-8d29-c580cc695a1a    107336   \n",
       "7471  2020013102  2c9bd08d-8c55-4e7a-9bfb-8c56ba42c6d6    106336   \n",
       "7472  2020013112  cdd17932-623e-415f-a577-3b31312fd0e2    102002   \n",
       "7473  2020013115  2e460a26-35af-453d-a369-a036e95a40e0    103225   \n",
       "\n",
       "                                                product  quantity  price  \n",
       "0       Комнатное растение в горшке Алое Вера, d12, h30         1  142.0  \n",
       "1     Комнатное растение в горшке Кофе Арабика, d12,...         1  194.0  \n",
       "2                           Радермахера d-12 см h-20 см         1  112.0  \n",
       "3                      Хризолидокарпус Лутесценс d-9 см         1  179.0  \n",
       "4                        Циперус Зумула d-12 см h-25 см         1  112.0  \n",
       "...                                                 ...       ...    ...  \n",
       "7469  томата (помидор) Черниченский черри № 116 сорт...         2   38.0  \n",
       "7470         Дендробиум Санок Анна Грин 1 ствол d-12 см         1  869.0  \n",
       "7471  Подставка для обуви резиновая Attribute 80x40 ...         1  354.0  \n",
       "7472  Тагетис крупноцветковый рассада однолетних цве...         1  128.0  \n",
       "7473  Вешалка для блузок 41 см красный Attribute AHM781         1  104.0  \n",
       "\n",
       "[7474 rows x 6 columns]"
      ]
     },
     "execution_count": 3,
     "metadata": {},
     "output_type": "execute_result"
    }
   ],
   "source": [
    "data"
   ]
  },
  {
   "cell_type": "markdown",
   "id": "7c40a7bc",
   "metadata": {},
   "source": [
    "###  Предобработка данных"
   ]
  },
  {
   "cell_type": "code",
   "execution_count": 4,
   "id": "e30a9e0e",
   "metadata": {},
   "outputs": [
    {
     "data": {
      "text/plain": [
       "0"
      ]
     },
     "metadata": {},
     "output_type": "display_data"
    }
   ],
   "source": [
    "display(data.duplicated().sum())"
   ]
  },
  {
   "cell_type": "markdown",
   "id": "ed946bfc",
   "metadata": {},
   "source": [
    "Полных дубликатов нет"
   ]
  },
  {
   "cell_type": "code",
   "execution_count": 5,
   "id": "3481174c",
   "metadata": {},
   "outputs": [
    {
     "data": {
      "text/plain": [
       "date           0\n",
       "customer_id    0\n",
       "order_id       0\n",
       "product        0\n",
       "quantity       0\n",
       "price          0\n",
       "dtype: int64"
      ]
     },
     "metadata": {},
     "output_type": "display_data"
    }
   ],
   "source": [
    "display(data.isnull().sum())"
   ]
  },
  {
   "cell_type": "markdown",
   "id": "e9f1a973",
   "metadata": {},
   "source": [
    "Пустых знвчений нет"
   ]
  },
  {
   "cell_type": "markdown",
   "id": "48d0f927",
   "metadata": {},
   "source": [
    "Проверю, чтобы не было случаев когда на один индетификатор заказа существует несколько покупателей, так как такого не может быть"
   ]
  },
  {
   "cell_type": "code",
   "execution_count": 6,
   "id": "a9f569a7",
   "metadata": {},
   "outputs": [
    {
     "data": {
      "text/html": [
       "<div>\n",
       "<style scoped>\n",
       "    .dataframe tbody tr th:only-of-type {\n",
       "        vertical-align: middle;\n",
       "    }\n",
       "\n",
       "    .dataframe tbody tr th {\n",
       "        vertical-align: top;\n",
       "    }\n",
       "\n",
       "    .dataframe thead th {\n",
       "        text-align: right;\n",
       "    }\n",
       "</style>\n",
       "<table border=\"1\" class=\"dataframe\">\n",
       "  <thead>\n",
       "    <tr style=\"text-align: right;\">\n",
       "      <th></th>\n",
       "      <th>order_id</th>\n",
       "      <th>customer_id</th>\n",
       "    </tr>\n",
       "  </thead>\n",
       "  <tbody>\n",
       "    <tr>\n",
       "      <th>248</th>\n",
       "      <td>14872</td>\n",
       "      <td>2</td>\n",
       "    </tr>\n",
       "    <tr>\n",
       "      <th>516</th>\n",
       "      <td>68785</td>\n",
       "      <td>2</td>\n",
       "    </tr>\n",
       "    <tr>\n",
       "      <th>797</th>\n",
       "      <td>69283</td>\n",
       "      <td>2</td>\n",
       "    </tr>\n",
       "    <tr>\n",
       "      <th>817</th>\n",
       "      <td>69310</td>\n",
       "      <td>2</td>\n",
       "    </tr>\n",
       "    <tr>\n",
       "      <th>832</th>\n",
       "      <td>69345</td>\n",
       "      <td>2</td>\n",
       "    </tr>\n",
       "    <tr>\n",
       "      <th>862</th>\n",
       "      <td>69410</td>\n",
       "      <td>2</td>\n",
       "    </tr>\n",
       "    <tr>\n",
       "      <th>902</th>\n",
       "      <td>69485</td>\n",
       "      <td>3</td>\n",
       "    </tr>\n",
       "    <tr>\n",
       "      <th>933</th>\n",
       "      <td>69531</td>\n",
       "      <td>2</td>\n",
       "    </tr>\n",
       "    <tr>\n",
       "      <th>1066</th>\n",
       "      <td>69833</td>\n",
       "      <td>2</td>\n",
       "    </tr>\n",
       "    <tr>\n",
       "      <th>1200</th>\n",
       "      <td>70114</td>\n",
       "      <td>2</td>\n",
       "    </tr>\n",
       "    <tr>\n",
       "      <th>1443</th>\n",
       "      <td>70542</td>\n",
       "      <td>2</td>\n",
       "    </tr>\n",
       "    <tr>\n",
       "      <th>1495</th>\n",
       "      <td>70631</td>\n",
       "      <td>2</td>\n",
       "    </tr>\n",
       "    <tr>\n",
       "      <th>1542</th>\n",
       "      <td>70726</td>\n",
       "      <td>2</td>\n",
       "    </tr>\n",
       "    <tr>\n",
       "      <th>1581</th>\n",
       "      <td>70808</td>\n",
       "      <td>2</td>\n",
       "    </tr>\n",
       "    <tr>\n",
       "      <th>1631</th>\n",
       "      <td>70903</td>\n",
       "      <td>2</td>\n",
       "    </tr>\n",
       "    <tr>\n",
       "      <th>1651</th>\n",
       "      <td>70946</td>\n",
       "      <td>2</td>\n",
       "    </tr>\n",
       "    <tr>\n",
       "      <th>1712</th>\n",
       "      <td>71054</td>\n",
       "      <td>2</td>\n",
       "    </tr>\n",
       "    <tr>\n",
       "      <th>1799</th>\n",
       "      <td>71226</td>\n",
       "      <td>2</td>\n",
       "    </tr>\n",
       "    <tr>\n",
       "      <th>1905</th>\n",
       "      <td>71461</td>\n",
       "      <td>2</td>\n",
       "    </tr>\n",
       "    <tr>\n",
       "      <th>1914</th>\n",
       "      <td>71480</td>\n",
       "      <td>3</td>\n",
       "    </tr>\n",
       "    <tr>\n",
       "      <th>1939</th>\n",
       "      <td>71542</td>\n",
       "      <td>2</td>\n",
       "    </tr>\n",
       "    <tr>\n",
       "      <th>1956</th>\n",
       "      <td>71571</td>\n",
       "      <td>2</td>\n",
       "    </tr>\n",
       "    <tr>\n",
       "      <th>2000</th>\n",
       "      <td>71648</td>\n",
       "      <td>2</td>\n",
       "    </tr>\n",
       "    <tr>\n",
       "      <th>2004</th>\n",
       "      <td>71663</td>\n",
       "      <td>2</td>\n",
       "    </tr>\n",
       "    <tr>\n",
       "      <th>2269</th>\n",
       "      <td>72188</td>\n",
       "      <td>2</td>\n",
       "    </tr>\n",
       "    <tr>\n",
       "      <th>2569</th>\n",
       "      <td>72778</td>\n",
       "      <td>2</td>\n",
       "    </tr>\n",
       "    <tr>\n",
       "      <th>2576</th>\n",
       "      <td>72790</td>\n",
       "      <td>2</td>\n",
       "    </tr>\n",
       "    <tr>\n",
       "      <th>2610</th>\n",
       "      <td>72845</td>\n",
       "      <td>4</td>\n",
       "    </tr>\n",
       "    <tr>\n",
       "      <th>2677</th>\n",
       "      <td>72950</td>\n",
       "      <td>2</td>\n",
       "    </tr>\n",
       "  </tbody>\n",
       "</table>\n",
       "</div>"
      ],
      "text/plain": [
       "      order_id  customer_id\n",
       "248      14872            2\n",
       "516      68785            2\n",
       "797      69283            2\n",
       "817      69310            2\n",
       "832      69345            2\n",
       "862      69410            2\n",
       "902      69485            3\n",
       "933      69531            2\n",
       "1066     69833            2\n",
       "1200     70114            2\n",
       "1443     70542            2\n",
       "1495     70631            2\n",
       "1542     70726            2\n",
       "1581     70808            2\n",
       "1631     70903            2\n",
       "1651     70946            2\n",
       "1712     71054            2\n",
       "1799     71226            2\n",
       "1905     71461            2\n",
       "1914     71480            3\n",
       "1939     71542            2\n",
       "1956     71571            2\n",
       "2000     71648            2\n",
       "2004     71663            2\n",
       "2269     72188            2\n",
       "2569     72778            2\n",
       "2576     72790            2\n",
       "2610     72845            4\n",
       "2677     72950            2"
      ]
     },
     "execution_count": 6,
     "metadata": {},
     "output_type": "execute_result"
    }
   ],
   "source": [
    "data_id_customer_order = data[['customer_id','order_id']]\n",
    "data_id_customer_order = data_id_customer_order.drop_duplicates() #удалил строчки где и заказ и пользователь совпадает\n",
    "data_id_customer_order_pivot = data_id_customer_order.pivot_table(index = 'order_id',aggfunc = 'count')\n",
    "data_id_customer_order_pivot.reset_index(inplace = True)\n",
    "data_id_customer_order_pivot.sort_values(by = 'customer_id',ascending = False)\n",
    "data_id_customer_order_pivot = data_id_customer_order_pivot[data_id_customer_order_pivot['customer_id'] >1]\n",
    "data_id_customer_order_pivot"
   ]
  },
  {
   "cell_type": "markdown",
   "id": "0e9a4b50",
   "metadata": {},
   "source": [
    "29 заказов имеют разных покупателей. "
   ]
  },
  {
   "cell_type": "markdown",
   "id": "88e4c1c4",
   "metadata": {},
   "source": [
    "Удалю номера этих заказов из исходной таблицы"
   ]
  },
  {
   "cell_type": "code",
   "execution_count": 7,
   "id": "b136f49d",
   "metadata": {},
   "outputs": [],
   "source": [
    "data_id_customer_order_pivot = data_id_customer_order_pivot['order_id']"
   ]
  },
  {
   "cell_type": "code",
   "execution_count": 8,
   "id": "bd618e4c",
   "metadata": {},
   "outputs": [],
   "source": [
    "data = data.query('order_id not in @data_id_customer_order_pivot')"
   ]
  },
  {
   "cell_type": "code",
   "execution_count": 9,
   "id": "02ff548e",
   "metadata": {},
   "outputs": [
    {
     "data": {
      "text/html": [
       "<div>\n",
       "<style scoped>\n",
       "    .dataframe tbody tr th:only-of-type {\n",
       "        vertical-align: middle;\n",
       "    }\n",
       "\n",
       "    .dataframe tbody tr th {\n",
       "        vertical-align: top;\n",
       "    }\n",
       "\n",
       "    .dataframe thead th {\n",
       "        text-align: right;\n",
       "    }\n",
       "</style>\n",
       "<table border=\"1\" class=\"dataframe\">\n",
       "  <thead>\n",
       "    <tr style=\"text-align: right;\">\n",
       "      <th></th>\n",
       "      <th>date</th>\n",
       "      <th>customer_id</th>\n",
       "      <th>order_id</th>\n",
       "      <th>product</th>\n",
       "      <th>quantity</th>\n",
       "      <th>price</th>\n",
       "    </tr>\n",
       "  </thead>\n",
       "  <tbody>\n",
       "    <tr>\n",
       "      <th>0</th>\n",
       "      <td>2018100100</td>\n",
       "      <td>ee47d746-6d2f-4d3c-9622-c31412542920</td>\n",
       "      <td>68477</td>\n",
       "      <td>Комнатное растение в горшке Алое Вера, d12, h30</td>\n",
       "      <td>1</td>\n",
       "      <td>142.0</td>\n",
       "    </tr>\n",
       "    <tr>\n",
       "      <th>1</th>\n",
       "      <td>2018100100</td>\n",
       "      <td>ee47d746-6d2f-4d3c-9622-c31412542920</td>\n",
       "      <td>68477</td>\n",
       "      <td>Комнатное растение в горшке Кофе Арабика, d12,...</td>\n",
       "      <td>1</td>\n",
       "      <td>194.0</td>\n",
       "    </tr>\n",
       "    <tr>\n",
       "      <th>2</th>\n",
       "      <td>2018100100</td>\n",
       "      <td>ee47d746-6d2f-4d3c-9622-c31412542920</td>\n",
       "      <td>68477</td>\n",
       "      <td>Радермахера d-12 см h-20 см</td>\n",
       "      <td>1</td>\n",
       "      <td>112.0</td>\n",
       "    </tr>\n",
       "    <tr>\n",
       "      <th>3</th>\n",
       "      <td>2018100100</td>\n",
       "      <td>ee47d746-6d2f-4d3c-9622-c31412542920</td>\n",
       "      <td>68477</td>\n",
       "      <td>Хризолидокарпус Лутесценс d-9 см</td>\n",
       "      <td>1</td>\n",
       "      <td>179.0</td>\n",
       "    </tr>\n",
       "    <tr>\n",
       "      <th>4</th>\n",
       "      <td>2018100100</td>\n",
       "      <td>ee47d746-6d2f-4d3c-9622-c31412542920</td>\n",
       "      <td>68477</td>\n",
       "      <td>Циперус Зумула d-12 см h-25 см</td>\n",
       "      <td>1</td>\n",
       "      <td>112.0</td>\n",
       "    </tr>\n",
       "    <tr>\n",
       "      <th>...</th>\n",
       "      <td>...</td>\n",
       "      <td>...</td>\n",
       "      <td>...</td>\n",
       "      <td>...</td>\n",
       "      <td>...</td>\n",
       "      <td>...</td>\n",
       "    </tr>\n",
       "    <tr>\n",
       "      <th>7380</th>\n",
       "      <td>2020013021</td>\n",
       "      <td>63208953-a8e4-4f77-9b47-3a46e7b72eee</td>\n",
       "      <td>104002</td>\n",
       "      <td>томата (помидор) Черниченский черри № 116 сорт...</td>\n",
       "      <td>2</td>\n",
       "      <td>38.0</td>\n",
       "    </tr>\n",
       "    <tr>\n",
       "      <th>7381</th>\n",
       "      <td>2020013022</td>\n",
       "      <td>d99d25f1-4017-4fcd-8d29-c580cc695a1a</td>\n",
       "      <td>107336</td>\n",
       "      <td>Дендробиум Санок Анна Грин 1 ствол d-12 см</td>\n",
       "      <td>1</td>\n",
       "      <td>869.0</td>\n",
       "    </tr>\n",
       "    <tr>\n",
       "      <th>7382</th>\n",
       "      <td>2020013102</td>\n",
       "      <td>2c9bd08d-8c55-4e7a-9bfb-8c56ba42c6d6</td>\n",
       "      <td>106336</td>\n",
       "      <td>Подставка для обуви резиновая Attribute 80x40 ...</td>\n",
       "      <td>1</td>\n",
       "      <td>354.0</td>\n",
       "    </tr>\n",
       "    <tr>\n",
       "      <th>7383</th>\n",
       "      <td>2020013112</td>\n",
       "      <td>cdd17932-623e-415f-a577-3b31312fd0e2</td>\n",
       "      <td>102002</td>\n",
       "      <td>Тагетис крупноцветковый рассада однолетних цве...</td>\n",
       "      <td>1</td>\n",
       "      <td>128.0</td>\n",
       "    </tr>\n",
       "    <tr>\n",
       "      <th>7384</th>\n",
       "      <td>2020013115</td>\n",
       "      <td>2e460a26-35af-453d-a369-a036e95a40e0</td>\n",
       "      <td>103225</td>\n",
       "      <td>Вешалка для блузок 41 см красный Attribute AHM781</td>\n",
       "      <td>1</td>\n",
       "      <td>104.0</td>\n",
       "    </tr>\n",
       "  </tbody>\n",
       "</table>\n",
       "<p>7385 rows × 6 columns</p>\n",
       "</div>"
      ],
      "text/plain": [
       "            date                           customer_id  order_id  \\\n",
       "0     2018100100  ee47d746-6d2f-4d3c-9622-c31412542920     68477   \n",
       "1     2018100100  ee47d746-6d2f-4d3c-9622-c31412542920     68477   \n",
       "2     2018100100  ee47d746-6d2f-4d3c-9622-c31412542920     68477   \n",
       "3     2018100100  ee47d746-6d2f-4d3c-9622-c31412542920     68477   \n",
       "4     2018100100  ee47d746-6d2f-4d3c-9622-c31412542920     68477   \n",
       "...          ...                                   ...       ...   \n",
       "7380  2020013021  63208953-a8e4-4f77-9b47-3a46e7b72eee    104002   \n",
       "7381  2020013022  d99d25f1-4017-4fcd-8d29-c580cc695a1a    107336   \n",
       "7382  2020013102  2c9bd08d-8c55-4e7a-9bfb-8c56ba42c6d6    106336   \n",
       "7383  2020013112  cdd17932-623e-415f-a577-3b31312fd0e2    102002   \n",
       "7384  2020013115  2e460a26-35af-453d-a369-a036e95a40e0    103225   \n",
       "\n",
       "                                                product  quantity  price  \n",
       "0       Комнатное растение в горшке Алое Вера, d12, h30         1  142.0  \n",
       "1     Комнатное растение в горшке Кофе Арабика, d12,...         1  194.0  \n",
       "2                           Радермахера d-12 см h-20 см         1  112.0  \n",
       "3                      Хризолидокарпус Лутесценс d-9 см         1  179.0  \n",
       "4                        Циперус Зумула d-12 см h-25 см         1  112.0  \n",
       "...                                                 ...       ...    ...  \n",
       "7380  томата (помидор) Черниченский черри № 116 сорт...         2   38.0  \n",
       "7381         Дендробиум Санок Анна Грин 1 ствол d-12 см         1  869.0  \n",
       "7382  Подставка для обуви резиновая Attribute 80x40 ...         1  354.0  \n",
       "7383  Тагетис крупноцветковый рассада однолетних цве...         1  128.0  \n",
       "7384  Вешалка для блузок 41 см красный Attribute AHM781         1  104.0  \n",
       "\n",
       "[7385 rows x 6 columns]"
      ]
     },
     "metadata": {},
     "output_type": "display_data"
    }
   ],
   "source": [
    "data.reset_index(drop = True,inplace = True)\n",
    "display(data)"
   ]
  },
  {
   "cell_type": "markdown",
   "id": "a2ea50c8",
   "metadata": {},
   "source": [
    "проверю типы данных"
   ]
  },
  {
   "cell_type": "code",
   "execution_count": 10,
   "id": "5f2eaadf",
   "metadata": {},
   "outputs": [
    {
     "name": "stdout",
     "output_type": "stream",
     "text": [
      "<class 'pandas.core.frame.DataFrame'>\n",
      "RangeIndex: 7385 entries, 0 to 7384\n",
      "Data columns (total 6 columns):\n",
      " #   Column       Non-Null Count  Dtype  \n",
      "---  ------       --------------  -----  \n",
      " 0   date         7385 non-null   int64  \n",
      " 1   customer_id  7385 non-null   object \n",
      " 2   order_id     7385 non-null   int64  \n",
      " 3   product      7385 non-null   object \n",
      " 4   quantity     7385 non-null   int64  \n",
      " 5   price        7385 non-null   float64\n",
      "dtypes: float64(1), int64(3), object(2)\n",
      "memory usage: 346.3+ KB\n"
     ]
    }
   ],
   "source": [
    "data.info()"
   ]
  },
  {
   "cell_type": "code",
   "execution_count": 11,
   "id": "9dc21294",
   "metadata": {},
   "outputs": [],
   "source": [
    "pd.options.mode.chained_assignment = None"
   ]
  },
  {
   "cell_type": "code",
   "execution_count": 12,
   "id": "a6228a22",
   "metadata": {},
   "outputs": [],
   "source": [
    "data['date'] = pd.to_datetime(data['date'], format='%Y%m%d%H')"
   ]
  },
  {
   "cell_type": "markdown",
   "id": "876f480c",
   "metadata": {},
   "source": [
    "Приведу названия товаров к одному регистру и заменю ё на е"
   ]
  },
  {
   "cell_type": "code",
   "execution_count": 13,
   "id": "0257d72d",
   "metadata": {},
   "outputs": [],
   "source": [
    "data['product'] = data['product'].str.lower()\n",
    "data['product'] = data['product'].replace('ё', 'е') \n",
    "data = data.replace(['ё'],'е')"
   ]
  },
  {
   "cell_type": "markdown",
   "id": "d614663c",
   "metadata": {},
   "source": [
    "Найду строки, где различается только дата и удалю их"
   ]
  },
  {
   "cell_type": "code",
   "execution_count": 14,
   "id": "1894a2ac",
   "metadata": {},
   "outputs": [
    {
     "data": {
      "text/html": [
       "<div>\n",
       "<style scoped>\n",
       "    .dataframe tbody tr th:only-of-type {\n",
       "        vertical-align: middle;\n",
       "    }\n",
       "\n",
       "    .dataframe tbody tr th {\n",
       "        vertical-align: top;\n",
       "    }\n",
       "\n",
       "    .dataframe thead th {\n",
       "        text-align: right;\n",
       "    }\n",
       "</style>\n",
       "<table border=\"1\" class=\"dataframe\">\n",
       "  <thead>\n",
       "    <tr style=\"text-align: right;\">\n",
       "      <th></th>\n",
       "      <th>date</th>\n",
       "      <th>customer_id</th>\n",
       "      <th>order_id</th>\n",
       "      <th>product</th>\n",
       "      <th>quantity</th>\n",
       "      <th>price</th>\n",
       "    </tr>\n",
       "  </thead>\n",
       "  <tbody>\n",
       "    <tr>\n",
       "      <th>0</th>\n",
       "      <td>2018-10-01 00:00:00</td>\n",
       "      <td>ee47d746-6d2f-4d3c-9622-c31412542920</td>\n",
       "      <td>68477</td>\n",
       "      <td>комнатное растение в горшке алое вера, d12, h30</td>\n",
       "      <td>1</td>\n",
       "      <td>142.0</td>\n",
       "    </tr>\n",
       "    <tr>\n",
       "      <th>1</th>\n",
       "      <td>2018-10-01 00:00:00</td>\n",
       "      <td>ee47d746-6d2f-4d3c-9622-c31412542920</td>\n",
       "      <td>68477</td>\n",
       "      <td>комнатное растение в горшке кофе арабика, d12,...</td>\n",
       "      <td>1</td>\n",
       "      <td>194.0</td>\n",
       "    </tr>\n",
       "    <tr>\n",
       "      <th>2</th>\n",
       "      <td>2018-10-01 00:00:00</td>\n",
       "      <td>ee47d746-6d2f-4d3c-9622-c31412542920</td>\n",
       "      <td>68477</td>\n",
       "      <td>радермахера d-12 см h-20 см</td>\n",
       "      <td>1</td>\n",
       "      <td>112.0</td>\n",
       "    </tr>\n",
       "    <tr>\n",
       "      <th>3</th>\n",
       "      <td>2018-10-01 00:00:00</td>\n",
       "      <td>ee47d746-6d2f-4d3c-9622-c31412542920</td>\n",
       "      <td>68477</td>\n",
       "      <td>хризолидокарпус лутесценс d-9 см</td>\n",
       "      <td>1</td>\n",
       "      <td>179.0</td>\n",
       "    </tr>\n",
       "    <tr>\n",
       "      <th>4</th>\n",
       "      <td>2018-10-01 00:00:00</td>\n",
       "      <td>ee47d746-6d2f-4d3c-9622-c31412542920</td>\n",
       "      <td>68477</td>\n",
       "      <td>циперус зумула d-12 см h-25 см</td>\n",
       "      <td>1</td>\n",
       "      <td>112.0</td>\n",
       "    </tr>\n",
       "    <tr>\n",
       "      <th>...</th>\n",
       "      <td>...</td>\n",
       "      <td>...</td>\n",
       "      <td>...</td>\n",
       "      <td>...</td>\n",
       "      <td>...</td>\n",
       "      <td>...</td>\n",
       "    </tr>\n",
       "    <tr>\n",
       "      <th>7380</th>\n",
       "      <td>2020-01-30 21:00:00</td>\n",
       "      <td>63208953-a8e4-4f77-9b47-3a46e7b72eee</td>\n",
       "      <td>104002</td>\n",
       "      <td>томата (помидор) черниченский черри № 116 сорт...</td>\n",
       "      <td>2</td>\n",
       "      <td>38.0</td>\n",
       "    </tr>\n",
       "    <tr>\n",
       "      <th>7381</th>\n",
       "      <td>2020-01-30 22:00:00</td>\n",
       "      <td>d99d25f1-4017-4fcd-8d29-c580cc695a1a</td>\n",
       "      <td>107336</td>\n",
       "      <td>дендробиум санок анна грин 1 ствол d-12 см</td>\n",
       "      <td>1</td>\n",
       "      <td>869.0</td>\n",
       "    </tr>\n",
       "    <tr>\n",
       "      <th>7382</th>\n",
       "      <td>2020-01-31 02:00:00</td>\n",
       "      <td>2c9bd08d-8c55-4e7a-9bfb-8c56ba42c6d6</td>\n",
       "      <td>106336</td>\n",
       "      <td>подставка для обуви резиновая attribute 80x40 ...</td>\n",
       "      <td>1</td>\n",
       "      <td>354.0</td>\n",
       "    </tr>\n",
       "    <tr>\n",
       "      <th>7383</th>\n",
       "      <td>2020-01-31 12:00:00</td>\n",
       "      <td>cdd17932-623e-415f-a577-3b31312fd0e2</td>\n",
       "      <td>102002</td>\n",
       "      <td>тагетис крупноцветковый рассада однолетних цве...</td>\n",
       "      <td>1</td>\n",
       "      <td>128.0</td>\n",
       "    </tr>\n",
       "    <tr>\n",
       "      <th>7384</th>\n",
       "      <td>2020-01-31 15:00:00</td>\n",
       "      <td>2e460a26-35af-453d-a369-a036e95a40e0</td>\n",
       "      <td>103225</td>\n",
       "      <td>вешалка для блузок 41 см красный attribute ahm781</td>\n",
       "      <td>1</td>\n",
       "      <td>104.0</td>\n",
       "    </tr>\n",
       "  </tbody>\n",
       "</table>\n",
       "<p>5544 rows × 6 columns</p>\n",
       "</div>"
      ],
      "text/plain": [
       "                    date                           customer_id  order_id  \\\n",
       "0    2018-10-01 00:00:00  ee47d746-6d2f-4d3c-9622-c31412542920     68477   \n",
       "1    2018-10-01 00:00:00  ee47d746-6d2f-4d3c-9622-c31412542920     68477   \n",
       "2    2018-10-01 00:00:00  ee47d746-6d2f-4d3c-9622-c31412542920     68477   \n",
       "3    2018-10-01 00:00:00  ee47d746-6d2f-4d3c-9622-c31412542920     68477   \n",
       "4    2018-10-01 00:00:00  ee47d746-6d2f-4d3c-9622-c31412542920     68477   \n",
       "...                  ...                                   ...       ...   \n",
       "7380 2020-01-30 21:00:00  63208953-a8e4-4f77-9b47-3a46e7b72eee    104002   \n",
       "7381 2020-01-30 22:00:00  d99d25f1-4017-4fcd-8d29-c580cc695a1a    107336   \n",
       "7382 2020-01-31 02:00:00  2c9bd08d-8c55-4e7a-9bfb-8c56ba42c6d6    106336   \n",
       "7383 2020-01-31 12:00:00  cdd17932-623e-415f-a577-3b31312fd0e2    102002   \n",
       "7384 2020-01-31 15:00:00  2e460a26-35af-453d-a369-a036e95a40e0    103225   \n",
       "\n",
       "                                                product  quantity  price  \n",
       "0       комнатное растение в горшке алое вера, d12, h30         1  142.0  \n",
       "1     комнатное растение в горшке кофе арабика, d12,...         1  194.0  \n",
       "2                           радермахера d-12 см h-20 см         1  112.0  \n",
       "3                      хризолидокарпус лутесценс d-9 см         1  179.0  \n",
       "4                        циперус зумула d-12 см h-25 см         1  112.0  \n",
       "...                                                 ...       ...    ...  \n",
       "7380  томата (помидор) черниченский черри № 116 сорт...         2   38.0  \n",
       "7381         дендробиум санок анна грин 1 ствол d-12 см         1  869.0  \n",
       "7382  подставка для обуви резиновая attribute 80x40 ...         1  354.0  \n",
       "7383  тагетис крупноцветковый рассада однолетних цве...         1  128.0  \n",
       "7384  вешалка для блузок 41 см красный attribute ahm781         1  104.0  \n",
       "\n",
       "[5544 rows x 6 columns]"
      ]
     },
     "execution_count": 14,
     "metadata": {},
     "output_type": "execute_result"
    }
   ],
   "source": [
    "data = data.drop_duplicates(subset=['customer_id', 'order_id','product','quantity','price'])\n",
    "data"
   ]
  },
  {
   "cell_type": "markdown",
   "id": "04041c3f",
   "metadata": {},
   "source": [
    "Исследую данные на наличие выбросов"
   ]
  },
  {
   "cell_type": "code",
   "execution_count": 15,
   "id": "9f524d04",
   "metadata": {},
   "outputs": [
    {
     "data": {
      "text/plain": [
       "quantity\n",
       "1       4431\n",
       "2        507\n",
       "3        138\n",
       "4        101\n",
       "10        70\n",
       "5         67\n",
       "6         42\n",
       "15        23\n",
       "7         20\n",
       "25        16\n",
       "20        16\n",
       "30        15\n",
       "8         14\n",
       "12        13\n",
       "50         8\n",
       "9          7\n",
       "11         5\n",
       "13         5\n",
       "16         4\n",
       "100        4\n",
       "150        3\n",
       "24         3\n",
       "64         2\n",
       "60         2\n",
       "40         2\n",
       "14         2\n",
       "27         2\n",
       "31         1\n",
       "1000       1\n",
       "70         1\n",
       "300        1\n",
       "22         1\n",
       "26         1\n",
       "18         1\n",
       "80         1\n",
       "59         1\n",
       "334        1\n",
       "57         1\n",
       "43         1\n",
       "23         1\n",
       "29         1\n",
       "45         1\n",
       "37         1\n",
       "200        1\n",
       "96         1\n",
       "140        1\n",
       "170        1\n",
       "17         1\n",
       "65         1\n",
       "Name: count, dtype: int64"
      ]
     },
     "execution_count": 15,
     "metadata": {},
     "output_type": "execute_result"
    }
   ],
   "source": [
    "data['quantity'].value_counts()"
   ]
  },
  {
   "cell_type": "markdown",
   "id": "caaae0a3",
   "metadata": {},
   "source": [
    "удалю строки где quantity больше 100 "
   ]
  },
  {
   "cell_type": "code",
   "execution_count": 16,
   "id": "54f4ac99",
   "metadata": {},
   "outputs": [],
   "source": [
    "data = data[data['quantity']<100]\n",
    "#data['quantity'].value_counts()"
   ]
  },
  {
   "cell_type": "code",
   "execution_count": 17,
   "id": "da7c67de",
   "metadata": {
    "scrolled": true
   },
   "outputs": [
    {
     "data": {
      "text/html": [
       "<div>\n",
       "<style scoped>\n",
       "    .dataframe tbody tr th:only-of-type {\n",
       "        vertical-align: middle;\n",
       "    }\n",
       "\n",
       "    .dataframe tbody tr th {\n",
       "        vertical-align: top;\n",
       "    }\n",
       "\n",
       "    .dataframe thead th {\n",
       "        text-align: right;\n",
       "    }\n",
       "</style>\n",
       "<table border=\"1\" class=\"dataframe\">\n",
       "  <thead>\n",
       "    <tr style=\"text-align: right;\">\n",
       "      <th></th>\n",
       "      <th>price</th>\n",
       "      <th>count</th>\n",
       "    </tr>\n",
       "  </thead>\n",
       "  <tbody>\n",
       "    <tr>\n",
       "      <th>24</th>\n",
       "      <td>38.0</td>\n",
       "      <td>292</td>\n",
       "    </tr>\n",
       "    <tr>\n",
       "      <th>79</th>\n",
       "      <td>120.0</td>\n",
       "      <td>229</td>\n",
       "    </tr>\n",
       "    <tr>\n",
       "      <th>86</th>\n",
       "      <td>135.0</td>\n",
       "      <td>219</td>\n",
       "    </tr>\n",
       "    <tr>\n",
       "      <th>107</th>\n",
       "      <td>188.0</td>\n",
       "      <td>194</td>\n",
       "    </tr>\n",
       "    <tr>\n",
       "      <th>92</th>\n",
       "      <td>150.0</td>\n",
       "      <td>188</td>\n",
       "    </tr>\n",
       "    <tr>\n",
       "      <th>61</th>\n",
       "      <td>90.0</td>\n",
       "      <td>150</td>\n",
       "    </tr>\n",
       "    <tr>\n",
       "      <th>91</th>\n",
       "      <td>149.0</td>\n",
       "      <td>128</td>\n",
       "    </tr>\n",
       "    <tr>\n",
       "      <th>72</th>\n",
       "      <td>112.0</td>\n",
       "      <td>125</td>\n",
       "    </tr>\n",
       "    <tr>\n",
       "      <th>84</th>\n",
       "      <td>134.0</td>\n",
       "      <td>115</td>\n",
       "    </tr>\n",
       "    <tr>\n",
       "      <th>56</th>\n",
       "      <td>82.0</td>\n",
       "      <td>113</td>\n",
       "    </tr>\n",
       "  </tbody>\n",
       "</table>\n",
       "</div>"
      ],
      "text/plain": [
       "     price  count\n",
       "24    38.0    292\n",
       "79   120.0    229\n",
       "86   135.0    219\n",
       "107  188.0    194\n",
       "92   150.0    188\n",
       "61    90.0    150\n",
       "91   149.0    128\n",
       "72   112.0    125\n",
       "84   134.0    115\n",
       "56    82.0    113"
      ]
     },
     "metadata": {},
     "output_type": "display_data"
    },
    {
     "data": {
      "image/png": "[encoded data removed]",
      "text/plain": [
       "<Figure size 1000x400 with 1 Axes>"
      ]
     },
     "metadata": {},
     "output_type": "display_data"
    }
   ],
   "source": [
    "price_data = data.pivot_table(index = 'price', values = 'quantity', aggfunc = 'count')\n",
    "price_data = price_data.reset_index()\n",
    "price_data.columns = ('price','count')\n",
    "price_data = price_data.sort_values(by = 'count',ascending = False)\n",
    "\n",
    "display(price_data.head(10))\n",
    "\n",
    "sns.set_style('dark')\n",
    "plt.figure(figsize=(10, 4))\n",
    "\n",
    "sns.scatterplot(x='price', y = 'count',data=price_data)\n",
    "plt.xticks(rotation=45)\n",
    "plt.title('Траты к количеству',size = 13)\n",
    "plt.xlabel('Траты',size = 13)\n",
    "plt.ylabel('Количество',size = 13)\n",
    "#plt.grid()\n",
    "plt.show()"
   ]
  },
  {
   "cell_type": "markdown",
   "id": "0f8ab0dd",
   "metadata": {},
   "source": [
    "удалю строки где price больше 8к\n"
   ]
  },
  {
   "cell_type": "code",
   "execution_count": 18,
   "id": "96075e1b",
   "metadata": {},
   "outputs": [],
   "source": [
    "data = data[data['price']<8000]"
   ]
  },
  {
   "cell_type": "markdown",
   "id": "b3dba067",
   "metadata": {},
   "source": [
    "В ходе предобработки янвых дубликатов и нулевых значений не выявлено. Были найдены неявные дубликаты и удалены. Отработаны типы данныхю. Отработаны выбросы"
   ]
  },
  {
   "cell_type": "markdown",
   "id": "34f56176",
   "metadata": {},
   "source": [
    "### Исследовательский анализ"
   ]
  },
  {
   "cell_type": "markdown",
   "id": "81b7a676",
   "metadata": {},
   "source": [
    "Посмотрим как завсисит количество заказов от даты"
   ]
  },
  {
   "cell_type": "markdown",
   "id": "e70af456",
   "metadata": {},
   "source": [
    "добавлю в таблицу столбец год и месяц"
   ]
  },
  {
   "cell_type": "code",
   "execution_count": 19,
   "id": "39f41e2a",
   "metadata": {},
   "outputs": [],
   "source": [
    "data['year'] = data['date'].dt.year\n",
    "data['month'] = data['date'].dt.month\n",
    "#data"
   ]
  },
  {
   "cell_type": "markdown",
   "id": "a3eabde2",
   "metadata": {},
   "source": [
    "Построю график количество заказов по году"
   ]
  },
  {
   "cell_type": "code",
   "execution_count": 20,
   "id": "de12c7ae",
   "metadata": {},
   "outputs": [
    {
     "data": {
      "image/png": "[encoded data removed]",
      "text/plain": [
       "<Figure size 1000x400 with 1 Axes>"
      ]
     },
     "metadata": {},
     "output_type": "display_data"
    }
   ],
   "source": [
    "date_data = data.pivot_table(index = 'year', values = 'quantity', aggfunc = 'count')\n",
    "date_data = date_data.reset_index()\n",
    "date_data.columns = ('year','count')\n",
    "#date_data = date_data.sort_values(by = 'count')\n",
    "#display(date_data)\n",
    "\n",
    "sns.set_style('dark')\n",
    "plt.figure(figsize=(10, 4))\n",
    "\n",
    "sns.barplot(x='year', y = 'count',data=date_data)\n",
    "plt.title('График количество заказов по году',size = 13)\n",
    "plt.xlabel('Год',size = 13)\n",
    "plt.ylabel('Количество',size = 13)\n",
    "#plt.grid()\n",
    "plt.show()"
   ]
  },
  {
   "cell_type": "markdown",
   "id": "7f691299",
   "metadata": {},
   "source": [
    "Количество заказов в 2019 намного больше чем в другие года"
   ]
  },
  {
   "cell_type": "markdown",
   "id": "be306e6c",
   "metadata": {},
   "source": [
    "Построй график количество заказов по месяцу"
   ]
  },
  {
   "cell_type": "code",
   "execution_count": 21,
   "id": "569173b5",
   "metadata": {},
   "outputs": [
    {
     "data": {
      "image/png": "[encoded data removed]",
      "text/plain": [
       "<Figure size 1000x400 with 1 Axes>"
      ]
     },
     "metadata": {},
     "output_type": "display_data"
    }
   ],
   "source": [
    "date_data = data.pivot_table(index = 'month', values = 'quantity', aggfunc = 'count')\n",
    "date_data = date_data.reset_index()\n",
    "date_data.columns = ('month','count')\n",
    "#date_data = date_data.sort_values(by = 'count')\n",
    "#display(date_data)\n",
    "\n",
    "sns.set_style('dark')\n",
    "plt.figure(figsize=(10, 4))\n",
    "\n",
    "sns.barplot(x='month', y = 'count',data=date_data)\n",
    "plt.title('График количество заказов по месяцу',size = 13)\n",
    "plt.xlabel('Месяц',size = 13)\n",
    "plt.ylabel('Количество',size = 13)\n",
    "#plt.grid()\n",
    "plt.show()"
   ]
  },
  {
   "cell_type": "markdown",
   "id": "d0b96c91",
   "metadata": {},
   "source": [
    "4,5,10,11 месяцы самые популярные, шестой особенно сильно выделяется. Самый большой провал в 8 и 9 месяцы"
   ]
  },
  {
   "cell_type": "markdown",
   "id": "f2eb6f43",
   "metadata": {},
   "source": [
    "Найду самые популярные продукты"
   ]
  },
  {
   "cell_type": "code",
   "execution_count": 22,
   "id": "165f1a32",
   "metadata": {},
   "outputs": [
    {
     "data": {
      "text/html": [
       "<div>\n",
       "<style scoped>\n",
       "    .dataframe tbody tr th:only-of-type {\n",
       "        vertical-align: middle;\n",
       "    }\n",
       "\n",
       "    .dataframe tbody tr th {\n",
       "        vertical-align: top;\n",
       "    }\n",
       "\n",
       "    .dataframe thead th {\n",
       "        text-align: right;\n",
       "    }\n",
       "</style>\n",
       "<table border=\"1\" class=\"dataframe\">\n",
       "  <thead>\n",
       "    <tr style=\"text-align: right;\">\n",
       "      <th></th>\n",
       "      <th>product</th>\n",
       "      <th>quantity</th>\n",
       "    </tr>\n",
       "  </thead>\n",
       "  <tbody>\n",
       "    <tr>\n",
       "      <th>826</th>\n",
       "      <td>муляж яблоко зеленый 9 см полиуретан</td>\n",
       "      <td>148</td>\n",
       "    </tr>\n",
       "    <tr>\n",
       "      <th>766</th>\n",
       "      <td>муляж банан желтый 21 см полиуретан</td>\n",
       "      <td>109</td>\n",
       "    </tr>\n",
       "    <tr>\n",
       "      <th>2287</th>\n",
       "      <td>щетка-сметка 4-х рядная деревянная 300 мм (фиг...</td>\n",
       "      <td>105</td>\n",
       "    </tr>\n",
       "    <tr>\n",
       "      <th>2320</th>\n",
       "      <td>ёрш унитазный с деревянной ручкой , ваир 1712012</td>\n",
       "      <td>103</td>\n",
       "    </tr>\n",
       "    <tr>\n",
       "      <th>1594</th>\n",
       "      <td>стяжка оконная с болтом ст-55 цинк, 1108354</td>\n",
       "      <td>101</td>\n",
       "    </tr>\n",
       "    <tr>\n",
       "      <th>2073</th>\n",
       "      <td>цветок искусственный гвоздика пластиковая один...</td>\n",
       "      <td>97</td>\n",
       "    </tr>\n",
       "    <tr>\n",
       "      <th>669</th>\n",
       "      <td>крючок одежный 2-х рожковый серый металлик с п...</td>\n",
       "      <td>96</td>\n",
       "    </tr>\n",
       "    <tr>\n",
       "      <th>796</th>\n",
       "      <td>муляж лимон желтый 9 см полиуретан</td>\n",
       "      <td>92</td>\n",
       "    </tr>\n",
       "    <tr>\n",
       "      <th>1041</th>\n",
       "      <td>петля приварная гаражная d 14х90 мм с шаром, 1...</td>\n",
       "      <td>90</td>\n",
       "    </tr>\n",
       "    <tr>\n",
       "      <th>1998</th>\n",
       "      <td>универсальный нож webber из нержавеющей стали ...</td>\n",
       "      <td>81</td>\n",
       "    </tr>\n",
       "  </tbody>\n",
       "</table>\n",
       "</div>"
      ],
      "text/plain": [
       "                                                product  quantity\n",
       "826                муляж яблоко зеленый 9 см полиуретан       148\n",
       "766                 муляж банан желтый 21 см полиуретан       109\n",
       "2287  щетка-сметка 4-х рядная деревянная 300 мм (фиг...       105\n",
       "2320   ёрш унитазный с деревянной ручкой , ваир 1712012       103\n",
       "1594        стяжка оконная с болтом ст-55 цинк, 1108354       101\n",
       "2073  цветок искусственный гвоздика пластиковая один...        97\n",
       "669   крючок одежный 2-х рожковый серый металлик с п...        96\n",
       "796                  муляж лимон желтый 9 см полиуретан        92\n",
       "1041  петля приварная гаражная d 14х90 мм с шаром, 1...        90\n",
       "1998  универсальный нож webber из нержавеющей стали ...        81"
      ]
     },
     "metadata": {},
     "output_type": "display_data"
    }
   ],
   "source": [
    "quantity_data = data.pivot_table(index = 'product', values = 'quantity', aggfunc = 'sum')\n",
    "quantity_data = quantity_data.reset_index()\n",
    "quantity_data.columns = ('product','quantity')\n",
    "quantity_data = quantity_data.sort_values(by = 'quantity',ascending = False)\n",
    "\n",
    "display(quantity_data.head(10))\n"
   ]
  },
  {
   "cell_type": "markdown",
   "id": "7fdec66d",
   "metadata": {},
   "source": [
    "Муляж и щетка стали самыми продаваемыми товарами"
   ]
  },
  {
   "cell_type": "markdown",
   "id": "3e5f5ec8",
   "metadata": {},
   "source": [
    "Найду самые дорогие продукты по средней цене"
   ]
  },
  {
   "cell_type": "code",
   "execution_count": 23,
   "id": "e84caf25",
   "metadata": {},
   "outputs": [
    {
     "data": {
      "text/html": [
       "<div>\n",
       "<style scoped>\n",
       "    .dataframe tbody tr th:only-of-type {\n",
       "        vertical-align: middle;\n",
       "    }\n",
       "\n",
       "    .dataframe tbody tr th {\n",
       "        vertical-align: top;\n",
       "    }\n",
       "\n",
       "    .dataframe thead th {\n",
       "        text-align: right;\n",
       "    }\n",
       "</style>\n",
       "<table border=\"1\" class=\"dataframe\">\n",
       "  <thead>\n",
       "    <tr style=\"text-align: right;\">\n",
       "      <th></th>\n",
       "      <th>product</th>\n",
       "      <th>price</th>\n",
       "    </tr>\n",
       "  </thead>\n",
       "  <tbody>\n",
       "    <tr>\n",
       "      <th>1570</th>\n",
       "      <td>стремянка 7 ступенчатая hailo 8040-707 xxl 13 ...</td>\n",
       "      <td>7724.0</td>\n",
       "    </tr>\n",
       "    <tr>\n",
       "      <th>1668</th>\n",
       "      <td>сумка-тележка хозяйственная rolser mnb017 fucs...</td>\n",
       "      <td>7679.0</td>\n",
       "    </tr>\n",
       "    <tr>\n",
       "      <th>1653</th>\n",
       "      <td>сумка-тележка хозяйственная rolser imx006 bass...</td>\n",
       "      <td>7679.0</td>\n",
       "    </tr>\n",
       "    <tr>\n",
       "      <th>1669</th>\n",
       "      <td>сумка-тележка хозяйственная rolser mou041 malv...</td>\n",
       "      <td>7597.0</td>\n",
       "    </tr>\n",
       "    <tr>\n",
       "      <th>252</th>\n",
       "      <td>гладильная доска leifheit airboard compact m p...</td>\n",
       "      <td>7424.0</td>\n",
       "    </tr>\n",
       "    <tr>\n",
       "      <th>2000</th>\n",
       "      <td>урна уличная стальная сальвадор 02.021.0 46х11...</td>\n",
       "      <td>7349.0</td>\n",
       "    </tr>\n",
       "    <tr>\n",
       "      <th>3</th>\n",
       "      <td>автоматическая щетка leifheit для мытья окон с...</td>\n",
       "      <td>7229.0</td>\n",
       "    </tr>\n",
       "    <tr>\n",
       "      <th>1624</th>\n",
       "      <td>сумка-тележка хозяйственная andersen scala sho...</td>\n",
       "      <td>7199.0</td>\n",
       "    </tr>\n",
       "    <tr>\n",
       "      <th>1703</th>\n",
       "      <td>сушилка для белья leifheit pegasus 200 deluxe ...</td>\n",
       "      <td>7004.0</td>\n",
       "    </tr>\n",
       "    <tr>\n",
       "      <th>2001</th>\n",
       "      <td>урна уличная стальная юпитер 02.012.0 38х38х60 см</td>\n",
       "      <td>6899.0</td>\n",
       "    </tr>\n",
       "  </tbody>\n",
       "</table>\n",
       "</div>"
      ],
      "text/plain": [
       "                                                product   price\n",
       "1570  стремянка 7 ступенчатая hailo 8040-707 xxl 13 ...  7724.0\n",
       "1668  сумка-тележка хозяйственная rolser mnb017 fucs...  7679.0\n",
       "1653  сумка-тележка хозяйственная rolser imx006 bass...  7679.0\n",
       "1669  сумка-тележка хозяйственная rolser mou041 malv...  7597.0\n",
       "252   гладильная доска leifheit airboard compact m p...  7424.0\n",
       "2000  урна уличная стальная сальвадор 02.021.0 46х11...  7349.0\n",
       "3     автоматическая щетка leifheit для мытья окон с...  7229.0\n",
       "1624  сумка-тележка хозяйственная andersen scala sho...  7199.0\n",
       "1703  сушилка для белья leifheit pegasus 200 deluxe ...  7004.0\n",
       "2001  урна уличная стальная юпитер 02.012.0 38х38х60 см  6899.0"
      ]
     },
     "metadata": {},
     "output_type": "display_data"
    }
   ],
   "source": [
    "quantity_data = data.pivot_table(index = 'product', values = 'price', aggfunc = 'median')\n",
    "quantity_data = quantity_data.reset_index()\n",
    "quantity_data.columns = ('product','price')\n",
    "quantity_data = quantity_data.sort_values(by = 'price',ascending = False)\n",
    "\n",
    "display(quantity_data.head(10))\n"
   ]
  },
  {
   "cell_type": "markdown",
   "id": "3961b33d",
   "metadata": {},
   "source": [
    "Найду самые дорогие продукты по сумме"
   ]
  },
  {
   "cell_type": "code",
   "execution_count": 24,
   "id": "6539182d",
   "metadata": {},
   "outputs": [
    {
     "data": {
      "text/html": [
       "<div>\n",
       "<style scoped>\n",
       "    .dataframe tbody tr th:only-of-type {\n",
       "        vertical-align: middle;\n",
       "    }\n",
       "\n",
       "    .dataframe tbody tr th {\n",
       "        vertical-align: top;\n",
       "    }\n",
       "\n",
       "    .dataframe thead th {\n",
       "        text-align: right;\n",
       "    }\n",
       "</style>\n",
       "<table border=\"1\" class=\"dataframe\">\n",
       "  <thead>\n",
       "    <tr style=\"text-align: right;\">\n",
       "      <th></th>\n",
       "      <th>product</th>\n",
       "      <th>price</th>\n",
       "    </tr>\n",
       "  </thead>\n",
       "  <tbody>\n",
       "    <tr>\n",
       "      <th>1601</th>\n",
       "      <td>сумка-тележка 2-х колесная gimi argo синяя</td>\n",
       "      <td>50405.0</td>\n",
       "    </tr>\n",
       "    <tr>\n",
       "      <th>1625</th>\n",
       "      <td>сумка-тележка хозяйственная andersen scala sho...</td>\n",
       "      <td>28045.0</td>\n",
       "    </tr>\n",
       "    <tr>\n",
       "      <th>1681</th>\n",
       "      <td>сушилка meliconi stendy junior</td>\n",
       "      <td>27970.0</td>\n",
       "    </tr>\n",
       "    <tr>\n",
       "      <th>1671</th>\n",
       "      <td>сумка-тележка хозяйственная rolser pack gloria...</td>\n",
       "      <td>19674.0</td>\n",
       "    </tr>\n",
       "    <tr>\n",
       "      <th>1608</th>\n",
       "      <td>сумка-тележка 2-х колесная gimi galaxy черная</td>\n",
       "      <td>19568.0</td>\n",
       "    </tr>\n",
       "    <tr>\n",
       "      <th>1612</th>\n",
       "      <td>сумка-тележка 3-х колесная gimi tris floral синяя</td>\n",
       "      <td>18893.0</td>\n",
       "    </tr>\n",
       "    <tr>\n",
       "      <th>1630</th>\n",
       "      <td>сумка-тележка хозяйственная andersen treppenst...</td>\n",
       "      <td>18560.0</td>\n",
       "    </tr>\n",
       "    <tr>\n",
       "      <th>1628</th>\n",
       "      <td>сумка-тележка хозяйственная andersen scala sho...</td>\n",
       "      <td>18296.0</td>\n",
       "    </tr>\n",
       "    <tr>\n",
       "      <th>1610</th>\n",
       "      <td>сумка-тележка 2-х колесная складная gimi flexi...</td>\n",
       "      <td>18139.0</td>\n",
       "    </tr>\n",
       "    <tr>\n",
       "      <th>255</th>\n",
       "      <td>гладильная доска sarayli new elegant 125x45 см</td>\n",
       "      <td>17843.0</td>\n",
       "    </tr>\n",
       "  </tbody>\n",
       "</table>\n",
       "</div>"
      ],
      "text/plain": [
       "                                                product    price\n",
       "1601         сумка-тележка 2-х колесная gimi argo синяя  50405.0\n",
       "1625  сумка-тележка хозяйственная andersen scala sho...  28045.0\n",
       "1681                     сушилка meliconi stendy junior  27970.0\n",
       "1671  сумка-тележка хозяйственная rolser pack gloria...  19674.0\n",
       "1608      сумка-тележка 2-х колесная gimi galaxy черная  19568.0\n",
       "1612  сумка-тележка 3-х колесная gimi tris floral синяя  18893.0\n",
       "1630  сумка-тележка хозяйственная andersen treppenst...  18560.0\n",
       "1628  сумка-тележка хозяйственная andersen scala sho...  18296.0\n",
       "1610  сумка-тележка 2-х колесная складная gimi flexi...  18139.0\n",
       "255      гладильная доска sarayli new elegant 125x45 см  17843.0"
      ]
     },
     "metadata": {},
     "output_type": "display_data"
    }
   ],
   "source": [
    "quantity_data = data.pivot_table(index = 'product', values = 'price', aggfunc = 'sum')\n",
    "quantity_data = quantity_data.reset_index()\n",
    "quantity_data.columns = ('product','price')\n",
    "quantity_data = quantity_data.sort_values(by = 'price',ascending = False)\n",
    "\n",
    "display(quantity_data.head(10))"
   ]
  },
  {
   "cell_type": "markdown",
   "id": "957882bd",
   "metadata": {},
   "source": [
    "как мы видим, в топе общей выручки больше всего сумок-тележок"
   ]
  },
  {
   "cell_type": "markdown",
   "id": "d0aef7fc",
   "metadata": {},
   "source": [
    "сделаю график корреляции трат и месяца"
   ]
  },
  {
   "cell_type": "code",
   "execution_count": 25,
   "id": "b375765d",
   "metadata": {},
   "outputs": [
    {
     "data": {
      "text/plain": [
       "<Figure size 1000x400 with 0 Axes>"
      ]
     },
     "metadata": {},
     "output_type": "display_data"
    },
    {
     "data": {
      "image/png": "[encoded data removed]",
      "text/plain": [
       "<Figure size 600x600 with 3 Axes>"
      ]
     },
     "metadata": {},
     "output_type": "display_data"
    }
   ],
   "source": [
    "date_data = data.pivot_table(index = 'month', values = 'price', aggfunc = 'sum')\n",
    "date_data = date_data.reset_index()\n",
    "date_data.columns = ('month','price')\n",
    "#date_data = date_data.sort_values(by = 'count')\n",
    "#display(date_data)\n",
    "\n",
    "sns.set_style('dark')\n",
    "plt.figure(figsize=(10, 4))\n",
    "\n",
    "sns.jointplot(x='month', y='price', data=date_data) \n",
    "plt.xlabel('Месяц',size = 13)\n",
    "plt.ylabel(\"Траты\",size = 13)\n",
    "#plt.grid()\n",
    "plt.show()"
   ]
  },
  {
   "cell_type": "markdown",
   "id": "ce1b5599",
   "metadata": {},
   "source": [
    "Можно увидеть как сильно зависят траты от месяца. Самые большие траты в 10 и 12 месяц, самые малые в 6, 8 и 9"
   ]
  },
  {
   "cell_type": "markdown",
   "id": "3ad0b8e9",
   "metadata": {},
   "source": [
    "В ходе исследовательского анализа данных, было выявлено:\n",
    "- почти все заказы сделаны в 2019\n",
    "- 4,5,10,11 месяцы самые популярные по количеству заказов, шестой особенно сильно выделяется. Самый большой провал в 8 и 9 месяцы\n",
    "- Муляж и щетка стали самыми продаваемыми товарами\n",
    "- В топе общей выручки больше всего сумок-тележок\n",
    "- Сильно зависят траты от месяца. Самые большие траты в 10 и 12 месяц, самые малые в 6, 8 и 9"
   ]
  },
  {
   "cell_type": "markdown",
   "id": "56690225",
   "metadata": {},
   "source": [
    "### Анализ торгового ассортимента"
   ]
  },
  {
   "cell_type": "markdown",
   "id": "f728b7f6",
   "metadata": {},
   "source": [
    "Классифицирую ассортимент и создам новый столбец"
   ]
  },
  {
   "cell_type": "code",
   "execution_count": 26,
   "id": "70e11a45",
   "metadata": {},
   "outputs": [
    {
     "data": {
      "text/html": [
       "<div>\n",
       "<style scoped>\n",
       "    .dataframe tbody tr th:only-of-type {\n",
       "        vertical-align: middle;\n",
       "    }\n",
       "\n",
       "    .dataframe tbody tr th {\n",
       "        vertical-align: top;\n",
       "    }\n",
       "\n",
       "    .dataframe thead th {\n",
       "        text-align: right;\n",
       "    }\n",
       "</style>\n",
       "<table border=\"1\" class=\"dataframe\">\n",
       "  <thead>\n",
       "    <tr style=\"text-align: right;\">\n",
       "      <th></th>\n",
       "      <th>date</th>\n",
       "      <th>customer_id</th>\n",
       "      <th>order_id</th>\n",
       "      <th>product</th>\n",
       "      <th>quantity</th>\n",
       "      <th>price</th>\n",
       "      <th>year</th>\n",
       "      <th>month</th>\n",
       "    </tr>\n",
       "  </thead>\n",
       "  <tbody>\n",
       "    <tr>\n",
       "      <th>0</th>\n",
       "      <td>2018-10-01 00:00:00</td>\n",
       "      <td>ee47d746-6d2f-4d3c-9622-c31412542920</td>\n",
       "      <td>68477</td>\n",
       "      <td>комнатное растение в горшке алое вера, d12, h30</td>\n",
       "      <td>1</td>\n",
       "      <td>142.0</td>\n",
       "      <td>2018</td>\n",
       "      <td>10</td>\n",
       "    </tr>\n",
       "    <tr>\n",
       "      <th>1</th>\n",
       "      <td>2018-10-01 00:00:00</td>\n",
       "      <td>ee47d746-6d2f-4d3c-9622-c31412542920</td>\n",
       "      <td>68477</td>\n",
       "      <td>комнатное растение в горшке кофе арабика, d12,...</td>\n",
       "      <td>1</td>\n",
       "      <td>194.0</td>\n",
       "      <td>2018</td>\n",
       "      <td>10</td>\n",
       "    </tr>\n",
       "    <tr>\n",
       "      <th>2</th>\n",
       "      <td>2018-10-01 00:00:00</td>\n",
       "      <td>ee47d746-6d2f-4d3c-9622-c31412542920</td>\n",
       "      <td>68477</td>\n",
       "      <td>радермахера d-12 см h-20 см</td>\n",
       "      <td>1</td>\n",
       "      <td>112.0</td>\n",
       "      <td>2018</td>\n",
       "      <td>10</td>\n",
       "    </tr>\n",
       "    <tr>\n",
       "      <th>3</th>\n",
       "      <td>2018-10-01 00:00:00</td>\n",
       "      <td>ee47d746-6d2f-4d3c-9622-c31412542920</td>\n",
       "      <td>68477</td>\n",
       "      <td>хризолидокарпус лутесценс d-9 см</td>\n",
       "      <td>1</td>\n",
       "      <td>179.0</td>\n",
       "      <td>2018</td>\n",
       "      <td>10</td>\n",
       "    </tr>\n",
       "    <tr>\n",
       "      <th>4</th>\n",
       "      <td>2018-10-01 00:00:00</td>\n",
       "      <td>ee47d746-6d2f-4d3c-9622-c31412542920</td>\n",
       "      <td>68477</td>\n",
       "      <td>циперус зумула d-12 см h-25 см</td>\n",
       "      <td>1</td>\n",
       "      <td>112.0</td>\n",
       "      <td>2018</td>\n",
       "      <td>10</td>\n",
       "    </tr>\n",
       "    <tr>\n",
       "      <th>...</th>\n",
       "      <td>...</td>\n",
       "      <td>...</td>\n",
       "      <td>...</td>\n",
       "      <td>...</td>\n",
       "      <td>...</td>\n",
       "      <td>...</td>\n",
       "      <td>...</td>\n",
       "      <td>...</td>\n",
       "    </tr>\n",
       "    <tr>\n",
       "      <th>7380</th>\n",
       "      <td>2020-01-30 21:00:00</td>\n",
       "      <td>63208953-a8e4-4f77-9b47-3a46e7b72eee</td>\n",
       "      <td>104002</td>\n",
       "      <td>томата (помидор) черниченский черри № 116 сорт...</td>\n",
       "      <td>2</td>\n",
       "      <td>38.0</td>\n",
       "      <td>2020</td>\n",
       "      <td>1</td>\n",
       "    </tr>\n",
       "    <tr>\n",
       "      <th>7381</th>\n",
       "      <td>2020-01-30 22:00:00</td>\n",
       "      <td>d99d25f1-4017-4fcd-8d29-c580cc695a1a</td>\n",
       "      <td>107336</td>\n",
       "      <td>дендробиум санок анна грин 1 ствол d-12 см</td>\n",
       "      <td>1</td>\n",
       "      <td>869.0</td>\n",
       "      <td>2020</td>\n",
       "      <td>1</td>\n",
       "    </tr>\n",
       "    <tr>\n",
       "      <th>7382</th>\n",
       "      <td>2020-01-31 02:00:00</td>\n",
       "      <td>2c9bd08d-8c55-4e7a-9bfb-8c56ba42c6d6</td>\n",
       "      <td>106336</td>\n",
       "      <td>подставка для обуви резиновая attribute 80x40 ...</td>\n",
       "      <td>1</td>\n",
       "      <td>354.0</td>\n",
       "      <td>2020</td>\n",
       "      <td>1</td>\n",
       "    </tr>\n",
       "    <tr>\n",
       "      <th>7383</th>\n",
       "      <td>2020-01-31 12:00:00</td>\n",
       "      <td>cdd17932-623e-415f-a577-3b31312fd0e2</td>\n",
       "      <td>102002</td>\n",
       "      <td>тагетис крупноцветковый рассада однолетних цве...</td>\n",
       "      <td>1</td>\n",
       "      <td>128.0</td>\n",
       "      <td>2020</td>\n",
       "      <td>1</td>\n",
       "    </tr>\n",
       "    <tr>\n",
       "      <th>7384</th>\n",
       "      <td>2020-01-31 15:00:00</td>\n",
       "      <td>2e460a26-35af-453d-a369-a036e95a40e0</td>\n",
       "      <td>103225</td>\n",
       "      <td>вешалка для блузок 41 см красный attribute ahm781</td>\n",
       "      <td>1</td>\n",
       "      <td>104.0</td>\n",
       "      <td>2020</td>\n",
       "      <td>1</td>\n",
       "    </tr>\n",
       "  </tbody>\n",
       "</table>\n",
       "<p>5526 rows × 8 columns</p>\n",
       "</div>"
      ],
      "text/plain": [
       "                    date                           customer_id  order_id  \\\n",
       "0    2018-10-01 00:00:00  ee47d746-6d2f-4d3c-9622-c31412542920     68477   \n",
       "1    2018-10-01 00:00:00  ee47d746-6d2f-4d3c-9622-c31412542920     68477   \n",
       "2    2018-10-01 00:00:00  ee47d746-6d2f-4d3c-9622-c31412542920     68477   \n",
       "3    2018-10-01 00:00:00  ee47d746-6d2f-4d3c-9622-c31412542920     68477   \n",
       "4    2018-10-01 00:00:00  ee47d746-6d2f-4d3c-9622-c31412542920     68477   \n",
       "...                  ...                                   ...       ...   \n",
       "7380 2020-01-30 21:00:00  63208953-a8e4-4f77-9b47-3a46e7b72eee    104002   \n",
       "7381 2020-01-30 22:00:00  d99d25f1-4017-4fcd-8d29-c580cc695a1a    107336   \n",
       "7382 2020-01-31 02:00:00  2c9bd08d-8c55-4e7a-9bfb-8c56ba42c6d6    106336   \n",
       "7383 2020-01-31 12:00:00  cdd17932-623e-415f-a577-3b31312fd0e2    102002   \n",
       "7384 2020-01-31 15:00:00  2e460a26-35af-453d-a369-a036e95a40e0    103225   \n",
       "\n",
       "                                                product  quantity  price  \\\n",
       "0       комнатное растение в горшке алое вера, d12, h30         1  142.0   \n",
       "1     комнатное растение в горшке кофе арабика, d12,...         1  194.0   \n",
       "2                           радермахера d-12 см h-20 см         1  112.0   \n",
       "3                      хризолидокарпус лутесценс d-9 см         1  179.0   \n",
       "4                        циперус зумула d-12 см h-25 см         1  112.0   \n",
       "...                                                 ...       ...    ...   \n",
       "7380  томата (помидор) черниченский черри № 116 сорт...         2   38.0   \n",
       "7381         дендробиум санок анна грин 1 ствол d-12 см         1  869.0   \n",
       "7382  подставка для обуви резиновая attribute 80x40 ...         1  354.0   \n",
       "7383  тагетис крупноцветковый рассада однолетних цве...         1  128.0   \n",
       "7384  вешалка для блузок 41 см красный attribute ahm781         1  104.0   \n",
       "\n",
       "      year  month  \n",
       "0     2018     10  \n",
       "1     2018     10  \n",
       "2     2018     10  \n",
       "3     2018     10  \n",
       "4     2018     10  \n",
       "...    ...    ...  \n",
       "7380  2020      1  \n",
       "7381  2020      1  \n",
       "7382  2020      1  \n",
       "7383  2020      1  \n",
       "7384  2020      1  \n",
       "\n",
       "[5526 rows x 8 columns]"
      ]
     },
     "execution_count": 26,
     "metadata": {},
     "output_type": "execute_result"
    }
   ],
   "source": [
    "data"
   ]
  },
  {
   "cell_type": "code",
   "execution_count": 27,
   "id": "2aec99e9",
   "metadata": {},
   "outputs": [],
   "source": [
    "m = Mystem()"
   ]
  },
  {
   "cell_type": "code",
   "execution_count": 28,
   "id": "765f6309",
   "metadata": {},
   "outputs": [
    {
     "name": "stdout",
     "output_type": "stream",
     "text": [
      "Counter({' ': 17565, 'см': 1059, ', ': 1058, '-': 965, 'для': 542, ',': 295, 'в': 272, 'd': 260, 'л': 252, 'с': 250, 'рассада': 221, '5': 190, ' (': 172, 'белый': 171, 'сорт': 171, 'кассета': 170, 'шт': 169, '0': 164, '12': 146, 'красный': 142, 'белье': 141, ') ': 141, 'доска': 132, '/': 132, 'горшок': 130, '9': 123, 'цветок': 117, 'сушилка': 116, 'объем': 114, 'гладильный': 113, '2': 112, '6': 110, '1': 108, 'тележка': 105, 'по': 101, '4': 101, 'томат': 100, '10': 99, '. ': 98, 'сумка': 95, 'диам': 95, 'помидор': 93, '*': 90, '№': 88, 'пеларгония': 86, 'розовый': 84, '3': 82, 'из': 81, 'и': 81, 'luminarc': 79, '7': 75, 'gimi': 74, 'хозяйственный': 74, 'ника': 74, 'среднеспелый': 73, '20': 72, 'коврик': 72, 'ванный': 72, 'кухня': 71, 'зелень': 68, 'муляж': 68, 'роза': 68, 'черный': 67, 'мл': 66, 'махровый': 62, 'г': 61, 'зональный': 61, 'h': 60, 'чехол': 60, 'синий': 60, 'искусственный': 60, 'пластмассовый': 59, 'attribute': 59, 'м': 59, '100': 58, 'однолетний': 57, 'штора': 54, 'штука': 54, 'пластиковый': 53, 'комната': 53, '% ': 53, 'ручка': 52, '30': 52, 'на': 51, 'wellness': 50, 'индетерминантный': 50, 'вешалка': 49, 'россия': 49, 'хлопок': 48, 'желтый': 48, 'петуния': 48, 'оранжевый': 47, 'набор': 47, 'цвет': 45, '25': 44, '.': 44, 'раннеспелый': 44, 'полиуретан': 41, 'капуста': 41, 'крышка': 40, 'придверный': 39, 'leifheit': 39, 'стремянка': 38, 'садовый': 38, 'серый': 37, 'мм': 37, 'алюминиевый': 36, 'сталь': 36, 'детерминантный': 36, 'таз': 35, 'х': 34, 'зеленый': 34, '8': 34, '6шт': 33, 'тарелка': 33, '50': 33, 'ассортимент': 32, 'rolser': 32, 'растение': 31, 'покрытие': 31, 'микс': 31, 'бежевый': 31, 'пвх': 31, 'd12': 30, 'напольный': 30, 'настенный': 29, 'потолочный': 29, '), ': 29, 'joy': 29, 'скатерть': 29, 'голубой': 29, 'малиновый': 28, 'кг': 28, 'коричневый': 27, 'hausmann': 27, 'комнатный': 26, 'металлический': 26, 'полиэстер': 26, 'со': 26, '15': 26, 'лиана': 26, ' \"': 25, 'нержавеющий': 25, '13': 25, 'ампельный': 25, 'виолета': 24, '16': 24, 'e6': 24, 'круглый': 23, 'zalger': 23, 'корзина': 23, 'герань': 23, 'spirella': 23, 'webber': 23, 'овальный': 23, '180х200': 23, 'черенок': 23, 'огурец': 23, 'h25': 22, '\" ': 22, '200': 22, '18': 22, '45': 22, 'сиреневый': 22, 'curver': 22, 'пищевой': 22, 'подвесной': 22, 'щетка': 21, 'домашний': 21, 'цвести': 21, 'полумахровый': 21, 'rozenbal': 21, 'bacchetta': 21, 'прямоугольный': 21, 'delta': 21, 'вт': 21, 'кашпо': 21, 'укоренять': 21, '21': 20, 'colombo': 20, 'мини': 20, 'нож': 20, '60': 20, 'valiant': 20, 'смесь': 20, 'салатник': 20, 'мята': 20, 'чайногибридный': 20, 'деревянный': 19, 'простой': 19, '_': 19, 'люкс': 19, 'ступень': 19, 'одежда': 19, 'фуксия': 19, 'упаковка': 19, 'фиолетовый': 19, '17': 18, 'стеклянный': 18, 'франция': 18, 'чайник': 18, 'ванна': 18, '40': 18, 'белокачать': 18, 'колесный': 17, 'fancy': 17, 'fair': 17, 'контейнер': 17, 'пластик': 17, 'текстильный': 17, 'цветной': 17, 'eurogold': 16, 'крючок': 16, 'примула': 16, 'калибрахоа': 16, 'тимьян': 15, 'hm': 15, 'ступенчатый': 15, 'банка': 15, 'диаметр': 15, 'кольцо': 15, 'швабра': 15, 'универсальный': 15, '80': 14, '\", ': 14, 'dogrular': 14, 'багажный': 14, 'грузоподъемность': 14, 'цикламен': 14, '500': 14, '240х200': 14, ' / ': 14, 'ведро': 14, 'be': 14, 'флокс': 14, 'метельчатый': 14, 'большой': 13, '11': 13, 'dasch': 13, '22': 13, '180': 13, 'салфетка': 13, 'насадка': 13, 'полимербыт': 13, 'blue': 13, 'малый': 13, 'десертный': 13, '120': 13, 'подарочный': 13, 'дыня': 13, 'lift': 12, ' *': 12, 'сковорода': 12, 'alpenkok': 12, 'ak': 12, 'ff': 12, '14': 12, 'обеденный': 12, 'ложка': 12, 'каркас': 12, 'эмалированный': 12, 'букет': 12, 'полотенце': 12, 'кухонный': 12, 'противоскользящий': 12, 'электрический': 12, 'red': 12, 'полка': 12, 'p9': 12, '10см': 12, '26': 11, 'базилик': 11, '9см': 11, 'подставка': 11, 'без': 11, 'поролон': 11, 'apache': 11, 'ве': 11, 'jet': 11, '23': 11, 'тыква': 11, 'хранение': 11, '122х40': 11, 'white': 11, 'фиалка': 11, '00': 11, 'l': 11, '90': 11, 'кружок': 11, 'окно': 11, 'мытье': 11, 'qwerty': 11, 'крупноцветковый': 11, 'вербена': 11, 'арбуз': 11, 'резиновый': 10, 'яблоко': 10, 'ерш': 10, '24': 10, 'полиэфир': 10, 'розмарин': 10, 'лестница': 10, 'оцинковывать': 10, 'тбр': 10, 'lux': 10, 'плечики': 10, '400': 10, '19': 10, 'пуансеттия': 10, 'золотой': 10, 'argo': 9, 'клубника': 9, '300': 9, '70': 9, 'посуда': 9, 'гвоздик': 9, ' , ': 9, 'лаванда': 9, 'хлопковый': 9, 'иж': 9, 'ковер': 9, 'hailo': 9, 'душа': 9, 'декоративный': 9, 'york': 9, 'складной': 9, 'прозрачный': 9, 'бамбук': 9, 'перекладина': 9, '44': 9, 's': 9, 'резина': 9, 'php': 9, 'srl': 9, 'бегония': 9, 'окраска': 9, '75': 9, 'negro': 9, '250': 9, 'стальной': 9, 'предмет': 9, 'rg': 9, 'бакоп': 9, 'double': 9, '10шт': 9, '9х9': 9, 'кабачок': 9, '35': 8, 'антипригарный': 8, 'виноград': 8, 'перец': 8, 'рисунок': 8, 'потолочно': 8, 'мыло': 8, 'andersen': 8, 'scala': 8, 'shopper': 8, 'plus': 8, 'м2': 8, '28': 8, 'dl': 8, 'керамический': 8, 'петрушка': 8, 'дерево': 8, 'карниз': 8, 'мусор': 8, 'коробка': 8, 'тюльпан': 8, 'суповой': 8, 'logic': 8, 'чайный': 8, 'стакан': 8, 'бальзамин': 8, 'косметь': 8, '2000': 8, 'обувь': 8, 'ллп': 8, 'лиловый': 8, 'раздвижной': 8, 'розебудный': 8, 'блю': 8, 'p': 8, 'super': 7, 'мягкий': 7, 'пластика': 7, 'столовый': 7, 'под': 7, 'лососевый': 7, 'перчатка': 7, 'ufuk': 7, 'ажурный': 7, '58': 7, 'свисток': 7, 'минеральный': 7, 'вода': 7, ', \"': 7, '50х80': 7, 'ярко': 7, 'бутон': 7, 'azul': 7, 'хризантема': 7, 'textil': 7, 'm': 7, 'штанга': 7, 'жаккард': 7, '+': 7, 'паста': 7, '150': 7, 'антуриум': 7, 'блэк': 7, 'обыкновенный': 7, 'спирелла': 7, 'угловой': 7, 'format': 7, '122х34': 7, 'новогвинейский': 7, 'средство': 7, 'антик': 7, 'classic': 7, 'р': 7, 'шоколад': 7, 'пол': 7, 'виола': 7, 'серебро': 7, 'лист': 7, '210': 7, 'луковица': 7, 'сальвия': 7, 'прожилка': 7, 'скороспелый': 7, 'патиссон': 7, 'h30': 6, 'кофе': 6, 'basic': 6, 'clean': 6, '120х38': 6, '*, ': 6, 'лимон': 6, 'столовая': 6, 'хозлэнд': 6, 'стандарт': 6, 'чистка': 6, 'овощ': 6, 'эвкалипт': 6, 'marengo': 6, '45х75': 6, 'comfort': 6, ') \"': 6, '220': 6, 'color': 6, '55': 6, '112': 6, 'композиция': 6, 'c': 6, 'scovo': 6, 'ребристый': 6, 'размер': 6, '54': 6, 'азалия': 6, '122х42': 6, 'влаговпитывающий': 6, '750': 6, 'лекарственный': 6, 'лоток': 6, 'sarayli': 6, 'зубной': 6, 'андрианум': 6, 'строительный': 6, 'душица': 6, 'хром': 6, '60х90': 6, 'кокос': 6, '40х68': 6, 'meiwa': 6, 'классик': 6, '1800': 6, 'банк': 6, 'оранж': 6, 'мт': 6, 'василиса': 6, 'зми': 6, 'медный': 6, '180х180': 6, 'алюминий': 6, 'эльфпласт': 6, 'rigone': 6, 'helex': 6, 'ель': 6, 'отжим': 6, 'плантация': 6, 'd15': 6, 'tex': 6, 'март': 6, 'd9': 6, 'h20': 6, 'овощной': 6, 'aloha': 6, 'звезда': 6, 'листовой': 6, 'кольраби': 6, 'арабика': 5, 'полимерный': 5, '130х48': 5, 'мелисса': 5, 'груша': 5, 'сметка': 5, '450': 5, 'вилка': 5, 'ripple': 5, 'style': 5, '27': 5, '38': 5, 'кружка': 5, 'вишня': 5, '01': 5, 'фужер': 5, 'сильвер': 5, 'вино': 5, 'флисовый': 5, 'д': 5, 'towa': 5, 'co': 5, 'простыня': 5, 'металл': 5, 'burstenmann': 5, 'комплект': 5, 'лавр': 5, 'керамика': 5, '48': 5, '* ': 5, 'mix': 5, 'петля': 5, 'кофр': 5, '0000': 5, 'metalloni': 5, 'встроенный': 5, 'полиамидный': 5, 'hsc': 5, 'дсп': 5, 'гербера': 5, 'телескопический': 5, 'new': 5, 'ящик': 5, 'эльза': 5, 'премиум': 5, 'лувр': 5, 'стелла': 5, 'ред': 5, '41': 5, 'валиант': 5, 'микрофибры': 5, 'грин': 5, 'ромашка': 5, 'дизайн': 5, '106': 5, 'урна': 5, 'уличный': 5, '42': 5, 'горох': 5, 'трава': 5, 'микрофибра': 5, 'decs': 5, 'деликатный': 5, 'замок': 5, 'выпечка': 5, '1000': 5, 'ротанг': 5, 'алиссум': 5, 'весы': 5, 'convert': 5, 'мультиколор': 5, 'нидерланды': 5, 'новогодний': 5, 'термокружок': 5, 'термос': 5, 'свч': 5, 'текстиль': 5, 'кастрюля': 5, 'средний': 5, 'подарок': 5, 'factotum': 5, 'открытка': 5, 'парковый': 5, 'оффициналис': 5, 'декабрист': 5, 'purple': 5, 'mini': 5, 'famous': 5, 'мега': 5, 'крупный': 5, 'закрытый': 5, 'surfinia': 5, 'dark': 5, 'e10': 5, 'лобелия': 5, 'крым': 5, 'позднеспелый': 5, 'surprise': 5, 'полосатый': 5, 'пчелоопыляемый': 5, 'спрей': 5, 'brio': 4, 'брюки': 4, ': ': 4, 'сердце': 4, ' = ': 4, 'сетка': 4, 'гранат': 4, 'магнит': 4, 'рядная': 4, 'прищепок': 4, 'natural': 4, 'интерьерный': 4, 'унитазный': 4, 'мультипласт': 4, '051': 4, 'плед': 4, 'сливочный': 4, '02': 4, 'чили': 4, 'rose': 4, 'silver': 4, 'bella': 4, 'мак': 4, 'есть': 4, 'кремовый': 4, 'пластхозторг': 4, 'костюм': 4, '180х200см': 4, 'series': 4, '280': 4, '140': 4, 'б': 4, 'искуственный': 4, 'три': 4, ', /': 4, ' - ': 4, '170': 4, 'индик': 4, 'гортензия': 4, 'protec': 4, '30х43': 4, 'mama': 4, 'гр': 4, 'пыль': 4, 'em': 4, 'eva': 4, '- ': 4, '888': 4, 'бэлль': 4, '32': 4, 'многофункциональный': 4, 'салатовый': 4, 'розоцветный': 4, 'синтетический': 4, 'стеганый': 4, 'pink': 4, 'framar': 4, 'кутюр': 4, 'полипропиленовый': 4, 'дема': 4, 'перерабатывать': 4, 'dos': 4, 'стоунмания': 4, 'шнур': 4, '110': 4, 'malva': 4, '350х150': 4, '05': 4, '31': 4, 'сидение': 4, 'совок': 4, 'truper': 4, '250мл': 4, 'pegasus': 4, 'better': 4, 'bt': 4, 'c2003e': 4, 'радуга': 4, 'чай': 4, 'флауэр': 4, '320': 4, '43': 4, 'серия': 4, 'к': 4, 'клубневой': 4, 'ворсовый': 4, 'степанов': 4, 'easy': 4, 'внп': 4, 'акаулис': 4, 'ручной': 4, 'бирюзовый': 4, 'вещь': 4, 'светло-бежевый': 4, 'бордовый': 4, 'стекло': 4, 'браун': 4, 'арти': 4, 'дендробиум': 4, 'ствол': 4, '46': 4, '\" (': 4, 'knit': 4, 'русский': 4, 'скребок': 4, 'львиный': 4, 'зев': 4, 'жестяной': 4, 'покрывало': 4, 'наволочка': 4, '50х70': 4, 'форма': 4, 'одеяло': 4, 'канадский': 4, 'коника': 4, '1л': 4, 'лепесток': 4, 'этажерка': 4, 'полк': 4, '36': 4, 'колба': 4, 'разделочный': 4, 'эклипсы': 4, 'корея': 4, 'сапфир': 4, 'mohawk': 4, 'mop': 4, 'моп': 4, '=': 4, 'pasabahce': 4, 'ткань': 4, 'проволочный': 4, 'angeleyes': 4, 'донна': 4, 'де': 4, 'мешок': 4, 'пряный': 4, 'темный': 4, '90х60': 4, 'чудо': 4, 'свита': 4, 'калла': 4, 'табак': 4, 'гибридный': 4, 'цинния': 4, 'пиперит': 4, 'sweetunia': 4, 'сильвердроп': 4, 'сладкий': 4, 'ячейка': 4, 'е6': 4, 'плющелистный': 4, 'чашелист': 4, 'итальянский': 4, 'астра': 4, 'медовый': 4, 'd10': 4, 'нло': 4, 'зверобой': 4, 'продырявливать': 4, 'алый': 3, '120х42': 3, 'одежный': 3, 'тонар': 3, 'star': 3, 'тонус': 3, 'банан': 3, 'мандарин': 3, 'персик': 3, 'коралловый': 3, 'туалет': 3, 'линия': 3, 'эхеверие': 3, '59': 3, '00708': 3, 'wc': 3, 'войлок': 3, 'g': 3, 'вишневый': 3, 'тканевый': 3, 'мусорный': 3, 'elba': 3, '133': 3, '40х60': 3, 'батарея': 3, 'кувшин': 3, 'связка': 3, 'латексный': 3, 'line': 3, '152': 3, 'резинка': 3, 'односпальный': 3, 'арктик': 3, '90х200': 3, '25001': 3, 'волокно': 3, 'квадратный': 3, 'ahp224': 3, 'разноцветный': 3, 'пузырек': 3, 'оконный': 3, 'tris': 3, 'т': 3, '002': 3, 'душистый': 3, '85': 3, 'бархатный': 3, 'capri': 3, 'jet017': 3, 'сэ': 3, 'материал': 3, 'мп': 3, '34': 3, 'биколор': 3, '65': 3, 'шар': 3, 'верона': 3, 'lino': 3, '110х30': 3, 'миксер': 3, 'режим': 3, '240': 3, 'tepмокружка': 3, 'avex': 3, '140х50': 3, '135х45': 3, 'металлизированный': 3, 'leonardo': 3, 'настольный': 3, 'кориандр': 3, 'арарат': 3, 'шалфей': 3, '60х100': 3, 'vestar': 3, 'iron': 3, 'подрукавник': 3, 'аквамарин': 3, 'st04': 3, 'до': 3, '135х53': 3, 'иссоп': 3, 'аспарагус': 3, 'сверло': 3, 'секционный': 3, 'universal': 3, '122': 3, 'zact': 3, 'налет': 3, 'lion': 3, 'кордан': 3, 'magic': 3, 'веник': 3, 'сорго': 3, 'шов': 3, 'al': 3, 'алюминевый': 3, 'унитаз': 3, 'flip': 3, 'bin': 3, '02171': 3, '001': 3, 'подголовник': 3, '25х34': 3, '1350': 3, 'black': 3, 'блузка': 3, 'expedition': 3, 'эссенция': 3, 'fwm': 3, 'одиночный': 3, 'нарцисс': 3, '63': 3, '120х40': 3, '140х55': 3, 'бытовой': 3, 'slimmy': 3, 'love': 3, 'утюг': 3, '350': 3, '2200': 3, 'топ': 3, '5х29': 3, '90х150': 3, '108': 3, '123х46': 3, 'светло-коричневый': 3, 'баклажан': 3, 'galaxy': 3, 'fplus': 3, 'az': 3, 'ideal': 3, 'hobbyka': 3, 'хоббик': 3, '88': 3, 'кот': 3, 'вафельный': 3, 'длина': 3, 'терка': 3, 'd1': 3, 'крокус': 3, '130х46': 3, 'поверхность': 3, '50х85': 3, 'светлый': 3, 'go': 3, '520': 3, 'стойка': 3, 'каланхое': 3, 'каландив': 3, 'пробка': 3, 'холодец': 3, 'стэм': 3, 'мощность': 3, 'лилия': 3, 'пинк': 3, 'пурпл': 3, 'топпер': 3, 'день': 3, 'учитель': 3, 'патио': 3, 'бокал': 3, 'детский': 3, 'настурция': 3, '57': 3, '03676': 3, '56': 3, 'воларэ': 3, 'chef': 3, 'нх': 3, 'метиз': 3, 'силиконовый': 3, 'календула': 3, 'пламень': 3, 'король': 3, 'новый': 3, '122х38': 3, 'ekspo': 3, 'электронный': 3, 'karna': 3, 'фаленопсис': 3, 'миска': 3, 'белль': 3, 'ртк': 3, 'а': 3, '112х34': 3, 'стенка': 3, 'инструмент': 3, 'объемный': 3, ' % ': 3, 'джулия': 3, 'капучино': 3, 'японский': 3, 'океан': 3, 'колесо': 3, 'meliconi': 3, 'miss': 3, '1840': 3, '06': 3, 'кайма': 3, 'thermo': 3, 'одноголовый': 3, 'гидрофобный': 3, 'пропитка': 3, 'спатифиллум': 3, 'емкость': 3, 'стирка': 3, 'узор': 3, '2110': 3, 'toscana': 3, 'xl': 3, 'бук': 3, '110х33': 3, 'длинный': 3, 'серебристый': 3, 'хлебница': 3, 'paris': 3, 'ландыш': 3, 'julia': 3, 'j': 3, 'ауреум': 3, 'голд': 3, 'колесико': 3, 'заварочный': 3, 'подснежник': 3, 'prisma': 3, 'la': 3, 'земляника': 3, 'wet': 3, 'высота': 3, 'a': 3, 'orange': 3, 'газание': 3, 'красавица': 3, 'пурпурный': 3, 'икс': 3, 'цитрат': 3, 'колокольчик': 3, 'остеоспермум': 3, 'окномойка': 3, 'kona': 3, 'blossom': 3, 'hausrein': 3, 'вечноцветущий': 3, 'поздний': 3, '2810': 3, '125х43': 3, 'латекс': 3, 'сельдерей': 3, 'корневой': 3, 'дачница': 3, 'гигант': 3, 'кабан': 3, 'тагетис': 3, 'sky': 3, 'портулак': 3, 'стена': 3, 'telegant': 3, 'целозия': 3, 'оптимист': 3, 'f1': 3, 'венг': 3, '187': 3, 'dt': 3, 'd16': 3, 'вера': 2, 'шеффлер': 2, 'beige': 2, '130х50': 2, '1520': 2, 'marmiton': 2, 'marble': 2, '3679': 2, 'professional': 2, '35748w': 2, 'многолетний': 2, 'чабрец': 2, 'li95': 2, '03': 2, 'черешня': 2, 'плоский': 2, 'поиск': 2, 'риф': 2, 'комбинированный': 2, 'acr042': 2, '510': 2, 'фон': 2, 'welcome': 2, 'гладить': 2, '213': 2, '1860': 2, 'подкладка': 2, '135х50': 2, 'пиво': 2, 'floral': 2, 'дозатор': 2, 'гунни': 2, 'g85': 2, 'b': 2, 'ваир': 2, 'market': 2, 'shiny': 2, 'серо': 2, 'династия': 2, '350х180': 2, 'сб5': 2, 'multy': 2, 'rus': 2, 'темнорозовый': 2, 'green': 2, 'ми': 2, 'толкушка': 2, '5173': 2, 'ltd': 2, 'modular': 2, 'маргарита': 2, 'ekko': 2, '45см': 2, 'jp': 2, 'стяжка': 2, 'цинк': 2, 'латунь': 2, '47': 2, '40х50': 2, '190': 2, '55х55': 2, 'tl': 2, 'e': 2, 'welfull': 2, 'alablock': 2, 'закрывать': 2, '72': 2, 'эксперт': 2, 'калатея': 2, 'влаговпитывать': 2, 'vortex': 2, '1205160': 2, 'подушка': 2, 'клетка': 2, 'атланта': 2, 'хлорофитум': 2, 'глоксиния': 2, 'приварной': 2, 'гаражный': 2, 'metallic': 2, 'металлизированый': 2, '114x34': 2, 'скоростной': 2, 'стиральный': 2, 'пятно': 2, '5031': 2, 'мирт': 2, 'цветущий': 2, 'французский': 2, 'шарм': 2, '250x1': 2, 'w': 2, 'универсал': 2, 'принт': 2, '2b': 2, 'жидкий': 2, '60х90см': 2, 'пэмби': 2, '303': 2, 'flexi': 2, 'haushalt': 2, 'п': 2, '140х58': 2, 'сантолина': 2, 'навесный': 2, 'афеляндр': 2, 'скуаррос': 2, 'дания': 2, 'автополив': 2, 'фреза': 2, 'нитрид': 2, 'титан': 2, 'юниор2': 2, 'бю2': 2, '130': 2, '130x44': 2, 'перф': 2, '10+': 2, 'н10': 2, '8806325': 2, 'toothpaste': 2, 'молодило': 2, '95х33': 2, '848n': 2, '125': 2, 'ти': 2, 'r212522': 2, 'держатель': 2, 'элп': 2, '300х150': 2, 'wto305': 2, 'фанера': 2, '960': 2, 'jk': 2, 'расширять': 2, '5х23': 2, 'japanese': 2, '19708': 2, 'закруглять': 2, 'короб': 2, 'стеллажный': 2, 'ex': 2, 'box': 2, 'val': 2, 'natures': 2, 'н': 2, 'сальса': 2, 'mezzaluna': 2, 'темно-розовый': 2, 'орегано': 2, '52': 2, 'i': 2, 'quadretto': 2, 'metal': 2, 'корыто': 2, 'бесшовный': 2, '182х182': 2, 'холодный': 2, 'сварка': 2, 'mastix': 2, '55г': 2, 'чеснок': 2, 'сервировочный': 2, '26х41': 2, 'кружевной': 2, '88х38': 2, 'city': 2, 'step': 2, 'lini': 2, '70х38': 2, '1290': 2, 'ананас': 2, 'морковь': 2, 'bab010': 2, '115х35': 2, '45x76': 2, '60х91': 2, 'серо-коричневый': 2, 'grey': 2, 'touch': 2, '1700': 2, 'plain': 2, 'sarasa': 2, '37': 2, 'персиковый': 2, 'mc355': 2, 'розебад': 2, 'rosebud': 2, 'ветка': 2, '00003a': 2, 'клипса': 2, 'рыбочистка': 2, 'nature': 2, 'кокосовый': 2, 'полипропилен': 2, '40х70': 2, 'kokarda': 2, 'спать': 2, 'халат': 2, 'виктория': 2, 'измерительный': 2, 'угольник': 2, 'маскарад': 2, 'грань': 2, 'td1': 2, 'яйцо': 2, 'rosario': 2, 'ягода': 2, 'лили': 2, 'j8565': 2, 'обувной': 2, 'красить': 2, 'лопатка': 2, 'bamboo': 2, 'полоска': 2, 'низкий': 2, '308': 2, 'ирис': 2, 'teflonix': 2, 'темно-зеленый': 2, 'sochi': 2, 'comfortline': 2, 'крассул': 2, ' + ': 2, 'удаление': 2, 'известковый': 2, 'прибор': 2, 'orthospa': 2, 'river': 2, 'rocks': 2, 'atlant': 2, 'ролл': 2, 'крыло': 2, '140х200': 2, 'тесненый': 2, '286': 2, '132х178': 2, 'fh': 2, '1100': 2, '125х42': 2, '2508кп': 2, 'светло': 2, 'спираль': 2, 'eurohouse': 2, 'centi': 2, 'tr': 2, 'infinity': 2, 'n23': 2, 'гарден': 2, 'дорожный': 2, 'аксинья': 2, 'кс': 2, 'корпус': 2, 'жаропрочный': 2, 'аморить': 2, 'amбиантэ': 2, 'анис': 2, 'санки': 2, 'антижир': 2, 'мимоза': 2, '71': 2, 'основа': 2, 'мантоварка': 2, 'калитва': 2, 'fashion': 2, 'blues': 2, 'ролик': 2, 'сменный': 2, 'термометр': 2, '202': 2, 'почтовый': 2, 'mito': 2, 'marine': 2, 'продукт': 2, 'темно-коричневый': 2, 'twin': 2, 'dinamik': 2, 'ковш': 2, 'мясо': 2, '175': 2, 'мок': 2, 'кисточка': 2, '21х4': 2, '1440s': 2, 'кондитерский': 2, 'комод': 2, '2350': 2, 'гель': 2, 'ultimate': 2, '111': 2, 'fleur': 2, 'снежный': 2, 'страсть': 2, 'кореопсис': 2, 'клик': 2, 'лапчатка': 2, 'цинерария': 2, 'серебряный': 2, 'scab': 2, 'посудомоечный': 2, 'машина': 2, 'ludwik': 2, 'польша': 2, 'гардеробная': 2, 'кекс': 2, 'soehnle': 2, 'диффенбахий': 2, 'постельный': 2, 'platinum': 2, 'пододеяльник': 2, 'королевский': 2, 'saquet': 2, 'saq002': 2, '160': 2, 'fragmmento': 2, 'alpina': 2, 'st194': 2, '60х180': 2, 'термостакан': 2, '119': 2, '004': 2, 'ракушка': 2, '69х39': 2, 'рондо': 2, 'элиз': 2, 'китай': 2, 'механический': 2, 'сербский': 2, 'листопад': 2, 'работа': 2, 'airboard': 2, 'compact': 2, 'двойной': 2, 'юниор1': 2, '60х140': 2, 'защитный': 2, 'рояльный': 2, 'супер': 2, 'domenik': 2, 'сидней': 2, '81': 2, 'twist': 2, 'вантуз': 2, '200х150': 2, 'зима': 2, 'alparaisa': 2, 'бронзовый': 2, '64': 2, 'mt355': 2, '30mt': 2, 'claudia': 2, 'jet006': 2, '20х30': 2, 'карин': 2, 'леди': 2, 'stendy': 2, 'арлета': 2, 'brava': 2, 'фарфоровый': 2, 'тяжелый': 2, 'батарейка': 2, 'rolling': 2, 'подсолнух': 2, 'металический': 2, 'беатрис': 2, 'кустовой': 2, 'кения': 2, 'limited': 2, '120x38': 2, 'тефлон': 2, 'гусь': 2, 'сциндапсус': 2, 'уголок': 2, '89': 2, 'муза': 2, '04': 2, 'мерный': 2, 'shine': 2, 'brabantia': 2, 'сн90': 2, 'de': 2, 'взрослый': 2, 'emma': 2, '44х24х10': 2, '40х20х10': 2, '36х16х10': 2, '010': 2, 'amarillo': 2, 'чугунный': 2, 'pyrex': 2, '5кг': 2, 'медь': 2, '04711': 2, 'd41': 2, 'exclusive': 2, '67': 2, 'фиксатор': 2, 'плющ': 2, 'tour': 2, 'лина': 2, 'эко': 2, 'рукоятка': 2, '028': 2, '0401': 2, '122х152': 2, 'морской': 2, 'эмпилабль': 2, 'jet016': 2, '60х100х10': 2, 'forme': 2, 'delux': 2, 'пылесос': 2, 'сбор': 2, 'всасывание': 2, 'ориганум': 2, 'верхний': 2, 'эхинокактус': 2, 'грузонь': 2, 'вакуумный': 2, 'reflector': 2, 'фал': 2, 'образный': 2, '80х170': 2, 'лилейник': 2, 'светло-лиловый': 2, 'стол': 2, '30x45': 2, '221': 2, 'термостатический': 2, 'вайт': 2, 'junior': 2, '105': 2, ' & ': 2, 'классика': 2, 'моравский': 2, 'о': 2, 'vita': 2, '3d': 2, 'гиацинт': 2, 'аквилегия': 2, 'незабудка': 2, 'седум': 2, 'почвопокровный': 2, 'эквадор': 2, 'монгольский': 2, 'карлик': 2, '53': 2, 'bassi': 2, 'пакет': 2, 'перечный': 2, 'валенсия': 2, 'середина': 2, 'фильтр': 2, 'рукав': 2, 'прованс': 2, 'георгин': 2, 'любимец': 2, 'стандартный': 2, 'колумбия': 2, 'тип': 2, 'hard': 2, 'freeflow': 2, '700': 2, 'котон': 2, 'neo': 2, 'открытый': 2, 'телескоп': 2, 'попсокс': 2, 'колосистый': 2, 'мун': 2, 'лайм': 2, '17х17х10': 2, 'verga': 2, 'пепельница': 2, 'подметание': 2, 'баскью': 2, 'шайметь': 2, 'криг': 2, '117': 2, 'micro': 2, 'duo': 2, 'каучук': 2, 'peva': 2, 'полиэтилен': 2, 'болгарский': 2, 'касаживать': 2, '76': 2, 'мэджик': 2, 'g300a02w': 2, 'doble': 2, 'анемон': 2, 'огонек': 2, 'сибирский': 2, 'огонь': 2, 'шуга': 2, 'алтайский': 2, 'дина': 2, 'колхозница': 2, 'зенг': 2, 'зенган': 2, 'циния': 2, 'вкрапление': 2, 'резьба': 2, 'гардения': 2, 'июньский': 2, 'хоня': 2, 'экспресс': 2, 'свет': 2, 'calliope': 2, 'хуторянка': 2, 'максим': 2, 'триколор': 2, 'роуз': 2, 'бельевой': 2, 'улыбка': 2, 'краснокачать': 2, 'победа': 2, 'morn': 2, 'регатт': 2, 'regatta': 2, 'тигр': 2, 'зебра': 2, 'мохнатый': 2, '95': 2, 'солнечный': 2, 'черри': 2, 'шалун': 2, 'premium': 2, 'бугельный': 2, 'колеус': 2, 'цинерания': 2, 'potunia': 2, 'бургундить': 2, 'lavender': 2, 'брызги': 2, 'темно': 2, 'гребенчатый': 2, 'диск': 2, 'брокколи': 2, 'фортуна': 2, 'сахарный': 2, 'гулливер': 2, 'гарантия': 2, 'лечебный': 2, 'атос': 2, 'фатсия': 2, 'paola': 2, '102': 2, 'венский': 2, 'tvs': 2, 'монард': 2, 'аккорд': 2, 'вариегат': 2, 'съемный': 2, 'тряпка': 2, 'осина': 2, 'сакура': 2, 'слуга': 2, 'сосна': 2, 'камнеломка': 2, 'эден': 2, 'карпатский': 2, 'прессованный': 2, '278': 2, '30х60': 2, 'шпагат': 2, 'ктекс': 2, 'sсovo': 2, '1502081': 2, 'wtd180': 2, '103': 2, 'extra': 2, 'стеллаж': 2, 'telio': 2, 'opt': 2, 'бидон': 2, 'imx004': 2, 'лантан': 2, 'клен': 2, '03619': 2, '885': 2, 'x64': 2, 'акрил': 2, 'от': 2, 'speed': 2, 'ярус': 2, 'веревка': 2, 'rojo': 2, 'защита': 2, 'рука': 2, 'соковарка': 2, 'жаклин': 2, 'тефлоновый': 2, 'рим': 2, 'двуспальный': 2, 'салат': 2, 'рукол': 2, 'прямостоячий': 2, '40х13х16': 2, 'радермахер': 1, 'хризолидокарпус': 1, 'лутесценс': 1, 'циперус': 1, 'зумул': 1, 'лузеан': 1, 'юкка': 1, 'нитчатый': 1, 'водолей': 1, 'с614': 1, '1404056': 1, 'persia': 1, '5379': 1, 'ahs331': 1, 'c42': 1, 'рожковый': 1, 'металлик': 1, '1110027': 1, 'm2880': 1, 'lg17085': 1, '0039a': 1, '26n': 1, '26gl': 1, 'festival': 1, '137x60': 1, '4738': 1, 'райский': 1, 'яблочко': 1, 'xj210': 1, 'sl90': 1, 'nm90': 1, 'jz80': 1, 'gp8': 1, 'rp8': 1, 't9': 1, '3см': 1, 'scr30': 1, '1801095': 1, 'фигурный': 1, 'ворс': 1, '1801096': 1, '1209021': 1, 'фиц': 1, '25см': 1, 'g9547': 1, 'acr013': 1, 'acr023': 1, 'чайная': 1, 'acr033': 1, 'malibu': 1, 'фарфор': 1, '47х12': 1, '1001768': 1, 'prima': 1, '720': 1, 'веревочный': 1, 'котел': 1, 'балезино': 1, '1502050': 1, 'суккулент': 1, 'перл': 1, 'нюрнберг': 1, 'пиноккио': 1, 'r102312': 1, 'прима': 1, 'adp410': 1, '45х75см': 1, 'рельефный': 1, 'cr005': 1, 'magicstop': 1, '3x1': 1, 'сушка': 1, '2289': 1, '60л': 1, '520140': 1, 'гамбург': 1, '2шт': 1, '500мл': 1, 'h5072': 1, 'village': 1, 'street': 1, '50х107': 1, '4663': 1, 'b0194r': 1, '1712010': 1, '12х6': 1, '8х1': 1, '5275': 1, '520114': 1, 'g60': 1, 'y': 1, 'cr30': 1, 'tz90': 1, 'дампьер': 1, '260': 1, 'h7939': 1, '1712012': 1, 'ванная': 1, 'bowl': 1, 'полистирол': 1, '14х16': 1, '1014964': 1, 'cuadro': 1, 'mh': 1, 'jet019': 1, '185х240': 1, 'wp184': 1, 'айленд': 1, 'wt355': 1, '6194': 1, '6195': 1, '1404006': 1, 'кумган': 1, '1408003': 1, 'gp60': 1, 'адиантум': 1, 'лиза': 1, '120х180см': 1, 'рр214': 1, '07034': 1, 'дом': 1, 'утолщенный': 1, 'r105628': 1, '4302': 1, '301': 1, 'livingstep': 1, 'jean': 1, '107х30': 1, 'картофель': 1, 'proline': 1, '03032': 1, 'готовый': 1, 'dia': 1, 'rm90': 1, 'бутылка': 1, 'натуральный': 1, '0473': 1, '0003': 1, 'тп': 1, '1404042': 1, '2775': 1, '1404032': 1, '1404047': 1, '1404045': 1, '4шт': 1, '2776': 1, '1404043': 1, 'dscn4061': 1, '5030': 1, '1703010': 1, 's300': 1, 's280': 1, 'болт': 1, 'ст': 1, '1108354': 1, 'лдн': 1, 'тройной': 1, '1110182': 1, 'офелия': 1, '50х80см': 1, 'ntbm50804050': 1, 'ricko': 1, '5м': 1, 'rk': 1, '5755': 1, 'апельсин': 1, 'daisy': 1, 'кампануть': 1, 'двухцветный': 1, 'противень': 1, '340х240х25': 1, '052': 1, '1503028': 1, '90х120': 1, 'k041': 1, 'нолина': 1, ' ) \"': 1, 'wp44': 1, 'мила': 1, '38х63': 1, '4630005366090': 1, 'космо': 1, '1703005': 1, 'tuscan': 1, 'wine': 1, '4660': 1, '14х90': 1, '1103003': 1, 'lampo': 1, 'одри': 1, 'дв1о': 1, '24gl': 1, '28gl': 1, '6226': 1, 'c34f3m': 1, 'вкладыш': 1, 'cm': 1, 'lg17056': 1, '5068': 1, 'серо-голубой': 1, 'турбореживать': 1, 'индия': 1, 'зигзаг': 1, '6204': 1, 'медикамент': 1, 'отделение': 1, '30x22x12': 1, '4w': 1, '107': 1, 'биопорошок': 1, 'bonsai': 1, 'концентрировать': 1, '4607974420573': 1, 'чистить': 1, 'крем': 1, 'трудновыводимый': 1, 'lemon': 1, 'stain': 1, 'remover': 1, 'индонезия': 1, '8998866106207': 1, 'recharge': 1, 'avex0681': 1, '520135': 1, 'смахивание': 1, '0528': 1, '1703006': 1, '520138': 1, 'diamante': 1, '4800': 1, 'g300a03w': 1, 'черый': 1, '3649': 1, '1404021': 1, 'милый': 1, 'sv3182': 1, '1807009': 1, 'утюжок': 1, 'миди': 1, 'standart': 1, 'g1126': 1, 'светильник': 1, 'led': 1, 'лампа': 1, 'светодиодный': 1, 'сенсорный': 1, 'диммер': 1, '0004': 1, 'perfectolight': 1, '60х95': 1, 'eve4214': 1, 'ea1104': 1, 'платье': 1, 'неткать': 1, '135': 1, '360135': 1, '1703011': 1, 'jolly': 1, '4620757212370': 1, 'лапша': 1, 'grill': 1, '6207': 1, 'пена': 1, 'хвойный': 1, 'пихта': 1, '900': 1, '4620757212424': 1, 'тх0253': 1, '350х170': 1, 'м2506': 1, '1404091': 1, 'мерка': 1, '1404028': 1, '1404079': 1, '1404038': 1, 'с12129': 1, '1404034': 1, 'с203': 1, '1404039': 1, '1404094': 1, 'aquamarin': 1, 'st12': 1, '520125': 1, 'st05': 1, 'adm125': 1, 'свереть': 1, '6867540': 1, '0512261': 1, '6862060': 1, '0512262': 1, '6862080': 1, '0512263': 1, '4312600': 1, 'са5': 1, '160х60': 1, 'abu004': 1, 'orion': 1, 'profiline': 1, 'solid': 1, '0514': 1, '089': 1, 'rainbow': 1, 'хромировать': 1, '201': 1, '5х55х93': 1, 'эффект': 1, 'отбеливание': 1, 'кофейный': 1, 'никотиновый': 1, '603849': 1, 'smokers': 1, '8850002805040': 1, 'whitening': 1, '8850002805064': 1, 'тонкий': 1, 'нарезка': 1, 'пилообразный': 1, '2082': 1, 'мейер': 1, 'с202': 1, '1404052': 1, '1404076': 1, 'мерседес': 1, 'карнавал': 1, 'кристалл': 1, 'тобаго': 1, '1703009': 1, 'тх0252': 1, '1050767': 1, 'cannetto': 1, '4061': 1, 'мя': 1, 'r206204': 1, 'elegant': 1, '125x45': 1, 'polyline': 1, 'аметист': 1, '6230': 1, 'venise': 1, '4007036': 1, '547': 1, '535': 1, 'см4': 1, 'textilebox': 1, '34x20x13': 1, '03003': 1, 'палубный': 1, '215х80х20': 1, '1801088': 1, '1620': 1, 'стп2': 1, 'розебуд': 1, 'молодой': 1, 'jet001': 1, 'd960': 1, 'c1350': 1, '0516': 1, '570': 1, 'dscn3579': 1, 'jb': 1, 'ahm791': 1, '226b10': 1, 'tamara': 1, '125x42': 1, '5877': 1, '5884': 1, 'грязеулавливающий': 1, 'finger': 1, 'lm': 1, 'ls': 1, 'молния': 1, '5х20': 1, '5х13': 1, 'bb211': 1, '38х15': 1, '7054sb': 1, 'наматрасник': 1, 'wm180': 1, '4607101067749': 1, 'наматрицник': 1, 'стебель': 1, 'сб': 1, 'бамбуковый': 1, 'молочный': 1, 'r810001': 1, 'r105816': 1, 'tempo': 1, 'пц2950': 1, '1404003': 1, 'треугольный': 1, 'y8110': 1, 'пластмасса': 1, '0703': 1, '0065': 1, 'форест': 1, 'h7239': 1, 'полукруглый': 1, 'розетт': 1, '20657': 1, 'ножеточка': 1, 'рыбка': 1, '1519028': 1, 'quartz': 1, 'раскрытый': 1, 'камушек': 1, 'транспарент': 1, '5187': 1, 'avantgard': 1, 'блу': 1, 'айза': 1, 'корейский': 1, 'venezia': 1, 'нд': 1, ', (': 1, '751': 1, '1408004': 1, 'extension': 1, 'масленка': 1, 'коровка': 1, '17см': 1, '73115': 1, 'тула': 1, '1205158': 1, 'stabilo': 1, '0503': 1, 'se': 1, 'planet': 1, '136': 1, '4062': 1, '140х60': 1, 'abm106': 1, 'хоми': 1, '124х40': 1, 'abh010': 1, 'abm105': 1, '1301031': 1, 'krackle': 1, '5911': 1, 'труба': 1, '1205197': 1, '1205037': 1, 'rp60': 1, 'ванда': 1, '6001': 1, '5528': 1, '6023': 1, 'стк1': 1, 'dama': 1, '3655': 1, 'h3386': 1, 'h3529': 1, 'j2402': 1, 'j2397': 1, 'in': 1, 'traditional': 1, 'sophy': 1, 'корица': 1, 'hsk': 1, '5523': 1, 'чп2': 1, 'манго': 1, '520133': 1, '040': 1, 'блин': 1, '1503020': 1, 'aberdeen': 1, '4395': 1, 'redstone': 1, '4651': 1, 'stonehedge': 1, '4652': 1, 'imx005': 1, 'steel': 1, 'abs017': 1, 'h3557': 1, 'h3556': 1, 'h3558': 1, '152х228': 1, '5789': 1, '1209002': 1, '1209001': 1, 'mou041': 1, 'rd6': 1, '1404085': 1, 'гео': 1, '5см': 1, 'рейнбоу': 1, 'j5978': 1, 'текстильная180х200': 1, '3003': 1, 'рябина': 1, 'reffil': 1, 'utimate': 1, 'облепиха': 1, '8809193042321': 1, '48х23': 1, '7057gc': 1, '8925': 1, '901': 1, 'l9': 1, 'ванилла': 1, '1216396': 1, 'росспласт': 1, 'ажур': 1, 'рп': 1, '813': 1, '60x40': 1, 'amc015': 1, 'овощеварка': 1, '045': 1, '1502079': 1, 'престиж': 1, 'g6207': 1, '20734': 1, 'abb004': 1, '265': 1, 'm2': 1, '2000000168616': 1, '8x12': 1, '14386': 1, 'линейка': 1, 'rgl': 1, '14387': 1, 'tortora': 1, 'аллюр': 1, 'g5747': 1, 'g5544': 1, '81570': 1, '87х157х55': 1, 'bab008': 1, 'beach': 1, 'and': 1, 'bubbles': 1, '130x45': 1, '71596': 1, '048': 1, '054': 1, 'приготовление': 1, 'глазунья': 1, 'c452': 1, 'ф13': 1, '005l': 1, '1606': 1, '1205156': 1, 'agb110': 1, 'прорезь': 1, 'agb111': 1, '235': 1, 'касабланка': 1, '51258b': 1, 'шампанский': 1, 'френч': 1, 'брассери': 1, '170мл': 1, 'h9452': 1, 'гармония': 1, '335': 1, '32х70': 1, '4630005362832': 1, '312': 1, '31х31': 1, '4630005360012': 1, 'салфетница': 1, 'хромированный': 1, '0293': 1, 'лабиринт': 1, 'напиток': 1, '05с1262': 1, 'конус': 1, '1535027': 1, 'td2': 1, 'td3': 1, 'имитация': 1, 'd3700': 1, 'abt142': 1, 'gobi': 1, '120х70': 1, '1012778': 1, 'альбук': 1, 'спиралиса': 1, 'фризлый': 1, 'сизл': 1, '5801': 1, 'овощечистка': 1, 'плавать': 1, 'лезвие': 1, '03151': 1, 'оват': 1, 'bruna': 1, 'hbm': 1, 'артемизия': 1, 'полынь': 1, 'горький': 1, 'flexinett': 1, 'r212585': 1, 'сантехнический': 1, 'антикальций': 1, '4660015923266': 1, '4666': 1, '90х42': 1, 'vatl': 1, 'att101': 1, 'бензин': 1, 'зажигалка': 1, '1205214': 1, 'imperial': 1, '5174': 1, 'полировка': 1, 'гои': 1, 'эконом': 1, 'эк1': 1, 'стрела': 1, 'пс': 1, 'рыбинск': 1, '1104019': 1, '171': 1, 'wh': 1, '5785': 1, 'mickey': 1, '4811': 1, 'вл867': 1, 't7': 1, '211': 1, 'см3': 1, 'желудь': 1, 'туалетный': 1, 'бумага': 1, 'с373': 1, '1713006': 1, '1712007': 1, '1206155': 1, 'rl': 1, '0071': 1, 'мыльный': 1, 'пузырь': 1, '520116': 1, '520124': 1, 'измельчитель': 1, 'шк': 1, '1516020': 1, 'соломка': 1, '20135': 1, '1506085': 1, 'aruba': 1, 'губка': 1, 'eh3599': 1, 'r105817': 1, 'g9212': 1, '137х60х10': 1, '107h': 1, '150x65': 1, 'mhe017': 1, '1712002': 1, 'подкроватный': 1, '80х40х15': 1, '28040': 1, '6222': 1, '04754': 1, 'цепочка': 1, '1206157': 1, 'мультя': 1, '10м': 1, '1002010520027': 1, 'adm110': 1, '520111': 1, 'романтик': 1, 'j7900': 1, 'фен': 1, '0904': 1, '1400': 1, '1003': 1, 'hsp394': 1, 'водоросль': 1, '5919': 1, 'вн3': 1, 'самоклеять': 1, '1110008': 1, '\"': 1, 'h125': 1, 'j2113': 1, 'колорама': 1, 'рэд': 1, 'j7772': 1, 'рапсоди': 1, 'h8728': 1, 'j1392': 1, 'l2857': 1, 'g9834': 1, 'l2858': 1, 'l6415': 1, 'l6417': 1, 'сердечко': 1, 'дсг55029146': 1, 'полар': 1, 'файр': 1, 'калоцефалус': 1, 'брауни': 1, 'крашеный': 1, 'осенний': 1, '45х76': 1, 'flagstone': 1, '5415': 1, 'posh': 1, 'one': 1, 'magnum': 1, '828': 1, '4580390': 1, '927058': 1, 'каллун': 1, 'герлс': 1, 'трехцветный': 1, 'капсикум': 1, 'жесткий': 1, 'леопард': 1, 'lb301': 1, 'стыдливый': 1, '200г': 1, 'мелис': 1, 'соланум': 1, 'хлор': 1, 'ддля': 1, 'сантехника': 1, 'другой': 1, '4660015923228': 1, '1502074': 1, 'lora': 1, 'hlf': 1, '124х46': 1, '5757': 1, '1205155': 1, 'clear': 1, '* (': 1, 'слой': 1, '1205060': 1, 'блок': 1, 'r160071': 1, 'r510100': 1, 'ангора': 1, '1404092': 1, '8150': 1, '507': 1, 'l50': 1, 'император': 1, '06707': 1, 'e5181': 1, 'виски': 1, 'карат': 1, '52885в': 1, 'липучка': 1, '1210035': 1, 'тб': 1, '1210036': 1, 'ушко': 1, 'домик': 1, '1205251': 1, 'ретро': 1, 'дв1р': 1, 'бархатцы': 1, 'веселый': 1, 'полянка': 1, '4660010777505': 1, 'очаровашка': 1, '4660010779578': 1, 'сладость': 1, '4660010775921': 1, 'драгоценность': 1, '4660010773316': 1, 'засолочный': 1, '4660010776102': 1, 'каскад': 1, '4660010772784': 1, 'jet010': 1, 'шило': 1, 'утолщать': 1, '1205083': 1, 'мунлайт': 1, 'h7253': 1, '132х177': 1, '4022': 1, 'сб2б': 1, 'сб1': 1, 'jw': 1, 'ahn271': 1, 'siluet': 1, 'cream': 1, 'сыпучий': 1, 'вкладка': 1, '0л': 1, '10мр': 1, '0001': 1, 'x59': 1, 'стк2': 1, 'g9399': 1, '1703004': 1, 'м2511': 1, '1404015': 1, '1404009': 1, 'с215': 1, '1406006': 1, 'николь': 1, 'ножницы': 1, 'орехокол': 1, '5208': 1, 'akf522': 1, '305': 1, '36м': 1, '1519003': 1, '318': 1, 'гурман': 1, '14м': 1, '1519009': 1, '285': 1, '38м': 1, '1519022': 1, '1518024': 1, 'h7013': 1, 'мятный': 1, '0368': 1, 'лавандовый': 1, 'bleach': 1, '4660015923273': 1, '339': 1, 'сб4': 1, 'картофелемялка': 1, '1531002': 1, '1703007': 1, 'g9403': 1, 'g9402': 1, 'ароматизированный': 1, 'дудаление': 1, 'ржавчина': 1, '4660015923235': 1, 'бальзам': 1, 'ecosoda': 1, '044684': 1, 'ecomatic': 1, 'cleaner': 1, 'испания': 1, '126109': 1, 'ступенька': 1, 'abf100g': 1, '650': 1, 'abf135w': 1, 'olive': 1, 'oil': 1, 'sideboard': 1, '56х86': 1, '5062': 1, 'лобулярий': 1, '4650091480302': 1, 'турецкий': 1, 'роковый': 1, '4660010773231': 1, 'годеция': 1, 'рембранд': 1, '4650091480128': 1, 'сюрпрайз': 1, '4650091480203': 1, '4650091480234': 1, 'толла': 1, '4650091480258': 1, 'клюквенный': 1, '4660010770421': 1, 'кэнди': 1, 'страйп': 1, '4650091480272': 1, 'огненный': 1, '4650091480616': 1, 'волшебный': 1, '4660010779639': 1, 'друммонд': 1, '4650091480401': 1, '4660010770797': 1, 'эшшольция': 1, 'карминный': 1, '4660010770193': 1, '90h171v140': 1, '01014': 1, 'нордик': 1, '380мл': 1, 'h8502': 1, '1002': 1, 'stiro': 1, 'рассекатель': 1, 'газовый': 1, 'плита': 1, 'an8032': 1, 'ополаскиватель': 1, '5900861242715': 1, 'глажение': 1, 'ява': 1, 'ртк26': 1, '45х65': 1, '1200023': 1, '0037a': 1, '22n': 1, 'т33': 1, 'шенилл': 1, 'birhome': 1, 'valentin': 1, '240х260': 1, '9234567089661': 1, '299': 1, 'ч': 1, 'рр114': 1, '01019': 1, '4343': 1, 'wooden': 1, 'abb017': 1, 'с299': 1, '1704006': 1, 'pino': 1, '63747': 1, 'r185': 1, 'авеню': 1, '180х214': 1, '200х214': 1, 'kalven': 1, '260x260': 1, '8681914002162': 1, 'd3': 1, '520132': 1, '114х37': 1, 'бязь': 1, '110х32': 1, '80x40': 1, 'amc080': 1, 'paco': 1, 'душевая': 1, 'кабина': 1, '4819': 1, '6041': 1, 'sfera': 1, '4833': 1, '706': 1, '1535005': 1, 'бк1': 1, 'h8437': 1, '195': 1, '215': 1, 'микроволокно': 1, '17т': 1, '0034': 1, 'подсолнечник': 1, 'низкорослый': 1, 'пуансетия': 1, '1506084': 1, '40mt': 1, '4cf': 1, 'пресс': 1, 'western': 1, 'agw050': 1, 'кашимый': 1, 'g9324': 1, 'с05': 1, 'примус': 1, '1203048': 1, 'лаура': 1, 'sv3020': 1, '6030': 1, 'гиностемма': 1, 'treppensteiger': 1, 'hera': 1, 'кипарисовик': 1, 'лавсон': 1, 'элвуди': 1, 'камешек': 1, '5520': 1, 'аптение': 1, 'каучуковый': 1, 'p01': 1, 'фиорино': 1, 'g8487': 1, 'дельта': 1, '2017': 1, '1205224': 1, '1404022': 1, 'палас': 1, 'рр120': 1, '343': 1, '100х60х10': 1, '106h': 1, 'ведерко': 1, 'мыльница': 1, 'м2221': 1, '1702010': 1, 'quadrifoglio': 1, '4809': 1, '5730': 1, 'сб9': 1, 'грандифлора': 1, 'натура': 1, '6223': 1, 'свинюшка': 1, 'грязюшко': 1, '71630': 1, 'adria': 1, '72708': 1, 'усиленный': 1, 'дюраль': 1, '1110015': 1, 'бю1': 1, '701402ng': 1, 'cervoise': 1, '320мл': 1, 'g3775': 1, 'экран': 1, 'дуршлаг': 1, 'силикон': 1, '0341s': 1, 'функция': 1, 'plb025l': 1, \"'/\": 1, 'pt00234': 1, '36х71': 1, 'табурет': 1, 'l90': 1, 'ke': 1, '4442': 1, '701': 1, '2х2': 1, '5526': 1, 'оксид': 1, '545': 1, '1103066': 1, 'элатиор': 1, 'вена': 1, 'счв107': 1, 'мясорубка': 1, '1512016': 1, 'j1299': 1, '266': 1, '28х42': 1, '4630005364393': 1, 'oasis': 1, 'dm9634': 1, 'apac': 1, '1212': 1, 'j8130': 1, '60х140х10': 1, '701403ag': 1, 'сельма': 1, '220мл': 1, 'g9434': 1, 'vrtw': 1, 'presea': 1, 'прямоуголный': 1, '120х150': 1, 'сепия': 1, '5514': 1, 'маг': 1, '1206002': 1, '213r11': 1, '04010a': 1, 'чпа': 1, 'wplny152': 1, 'loreta': 1, 'golf': 1, 'hl': 1, 'фоторамка': 1, 'фотография': 1, '43х42': 1, 'с31': 1, '017': 1, 'узкий': 1, 'эт2': 1, 'j0276': 1, '6163': 1, '135х46': 1, 'abt044': 1, '1404055': 1, '3cf': 1, '1209004': 1, '21013': 1, 'скиммия': 1, 'рубелла': 1, 'спренжери': 1, 'завтрак': 1, 'rd0030': 1, 'st': 1, 'g1988': 1, 'оаэ': 1, '6034': 1, 'l5079': 1, 'бест': 1, 'нб': 1, 'шампанское': 1, 'даймонд': 1, 'g5208': 1, 'пористый': 1, 'd022': 1, 'домина': 1, '223708': 1, '1209020': 1, 'wt358': 1, 'g0688': 1, 'алфавит': 1, '301о': 1, '350х175': 1, 'mlo357': 1, '1303007': 1, 'st387': 1, 'sintra': 1, '6039': 1, 'кондиционер': 1, 'sandokkaebi': 1, 'soft': 1, 'aroma': 1, 'aqua': 1, 'свежесть': 1, 'флакон': 1, '2100': 1, '8801353': 1, '003494': 1, 'бабочка': 1, '550': 1, 'ф16': 1, '013l': 1, '04009a': 1, 'pack': 1, 'gloria': 1, 'pac036': 1, 'четыре': 1, 'разъемный': 1, '18b30': 1, '40л': 1, 'вп6с': 1, 'svb': 1, '1000h': 1, '298': 1, 'бс': 1, 'major': 1, 'tech': 1, '4126': 1, '150х130': 1, 'wplny135': 1, 'свweddel': 1, 'с04': 1, 'виниловый': 1, 'тисненый': 1, '137х182': 1, 'водонепроницаемый': 1, 'тд5': 1, '0077': 1, 'электроштопор': 1, '?': 1, '4хаа': 1, '71000': 1, '46х76': 1, 'drifted': 1, 'изменчивость': 1, '5007': 1, 'alpine': 1, 'wrought': 1, '4649': 1, 'colour': 1, '2х': 1, '2022r': 1, '2122r': 1, 'l5078': 1, 'history': 1, 'exp': 1, '5л': 1, 'черепаха': 1, '5538': 1, 'механизм': 1, 'латт': 1, '200х180': 1, 'rw180': 1, '5х23х1': 1, 'romantic': 1, 'rm': 1, '16601s': 1, '115': 1, '029': 1, 'юбка': 1, '10.5': 1, '121b11': 1, '60х100х104': 1, 'блюдце': 1, 'утро': 1, 'j3261': 1, 'ia': 1, '4356200': 1, 'сб1г': 1, 'фиттоний': 1, 'скелетон': 1, '300х145': 1, 'ml304': 1, 'лейс': 1, 'waridi': 1, 'ag': 1, 'томрис': 1, 'лондон': 1, '27х27х10': 1, '23х23х10': 1, '72000': 1, 'бульонница': 1, 'мистигря': 1, 'j8770': 1, 'сбп1': 1, '5024': 1, '1518004': 1, 'алоэ': 1, 'nika': 1, 'hp1t': 1, '11х9': 1, 'ц99h110v080': 1, '01339': 1, 'сб3б': 1, 'родос': 1, 'subati': 1, 'flowers': 1, 'italo': 1, 'ва': 1, '506': 1, 'сб3': 1, 'ключница': 1, 'картина': 1, '35х30': 1, 'granite': 1, 'abx111': 1, 'porto': 1, '1033938': 1, 'j1762': 1, 'т30': 1, 'аптения': 1, 'пароварка': 1, 'картонный': 1, '30х20х15': 1, '9741': 1, 'шопен': 1, 'клубок': 1, 'пряжа': 1, '5550': 1, 'герметичный': 1, '092': 1, 'дымчатый': 1, 'r181900': 1, 'соус': 1, 'ots131505': 1, '000': 1, 'фикус': 1, 'каучуконосный': 1, 'эластик': 1, 'абиджан': 1, 'мариса': 1, 'j7687': 1, 'соль': 1, '5900861242227': 1, 'м2507': 1, '1404037': 1, 'гипоаллергенный': 1, 'концентрированный': 1, 'vpk': 1, '8809473130144': 1, 'gothic': 1, 'slice': 1, 'готический': 1, '4468': 1, 'м1552': 1, '1714003': 1, '150х120': 1, 'wt125': 1, 'куэн': 1, 'coffee': 1, '45x75': 1, '5420': 1, 'антискользящий': 1, '50320': 1, '180х150': 1, 'wto185': 1, '11600': 1, 'rings': 1, '1015184': 1, 'шампань': 1, '1015640': 1, 'модульный': 1, '298264': 1, 'c42f3m': 1, 'simfony': 1, '1255': 1, 'одноуровневый': 1, '7х30': 1, '6х72': 1, '03977': 1, '856': 1, 'fabrikators': 1, 'ko2pu': 1, '6031': 1, 'imx001': 1, 'fortress': 1, 'acf622': 1, 'hermes': 1, 'luxe': 1, '010c': 1, '202st': 1, 'конек': 1, 'тс': 1, '277': 1, 'edition': 1, 'feet': 1, '1103055': 1, 'краник': 1, 'grape': 1, 'abs038': 1, '132': 1, 'mary': 1, 'prins': 1, 'nikolai': 1, 'берлин': 1, '72008': 1, '5923': 1, '1110136': 1, 'просеиватель': 1, 'мука': 1, 'd27см': 1, 'rsb': 1, 'bigbin': 1, 'swing': 1, '0845': 1, 'burgundy': 1, 'rosato': 1, 'queen': 1, 'ingrid': 1, 'pandora': 1, 'bicolor': 1, 'прямоугольная152х228': 1, '5140': 1, '3.6': 1, 'sc5ac24': 1, '5141': 1, 'niveau': 1, '71325': 1, 'ксе': 1, '1110132': 1, 'мужчина': 1, 'дв1м': 1, '4620757211700': 1, 'stockholm': 1, 'classico': 1, ' ( ': 1, ' ) ': 1, '1530018': 1, '70х35': 1, '1дсж1': 1, 'йота': 1, 'комфорт': 1, 'вк6с': 1, 'r212608': 1, 'кодонант': 1, '21717': 1, 'добро': 1, 'пожаловать': 1, '6008': 1, '5х112см': 1, '1200006': 1, '36х36х30': 1, '4c': 1, 'дл1': 1, 'инж': 1, '224414': 1, 'быстрый': 1, 'жировой': 1, 'загрязнение': 1, '4660015923259': 1, 'r500028': 1, 'доминик': 1, '05322': 1, '877': 1, 'дивали': 1, 'd7358': 1, 'кб': 1, '35х28х19': 1, '1524002': 1, 'kangoo': 1, 'powder': 1, 'grown': 1, '45х125': 1, 'сити': 1, '223712': 1, 'margaretha': 1, 'j2132': 1, 'пикассо': 1, 'europa': 1, '21738f6ec': 1, '5953': 1, 'син': 1, 'l0886': 1, 'шэйдс': 1, 'h8401': 1, '52002': 1, 'дл2': 1, 'волна': 1, '52000': 1, '40x60': 1, 'рр105': 1, '01001': 1, 'эл': 1, 'ldn': 1, \"'\": 1, 'cadesi': 1, 'hurrem': 1, '50х60': 1, 'вырез': 1, '315602': 1, 'св5': 1, 'велад': 1, 'l7997': 1, 'plata': 1, '701003ag': 1, 'lily': 1, 'tracery': 1, 'adl021': 1, '20920': 1, 'марля': 1, 'h9184': 1, 'гимнокалициум': 1, '6043': 1, 'крепеж': 1, 'пружина': 1, 'дверной': 1, '1107055': 1, '35348r': 1, '4.4': 1, '15537': 1, 'нетканый': 1, 'рулон': 1, 'eh4967': 1, 'бк2': 1, '0835': 1, '1600': 1, 'морокан': 1, 'systema': 1, 'tartar': 1, 'против': 1, 'образование': 1, 'камень': 1, '616764': 1, '4356000': 1, '204': 1, 'крокат': 1, 'рябой': 1, 'ots161560': 1, '005': 1, 'тропик': 1, 'найт': 1, 'orsini': 1, '1013512': 1, '60х110': 1, 'r261016': 1, '04002a': 1, '37х58см': 1, 'asb386': 1, 'фита': 1, '315': 1, '34х35': 1, '4630005367202': 1, 'hello': 1, 'bonjour': 1, 'ciao': 1, 'ковровый': 1, '4658': 1, '20w': 1, 'h2258': 1, 'mats': 1, '5079': 1, '380': 1, '1206007': 1, 'мадрид': 1, '50х30х12': 1, '30х24х12': 1, '72019': 1, '55х110': 1, 'с03': 1, 'полоса': 1, '120x42': 1, 'dc42f3r': 1, '60х30': 1, 'промой': 1, 'expert': 1, '1503008': 1, 'ч2': 1, 'капроновый': 1, 'бухта': 1, '300м': 1, '1201050': 1, 'аlpenkok': 1, '6062s': 1, 'орехоколка': 1, 'viva': 1, 'atv600': 1, '204к': 1, 'bright': 1, 'short': 1, 'эппл': 1, 'минт': 1, 'лагуна': 1, 'вульгарис': 1, 'компактус': 1, 'отантик': 1, 'h8388': 1, 'jet029': 1, 'lois': 1, 'mono': 1, '2122': 1, 'увлажнять': 1, 'маска': 1, 'brown': 1, 'rice': 1, 'moisture': 1, '330': 1, '599928': 1, 'duplo': 1, 'темно-серый': 1, '38х59': 1, '2х27': 1, 'napa': 1, 'химера': 1, 'сб2': 1, 'ampari': 1, 'рт9061слроз': 1, '10рs': 1, 'сб2г': 1, 'поэма': 1, 'j1349': 1, 'pickwick': 1, 'яромир': 1, 'кремль': 1, 'яр': 1, '2406м': 1, 'сирень': 1, 'fabric': 1, '3656': 1, '64х38': 1, 'элий': 1, '42х28': 1, 'фреш': 1, 'amsterdam': 1, '40х30х24': 1, '04730': 1, 'm35': 1, '90x60': 1, 'ринго': 1, 'гипсофил': 1, 'аврора': 1, 'израиль': 1, 'мультиблум': 1, 'скарлет': 1, 'ай': 1, 'токио': 1, '30х30х10': 1, '25х25х10': 1, '20х20х10': 1, '15х15х10': 1, '72007': 1, 'sc4ac20': 1, 'серо-зеленый': 1, '31004': 1, '13s': 1, 'голдни': 1, 'селебрейшен': 1, 'императрица': 1, 'колетт': 1, '1404046': 1, 'эпипремнум': 1, 'roma': 1, 'b0058r': 1, 'vileda': 1, 'wring': 1, 'turbo': 1, '151153': 1, 'педальный': 1, 'сувенир': 1, 'd23': 1, 'иктерин': 1, 'изящный': 1, 'родничок': 1, 'колибри': 1, '35х21х1': 1, 'а023': 1, '4543': 1, 'стрес': 1, 'женский': 1, 'алина': 1, 'барлоу': 1, '4660010775433': 1, 'амброзия': 1, '4660010772616': 1, 'барон': 1, 'солемахер': 1, '4660010775556': 1, '4650091480340': 1, 'дюна': 1, 'валя': 1, 'кинг': 1, 'медок': 1, '4660010776423': 1, 'балконный': 1, '4660010772531': 1, 'укроп': 1, 'обильнолистный': 1, '4660010772562': 1, 'top': 1, 'moving': 1, 'нефролепис': 1, 'бостон': 1, 'юник': 1, 'ecuatorian': 1, '2238': 1, 'яблоневый': 1, 'louvre': 1, 'бахромчатый': 1, 'retro': 1, '5758': 1, 'dry': 1, '55237': 1, 'штангенциркуль': 1, 'точность': 1, '3015515': 1, '0910007': 1, 'горошек': 1, 'ц099h145v110': 1, '01321': 1, '5881': 1, 'pep001': 1, 'скраб': 1, 'мочалка': 1, 'люфа': 1, 'мандала': 1, 'около': 1, 'mountain': 1, 'mou076': 1, 'пуэбло': 1, 'корать': 1, '69883': 1, 'bruschetta': 1, '4661': 1, 'удобрение': 1, 'prato': 1, '6029': 1, 'petit': 1, 'сб8': 1, 'тач': 1, 'tachi': 1, 'мандариновый': 1, 'сн120': 1, 'karo': 1, 'полиакрил': 1, '1013110': 1, 'valensia': 1, '123х45': 1, 'нв1': 1, 'pearl': 1, 'скалка': 1, 'lekue': 1, '0200800m02u050': 1, '755': 1, 'подошва': 1, 'самоочистка': 1, 'паровой': 1, 'удар': 1, '7218': 1, '5570': 1, 'perfo': 1, 'midi': 1, '702': 1, 'прецизионный': 1, 'напильник': 1, 'двухкомпонентный': 1, 'lijo': 1, '6x': 1, '15240': 1, '1703003': 1, 'rattan': 1, '01704': 1, '500603': 1, '48х8': 1, '3.2': 1, '15552': 1, 'чабер': 1, 'bolero': 1, 'sweet': 1, 'bells': 1, 'golden': 1, '4351107': 1, '1014625': 1, 'imx006': 1, 'ранункулус': 1, 'клуня': 1, 'ханой': 1, '3+': 1, 'н3': 1, 'бело-розовый': 1, 'нью-йорк': 1, 'правый': 1, '72012': 1, '1015652': 1, 'монако': 1, 'h5124': 1, 'руно': 1, 'подмосковье': 1, 'фламинго': 1, 'челнок': 1, '4059': 1, 'венчик': 1, 'хохломской': 1, 'роспись': 1, '1522013': 1, 'geoflora': 1, 'сито': 1, '7335': 1, 'бак': 1, '0744': 1, '1209057': 1, 'труднодоступный': 1, 'место': 1, 'r510075': 1, 'afd028': 1, 'avex0759': 1, '0018': 1, '5979': 1, 'барселона': 1, '28х28х15': 1, '23х23х15': 1, '17х17х15': 1, '72009': 1, 'h2776': 1, 'fly': 1, '1013539': 1, 'фазенда': 1, 'пц2311злпр': 1, 'надверный': 1, 'нота': 1, 'внд': 1, '310': 1, '81704': 1, '75х155х44': 1, 'а034': 1, '4545': 1, 'многоцветковый': 1, 'ода': 1, 'g0707': 1, 'альто': 1, 'j1749': 1, 'нт11': 1, 'овсянница': 1, 'сизый': 1, 'концентрат': 1, 'россиякорея': 1, '049320': 1, '6038s': 1, '; ': 1, 'ahs725': 1, '51010': 1, 'тортница': 1, '00416': 1, '4650091480579': 1, '4650091480746': 1, 'лимонад': 1, '4650091480500': 1, '4650091480562': 1, '4650091480555': 1, '4660010770414': 1, 'смолевка': 1, 'звездный': 1, 'взрыв': 1, '4650091480630': 1, 'ацтек': 1, 'бургунди': 1, '4650091480739': 1, 'хааг': 1, 'олд': 1, 'мехико': 1, '4650091480456': 1, 'торх': 1, 'almira': 1, 'crispa': 1, 'aura': 1, 'эа': 1, 'кологна': 1, 'пастернак': 1, 'прострэйт': 1, 'цитриодорус': 1, 'крымский': 1, 'вербейник': 1, 'монетчатый': 1, 'травянка': 1, 'персиколистный': 1, 'котовник': 1, 'растопыривать': 1, 'эхинацея': 1, 'ясколка': 1, 'войлочный': 1, 'блюдо': 1, 'конья': 1, '354': 1, '54372b': 1, 'пц2211лм': 1, 'паровыпускной': 1, 'клапан': 1, '70х27х40': 1, '3011': 1, '5974': 1, 'рио': 1, '5х21х10': 1, '72005': 1, 'махито': 1, 'japanosche': 1, 'mojito': 1, 'minze': 1, '2506кп': 1, '1506082': 1, '6040': 1, '57572': 1, '1804047': 1, '83': 1, '38см': 1, 'па022': 1, 'pineaple': 1, 'tiki': 1, 'neon': 1, 'bloomtastic': 1, 'rave': 1, 'violet': 1, 'surprice': 1, 'yellow': 1, 'satin': 1, 'зефир': 1, 'новий': 1, 'turflor': 1, 'забава': 1, 'рк': 1, '0402м': 1, 'открытимый': 1, 'рифленый': 1, 'rolserjet': 1, 'иоген': 1, '77': 1, 'ола': 1, '96': 1, 'эфемер': 1, '121': 1, '51120': 1, '30х20': 1, '51316': 1, 'bio': 1, '1024106': 1, 'rue': 1, 'papillion': 1, '3026': 1, '3640': 1, 'рогатый': 1, 'высокорослый': 1, 'папоротник': 1, 'страусник': 1, 'платикодон': 1, 'энотера': 1, 'миссурийский': 1, '0831': 1, '1300': 1, 'adf1205': 1, 'ivory': 1, 'agi030': 1, 'mansonry': 1, 'foliage': 1, '5х89': 1, '5412': 1, '60х250': 1, 'с06': 1, 'picobello': 1, 'strong': 1, '33': 1, '57030': 1, 'лимонный': 1, '40020': 1, 'лидер': 1, 'джессика': 1, 'аделин': 1, 'барао': 1, 'хурма': 1, 'суперэкзотика': 1, '109': 1, 'мускад': 1, 'керио': 1, 'лимбо': 1, 'изя': 1, 'вейв': 1, 'нежинский': 1, '3646': 1, '30см': 1, 'wicked': 1, 'wich': 1, 'tornado': 1, 'lilac': 1, 'angel': 1, 'eyes': 1, 'swingtime': 1, 'цитрофортунелла': 1, 'кумкват': 1, 'штамбовый': 1, 'пеперомия': 1, 'powerslide': 1, '40х20': 1, '51520': 1, 'василек': 1, 'сб8б': 1, 'двухуровневый': 1, 'max': 1, '&': 1, '4х': 1, '2024': 1, '2124': 1, '701003cb': 1, 'dressetta': 1, '41000': 1, 'great': 1, 'грейта': 1, 'старый': 1, 'младой': 1, 'симпатия': 1, 'бэби': 1, 'казачка': 1, 'вим': 1, 'рина': 1, 'ремонтантный': 1, '1703019': 1, 'гранд': 1, 'нга': 1, 'синнингия': 1, 'metro': 1, '5910': 1, 'орхидея': 1, 'r190237': 1, 'валера': 1, 'поворотный': 1, 'шарнир': 1, 'adf1768': 1, 'белорусский': 1, 'дачный': 1, 'дрова': 1, 'канестрин': 1, 'бычий': 1, 'суприма': 1, '4650091480227': 1, 'колобок': 1, 'сибирячка': 1, 'фаворит': 1, 'ильди': 1, '4660010773323': 1, '4660010770520': 1, 'анна': 1, '225': 1, 'застольный': 1, '4660010775419': 1, 'лунный': 1, '4660010779660': 1, 'орхидный': 1, '4650091480692': 1, 'splash': 1, 'solo': 1, 'light': 1, '35х115': 1, '2151': 1, 'этп3': 1, 'з': 1, 'тусканный': 1, 'хамаекипарисус': 1, 'силач': 1, 'квин': 1, 'цимбопогон': 1, 'лемонграсс': 1, 'шпинат': 1, 'наматрацник': 1, 'бб': 1, 'угол': 1, 't142': 1, 'темостеганый': 1, '140х205': 1, '4690659000306': 1, '1404062': 1, 'автоматический': 1, '51114': 1, 'тряпкодержатель': 1, 'крепление': 1, '1804015': 1, 'gn': 1, '1гр': 1, '66161': 1, 'девичий': 1, 'пятилисточковый': 1, 'индиго': 1, 'исуповский': 1, 'казацкий': 1, 'легенда': 1, 'тарасенко': 1, '91': 1, 'минусинский': 1, '94': 1, 'этуаль': 1, 'юсуповский': 1, 'узбекский': 1, '86': 1, 'g96010': 1, 'астраханский': 1, 'продюсер': 1, 'витаминный': 1, 'джалп': 1, 'колоновидный': 1, 'дисней': 1, 'микки': 1, 'колорс': 1, 'l2127': 1, 'валентина': 1, 'р6м5': 1, 'цилиндрический': 1, 'хвостик': 1, 'гост': 1, '10902': 1, '0512195': 1, 'надежда': 1, 'гудмен': 1, '8+': 1, 'хромой': 1, '1108349': 1, 'h2783': 1, 'жилка': 1, 'sanguna': 1, 'patio': 1, 'table': 1, 'd13': 1, 'qeen': 1, 'of': 1, 'hearts': 1, 'канарейка': 1, 'амурский': 1, 'арбузный': 1, 'болгарск': 1, 'хала': 1, 'куба': 1, 'голубика': 1, '78': 1, 'красота': 1, 'капля': 1, '51': 1, 'кейт': 1, 'мэризол': 1, '97': 1, 'перцевидный': 1, '62': 1, 'поцелуй': 1, '66': 1, '101': 1, 'танец': 1, 'смурфик': 1, 'галактика': 1, '79': 1, 'черниченский': 1, '116': 1, '118': 1, 'минни': 1, 'h6441': 1, 'magenta': 1, 'halo': 1, 'пион': 1, '4311001': 1, 'разборный': 1, '57575': 1, '1804050': 1, '5527': 1, 'c34f3': 1, 'мускарь': 1, 'hj': 1, '1119': 1, 'милена': 1, '5820': 1, 'пиретрум': 1, 'робинсон': 1, 'райдер': 1, 'абрикос': 1, 'абрикосовый': 1, 'брендивайн': 1, 'абруццо': 1, 'вернисаж': 1, 'ручей': 1, 'графити': 1, 'грейпфрут': 1, 'пушистый': 1, 'кумато': 1, '49': 1, '93': 1, '98': 1, 'примарь': 1, 'колорзой': 1, 'роджеро': 1, '104': 1, '113': 1, 'фейерверк': 1, '114': 1, 'шахерезад': 1, '84': 1, 'ширли': 1, 'сердцевидный': 1, 'южный': 1, 'вечер': 1, 'мари': 1, 'москвичка': 1, 'jar500': 1, 'эфиопка': 1, 'слава': 1, 'универс': 1, 'агератум': 1, 'victoria': 1, 'confetti': 1, 'mysweetheart': 1, 'галс': 1, '1404057': 1, 'мелкоцветковый': 1, 'небесно-голубой': 1, 'crazy': 1, 'marvelous': 1, 'винный': 1, 'гелихризум': 1, 'муррайя': 1, 'глория': 1, 'радиаторный': 1, '1807007': 1, 'маяк': 1, 'h7012': 1, '83100': 1, '5512': 1, 'аргирантерум': 1, 'левка': 1, 'свитуний': 1, 'johnny': 1, 'flame': 1, 'сердцевина': 1, 'baby': 1, 'doll': 1, 'bordeaux': 1, 'crazytunia': 1, 'pulse': 1, 'strawberry': 1, 'ice': 1, 'night': 1, 'gem': 1, 'вероника': 1, 'колосковый': 1, 'дихондр': 1, 'калибрахой': 1, 'snowberry': 1, 'вариегэйтид': 1, 'd0503se': 1, 'белокочанный': 1, '3170': 1, 'home': 1, 'art': 1, 'tango': 1, 'рв322': 1, 'afd020': 1, 'мангольд': 1, 'холодок': 1, 'бейби': 1, 'самурай': 1, '749': 1, '753': 1, 'спас': 1, 'награда': 1, 'альба': 1, 'мара': 1, 'буа': 1, 'клерить': 1, 'кибица': 1, 'fuhcsia': 1, 'ярко-розовый': 1, 'маттиола': 1, 'ночной': 1, '4660010770506': 1, 'московский': 1, 'сноуболла': 1, 'стимул': 1, 'кучерявец': 1, 'барбекю': 1, 'бодрость': 1, 'лук': 1, 'порей': 1, 'победитель': 1, 'амтаман': 1, 'грибовский': 1, 'н11': 1, '1703002': 1, 'спэйниш': 1, 'джункус': 1, 'пенсил': 1, 'грасс': 1, 'арбузик': 1, 'бандед': 1, 'амазон': 1, 'белогор': 1, 'реванш': 1, 'виолетта': 1, 'герман': 1, 'персей': 1, 'амазонка': 1, 'жемчужина': 1, 'россиянка': 1, 'драцена': 1, 'фрагранс': 1, 'компакт': 1, 'найф': 1, 'g110at3w': 1, 'par015': 1, 'mandarina': 1, 'g110l03w': 1, 'волгоградец': 1, 'мадонна': 1, 'фараон': 1, 'каролина': 1, 'аргентинский': 1, 'сливка': 1, 'есаул': 1, 'конни': 1, 'магнат': 1, 'форсаж': 1, 'эдельвейс': 1, 'хилариса': 1, 'лемон': 1, 'булка': 1, '12х11': 1, 'imx002': 1, '100х65': 1, 'mhl06': 1, 'хост': 1, '426беж': 1, 'арамис': 1, 'портос': 1, 'смайлик': 1, 'ракета': 1, 'аэронавт': 1, 'горный': 1, 'сосновский': 1, 'скворушка': 1, 'ранний': 1, 'малахит': 1, 'альфа': 1, 'алтай': 1, 'аристократ': 1, 'багратион': 1, 'боярский': 1, 'государь': 1, 'грандесса': 1, 'сердолик': 1, 'дабла': 1, 'делайт': 1, 'лампион': 1, 'бренди': 1, 'шоколадный': 1, 'chocolate': 1, 'rs50': 1, 'pro': 1, 'akl113': 1, 'бьянка': 1, 'вок': 1, '4l10520': 1, 'якорь': 1, 'даша': 1, 'тоффи': 1, 'greenrose': 1, 'тачка': 1, 'e9131': 1, 'h1496': 1, '6033': 1, '154': 1, '179х90х42': 1, '120х180': 1, 'с07': 1, 'гайлардий': 1, 'бергамо': 1, 'нивянник': 1, 'золотинка': 1, 'рудбекия': 1, 'тайгер': 1, 'валик': 1, 'вмм': 1, 'мех': 1, '0703011': 1, 'кадриль': 1, 'компактум': 1, 'дно': 1, 'фт': 1, '2рд': 1, 'r213414': 1, 'обувница': 1, 'квадро': 1, '70000001в': 1, 'снsapfir': 1, 'травянистый': 1, 'очиток': 1, 'видный': 1, 'кристина': 1, 'барвинок': 1, 'r214025': 1, '214х150': 1, 'rq150': 1, 'кармен': 1, 'папилон': 1, 'r211985': 1, 'сн45': 1, 'тюльпановидный': 1, 'ahn261': 1, 'вельсофт': 1, 'вышивка': 1, 'damask': 1, '200x220': 1, '9234567038126': 1, 'mld': 1, 'эстель': 1, '822502': 1, '5698': 1, 'тауэр': 1, 'скальный': 1, 'альпийский': 1, 'бузульник': 1, 'пржевальский': 1, 'кленолистный': 1, 'арендс': 1, 'флорал': 1, 'карпет': 1, 'дипп': 1, 'ватер': 1, 'плетистый': 1, 'шванензей': 1, 'мими': 1, 'амнезия': 1, 'парфюм': 1, 'дежавю': 1, 'биг': 1, 'перпл': 1, 'эдванс': 1, 'солидаго': 1, 'физостегия': 1, 'вергинский': 1, 'брюссельский': 1, 'зонтик': 1, '760': 1, 'jar760': 1, 'бадан': 1, 'сердцелистный': 1, 'тенистый': 1, 'лен': 1, 'небесный': 1, 'лазурь': 1, 'balzo': 1, '762': 1, '3885': 1, 'p48': 1, '4607101069088': 1, 'stiramaniche': 1, '53х13': 1, 'b138lgpw': 1, 'антинакипин': 1, 'ампула': 1, 'un': 1, 'momento': 1, '4627096350107': 1, '60х50х35': 1, 'aa003': 1, '4314108': 1, 'plegamatic': 1, 'orbita': 1, 'gloriaфиолетовая': 1, 'ple055': 1, 'plegable': 1, 'h4702': 1, '1.0': 1, '100м': 1, 'бобина': 1, 'размотка': 1, 'изнутри': 1, '1201143': 1, '57373': 1, '1804049': 1, '1110212': 1, '055': 1, 'deluxe': 1, '81530': 1, 'лион': 1, 'вязь': 1, '2060': 1, '0503sel': 1, '1505027': 1, 'магда': 1, 'h8579': 1, 'ahm751': 1, '5х53': 1, '83305': 1, 'сотейник': 1, 'хo': 1, '4l324242915201': 1, 'н9': 1, 'вл869': 1, 'ahs711': 1, '36х140': 1, 'шарик': 1, '1103068': 1, 'ободок': 1, '7010': 1, '821679': 1, '5700': 1, 'rotor': 1, '6196': 1, 'аспенный': 1, 'h4121': 1, 'atlas': 1, '120x200': 1, '4005719': 1, '350s': 1, 'нобилис': 1, '1401118': 1, 'shadow': 1, 'бэррис': 1, 'энд': 1, 'крим': 1, 'грэйпфрут': 1, 'строуберри': 1, 'пуф': 1, 'пожарный': 1, 'машинка': 1, '55х26х31': 1, 'ot00285': 1, 'лаватер': 1, 'монт': 1, 'блан': 1, '4660010778588': 1, 'лидия': 1, 'девочка': 1, 'анастасия': 1, '20gr': 1, 'цветочный': 1, 'ливия': 1, 'm3140': 1, 'магнитогорск': 1, '1301016': 1, 'буддлей': 1, 'вейер': 1, 'валериана': 1, 'кардиола': 1, 'змееголовник': 1, 'молдавский': 1, 'горыныч': 1, 'марвести': 1, 'сеазонс': 1, 'мовир': 1, '74': 1, 'любисток': 1, 'удалец': 1, 'нежный': 1, 'курительный': 1, 'юбилейный': 1, '142': 1, 'e4': 1, 'нектар': 1, 'teleclip': 1, '83304': 1, '5872': 1, 'корзинка': 1, 'amelia': 1, '401': 1, '115х30': 1, 'ваза': 1, 'g5541': 1, '5885': 1, 'свк102': 1, 'вигн': 1, 'лилиана': 1, 'изумруд': 1, 'закусочный': 1, 'летний': 1, 'солнце': 1, '92': 1, 'крупноплодный': 1, '1406003': 1, '064м': 1, '1502013': 1, 'удлиненный': 1, 'r190236': 1, 'a4': 1, '00778': 1, 'врезной': 1, 'почта': 1, '1205250': 1, '520109': 1, 'хамедорей': 1, 'flower': 1, 'st798': 1, 'элк': 1, 'класс': 1, 'плюс': 1, '123304': 1, '20826': 1, '5374': 1, 'j1754': 1, '1110137': 1, 'белоруссия': 1, '1404049': 1, 'favori': 1, 'level': 1, 'впт11б': 1, 'spring': 1, 'prestige': 1, '9603': 1, 'z027': 1, 'bambus': 1, '1042057': 1, 'calma': 1, 'киви': 1, '1014468': 1, 'focus': 1, '1014213': 1, 'гриб': 1, '4314103': 1, '1404075': 1, 'рд': 1, '00055': 1, '33х24х1': 1, 'four': 1, '1016269': 1, 'азур': 1, 'z029': 1, 'g1529': 1, 'вельвет': 1, 'джэк': 1, 'румба': 1, 'аква': 1, 'блекнуть': 1, 'бакар': 1, 'сатин': 1, 'wpl152': 1, 'прямой': 1, 'ahr141': 1, 'перфорировать': 1, '04742': 1, 'мединилла': 1, 'магнифика': 1, ') , ': 1, '1201013': 1, '427беж': 1, 'отделитель': 1, 'косточка': 1, '37200': 1, '31003': 1, '12s': 1, '1329': 1, 'mаrylin': 1, 'monroe': 1, 'долька': 1, 'поварской': 1, 'циркониевый': 1, 'ак': 1, '2062к': 1, 'p46': 1, 'авто': 1, '4607101069064': 1, '1810064': 1, 'mnb017': 1, 'fucsia': 1, 'ect': 1, '14369': 1, 'пц2913': 1, '1404051': 1, 'hava': 1, 'пикник': 1, 'персона': 1, '4380940': 1, 'лауретта': 1, '21719': 1, 'пиано': 1, '6009': 1, '1.2': 1, 'ками': 1, 'груп': 1, '1201104': 1, 'шприц': 1, '0331': 1, 'стерилизация': 1, '1514008': 1, 'g8494': 1, 't101': 1, '25кг': 1, 'импатиенс': 1, 'нью': 1, 'гвинея': 1, 'п67': 1, '98h98v060': 1, '01338': 1, 'cotton': 1, 'защелка': 1, '72322': 1, 'asteria': 1, '100101': 1, 'с125': 1, '1404040': 1, 'т125': 1, '30кг': 1, '125х40': 1, 'leifneit': 1, 'арт': 1, '72373': 1, 'ложноплатановый': 1, 'леопольди': 1, 'пластмасовой': 1, 'больший': 1, '5.0': 1, 'р1673': 1, '1524004': 1, 'trendy': 1, 'act033': 1, '60х24': 1, '3х60': 1, '3013': 1, '8л': 1, '21008': 1, 'atos': 1, '1201031': 1, 'варение': 1, '037': 1, '1502083': 1, 'hugo': 1, '1001951': 1, '95х55': 1, '1803003': 1, 'telefix': 1, 'jea021': 1, '141': 1, 'кейс': 1, 'кузьмич': 1, 'ник': 1, 'гигиенический': 1, 'впитывание': 1, 'антибактериальный': 1, '40000': 1, 'avex0776': 1, 'rollquick': 1, '4.2': 1, '83006': 1, 'замиокулькас': 1, 'отбеливатель': 1, 'пероксоль': 1, '4670008040078': 1, 'сахарница': 1, 'blade': 1, 'dm9247': 1, '1401119': 1, 'g110at4w': 1, 'ежевика': 1, 'дсг424020311': 1, '50х30': 1, 'амели': 1, 'профилактика': 1, 'заболевание': 1, 'десна': 1, 'kobayashi': 1, 'кипарис': 1, 'береза': 1, 'япония': 1, '4987072072752': 1, '50х70см': 1, 'alb257': 1, 'море': 1, '821726': 1, '5701': 1, 'сальвадор': 1, '02.021': 1, '46х110': 1, 'авангард': 1, 'боннтяжелый': 1, 'слbonn': 1, '1209024': 1, 'юниор': 1, 'эль': 1, 'петух': 1, 'полина': 1, 'чурленис': 1, 'reflecta': 1, '140х45': 1, '72382': 1, 'sfumature': 1, '4834': 1, 'плектрантус': 1, 'завертка': 1, 'форточный': 1, '1108287': 1, 'торонто': 1, '40х10': 1, '35х10': 1, '30х10': 1, '25х10': 1, '72015': 1, 'мебельный': 1, '1108416': 1, 'чиппендейл': 1, 'чайно': 1, 'восточный': 1, 'край': 1, 'latex': 1, 'free': 1, 'аллергия': 1, '40039': 1, 'darwin': 1, 'hammered': 1, '11х8': 1, '1015330': 1, '200х220': 1, '9234567049108': 1, 'кралье': 1, '1209055': 1, 'амариллис': 1, 'с12128': 1, '1404093': 1, 'derby': 1, 'ass305': 1, '42х15': 1, 'гладкий': 1, '55037': 1, 'стейк': 1, 'akc034': 1, '1205107': 1, 'dusty': 1, '41510': 1, '041': 1, '1502076': 1, 'пьезозажигалка': 1, 'мультиискра': 1, 'тд1': 1, '005в': 1, '140х140': 1, 'ml144': 1, 'блистер': 1, '2235': 1, 'etna': 1, '5х9': 1, '1016116': 1, 'тутти-фрутти': 1, '30001': 1, '1502124': 1, 'италия': 1, '40х14х10': 1, '35х10х10': 1, '30х7х10': 1, '72006': 1, '0399': 1, '2в': 1, 'дождь': 1, '5951': 1, 'э2п': 1, '3202': 1, 'соковыжималка': 1, 'цитрусовый': 1, 'ots131421': 1, '34х34': 1, 'дакка': 1, 'r20030a': 1, 'внт3': 1, 'решетка': 1, 'вентиляционный': 1, 'золото': 1, '17х17': 1, '1710035': 1, 'запасный': 1, 'черно-белый': 1, '1021464': 1, 'dressfix': 1, '140х40': 1, 'жасмин': 1, '72328': 1, 'сыр': 1, '03148': 1, 'plush': 1, 'vanilla': 1, 'нейлон': 1, '60х102': 1, 'ванильный': 1, '4683': 1, 'fc': 1, '51001d': 1, '214': 1, 'rp200': 1, 'ваниль': 1, '21560': 1, 'персия': 1, 'бордо': 1, '5606': 1, 'камилла': 1, 'гжель': 1, 'дракон': 1, 'земляничный': 1, 'суфле': 1, 'катенька': 1, 'катюша': 1, 'мотив': 1, '2252d': 1, 'fine': 1, 'специальный': 1, '40026': 1, 'bora': 1, 'n': 1, 'jet007': 1, '100х100': 1, '1109038': 1, '4660010776553': 1, 'дикий': 1, 'оливетта': 1, '4660010776898': 1, 'сицилия': 1, '4660010772852': 1, 'см5': 1, 'мисс': 1, 'джесоп': 1, 'evec0085': 1, '3201': 1, '4.5': 1, 'shaggy': 1, '70х100см': 1, '603001': 1, '003': 1, '36х57': 1, '5795': 1, 'лить': 1, 'чин': 1, 'хедер': 1, 'листва': 1, 'rosette': 1, 'adr131': 1, 'рязанский': 1, 'siena': 1, '81151': 1, '35х30х33': 1, '00274': 1, 't37': 1, 'x66': 1, 'кафель': 1, 'паркет': 1, 'макси': 1, 'витнетта': 1, 'r212766': 1, '370': 1, '370v': 1, '1428': 1, '5667': 1, 'зола': 1, '1805003': 1, 'трубочка': 1, 'мяч': 1, 'jar501': 1, 'trio': 1, '0706': 1, 'половник': 1, 'agb305': 1, '30х40х25': 1, 'asb425': 1, 'август': 1, 'луиза': 1, 'вальс': 1, 'татьяна': 1, 'т31': 1, 'jet027': 1, 'family': 1, '56710': 1, 'wilmax': 1, 'wl': 1, '996004': 1, 'w185': 1, 'фимако': 1, 'плетеный': 1, 'хлеб': 1, 'кусок': 1, '13х10': 1, 'stabil': 1, '71816': 1, 'кипятильник': 1, '2.5': 1, 'квт': 1, '1601143': 1, '4096': 1, 'т28': 1, 'короткий': 1, '100х60': 1, 'apple': 1, 'хелло': 1, 'китти': 1, 'h5479': 1, 'briz': 1, 'сн': 1, 'ск80': 1, 'складываться': 1, 'parquet': 1, '75x45': 1, 'amc075': 1, 'нежно-розовый': 1, 'темно-фиолетовый': 1, 'rosella': 1, 'ahm781': 1, 'g110l04w': 1, 'пахира': 1, 'акватик': 1, 'мультисть': 1, '1410': 1, 'пуховый': 1, 'пух': 1, '4607101064199': 1, 'ампельнвя': 1, 'pollicino': 1, '73x32': 1, '1404088': 1, 'сатиновый': 1, 'полутороспальный': 1, 'rpe150': 1, 'дримс': 1, '150х214': 1, 'влажный': 1, 'сухой': 1, '40002': 1, 'st460': 1, 'традесканция': 1, 'фанк': 1, 'лк': 1, 'f': 1, 'lk': 1, '40х40': 1, 'wr44t': 1, 'mnb012': 1, 'березка': 1, '8040': 1, '707': 1, 'xxl': 1, 'графитовый': 1, '686': 1, 'st797': 1, 'гранит': 1, '12см': 1, 'n6615': 1, 'luminar': 1, 'marmo': 1, '6027': 1, 'бутылочный': 1, 'y64': 1, '1807002': 1, 'пес': 1, '21417': 1, 'основание': 1, '1601164': 1, 'пекин': 1, '95х17': 1, '5х16': 1, '72017': 1, '1535026': 1, '108266': 1, 'резинопластиковый': 1, '1402018': 1, 'юпитер': 1, '02.012': 1, '38х38х60': 1, '5х38': 1, 'севилья': 1, '5567': 1, 'freudenberg': 1, 'varadero': 1, 'a4p': 1, 'литопс': 1, 'погружной': 1, '5061': 1, 'скорость': 1, 'оля': 1, '1807010': 1, 'скоба': 1, 'рс': 1, 'трибатрон': 1, '1108035': 1, 'капелла': 1, '\\n': 1})\n"
     ]
    }
   ],
   "source": [
    "unique_product = data['product'].unique() #все уникальные значения товаров\n",
    "\n",
    "unique_product_string = ' '.join(unique_product) #Объединение в единую строку\n",
    "\n",
    "lemmas = m.lemmatize(unique_product_string) #применю функцию библиотеки pymystem3\n",
    "\n",
    "print(Counter(lemmas))\n"
   ]
  },
  {
   "cell_type": "code",
   "execution_count": 29,
   "id": "5053a3df",
   "metadata": {},
   "outputs": [],
   "source": [
    "# составления словаря\n",
    "dictinory = {'герань': 'растение', 'циперус': 'растение', 'пеларгония': 'растение', 'томат' : 'съедобное растение' , 'петуния': 'растение',\n",
    "'однолетний': 'растение', 'роза': 'растение', 'калибрахоа': 'растение', 'бакопа': 'растение', 'базилик': 'растение',\n",
    "'дыня': 'съедобное растение', 'мята': 'растение', 'фуксия': 'растение', 'флокс': 'растение', 'эвкалипт': 'растение', 'декабрист': 'растение',\n",
    "'цикламен': 'растение', 'новогодний': 'растение', 'фиалка': 'растение', 'вербена': 'растение', 'арбуз': 'съедобное растение', \n",
    " 'примула': 'растение', 'пуансеттия': 'растение', 'капуста': 'съедобное растение', 'комнатный': 'растение', 'антуриум': 'растение',\n",
    "'циперус': 'растение', 'бальзамин': 'растение', 'колокольчик': 'растение', 'тимьян': 'растение', 'хлорофитум': 'растение',\n",
    "'огурец': 'съедобное растение', 'лобелия': 'растение', 'хризантема': 'растение', 'лаванда': 'растение', 'космея': 'растение', \n",
    "'окномойка': 'растение', 'лавр': 'растение', 'мирт': 'растение', 'бегония': 'растение', 'эхеверия': 'растение', \n",
    "'подарочный': 'растение', 'клубника': 'съедобное растение', 'патиссон': 'растение', 'многолетний': 'растение', 'петрушка': 'растение', \n",
    "'розмарин': 'растение', 'спатифиллум': 'растение', 'мединилла': 'растение', 'дендробиум': 'растение', 'мимоза': 'растение',\n",
    "'аптения': 'растение', 'рассада': 'рассада', 'муляж': 'растение', 'цветок': 'растение', 'сумка': 'хоз. товары', 'тележка': 'хоз. товары', \n",
    "'сушилка': 'хоз. товары', 'настенный': 'хоз. товары', 'таз': 'хоз. товары', 'ерш': 'хоз. товары', 'штора': 'хоз. товары',\n",
    "'гладильный': 'хоз. товары', 'ковер': 'хоз. товары', 'полка': 'хоз. товары', 'стремянка': 'хоз. товары', \n",
    "'карниз': 'хоз. товары', 'лестница': 'хоз. товары','швабра': 'хоз. товары','чайник': 'кухонные приборы','ложка': 'кухонные приборы',\n",
    "'салфетка': 'кухонные приборы','десертный': 'кухонные приборы','кухонный': 'кухонные приборы','обеденный': 'кухонные приборы','посуда': 'кухонные приборы',\n",
    "'посуда': 'кухонные приборы','суповой': 'кухонные приборы','столовый': 'кухонные приборы','минеральный': 'кухонные приборы','средство': 'кухонные приборы',\n",
    "'кухня': 'кухонные приборы','тарелка': 'кухонные приборы','скатерть': 'кухонные приборы','нержавеющий': 'кухонные приборы','круглый': 'кухонные приборы','ассортимент': 'кухонные приборы',\n",
    "'прямоугольный': 'кухонные приборы','салатник': 'кухонные приборы','пищевой': 'кухонные приборы','нож': 'кухонные приборы','стеклянный': 'кухонные приборы','контейнер': 'кухонные приборы',\n",
    "'десертный': 'кухонные приборы','керамический': 'кухонные приборы','чайный': 'кухонные приборы','сковорода': 'кухонные приборы','паста': 'кухонные приборы'}"
   ]
  },
  {
   "cell_type": "code",
   "execution_count": 30,
   "id": "ad93c2e1",
   "metadata": {},
   "outputs": [],
   "source": [
    "# создаем функцию, которая првоеряет в столбце значение из списка, при нахождении значения записывает в столбце категория\n",
    "def choose_group(choose_group):\n",
    "        purpose_list = m.lemmatize(choose_group)\n",
    "        for name in purpose_list: \n",
    "            if name in (dictinory):\n",
    "                purpose_string =  dictinory[name]\n",
    "                return purpose_string\n",
    "            else: purpose_string = 'другое'\n",
    "            return purpose_string \n",
    "\n",
    "#Создам новый столбец и применю к нему функцию\n",
    "data['product_type'] = data['product'].apply(choose_group)"
   ]
  },
  {
   "cell_type": "code",
   "execution_count": 31,
   "id": "fb247e57",
   "metadata": {},
   "outputs": [
    {
     "data": {
      "text/html": [
       "<div>\n",
       "<style scoped>\n",
       "    .dataframe tbody tr th:only-of-type {\n",
       "        vertical-align: middle;\n",
       "    }\n",
       "\n",
       "    .dataframe tbody tr th {\n",
       "        vertical-align: top;\n",
       "    }\n",
       "\n",
       "    .dataframe thead th {\n",
       "        text-align: right;\n",
       "    }\n",
       "</style>\n",
       "<table border=\"1\" class=\"dataframe\">\n",
       "  <thead>\n",
       "    <tr style=\"text-align: right;\">\n",
       "      <th></th>\n",
       "      <th>date</th>\n",
       "      <th>customer_id</th>\n",
       "      <th>order_id</th>\n",
       "      <th>product</th>\n",
       "      <th>quantity</th>\n",
       "      <th>price</th>\n",
       "      <th>year</th>\n",
       "      <th>month</th>\n",
       "      <th>product_type</th>\n",
       "    </tr>\n",
       "  </thead>\n",
       "  <tbody>\n",
       "    <tr>\n",
       "      <th>0</th>\n",
       "      <td>2018-10-01 00:00:00</td>\n",
       "      <td>ee47d746-6d2f-4d3c-9622-c31412542920</td>\n",
       "      <td>68477</td>\n",
       "      <td>комнатное растение в горшке алое вера, d12, h30</td>\n",
       "      <td>1</td>\n",
       "      <td>142.0</td>\n",
       "      <td>2018</td>\n",
       "      <td>10</td>\n",
       "      <td>растение</td>\n",
       "    </tr>\n",
       "    <tr>\n",
       "      <th>1</th>\n",
       "      <td>2018-10-01 00:00:00</td>\n",
       "      <td>ee47d746-6d2f-4d3c-9622-c31412542920</td>\n",
       "      <td>68477</td>\n",
       "      <td>комнатное растение в горшке кофе арабика, d12,...</td>\n",
       "      <td>1</td>\n",
       "      <td>194.0</td>\n",
       "      <td>2018</td>\n",
       "      <td>10</td>\n",
       "      <td>растение</td>\n",
       "    </tr>\n",
       "    <tr>\n",
       "      <th>2</th>\n",
       "      <td>2018-10-01 00:00:00</td>\n",
       "      <td>ee47d746-6d2f-4d3c-9622-c31412542920</td>\n",
       "      <td>68477</td>\n",
       "      <td>радермахера d-12 см h-20 см</td>\n",
       "      <td>1</td>\n",
       "      <td>112.0</td>\n",
       "      <td>2018</td>\n",
       "      <td>10</td>\n",
       "      <td>другое</td>\n",
       "    </tr>\n",
       "    <tr>\n",
       "      <th>3</th>\n",
       "      <td>2018-10-01 00:00:00</td>\n",
       "      <td>ee47d746-6d2f-4d3c-9622-c31412542920</td>\n",
       "      <td>68477</td>\n",
       "      <td>хризолидокарпус лутесценс d-9 см</td>\n",
       "      <td>1</td>\n",
       "      <td>179.0</td>\n",
       "      <td>2018</td>\n",
       "      <td>10</td>\n",
       "      <td>другое</td>\n",
       "    </tr>\n",
       "    <tr>\n",
       "      <th>4</th>\n",
       "      <td>2018-10-01 00:00:00</td>\n",
       "      <td>ee47d746-6d2f-4d3c-9622-c31412542920</td>\n",
       "      <td>68477</td>\n",
       "      <td>циперус зумула d-12 см h-25 см</td>\n",
       "      <td>1</td>\n",
       "      <td>112.0</td>\n",
       "      <td>2018</td>\n",
       "      <td>10</td>\n",
       "      <td>растение</td>\n",
       "    </tr>\n",
       "    <tr>\n",
       "      <th>...</th>\n",
       "      <td>...</td>\n",
       "      <td>...</td>\n",
       "      <td>...</td>\n",
       "      <td>...</td>\n",
       "      <td>...</td>\n",
       "      <td>...</td>\n",
       "      <td>...</td>\n",
       "      <td>...</td>\n",
       "      <td>...</td>\n",
       "    </tr>\n",
       "    <tr>\n",
       "      <th>7380</th>\n",
       "      <td>2020-01-30 21:00:00</td>\n",
       "      <td>63208953-a8e4-4f77-9b47-3a46e7b72eee</td>\n",
       "      <td>104002</td>\n",
       "      <td>томата (помидор) черниченский черри № 116 сорт...</td>\n",
       "      <td>2</td>\n",
       "      <td>38.0</td>\n",
       "      <td>2020</td>\n",
       "      <td>1</td>\n",
       "      <td>съедобное растение</td>\n",
       "    </tr>\n",
       "    <tr>\n",
       "      <th>7381</th>\n",
       "      <td>2020-01-30 22:00:00</td>\n",
       "      <td>d99d25f1-4017-4fcd-8d29-c580cc695a1a</td>\n",
       "      <td>107336</td>\n",
       "      <td>дендробиум санок анна грин 1 ствол d-12 см</td>\n",
       "      <td>1</td>\n",
       "      <td>869.0</td>\n",
       "      <td>2020</td>\n",
       "      <td>1</td>\n",
       "      <td>растение</td>\n",
       "    </tr>\n",
       "    <tr>\n",
       "      <th>7382</th>\n",
       "      <td>2020-01-31 02:00:00</td>\n",
       "      <td>2c9bd08d-8c55-4e7a-9bfb-8c56ba42c6d6</td>\n",
       "      <td>106336</td>\n",
       "      <td>подставка для обуви резиновая attribute 80x40 ...</td>\n",
       "      <td>1</td>\n",
       "      <td>354.0</td>\n",
       "      <td>2020</td>\n",
       "      <td>1</td>\n",
       "      <td>другое</td>\n",
       "    </tr>\n",
       "    <tr>\n",
       "      <th>7383</th>\n",
       "      <td>2020-01-31 12:00:00</td>\n",
       "      <td>cdd17932-623e-415f-a577-3b31312fd0e2</td>\n",
       "      <td>102002</td>\n",
       "      <td>тагетис крупноцветковый рассада однолетних цве...</td>\n",
       "      <td>1</td>\n",
       "      <td>128.0</td>\n",
       "      <td>2020</td>\n",
       "      <td>1</td>\n",
       "      <td>другое</td>\n",
       "    </tr>\n",
       "    <tr>\n",
       "      <th>7384</th>\n",
       "      <td>2020-01-31 15:00:00</td>\n",
       "      <td>2e460a26-35af-453d-a369-a036e95a40e0</td>\n",
       "      <td>103225</td>\n",
       "      <td>вешалка для блузок 41 см красный attribute ahm781</td>\n",
       "      <td>1</td>\n",
       "      <td>104.0</td>\n",
       "      <td>2020</td>\n",
       "      <td>1</td>\n",
       "      <td>другое</td>\n",
       "    </tr>\n",
       "  </tbody>\n",
       "</table>\n",
       "<p>5526 rows × 9 columns</p>\n",
       "</div>"
      ],
      "text/plain": [
       "                    date                           customer_id  order_id  \\\n",
       "0    2018-10-01 00:00:00  ee47d746-6d2f-4d3c-9622-c31412542920     68477   \n",
       "1    2018-10-01 00:00:00  ee47d746-6d2f-4d3c-9622-c31412542920     68477   \n",
       "2    2018-10-01 00:00:00  ee47d746-6d2f-4d3c-9622-c31412542920     68477   \n",
       "3    2018-10-01 00:00:00  ee47d746-6d2f-4d3c-9622-c31412542920     68477   \n",
       "4    2018-10-01 00:00:00  ee47d746-6d2f-4d3c-9622-c31412542920     68477   \n",
       "...                  ...                                   ...       ...   \n",
       "7380 2020-01-30 21:00:00  63208953-a8e4-4f77-9b47-3a46e7b72eee    104002   \n",
       "7381 2020-01-30 22:00:00  d99d25f1-4017-4fcd-8d29-c580cc695a1a    107336   \n",
       "7382 2020-01-31 02:00:00  2c9bd08d-8c55-4e7a-9bfb-8c56ba42c6d6    106336   \n",
       "7383 2020-01-31 12:00:00  cdd17932-623e-415f-a577-3b31312fd0e2    102002   \n",
       "7384 2020-01-31 15:00:00  2e460a26-35af-453d-a369-a036e95a40e0    103225   \n",
       "\n",
       "                                                product  quantity  price  \\\n",
       "0       комнатное растение в горшке алое вера, d12, h30         1  142.0   \n",
       "1     комнатное растение в горшке кофе арабика, d12,...         1  194.0   \n",
       "2                           радермахера d-12 см h-20 см         1  112.0   \n",
       "3                      хризолидокарпус лутесценс d-9 см         1  179.0   \n",
       "4                        циперус зумула d-12 см h-25 см         1  112.0   \n",
       "...                                                 ...       ...    ...   \n",
       "7380  томата (помидор) черниченский черри № 116 сорт...         2   38.0   \n",
       "7381         дендробиум санок анна грин 1 ствол d-12 см         1  869.0   \n",
       "7382  подставка для обуви резиновая attribute 80x40 ...         1  354.0   \n",
       "7383  тагетис крупноцветковый рассада однолетних цве...         1  128.0   \n",
       "7384  вешалка для блузок 41 см красный attribute ahm781         1  104.0   \n",
       "\n",
       "      year  month        product_type  \n",
       "0     2018     10            растение  \n",
       "1     2018     10            растение  \n",
       "2     2018     10              другое  \n",
       "3     2018     10              другое  \n",
       "4     2018     10            растение  \n",
       "...    ...    ...                 ...  \n",
       "7380  2020      1  съедобное растение  \n",
       "7381  2020      1            растение  \n",
       "7382  2020      1              другое  \n",
       "7383  2020      1              другое  \n",
       "7384  2020      1              другое  \n",
       "\n",
       "[5526 rows x 9 columns]"
      ]
     },
     "execution_count": 31,
     "metadata": {},
     "output_type": "execute_result"
    }
   ],
   "source": [
    "data"
   ]
  },
  {
   "cell_type": "markdown",
   "id": "1d08a69d",
   "metadata": {},
   "source": [
    "Выделю основной и дополнительный ассортимент"
   ]
  },
  {
   "cell_type": "markdown",
   "id": "57864f59",
   "metadata": {},
   "source": [
    "Проведу ABC анализ, чтобы определить основной или дополнительный ассортимент"
   ]
  },
  {
   "cell_type": "code",
   "execution_count": 32,
   "id": "5783027c",
   "metadata": {},
   "outputs": [
    {
     "data": {
      "text/html": [
       "<div>\n",
       "<style scoped>\n",
       "    .dataframe tbody tr th:only-of-type {\n",
       "        vertical-align: middle;\n",
       "    }\n",
       "\n",
       "    .dataframe tbody tr th {\n",
       "        vertical-align: top;\n",
       "    }\n",
       "\n",
       "    .dataframe thead th {\n",
       "        text-align: right;\n",
       "    }\n",
       "</style>\n",
       "<table border=\"1\" class=\"dataframe\">\n",
       "  <thead>\n",
       "    <tr style=\"text-align: right;\">\n",
       "      <th></th>\n",
       "      <th>date</th>\n",
       "      <th>customer_id</th>\n",
       "      <th>order_id</th>\n",
       "      <th>product</th>\n",
       "      <th>quantity</th>\n",
       "      <th>price_x</th>\n",
       "      <th>year</th>\n",
       "      <th>month</th>\n",
       "      <th>product_type</th>\n",
       "      <th>price_y</th>\n",
       "      <th>percent</th>\n",
       "      <th>accumulated_percent</th>\n",
       "      <th>abc_group</th>\n",
       "    </tr>\n",
       "  </thead>\n",
       "  <tbody>\n",
       "    <tr>\n",
       "      <th>0</th>\n",
       "      <td>2018-10-01 00:00:00</td>\n",
       "      <td>ee47d746-6d2f-4d3c-9622-c31412542920</td>\n",
       "      <td>68477</td>\n",
       "      <td>комнатное растение в горшке алое вера, d12, h30</td>\n",
       "      <td>1</td>\n",
       "      <td>142.0</td>\n",
       "      <td>2018</td>\n",
       "      <td>10</td>\n",
       "      <td>растение</td>\n",
       "      <td>568.0</td>\n",
       "      <td>0.0196</td>\n",
       "      <td>90.1704</td>\n",
       "      <td>B</td>\n",
       "    </tr>\n",
       "    <tr>\n",
       "      <th>1</th>\n",
       "      <td>2018-10-11 13:00:00</td>\n",
       "      <td>4d59d9e7-55be-43a0-88c4-8e7261c5c6d5</td>\n",
       "      <td>68610</td>\n",
       "      <td>комнатное растение в горшке алое вера, d12, h30</td>\n",
       "      <td>1</td>\n",
       "      <td>142.0</td>\n",
       "      <td>2018</td>\n",
       "      <td>10</td>\n",
       "      <td>растение</td>\n",
       "      <td>568.0</td>\n",
       "      <td>0.0196</td>\n",
       "      <td>90.1704</td>\n",
       "      <td>B</td>\n",
       "    </tr>\n",
       "    <tr>\n",
       "      <th>2</th>\n",
       "      <td>2018-10-18 14:00:00</td>\n",
       "      <td>b371ce80-259a-4bb8-a550-0ebff690e3e1</td>\n",
       "      <td>68682</td>\n",
       "      <td>комнатное растение в горшке алое вера, d12, h30</td>\n",
       "      <td>1</td>\n",
       "      <td>142.0</td>\n",
       "      <td>2018</td>\n",
       "      <td>10</td>\n",
       "      <td>растение</td>\n",
       "      <td>568.0</td>\n",
       "      <td>0.0196</td>\n",
       "      <td>90.1704</td>\n",
       "      <td>B</td>\n",
       "    </tr>\n",
       "    <tr>\n",
       "      <th>3</th>\n",
       "      <td>2019-02-10 10:00:00</td>\n",
       "      <td>0a4e4711-5cb7-4bae-93cf-6731902708de</td>\n",
       "      <td>70186</td>\n",
       "      <td>комнатное растение в горшке алое вера, d12, h30</td>\n",
       "      <td>1</td>\n",
       "      <td>142.0</td>\n",
       "      <td>2019</td>\n",
       "      <td>2</td>\n",
       "      <td>растение</td>\n",
       "      <td>568.0</td>\n",
       "      <td>0.0196</td>\n",
       "      <td>90.1704</td>\n",
       "      <td>B</td>\n",
       "    </tr>\n",
       "    <tr>\n",
       "      <th>4</th>\n",
       "      <td>2018-10-01 00:00:00</td>\n",
       "      <td>ee47d746-6d2f-4d3c-9622-c31412542920</td>\n",
       "      <td>68477</td>\n",
       "      <td>комнатное растение в горшке кофе арабика, d12,...</td>\n",
       "      <td>1</td>\n",
       "      <td>194.0</td>\n",
       "      <td>2018</td>\n",
       "      <td>10</td>\n",
       "      <td>растение</td>\n",
       "      <td>388.0</td>\n",
       "      <td>0.0134</td>\n",
       "      <td>93.5692</td>\n",
       "      <td>B</td>\n",
       "    </tr>\n",
       "    <tr>\n",
       "      <th>...</th>\n",
       "      <td>...</td>\n",
       "      <td>...</td>\n",
       "      <td>...</td>\n",
       "      <td>...</td>\n",
       "      <td>...</td>\n",
       "      <td>...</td>\n",
       "      <td>...</td>\n",
       "      <td>...</td>\n",
       "      <td>...</td>\n",
       "      <td>...</td>\n",
       "      <td>...</td>\n",
       "      <td>...</td>\n",
       "      <td>...</td>\n",
       "    </tr>\n",
       "    <tr>\n",
       "      <th>5521</th>\n",
       "      <td>2019-11-25 01:00:00</td>\n",
       "      <td>95d6ad00-1c3a-492d-82d7-40a482334a6e</td>\n",
       "      <td>103221</td>\n",
       "      <td>миксер электрический погружной delta dl-5061 б...</td>\n",
       "      <td>2</td>\n",
       "      <td>959.0</td>\n",
       "      <td>2019</td>\n",
       "      <td>11</td>\n",
       "      <td>другое</td>\n",
       "      <td>959.0</td>\n",
       "      <td>0.0332</td>\n",
       "      <td>83.5422</td>\n",
       "      <td>B</td>\n",
       "    </tr>\n",
       "    <tr>\n",
       "      <th>5522</th>\n",
       "      <td>2019-12-03 07:00:00</td>\n",
       "      <td>d7e993fe-b99e-411a-8dcb-f6abaf50a2a2</td>\n",
       "      <td>108589</td>\n",
       "      <td>щетка для посуды *оля*, мультипласт 1807010</td>\n",
       "      <td>1</td>\n",
       "      <td>26.0</td>\n",
       "      <td>2019</td>\n",
       "      <td>12</td>\n",
       "      <td>другое</td>\n",
       "      <td>26.0</td>\n",
       "      <td>0.0009</td>\n",
       "      <td>99.9615</td>\n",
       "      <td>C</td>\n",
       "    </tr>\n",
       "    <tr>\n",
       "      <th>5523</th>\n",
       "      <td>2019-12-21 15:00:00</td>\n",
       "      <td>9a1c5133-891a-4f70-85ec-e07f0ba3ec48</td>\n",
       "      <td>111100</td>\n",
       "      <td>ручка-скоба рс-100 белая *трибатрон*, 1108035</td>\n",
       "      <td>1</td>\n",
       "      <td>29.0</td>\n",
       "      <td>2019</td>\n",
       "      <td>12</td>\n",
       "      <td>другое</td>\n",
       "      <td>29.0</td>\n",
       "      <td>0.0010</td>\n",
       "      <td>99.9478</td>\n",
       "      <td>C</td>\n",
       "    </tr>\n",
       "    <tr>\n",
       "      <th>5524</th>\n",
       "      <td>2020-01-03 20:00:00</td>\n",
       "      <td>c8682085-541f-41b7-9ae1-263284a492f4</td>\n",
       "      <td>111735</td>\n",
       "      <td>шеффлера голд капелла d-12 см h-25 см</td>\n",
       "      <td>1</td>\n",
       "      <td>149.0</td>\n",
       "      <td>2020</td>\n",
       "      <td>1</td>\n",
       "      <td>другое</td>\n",
       "      <td>149.0</td>\n",
       "      <td>0.0052</td>\n",
       "      <td>98.3209</td>\n",
       "      <td>C</td>\n",
       "    </tr>\n",
       "    <tr>\n",
       "      <th>5525</th>\n",
       "      <td>2020-01-17 11:00:00</td>\n",
       "      <td>6f977064-ebcb-45d0-9115-4c641341fcc8</td>\n",
       "      <td>102825</td>\n",
       "      <td>сумка-тележка хозяйственная rolser bab010 rojo...</td>\n",
       "      <td>1</td>\n",
       "      <td>4139.0</td>\n",
       "      <td>2020</td>\n",
       "      <td>1</td>\n",
       "      <td>хоз. товары</td>\n",
       "      <td>4139.0</td>\n",
       "      <td>0.1432</td>\n",
       "      <td>48.9042</td>\n",
       "      <td>A</td>\n",
       "    </tr>\n",
       "  </tbody>\n",
       "</table>\n",
       "<p>5526 rows × 13 columns</p>\n",
       "</div>"
      ],
      "text/plain": [
       "                    date                           customer_id  order_id  \\\n",
       "0    2018-10-01 00:00:00  ee47d746-6d2f-4d3c-9622-c31412542920     68477   \n",
       "1    2018-10-11 13:00:00  4d59d9e7-55be-43a0-88c4-8e7261c5c6d5     68610   \n",
       "2    2018-10-18 14:00:00  b371ce80-259a-4bb8-a550-0ebff690e3e1     68682   \n",
       "3    2019-02-10 10:00:00  0a4e4711-5cb7-4bae-93cf-6731902708de     70186   \n",
       "4    2018-10-01 00:00:00  ee47d746-6d2f-4d3c-9622-c31412542920     68477   \n",
       "...                  ...                                   ...       ...   \n",
       "5521 2019-11-25 01:00:00  95d6ad00-1c3a-492d-82d7-40a482334a6e    103221   \n",
       "5522 2019-12-03 07:00:00  d7e993fe-b99e-411a-8dcb-f6abaf50a2a2    108589   \n",
       "5523 2019-12-21 15:00:00  9a1c5133-891a-4f70-85ec-e07f0ba3ec48    111100   \n",
       "5524 2020-01-03 20:00:00  c8682085-541f-41b7-9ae1-263284a492f4    111735   \n",
       "5525 2020-01-17 11:00:00  6f977064-ebcb-45d0-9115-4c641341fcc8    102825   \n",
       "\n",
       "                                                product  quantity  price_x  \\\n",
       "0       комнатное растение в горшке алое вера, d12, h30         1    142.0   \n",
       "1       комнатное растение в горшке алое вера, d12, h30         1    142.0   \n",
       "2       комнатное растение в горшке алое вера, d12, h30         1    142.0   \n",
       "3       комнатное растение в горшке алое вера, d12, h30         1    142.0   \n",
       "4     комнатное растение в горшке кофе арабика, d12,...         1    194.0   \n",
       "...                                                 ...       ...      ...   \n",
       "5521  миксер электрический погружной delta dl-5061 б...         2    959.0   \n",
       "5522        щетка для посуды *оля*, мультипласт 1807010         1     26.0   \n",
       "5523      ручка-скоба рс-100 белая *трибатрон*, 1108035         1     29.0   \n",
       "5524              шеффлера голд капелла d-12 см h-25 см         1    149.0   \n",
       "5525  сумка-тележка хозяйственная rolser bab010 rojo...         1   4139.0   \n",
       "\n",
       "      year  month product_type  price_y  percent  accumulated_percent  \\\n",
       "0     2018     10     растение    568.0   0.0196              90.1704   \n",
       "1     2018     10     растение    568.0   0.0196              90.1704   \n",
       "2     2018     10     растение    568.0   0.0196              90.1704   \n",
       "3     2019      2     растение    568.0   0.0196              90.1704   \n",
       "4     2018     10     растение    388.0   0.0134              93.5692   \n",
       "...    ...    ...          ...      ...      ...                  ...   \n",
       "5521  2019     11       другое    959.0   0.0332              83.5422   \n",
       "5522  2019     12       другое     26.0   0.0009              99.9615   \n",
       "5523  2019     12       другое     29.0   0.0010              99.9478   \n",
       "5524  2020      1       другое    149.0   0.0052              98.3209   \n",
       "5525  2020      1  хоз. товары   4139.0   0.1432              48.9042   \n",
       "\n",
       "     abc_group  \n",
       "0            B  \n",
       "1            B  \n",
       "2            B  \n",
       "3            B  \n",
       "4            B  \n",
       "...        ...  \n",
       "5521         B  \n",
       "5522         C  \n",
       "5523         C  \n",
       "5524         C  \n",
       "5525         A  \n",
       "\n",
       "[5526 rows x 13 columns]"
      ]
     },
     "metadata": {},
     "output_type": "display_data"
    },
    {
     "data": {
      "text/html": [
       "<div>\n",
       "<style scoped>\n",
       "    .dataframe tbody tr th:only-of-type {\n",
       "        vertical-align: middle;\n",
       "    }\n",
       "\n",
       "    .dataframe tbody tr th {\n",
       "        vertical-align: top;\n",
       "    }\n",
       "\n",
       "    .dataframe thead th {\n",
       "        text-align: right;\n",
       "    }\n",
       "</style>\n",
       "<table border=\"1\" class=\"dataframe\">\n",
       "  <thead>\n",
       "    <tr style=\"text-align: right;\">\n",
       "      <th></th>\n",
       "      <th>product</th>\n",
       "      <th>price</th>\n",
       "      <th>percent</th>\n",
       "      <th>accumulated_percent</th>\n",
       "      <th>abc_group</th>\n",
       "    </tr>\n",
       "  </thead>\n",
       "  <tbody>\n",
       "    <tr>\n",
       "      <th>0</th>\n",
       "      <td>сумка-тележка 2-х колесная gimi argo синяя</td>\n",
       "      <td>50405.0</td>\n",
       "      <td>1.7436</td>\n",
       "      <td>1.7436</td>\n",
       "      <td>A</td>\n",
       "    </tr>\n",
       "    <tr>\n",
       "      <th>1</th>\n",
       "      <td>сумка-тележка хозяйственная andersen scala sho...</td>\n",
       "      <td>28045.0</td>\n",
       "      <td>0.9701</td>\n",
       "      <td>2.7137</td>\n",
       "      <td>A</td>\n",
       "    </tr>\n",
       "    <tr>\n",
       "      <th>2</th>\n",
       "      <td>сушилка meliconi stendy junior</td>\n",
       "      <td>27970.0</td>\n",
       "      <td>0.9675</td>\n",
       "      <td>3.6812</td>\n",
       "      <td>A</td>\n",
       "    </tr>\n",
       "    <tr>\n",
       "      <th>3</th>\n",
       "      <td>сумка-тележка хозяйственная rolser pack gloria...</td>\n",
       "      <td>19674.0</td>\n",
       "      <td>0.6805</td>\n",
       "      <td>4.3617</td>\n",
       "      <td>A</td>\n",
       "    </tr>\n",
       "    <tr>\n",
       "      <th>4</th>\n",
       "      <td>сумка-тележка 2-х колесная gimi galaxy черная</td>\n",
       "      <td>19568.0</td>\n",
       "      <td>0.6769</td>\n",
       "      <td>5.0386</td>\n",
       "      <td>A</td>\n",
       "    </tr>\n",
       "    <tr>\n",
       "      <th>...</th>\n",
       "      <td>...</td>\n",
       "      <td>...</td>\n",
       "      <td>...</td>\n",
       "      <td>...</td>\n",
       "      <td>...</td>\n",
       "    </tr>\n",
       "    <tr>\n",
       "      <th>2318</th>\n",
       "      <td>петрушка итальянский гигант 2 г 4660010776553</td>\n",
       "      <td>10.0</td>\n",
       "      <td>0.0003</td>\n",
       "      <td>99.9996</td>\n",
       "      <td>C</td>\n",
       "    </tr>\n",
       "    <tr>\n",
       "      <th>2319</th>\n",
       "      <td>цинния коралловая красавица 0,2 г 4660010773323</td>\n",
       "      <td>10.0</td>\n",
       "      <td>0.0003</td>\n",
       "      <td>99.9999</td>\n",
       "      <td>C</td>\n",
       "    </tr>\n",
       "    <tr>\n",
       "      <th>2320</th>\n",
       "      <td>цинния оранжевый король 0,5 г 4660010770520</td>\n",
       "      <td>10.0</td>\n",
       "      <td>0.0003</td>\n",
       "      <td>100.0002</td>\n",
       "      <td>C</td>\n",
       "    </tr>\n",
       "    <tr>\n",
       "      <th>2321</th>\n",
       "      <td>огурец засолочный 0,3 г 4660010776102</td>\n",
       "      <td>10.0</td>\n",
       "      <td>0.0003</td>\n",
       "      <td>100.0005</td>\n",
       "      <td>C</td>\n",
       "    </tr>\n",
       "    <tr>\n",
       "      <th>2322</th>\n",
       "      <td>горох амброзия 10,0 г 4660010772616</td>\n",
       "      <td>9.0</td>\n",
       "      <td>0.0003</td>\n",
       "      <td>100.0008</td>\n",
       "      <td>C</td>\n",
       "    </tr>\n",
       "  </tbody>\n",
       "</table>\n",
       "<p>2323 rows × 5 columns</p>\n",
       "</div>"
      ],
      "text/plain": [
       "                                                product    price  percent  \\\n",
       "0            сумка-тележка 2-х колесная gimi argo синяя  50405.0   1.7436   \n",
       "1     сумка-тележка хозяйственная andersen scala sho...  28045.0   0.9701   \n",
       "2                        сушилка meliconi stendy junior  27970.0   0.9675   \n",
       "3     сумка-тележка хозяйственная rolser pack gloria...  19674.0   0.6805   \n",
       "4         сумка-тележка 2-х колесная gimi galaxy черная  19568.0   0.6769   \n",
       "...                                                 ...      ...      ...   \n",
       "2318      петрушка итальянский гигант 2 г 4660010776553     10.0   0.0003   \n",
       "2319    цинния коралловая красавица 0,2 г 4660010773323     10.0   0.0003   \n",
       "2320        цинния оранжевый король 0,5 г 4660010770520     10.0   0.0003   \n",
       "2321              огурец засолочный 0,3 г 4660010776102     10.0   0.0003   \n",
       "2322                горох амброзия 10,0 г 4660010772616      9.0   0.0003   \n",
       "\n",
       "      accumulated_percent abc_group  \n",
       "0                  1.7436         A  \n",
       "1                  2.7137         A  \n",
       "2                  3.6812         A  \n",
       "3                  4.3617         A  \n",
       "4                  5.0386         A  \n",
       "...                   ...       ...  \n",
       "2318              99.9996         C  \n",
       "2319              99.9999         C  \n",
       "2320             100.0002         C  \n",
       "2321             100.0005         C  \n",
       "2322             100.0008         C  \n",
       "\n",
       "[2323 rows x 5 columns]"
      ]
     },
     "execution_count": 32,
     "metadata": {},
     "output_type": "execute_result"
    }
   ],
   "source": [
    "# создаем сводную таблицу category_abc, строки - товары, значения - сумма выручки\n",
    "category_abc_price = data.pivot_table(index = 'product', values = 'price', \n",
    "              aggfunc = 'sum').sort_values(by='price', ascending=False)\n",
    "\n",
    "# добавляем таблицу столбец percent с процентом выручки товара\n",
    "category_abc_price['percent']=round((category_abc_price['price']/\n",
    "                               sum(category_abc_price['price']))*100,4)\n",
    "\n",
    "# расчитываем накомпительный процент выручки - столбец accumulated_percent\n",
    "category_abc_price['accumulated_percent']=category_abc_price['percent'].cumsum()\n",
    "\n",
    "# присваиваем группу ABC по накопленному процент выручки\n",
    "category_abc_price['abc_group'] = category_abc_price['accumulated_percent'].apply(lambda abc: \n",
    "              'A' if abc < 80 else('B' if  80 <= abc < 95 else 'C'))\n",
    "\n",
    "category_abc_price = category_abc_price.reset_index()\n",
    "#display(data)\n",
    "#category_abc_price\n",
    "\n",
    "data = data.merge(category_abc_price, on='product')\n",
    "display(data)\n",
    "category_abc_price\n"
   ]
  },
  {
   "cell_type": "code",
   "execution_count": 33,
   "id": "48b50747",
   "metadata": {},
   "outputs": [
    {
     "data": {
      "text/plain": [
       "abc_group\n",
       "A    2183\n",
       "C    1673\n",
       "B    1670\n",
       "Name: count, dtype: int64"
      ]
     },
     "execution_count": 33,
     "metadata": {},
     "output_type": "execute_result"
    }
   ],
   "source": [
    "data['abc_group'].value_counts()"
   ]
  },
  {
   "cell_type": "markdown",
   "id": "1c5d38b9",
   "metadata": {},
   "source": [
    "A - основная ктегероия, B - второстепенная, С - дополнительная"
   ]
  },
  {
   "cell_type": "code",
   "execution_count": 34,
   "id": "8e831998",
   "metadata": {},
   "outputs": [],
   "source": [
    "#data['type_grade'] = data['product_type'].apply(lambda x:\"дополнительный\" if x =='другое' else 'основной')"
   ]
  },
  {
   "cell_type": "markdown",
   "id": "7df7715c",
   "metadata": {},
   "source": [
    "Найду самый популярный тип продуктов"
   ]
  },
  {
   "cell_type": "code",
   "execution_count": 35,
   "id": "981995cf",
   "metadata": {},
   "outputs": [
    {
     "data": {
      "image/png": "[encoded data removed]",
      "text/plain": [
       "<Figure size 1000x400 with 1 Axes>"
      ]
     },
     "metadata": {},
     "output_type": "display_data"
    }
   ],
   "source": [
    "quantity_data = data.pivot_table(index = 'product_type', values = 'quantity', aggfunc = 'count')\n",
    "quantity_data = quantity_data.reset_index()\n",
    "quantity_data.columns = ('product_type','quantity')\n",
    "quantity_data = quantity_data.sort_values(by = 'quantity',ascending = False)\n",
    "\n",
    "\n",
    "sns.set_style('dark')\n",
    "plt.figure(figsize=(10, 4))\n",
    "\n",
    "sns.barplot(x='product_type', y = 'quantity',data=quantity_data)\n",
    "plt.xticks(rotation=45)\n",
    "plt.title('Самые популярные товары по типу',size = 13)\n",
    "plt.xlabel('Тип товара',size = 13)\n",
    "plt.ylabel('Количество продаж',size = 13)\n",
    "#plt.grid()\n",
    "plt.show()"
   ]
  },
  {
   "cell_type": "markdown",
   "id": "5d57ab80",
   "metadata": {},
   "source": [
    "Растение, хоз товары и прочие стали самыми популярными типами"
   ]
  },
  {
   "cell_type": "markdown",
   "id": "07fb9a92",
   "metadata": {},
   "source": [
    "Найду самые дорогие типы продуктов по средней цене"
   ]
  },
  {
   "cell_type": "code",
   "execution_count": 36,
   "id": "acb92471",
   "metadata": {},
   "outputs": [
    {
     "data": {
      "text/html": [
       "<div>\n",
       "<style scoped>\n",
       "    .dataframe tbody tr th:only-of-type {\n",
       "        vertical-align: middle;\n",
       "    }\n",
       "\n",
       "    .dataframe tbody tr th {\n",
       "        vertical-align: top;\n",
       "    }\n",
       "\n",
       "    .dataframe thead th {\n",
       "        text-align: right;\n",
       "    }\n",
       "</style>\n",
       "<table border=\"1\" class=\"dataframe\">\n",
       "  <thead>\n",
       "    <tr style=\"text-align: right;\">\n",
       "      <th></th>\n",
       "      <th>product_type</th>\n",
       "      <th>price_x</th>\n",
       "    </tr>\n",
       "  </thead>\n",
       "  <tbody>\n",
       "    <tr>\n",
       "      <th>5</th>\n",
       "      <td>хоз. товары</td>\n",
       "      <td>1049.0</td>\n",
       "    </tr>\n",
       "    <tr>\n",
       "      <th>1</th>\n",
       "      <td>кухонные приборы</td>\n",
       "      <td>202.0</td>\n",
       "    </tr>\n",
       "    <tr>\n",
       "      <th>0</th>\n",
       "      <td>другое</td>\n",
       "      <td>194.0</td>\n",
       "    </tr>\n",
       "    <tr>\n",
       "      <th>3</th>\n",
       "      <td>растение</td>\n",
       "      <td>135.0</td>\n",
       "    </tr>\n",
       "    <tr>\n",
       "      <th>2</th>\n",
       "      <td>рассада</td>\n",
       "      <td>120.0</td>\n",
       "    </tr>\n",
       "    <tr>\n",
       "      <th>4</th>\n",
       "      <td>съедобное растение</td>\n",
       "      <td>38.0</td>\n",
       "    </tr>\n",
       "  </tbody>\n",
       "</table>\n",
       "</div>"
      ],
      "text/plain": [
       "         product_type  price_x\n",
       "5         хоз. товары   1049.0\n",
       "1    кухонные приборы    202.0\n",
       "0              другое    194.0\n",
       "3            растение    135.0\n",
       "2             рассада    120.0\n",
       "4  съедобное растение     38.0"
      ]
     },
     "metadata": {},
     "output_type": "display_data"
    }
   ],
   "source": [
    "quantity_data = data.pivot_table(index = 'product_type', values = 'price_x', aggfunc = 'median')\n",
    "quantity_data = quantity_data.reset_index()\n",
    "quantity_data.columns = ('product_type','price_x')\n",
    "quantity_data = quantity_data.sort_values(by = 'price_x',ascending = False)\n",
    "\n",
    "display(quantity_data)"
   ]
  },
  {
   "cell_type": "markdown",
   "id": "8cadbb7c",
   "metadata": {},
   "source": [
    "Хоз товары стали самыми дороги по медиане"
   ]
  },
  {
   "cell_type": "markdown",
   "id": "a43a437b",
   "metadata": {},
   "source": [
    "найду тип товара, который принес самую большую сумму за все продажи"
   ]
  },
  {
   "cell_type": "code",
   "execution_count": 37,
   "id": "f925d0eb",
   "metadata": {},
   "outputs": [
    {
     "data": {
      "text/html": [
       "<div>\n",
       "<style scoped>\n",
       "    .dataframe tbody tr th:only-of-type {\n",
       "        vertical-align: middle;\n",
       "    }\n",
       "\n",
       "    .dataframe tbody tr th {\n",
       "        vertical-align: top;\n",
       "    }\n",
       "\n",
       "    .dataframe thead th {\n",
       "        text-align: right;\n",
       "    }\n",
       "</style>\n",
       "<table border=\"1\" class=\"dataframe\">\n",
       "  <thead>\n",
       "    <tr style=\"text-align: right;\">\n",
       "      <th></th>\n",
       "      <th>product_type</th>\n",
       "      <th>price_x</th>\n",
       "    </tr>\n",
       "  </thead>\n",
       "  <tbody>\n",
       "    <tr>\n",
       "      <th>5</th>\n",
       "      <td>хоз. товары</td>\n",
       "      <td>1.688171e+06</td>\n",
       "    </tr>\n",
       "    <tr>\n",
       "      <th>0</th>\n",
       "      <td>другое</td>\n",
       "      <td>7.477248e+05</td>\n",
       "    </tr>\n",
       "    <tr>\n",
       "      <th>3</th>\n",
       "      <td>растение</td>\n",
       "      <td>2.812430e+05</td>\n",
       "    </tr>\n",
       "    <tr>\n",
       "      <th>1</th>\n",
       "      <td>кухонные приборы</td>\n",
       "      <td>1.073740e+05</td>\n",
       "    </tr>\n",
       "    <tr>\n",
       "      <th>2</th>\n",
       "      <td>рассада</td>\n",
       "      <td>5.723150e+04</td>\n",
       "    </tr>\n",
       "    <tr>\n",
       "      <th>4</th>\n",
       "      <td>съедобное растение</td>\n",
       "      <td>9.157000e+03</td>\n",
       "    </tr>\n",
       "  </tbody>\n",
       "</table>\n",
       "</div>"
      ],
      "text/plain": [
       "         product_type       price_x\n",
       "5         хоз. товары  1.688171e+06\n",
       "0              другое  7.477248e+05\n",
       "3            растение  2.812430e+05\n",
       "1    кухонные приборы  1.073740e+05\n",
       "2             рассада  5.723150e+04\n",
       "4  съедобное растение  9.157000e+03"
      ]
     },
     "metadata": {},
     "output_type": "display_data"
    },
    {
     "data": {
      "image/png": "[encoded data removed]",
      "text/plain": [
       "<Figure size 1000x400 with 1 Axes>"
      ]
     },
     "metadata": {},
     "output_type": "display_data"
    }
   ],
   "source": [
    "quantity_data = data.pivot_table(index = 'product_type', values = 'price_x', aggfunc = 'sum')\n",
    "quantity_data = quantity_data.reset_index()\n",
    "quantity_data.columns = ('product_type','price_x')\n",
    "quantity_data = quantity_data.sort_values(by = 'price_x',ascending = False)\n",
    "\n",
    "display(quantity_data)\n",
    "\n",
    "sns.set_style('dark')\n",
    "plt.figure(figsize=(10, 4))\n",
    "\n",
    "sns.barplot(x='product_type', y = 'price_x',data=quantity_data)\n",
    "plt.xticks(rotation=45)\n",
    "plt.title('Типы товаров по общей выручки',size = 13)\n",
    "plt.xlabel('Тип товара',size = 13)\n",
    "plt.ylabel('Выручка',size = 13)\n",
    "#plt.grid()\n",
    "plt.show()"
   ]
  },
  {
   "cell_type": "markdown",
   "id": "45c070d7",
   "metadata": {},
   "source": [
    "Категория хоз товаы - приносит бизнесу больше всего денег"
   ]
  },
  {
   "cell_type": "markdown",
   "id": "f68cd68a",
   "metadata": {},
   "source": [
    "Рассморю соотношения товаров основных и дополнительных"
   ]
  },
  {
   "cell_type": "code",
   "execution_count": 38,
   "id": "75d7a9ec",
   "metadata": {},
   "outputs": [
    {
     "data": {
      "image/png": "[encoded data removed]",
      "text/plain": [
       "<Figure size 1000x400 with 1 Axes>"
      ]
     },
     "metadata": {},
     "output_type": "display_data"
    }
   ],
   "source": [
    "\n",
    "chain_data = data.pivot_table(index = 'abc_group', values = 'quantity', aggfunc = ['count'])\n",
    "chain_data = chain_data.reset_index()\n",
    "\n",
    "chain_data.columns = ('abc_group','count')\n",
    "\n",
    "chain_data = chain_data.sort_values(by = 'count')\n",
    "#display(chain_data)\n",
    "\n",
    "sns.set_style('dark')\n",
    "plt.figure(figsize=(10, 4))\n",
    "\n",
    "plt.pie(chain_data['count'], labels =  chain_data['abc_group'])\n",
    "plt.title('Cоотношение  товаров основных и дополнительных',size = 13)\n",
    "plt.xlabel('',size = 10)\n",
    "plt.ylabel('',size = 10)\n",
    "plt.legend([\"Второстепенные\", \"Дополнительные\",'Основные'],\n",
    "          loc =\"center left\",\n",
    "          bbox_to_anchor =(1, 0, 0.5, 1))\n",
    "plt.show()"
   ]
  },
  {
   "cell_type": "markdown",
   "id": "70da1b7b",
   "metadata": {},
   "source": [
    "Основные товары занимают чуть больше 30% всех товаров"
   ]
  },
  {
   "cell_type": "markdown",
   "id": "b3befbfd",
   "metadata": {},
   "source": [
    "проверю по 5 основным товарам их покупку в разые месяцы"
   ]
  },
  {
   "cell_type": "code",
   "execution_count": 39,
   "id": "ab486f3b",
   "metadata": {},
   "outputs": [
    {
     "data": {
      "text/html": [
       "<div>\n",
       "<style scoped>\n",
       "    .dataframe tbody tr th:only-of-type {\n",
       "        vertical-align: middle;\n",
       "    }\n",
       "\n",
       "    .dataframe tbody tr th {\n",
       "        vertical-align: top;\n",
       "    }\n",
       "\n",
       "    .dataframe thead th {\n",
       "        text-align: right;\n",
       "    }\n",
       "</style>\n",
       "<table border=\"1\" class=\"dataframe\">\n",
       "  <thead>\n",
       "    <tr style=\"text-align: right;\">\n",
       "      <th>product_type</th>\n",
       "      <th>другое</th>\n",
       "      <th>кухонные приборы</th>\n",
       "      <th>рассада</th>\n",
       "      <th>растение</th>\n",
       "      <th>съедобное растение</th>\n",
       "      <th>хоз. товары</th>\n",
       "    </tr>\n",
       "    <tr>\n",
       "      <th>month</th>\n",
       "      <th></th>\n",
       "      <th></th>\n",
       "      <th></th>\n",
       "      <th></th>\n",
       "      <th></th>\n",
       "      <th></th>\n",
       "    </tr>\n",
       "  </thead>\n",
       "  <tbody>\n",
       "    <tr>\n",
       "      <th>1</th>\n",
       "      <td>179.0</td>\n",
       "      <td>40.0</td>\n",
       "      <td>20.0</td>\n",
       "      <td>98.0</td>\n",
       "      <td>17.0</td>\n",
       "      <td>96.0</td>\n",
       "    </tr>\n",
       "    <tr>\n",
       "      <th>2</th>\n",
       "      <td>102.0</td>\n",
       "      <td>22.0</td>\n",
       "      <td>16.0</td>\n",
       "      <td>131.0</td>\n",
       "      <td>NaN</td>\n",
       "      <td>88.0</td>\n",
       "    </tr>\n",
       "    <tr>\n",
       "      <th>3</th>\n",
       "      <td>98.0</td>\n",
       "      <td>13.0</td>\n",
       "      <td>28.0</td>\n",
       "      <td>193.0</td>\n",
       "      <td>1.0</td>\n",
       "      <td>75.0</td>\n",
       "    </tr>\n",
       "    <tr>\n",
       "      <th>4</th>\n",
       "      <td>141.0</td>\n",
       "      <td>5.0</td>\n",
       "      <td>102.0</td>\n",
       "      <td>262.0</td>\n",
       "      <td>94.0</td>\n",
       "      <td>67.0</td>\n",
       "    </tr>\n",
       "    <tr>\n",
       "      <th>5</th>\n",
       "      <td>88.0</td>\n",
       "      <td>8.0</td>\n",
       "      <td>239.0</td>\n",
       "      <td>274.0</td>\n",
       "      <td>73.0</td>\n",
       "      <td>46.0</td>\n",
       "    </tr>\n",
       "    <tr>\n",
       "      <th>6</th>\n",
       "      <td>88.0</td>\n",
       "      <td>6.0</td>\n",
       "      <td>26.0</td>\n",
       "      <td>118.0</td>\n",
       "      <td>3.0</td>\n",
       "      <td>52.0</td>\n",
       "    </tr>\n",
       "    <tr>\n",
       "      <th>7</th>\n",
       "      <td>93.0</td>\n",
       "      <td>5.0</td>\n",
       "      <td>24.0</td>\n",
       "      <td>103.0</td>\n",
       "      <td>19.0</td>\n",
       "      <td>68.0</td>\n",
       "    </tr>\n",
       "    <tr>\n",
       "      <th>8</th>\n",
       "      <td>55.0</td>\n",
       "      <td>6.0</td>\n",
       "      <td>7.0</td>\n",
       "      <td>59.0</td>\n",
       "      <td>NaN</td>\n",
       "      <td>72.0</td>\n",
       "    </tr>\n",
       "    <tr>\n",
       "      <th>9</th>\n",
       "      <td>68.0</td>\n",
       "      <td>9.0</td>\n",
       "      <td>9.0</td>\n",
       "      <td>70.0</td>\n",
       "      <td>1.0</td>\n",
       "      <td>60.0</td>\n",
       "    </tr>\n",
       "    <tr>\n",
       "      <th>10</th>\n",
       "      <td>214.0</td>\n",
       "      <td>35.0</td>\n",
       "      <td>21.0</td>\n",
       "      <td>211.0</td>\n",
       "      <td>NaN</td>\n",
       "      <td>214.0</td>\n",
       "    </tr>\n",
       "    <tr>\n",
       "      <th>11</th>\n",
       "      <td>231.0</td>\n",
       "      <td>55.0</td>\n",
       "      <td>16.0</td>\n",
       "      <td>194.0</td>\n",
       "      <td>12.0</td>\n",
       "      <td>135.0</td>\n",
       "    </tr>\n",
       "    <tr>\n",
       "      <th>12</th>\n",
       "      <td>227.0</td>\n",
       "      <td>43.0</td>\n",
       "      <td>16.0</td>\n",
       "      <td>98.0</td>\n",
       "      <td>4.0</td>\n",
       "      <td>163.0</td>\n",
       "    </tr>\n",
       "  </tbody>\n",
       "</table>\n",
       "</div>"
      ],
      "text/plain": [
       "product_type  другое  кухонные приборы  рассада  растение  съедобное растение  \\\n",
       "month                                                                           \n",
       "1              179.0              40.0     20.0      98.0                17.0   \n",
       "2              102.0              22.0     16.0     131.0                 NaN   \n",
       "3               98.0              13.0     28.0     193.0                 1.0   \n",
       "4              141.0               5.0    102.0     262.0                94.0   \n",
       "5               88.0               8.0    239.0     274.0                73.0   \n",
       "6               88.0               6.0     26.0     118.0                 3.0   \n",
       "7               93.0               5.0     24.0     103.0                19.0   \n",
       "8               55.0               6.0      7.0      59.0                 NaN   \n",
       "9               68.0               9.0      9.0      70.0                 1.0   \n",
       "10             214.0              35.0     21.0     211.0                 NaN   \n",
       "11             231.0              55.0     16.0     194.0                12.0   \n",
       "12             227.0              43.0     16.0      98.0                 4.0   \n",
       "\n",
       "product_type  хоз. товары  \n",
       "month                      \n",
       "1                    96.0  \n",
       "2                    88.0  \n",
       "3                    75.0  \n",
       "4                    67.0  \n",
       "5                    46.0  \n",
       "6                    52.0  \n",
       "7                    68.0  \n",
       "8                    72.0  \n",
       "9                    60.0  \n",
       "10                  214.0  \n",
       "11                  135.0  \n",
       "12                  163.0  "
      ]
     },
     "metadata": {},
     "output_type": "display_data"
    },
    {
     "data": {
      "text/plain": [
       "<Figure size 1000x400 with 0 Axes>"
      ]
     },
     "metadata": {},
     "output_type": "display_data"
    },
    {
     "data": {
      "image/png": "[encoded data removed]",
      "text/plain": [
       "<Figure size 640x480 with 1 Axes>"
      ]
     },
     "metadata": {},
     "output_type": "display_data"
    }
   ],
   "source": [
    "\n",
    "date_data = data.pivot_table(index = 'month',columns = 'product_type', values = 'quantity', aggfunc = 'count')\n",
    "#date_data = date_data.reset_index()\n",
    "#date_data.columns = ('month','count')\n",
    "#date_data = date_data.sort_values(by = 'quantity',ascending = False)\n",
    "display(date_data)\n",
    "\n",
    "sns.set_style('dark')\n",
    "plt.figure(figsize=(10, 4))\n",
    "\n",
    "date_data.plot.bar()\n",
    "plt.title('График количество заказов по месяцу',size = 13)\n",
    "plt.xlabel('Месяц',size = 13)\n",
    "plt.ylabel('Количество',size = 13)\n",
    "#plt.grid()\n",
    "plt.show()"
   ]
  },
  {
   "cell_type": "markdown",
   "id": "ce61e0fe",
   "metadata": {},
   "source": [
    "- с января по мая сильно растет популярность расстений, потом этот показатель падает и снова популярен в октябре и ноябре\n",
    "- рассада набирает популяность в апреле и достигает максимума в мая\n",
    "- хоз товары в три последние месяцы популярна\n",
    "- съедобные растения в 1,2,4 месяце популярны"
   ]
  },
  {
   "cell_type": "markdown",
   "id": "5d12cd22",
   "metadata": {},
   "source": [
    "Проверю траты по группам"
   ]
  },
  {
   "cell_type": "code",
   "execution_count": 40,
   "id": "c9baf1a6",
   "metadata": {},
   "outputs": [
    {
     "data": {
      "image/png": "[encoded data removed]",
      "text/plain": [
       "<Figure size 1000x400 with 1 Axes>"
      ]
     },
     "metadata": {},
     "output_type": "display_data"
    }
   ],
   "source": [
    "date_data = data.pivot_table(index = 'abc_group', values = 'price_x', aggfunc = 'sum')\n",
    "date_data = date_data.reset_index()\n",
    "date_data.columns = ('abc_group','price_x')\n",
    "#date_data = date_data.sort_values(by = 'count')\n",
    "#display(date_data)\n",
    "\n",
    "sns.set_style('dark')\n",
    "plt.figure(figsize=(10, 4))\n",
    "\n",
    "sns.barplot(x='abc_group', y='price_x', data=date_data) \n",
    "plt.xlabel('Группа',size = 13)\n",
    "plt.ylabel(\"Траты\",size = 13)\n",
    "#plt.grid()\n",
    "plt.show()"
   ]
  },
  {
   "cell_type": "markdown",
   "id": "d0c2dd2b",
   "metadata": {},
   "source": [
    "как мы видим основной зааботок компания получает именно с основной категории"
   ]
  },
  {
   "cell_type": "markdown",
   "id": "a20b8296",
   "metadata": {},
   "source": [
    "Посмотрю количество товаров в категориях в зависимости от типов товара "
   ]
  },
  {
   "cell_type": "code",
   "execution_count": 41,
   "id": "99d4abaf",
   "metadata": {},
   "outputs": [
    {
     "data": {
      "text/html": [
       "<div>\n",
       "<style scoped>\n",
       "    .dataframe tbody tr th:only-of-type {\n",
       "        vertical-align: middle;\n",
       "    }\n",
       "\n",
       "    .dataframe tbody tr th {\n",
       "        vertical-align: top;\n",
       "    }\n",
       "\n",
       "    .dataframe thead th {\n",
       "        text-align: right;\n",
       "    }\n",
       "</style>\n",
       "<table border=\"1\" class=\"dataframe\">\n",
       "  <thead>\n",
       "    <tr style=\"text-align: right;\">\n",
       "      <th>product_type</th>\n",
       "      <th>abc_group</th>\n",
       "      <th>другое</th>\n",
       "      <th>кухонные приборы</th>\n",
       "      <th>рассада</th>\n",
       "      <th>растение</th>\n",
       "      <th>съедобное растение</th>\n",
       "      <th>хоз. товары</th>\n",
       "    </tr>\n",
       "  </thead>\n",
       "  <tbody>\n",
       "    <tr>\n",
       "      <th>0</th>\n",
       "      <td>A</td>\n",
       "      <td>374.0</td>\n",
       "      <td>49.0</td>\n",
       "      <td>48.0</td>\n",
       "      <td>776.0</td>\n",
       "      <td>NaN</td>\n",
       "      <td>936.0</td>\n",
       "    </tr>\n",
       "    <tr>\n",
       "      <th>1</th>\n",
       "      <td>B</td>\n",
       "      <td>559.0</td>\n",
       "      <td>89.0</td>\n",
       "      <td>290.0</td>\n",
       "      <td>576.0</td>\n",
       "      <td>NaN</td>\n",
       "      <td>156.0</td>\n",
       "    </tr>\n",
       "    <tr>\n",
       "      <th>2</th>\n",
       "      <td>C</td>\n",
       "      <td>651.0</td>\n",
       "      <td>109.0</td>\n",
       "      <td>186.0</td>\n",
       "      <td>459.0</td>\n",
       "      <td>224.0</td>\n",
       "      <td>44.0</td>\n",
       "    </tr>\n",
       "  </tbody>\n",
       "</table>\n",
       "</div>"
      ],
      "text/plain": [
       "product_type abc_group  другое  кухонные приборы  рассада  растение  \\\n",
       "0                    A   374.0              49.0     48.0     776.0   \n",
       "1                    B   559.0              89.0    290.0     576.0   \n",
       "2                    C   651.0             109.0    186.0     459.0   \n",
       "\n",
       "product_type  съедобное растение  хоз. товары  \n",
       "0                            NaN        936.0  \n",
       "1                            NaN        156.0  \n",
       "2                          224.0         44.0  "
      ]
     },
     "metadata": {},
     "output_type": "display_data"
    },
    {
     "data": {
      "text/plain": [
       "<Figure size 1000x400 with 0 Axes>"
      ]
     },
     "metadata": {},
     "output_type": "display_data"
    },
    {
     "data": {
      "image/png": "[encoded data removed]",
      "text/plain": [
       "<Figure size 640x480 with 1 Axes>"
      ]
     },
     "metadata": {},
     "output_type": "display_data"
    }
   ],
   "source": [
    "date_data = data.pivot_table(index = 'abc_group',columns = 'product_type', values = 'quantity', aggfunc = 'count')\n",
    "date_data = date_data.reset_index()\n",
    "#date_data = date_data.sort_values(by = 'count')\n",
    "display(date_data)\n",
    "\n",
    "\n",
    "sns.set_style('dark')\n",
    "plt.figure(figsize=(10, 4))\n",
    "\n",
    "date_data.plot.bar()\n",
    "plt.xlabel('Группа',size = 13)\n",
    "plt.ylabel(\"Траты\",size = 13)\n",
    "#plt.grid()\n",
    "plt.show()"
   ]
  },
  {
   "cell_type": "markdown",
   "id": "4dc81653",
   "metadata": {},
   "source": [
    "как мы видим:\n",
    "- В основной категории больше всего хоз товаров и растений\n",
    "- Во второстепенной расстений и прочих\n",
    "- В дополнительной категории в основном прочие продукты и растения"
   ]
  },
  {
   "cell_type": "markdown",
   "id": "7ccac4fa",
   "metadata": {},
   "source": [
    "В ходе анализа торгового ассортимента было сделано:\n",
    "- Разделение товара на категории\n",
    "- Разделение товара на основыной и дополнительный ассотимент\n",
    "- Выявлено растение, хоз товары и прочие стали самыми популярными типами\n",
    "- Категория хоз товары - приносит бизнесу больше всего денег\n",
    "- Основные товары занимают больше 60% всех покупок\n",
    "- с января по мая сильно растет популярность расстений, потом этот показатель падает и снова популярен в октябре и ноябре\n",
    "- рассада набирает популяность в апреле и достигает максимума в мая\n",
    "- хоз товары в три последние месяцы популярна\n",
    "- съедобные растения в 1,2,4 месяце популярны\n",
    "\n",
    "В ходе АВС анализа:\n",
    "- были разделены данные на три категории: Основные, второстепенные и дополнительные\n",
    "- Основные товары занимают чуть больше 30% всех товаров\n",
    "- Основной зааботок компания получает именно с основной категории\n",
    "- Основной категории больше всего хоз товаров и растений\n",
    "- Во второстепенной расстений и прочих\n",
    "- В дополнительной категории в основном прочие продукты и растения"
   ]
  },
  {
   "cell_type": "markdown",
   "id": "0f596891",
   "metadata": {},
   "source": [
    "### Формулировка и проверка гипотез"
   ]
  },
  {
   "cell_type": "markdown",
   "id": "2536a4c5",
   "metadata": {},
   "source": [
    "проверю гипотезу о цене категорий:"
   ]
  },
  {
   "cell_type": "markdown",
   "id": "a41f2081",
   "metadata": {},
   "source": [
    "- H0 - в средней цене между оснонвыми и дополнительными товарами нет разницы\n",
    "- H1 - в средней цене между основными и дополнительными товарами есть разница"
   ]
  },
  {
   "cell_type": "code",
   "execution_count": 42,
   "id": "1f70e600",
   "metadata": {},
   "outputs": [
    {
     "name": "stdout",
     "output_type": "stream",
     "text": [
      "0.000\n",
      "11.237\n"
     ]
    }
   ],
   "source": [
    "print('{0:.3f}'.format(stats.mannwhitneyu(data[data['abc_group']=='A']['price_x'], data[data['abc_group']=='C']['price_x'])[1]))\n",
    "print('{0:.3f}'.format(data[data['abc_group']=='A']['price_x'].mean()/data[data['abc_group']=='C']['price_x'].mean()-1))"
   ]
  },
  {
   "cell_type": "markdown",
   "id": "7c55fa71",
   "metadata": {},
   "source": [
    "- mannwhitneyu получился P-value меньше 0.05 Значит есть причина отвергать нулевую гипотезу и считать, что в среднем чеке есть различия. \n",
    "- Наблюдаемое различие в 11.2% средняя цена основного выше средней цены дополнительного. Является стат. значимым"
   ]
  },
  {
   "cell_type": "markdown",
   "id": "2cd368ef",
   "metadata": {},
   "source": [
    "Проверю гипотезу, что люди которые покупают не первый раз - покупают дороже товаы чем люди которые впервые"
   ]
  },
  {
   "cell_type": "markdown",
   "id": "6bc2c27a",
   "metadata": {},
   "source": [
    "- H0 нет разницы в цене покупаемых товаров между теми кто в певый раз и не первый\n",
    "- H1 в средней цене между покупателями которые покупают впервые и не впервые есть разница"
   ]
  },
  {
   "cell_type": "markdown",
   "id": "866949ac",
   "metadata": {},
   "source": [
    "Создам новый столбец, в котором будет отмечаться новый пользовательили нет"
   ]
  },
  {
   "cell_type": "code",
   "execution_count": 43,
   "id": "a8cf3762",
   "metadata": {},
   "outputs": [],
   "source": [
    "data_more_2 = data.pivot_table(index = 'customer_id',values = 'quantity', aggfunc = ('count'))\n",
    "data_more_2 = data_more_2.reset_index()\n",
    "data_more_2.columns = ('customer_id','count')\n",
    "data_more_2 = data_more_2.sort_values(by = 'count',ascending = False)\n",
    "data_more_2 = data_more_2[data_more_2['count']>1]\n",
    "data_more_2\n",
    "\n",
    "\n",
    "data['new_customer'] = data['customer_id'].apply(lambda x:\"Не новый пользователь\" if x in data_more_2['customer_id'].values else 'Новый пользователь')\n",
    "\n"
   ]
  },
  {
   "cell_type": "code",
   "execution_count": 44,
   "id": "0c151505",
   "metadata": {},
   "outputs": [
    {
     "name": "stdout",
     "output_type": "stream",
     "text": [
      "0.000\n",
      "0.650\n"
     ]
    }
   ],
   "source": [
    "print('{0:.3f}'.format(stats.mannwhitneyu(data[data['new_customer']=='Не новый пользователь']['price_x'], data[data['new_customer']=='Новый пользователь']['price_x'])[1]))\n",
    "print('{0:.3f}'.format(data[data['new_customer']=='Новый пользователь']['price_x'].mean()/data[data['new_customer']=='Не новый пользователь']['price_x'].mean()-1))"
   ]
  },
  {
   "cell_type": "markdown",
   "id": "ecf3a059",
   "metadata": {},
   "source": [
    "- mannwhitneyu получился P-value меньше 0.05 Значит есть, причина отвергать нулевую гипотезу и считать, что в среднем чеке есть различия у тех кто покупал уже и покупает впервые.\n",
    "- Наблюдаемое различие в 65% средняя цена товара у людей которые покупают впервые выше чем у тех кто покупает часто. Является стат. значимым"
   ]
  },
  {
   "cell_type": "markdown",
   "id": "97945cb3",
   "metadata": {},
   "source": [
    "в ходе проверки гипотез было вявлено, что в средней цене между оснонвыми и дополнительными товарами есть разница. что в среднем чеке есть различия у тех кто покупал уже и покупает впервые."
   ]
  },
  {
   "cell_type": "markdown",
   "id": "5b8866a8",
   "metadata": {},
   "source": [
    "### Вывод"
   ]
  },
  {
   "cell_type": "markdown",
   "id": "a3d13fc7",
   "metadata": {},
   "source": [
    "В ходе рыботы было выявлено:\n",
    "- Почти все заказы сделаны в 2019\n",
    "- 4,5,10,11 месяцы самые популярные по количеству заказов, шестой особенно сильно выделяется. Самый большой провал в 8 и 9 месяцы\n",
    "- Муляж и щетка стали самыми продаваемыми товарами\n",
    "- Сильно зависят траты от месяца. Самые большие траты в 10 и 12 месяц, самые малые в 6,8 и 9\n",
    "- Выявлено растение, хоз товары и прочие стали самыми популярными типами\n",
    "- Категория хоз товары - приносит бизнесу больше всего денег\n",
    "- Основные товары занимают больше 60% всех покупок\n",
    "- с января по мая сильно растет популярность расстений, потом этот показатель падает и снова популярен в октябре и ноябре\n",
    "- рассада набирает популяность в апреле и достигает максимума в мая\n",
    "- хоз товары в три последние месяцы популярна\n",
    "- съедобные растения в 1,2,4 месяце популярны\n",
    "\n",
    "- были разделены данные на три категории: Основные, второстепенные и дополнительные\n",
    "- Основные товары занимают чуть больше 30% всех товаров\n",
    "- Основной зааботок компания получает именно с основной категории\n",
    "- Основной категории больше всего хоз товаров и растений\n",
    "- Во второстепенной расстений и прочих\n",
    "- В дополнительной категории в основном прочие продукты и растения\n",
    "\n",
    "в ходе проверки гипотез было вявлено, что в средней цене между оснонвыми и дополнительными товарами есть разница. что в среднем чеке есть различия у тех кто покупал уже и покупает впервые.\n",
    "\n",
    "Рекомендации для бизнеса:\n",
    "- Новые пользователи покупают в основном основной и дорогой товар, в то время как опытные покупают и много недорогих товаров. Поэтому рекомендуем бизнесу сделать новым покупателям акции на доп товар, чтобы брали его вместе с основным\n",
    "- Рекомендация делать акции на товары не сезонные, например на рассады в холодное время или на хоз товары в до открября и на съедобные растения во второй половине года\n",
    "- Также можно сделать скидку на товары в 6,8 и 9 месяц, чтобы люди покупали в эти месяцы\n",
    "- Люди которые покупают впервые чаще тратят большие суммы и покупают основные категории, их надо впервый раз привелкать основной категорией и делать скидки на дополнительные \n"
   ]
  },
  {
   "cell_type": "markdown",
   "id": "2408fb9d",
   "metadata": {},
   "source": [
    "- Ссылка на презентацию:\n",
    "https://docs.google.com/presentation/d/1w5XbQhJ2A41PITdfWDt5Hz9kHrOwdTr6-0vQUZ6VrAs/edit#slide=id.p\n",
    "- PDF: https://disk.yandex.ru/i/8MpifoI7eRDqpw"
   ]
  },
  {
   "cell_type": "code",
   "execution_count": null,
   "id": "51895cb4",
   "metadata": {},
   "outputs": [],
   "source": []
  }
 ],
 "metadata": {
  "ExecuteTimeLog": [
   {
    "duration": 1504,
    "start_time": "2024-01-11T10:30:54.364Z"
   },
   {
    "duration": 4,
    "start_time": "2024-01-11T10:30:55.870Z"
   },
   {
    "duration": 162,
    "start_time": "2024-01-11T10:30:55.876Z"
   },
   {
    "duration": 0,
    "start_time": "2024-01-11T10:30:56.041Z"
   },
   {
    "duration": 0,
    "start_time": "2024-01-11T10:30:56.043Z"
   },
   {
    "duration": 0,
    "start_time": "2024-01-11T10:30:56.044Z"
   },
   {
    "duration": 0,
    "start_time": "2024-01-11T10:30:56.045Z"
   },
   {
    "duration": 0,
    "start_time": "2024-01-11T10:30:56.046Z"
   },
   {
    "duration": 0,
    "start_time": "2024-01-11T10:30:56.047Z"
   },
   {
    "duration": 0,
    "start_time": "2024-01-11T10:30:56.048Z"
   },
   {
    "duration": 0,
    "start_time": "2024-01-11T10:30:56.049Z"
   },
   {
    "duration": 0,
    "start_time": "2024-01-11T10:30:56.050Z"
   },
   {
    "duration": 0,
    "start_time": "2024-01-11T10:30:56.051Z"
   },
   {
    "duration": 0,
    "start_time": "2024-01-11T10:30:56.053Z"
   },
   {
    "duration": 0,
    "start_time": "2024-01-11T10:30:56.054Z"
   },
   {
    "duration": 0,
    "start_time": "2024-01-11T10:30:56.055Z"
   },
   {
    "duration": 0,
    "start_time": "2024-01-11T10:30:56.056Z"
   },
   {
    "duration": 0,
    "start_time": "2024-01-11T10:30:56.057Z"
   },
   {
    "duration": 0,
    "start_time": "2024-01-11T10:30:56.058Z"
   },
   {
    "duration": 0,
    "start_time": "2024-01-11T10:30:56.059Z"
   },
   {
    "duration": 0,
    "start_time": "2024-01-11T10:30:56.060Z"
   },
   {
    "duration": 0,
    "start_time": "2024-01-11T10:30:56.062Z"
   },
   {
    "duration": 0,
    "start_time": "2024-01-11T10:30:56.063Z"
   },
   {
    "duration": 0,
    "start_time": "2024-01-11T10:30:56.064Z"
   },
   {
    "duration": 0,
    "start_time": "2024-01-11T10:30:56.065Z"
   },
   {
    "duration": 0,
    "start_time": "2024-01-11T10:30:56.066Z"
   },
   {
    "duration": 0,
    "start_time": "2024-01-11T10:30:56.067Z"
   },
   {
    "duration": 0,
    "start_time": "2024-01-11T10:30:56.068Z"
   },
   {
    "duration": 0,
    "start_time": "2024-01-11T10:30:56.069Z"
   },
   {
    "duration": 0,
    "start_time": "2024-01-11T10:30:56.070Z"
   },
   {
    "duration": 0,
    "start_time": "2024-01-11T10:30:56.071Z"
   },
   {
    "duration": 0,
    "start_time": "2024-01-11T10:30:56.072Z"
   },
   {
    "duration": 0,
    "start_time": "2024-01-11T10:30:56.073Z"
   },
   {
    "duration": 0,
    "start_time": "2024-01-11T10:30:56.122Z"
   },
   {
    "duration": 0,
    "start_time": "2024-01-11T10:30:56.124Z"
   },
   {
    "duration": 0,
    "start_time": "2024-01-11T10:30:56.125Z"
   },
   {
    "duration": 0,
    "start_time": "2024-01-11T10:30:56.126Z"
   },
   {
    "duration": 0,
    "start_time": "2024-01-11T10:30:56.127Z"
   },
   {
    "duration": 0,
    "start_time": "2024-01-11T10:30:56.128Z"
   },
   {
    "duration": 0,
    "start_time": "2024-01-11T10:30:56.129Z"
   },
   {
    "duration": 0,
    "start_time": "2024-01-11T10:30:56.131Z"
   },
   {
    "duration": 0,
    "start_time": "2024-01-11T10:30:56.132Z"
   },
   {
    "duration": 0,
    "start_time": "2024-01-11T10:30:56.133Z"
   },
   {
    "duration": 0,
    "start_time": "2024-01-11T10:30:56.135Z"
   },
   {
    "duration": 0,
    "start_time": "2024-01-11T10:30:56.136Z"
   },
   {
    "duration": 53,
    "start_time": "2024-01-11T13:24:31.417Z"
   },
   {
    "duration": 1564,
    "start_time": "2024-01-11T13:24:46.141Z"
   },
   {
    "duration": 50,
    "start_time": "2024-01-11T13:24:47.706Z"
   },
   {
    "duration": 19,
    "start_time": "2024-01-11T13:24:47.757Z"
   },
   {
    "duration": 10,
    "start_time": "2024-01-11T13:24:47.777Z"
   },
   {
    "duration": 7,
    "start_time": "2024-01-11T13:24:47.789Z"
   },
   {
    "duration": 40,
    "start_time": "2024-01-11T13:24:47.797Z"
   },
   {
    "duration": 15,
    "start_time": "2024-01-11T13:24:47.838Z"
   },
   {
    "duration": 14,
    "start_time": "2024-01-11T13:24:47.855Z"
   },
   {
    "duration": 15,
    "start_time": "2024-01-11T13:24:47.871Z"
   },
   {
    "duration": 16,
    "start_time": "2024-01-11T13:24:47.887Z"
   },
   {
    "duration": 31,
    "start_time": "2024-01-11T13:24:47.904Z"
   },
   {
    "duration": 36,
    "start_time": "2024-01-11T13:24:47.937Z"
   },
   {
    "duration": 22,
    "start_time": "2024-01-11T13:24:47.974Z"
   },
   {
    "duration": 5,
    "start_time": "2024-01-11T13:24:48.001Z"
   },
   {
    "duration": 29,
    "start_time": "2024-01-11T13:24:48.008Z"
   },
   {
    "duration": 219,
    "start_time": "2024-01-11T13:24:48.039Z"
   },
   {
    "duration": 5,
    "start_time": "2024-01-11T13:24:48.260Z"
   },
   {
    "duration": 12,
    "start_time": "2024-01-11T13:24:48.266Z"
   },
   {
    "duration": 155,
    "start_time": "2024-01-11T13:24:48.280Z"
   },
   {
    "duration": 233,
    "start_time": "2024-01-11T13:24:48.436Z"
   },
   {
    "duration": 20,
    "start_time": "2024-01-11T13:24:48.670Z"
   },
   {
    "duration": 39,
    "start_time": "2024-01-11T13:24:48.692Z"
   },
   {
    "duration": 20,
    "start_time": "2024-01-11T13:24:48.733Z"
   },
   {
    "duration": 561,
    "start_time": "2024-01-11T13:24:48.754Z"
   },
   {
    "duration": 17,
    "start_time": "2024-01-11T13:24:49.322Z"
   },
   {
    "duration": 7,
    "start_time": "2024-01-11T13:24:49.340Z"
   },
   {
    "duration": 1487,
    "start_time": "2024-01-11T13:24:49.349Z"
   },
   {
    "duration": 8,
    "start_time": "2024-01-11T13:24:50.838Z"
   },
   {
    "duration": 1787,
    "start_time": "2024-01-11T13:24:50.848Z"
   },
   {
    "duration": 7,
    "start_time": "2024-01-11T13:24:52.636Z"
   },
   {
    "duration": 28,
    "start_time": "2024-01-11T13:24:52.644Z"
   },
   {
    "duration": 16,
    "start_time": "2024-01-11T13:24:52.674Z"
   },
   {
    "duration": 5,
    "start_time": "2024-01-11T13:24:52.691Z"
   },
   {
    "duration": 35,
    "start_time": "2024-01-11T13:24:52.698Z"
   },
   {
    "duration": 223,
    "start_time": "2024-01-11T13:24:52.736Z"
   },
   {
    "duration": 16,
    "start_time": "2024-01-11T13:24:52.961Z"
   },
   {
    "duration": 221,
    "start_time": "2024-01-11T13:24:52.979Z"
   },
   {
    "duration": 120,
    "start_time": "2024-01-11T13:24:53.202Z"
   },
   {
    "duration": 429,
    "start_time": "2024-01-11T13:24:53.324Z"
   },
   {
    "duration": 20,
    "start_time": "2024-01-11T13:24:53.755Z"
   },
   {
    "duration": 28,
    "start_time": "2024-01-11T13:24:53.779Z"
   },
   {
    "duration": 42,
    "start_time": "2024-01-11T13:24:53.808Z"
   },
   {
    "duration": 21,
    "start_time": "2024-01-11T13:24:53.852Z"
   },
   {
    "duration": 317,
    "start_time": "2024-01-11T13:24:53.875Z"
   },
   {
    "duration": 16,
    "start_time": "2024-01-11T13:24:54.194Z"
   },
   {
    "duration": 132,
    "start_time": "2024-01-13T08:20:55.820Z"
   }
  ],
  "kernelspec": {
   "display_name": "Python 3 (ipykernel)",
   "language": "python",
   "name": "python3"
  },
  "language_info": {
   "codemirror_mode": {
    "name": "ipython",
    "version": 3
   },
   "file_extension": ".py",
   "mimetype": "text/x-python",
   "name": "python",
   "nbconvert_exporter": "python",
   "pygments_lexer": "ipython3",
   "version": "3.11.5"
  },
  "toc": {
   "base_numbering": 1,
   "nav_menu": {},
   "number_sections": true,
   "sideBar": true,
   "skip_h1_title": true,
   "title_cell": "Table of Contents",
   "title_sidebar": "Contents",
   "toc_cell": false,
   "toc_position": {},
   "toc_section_display": true,
   "toc_window_display": false
  }
 },
 "nbformat": 4,
 "nbformat_minor": 5
}
