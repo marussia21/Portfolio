{
 "cells": [
  {
   "cell_type": "markdown",
   "metadata": {},
   "source": [
    "## Проект интернет магазин"
   ]
  },
  {
   "cell_type": "markdown",
   "metadata": {},
   "source": [
    "### Постановка задачи и цель работы\n",
    "Интернет-магазин «Стримчик», который продаёт по всему миру компьютерные игры. Из открытых источников доступны исторические данные о продажах игр, оценки пользователей и экспертов, жанры и платформы (например, Xbox или PlayStation). Нужно выявить определяющие успешность игры закономерности. Это позволит сделать ставку на потенциально популярный продукт и спланировать рекламные кампании."
   ]
  },
  {
   "cell_type": "markdown",
   "metadata": {},
   "source": [
    "#### 1 Шаг, Импорт библиотек и загрузка данных"
   ]
  },
  {
   "cell_type": "code",
   "execution_count": 1,
   "metadata": {},
   "outputs": [],
   "source": [
    "import pandas as pd\n",
    "import matplotlib.pyplot as plt\n",
    "from scipy import stats as st\n",
    "import numpy as np"
   ]
  },
  {
   "cell_type": "code",
   "execution_count": 2,
   "metadata": {},
   "outputs": [
    {
     "data": {
      "text/html": [
       "<div>\n",
       "<style scoped>\n",
       "    .dataframe tbody tr th:only-of-type {\n",
       "        vertical-align: middle;\n",
       "    }\n",
       "\n",
       "    .dataframe tbody tr th {\n",
       "        vertical-align: top;\n",
       "    }\n",
       "\n",
       "    .dataframe thead th {\n",
       "        text-align: right;\n",
       "    }\n",
       "</style>\n",
       "<table border=\"1\" class=\"dataframe\">\n",
       "  <thead>\n",
       "    <tr style=\"text-align: right;\">\n",
       "      <th></th>\n",
       "      <th>Name</th>\n",
       "      <th>Platform</th>\n",
       "      <th>Year_of_Release</th>\n",
       "      <th>Genre</th>\n",
       "      <th>NA_sales</th>\n",
       "      <th>EU_sales</th>\n",
       "      <th>JP_sales</th>\n",
       "      <th>Other_sales</th>\n",
       "      <th>Critic_Score</th>\n",
       "      <th>User_Score</th>\n",
       "      <th>Rating</th>\n",
       "    </tr>\n",
       "  </thead>\n",
       "  <tbody>\n",
       "    <tr>\n",
       "      <th>0</th>\n",
       "      <td>Wii Sports</td>\n",
       "      <td>Wii</td>\n",
       "      <td>2006.0</td>\n",
       "      <td>Sports</td>\n",
       "      <td>41.36</td>\n",
       "      <td>28.96</td>\n",
       "      <td>3.77</td>\n",
       "      <td>8.45</td>\n",
       "      <td>76.0</td>\n",
       "      <td>8</td>\n",
       "      <td>E</td>\n",
       "    </tr>\n",
       "    <tr>\n",
       "      <th>1</th>\n",
       "      <td>Super Mario Bros.</td>\n",
       "      <td>NES</td>\n",
       "      <td>1985.0</td>\n",
       "      <td>Platform</td>\n",
       "      <td>29.08</td>\n",
       "      <td>3.58</td>\n",
       "      <td>6.81</td>\n",
       "      <td>0.77</td>\n",
       "      <td>NaN</td>\n",
       "      <td>NaN</td>\n",
       "      <td>NaN</td>\n",
       "    </tr>\n",
       "    <tr>\n",
       "      <th>2</th>\n",
       "      <td>Mario Kart Wii</td>\n",
       "      <td>Wii</td>\n",
       "      <td>2008.0</td>\n",
       "      <td>Racing</td>\n",
       "      <td>15.68</td>\n",
       "      <td>12.76</td>\n",
       "      <td>3.79</td>\n",
       "      <td>3.29</td>\n",
       "      <td>82.0</td>\n",
       "      <td>8.3</td>\n",
       "      <td>E</td>\n",
       "    </tr>\n",
       "    <tr>\n",
       "      <th>3</th>\n",
       "      <td>Wii Sports Resort</td>\n",
       "      <td>Wii</td>\n",
       "      <td>2009.0</td>\n",
       "      <td>Sports</td>\n",
       "      <td>15.61</td>\n",
       "      <td>10.93</td>\n",
       "      <td>3.28</td>\n",
       "      <td>2.95</td>\n",
       "      <td>80.0</td>\n",
       "      <td>8</td>\n",
       "      <td>E</td>\n",
       "    </tr>\n",
       "    <tr>\n",
       "      <th>4</th>\n",
       "      <td>Pokemon Red/Pokemon Blue</td>\n",
       "      <td>GB</td>\n",
       "      <td>1996.0</td>\n",
       "      <td>Role-Playing</td>\n",
       "      <td>11.27</td>\n",
       "      <td>8.89</td>\n",
       "      <td>10.22</td>\n",
       "      <td>1.00</td>\n",
       "      <td>NaN</td>\n",
       "      <td>NaN</td>\n",
       "      <td>NaN</td>\n",
       "    </tr>\n",
       "    <tr>\n",
       "      <th>...</th>\n",
       "      <td>...</td>\n",
       "      <td>...</td>\n",
       "      <td>...</td>\n",
       "      <td>...</td>\n",
       "      <td>...</td>\n",
       "      <td>...</td>\n",
       "      <td>...</td>\n",
       "      <td>...</td>\n",
       "      <td>...</td>\n",
       "      <td>...</td>\n",
       "      <td>...</td>\n",
       "    </tr>\n",
       "    <tr>\n",
       "      <th>16710</th>\n",
       "      <td>Samurai Warriors: Sanada Maru</td>\n",
       "      <td>PS3</td>\n",
       "      <td>2016.0</td>\n",
       "      <td>Action</td>\n",
       "      <td>0.00</td>\n",
       "      <td>0.00</td>\n",
       "      <td>0.01</td>\n",
       "      <td>0.00</td>\n",
       "      <td>NaN</td>\n",
       "      <td>NaN</td>\n",
       "      <td>NaN</td>\n",
       "    </tr>\n",
       "    <tr>\n",
       "      <th>16711</th>\n",
       "      <td>LMA Manager 2007</td>\n",
       "      <td>X360</td>\n",
       "      <td>2006.0</td>\n",
       "      <td>Sports</td>\n",
       "      <td>0.00</td>\n",
       "      <td>0.01</td>\n",
       "      <td>0.00</td>\n",
       "      <td>0.00</td>\n",
       "      <td>NaN</td>\n",
       "      <td>NaN</td>\n",
       "      <td>NaN</td>\n",
       "    </tr>\n",
       "    <tr>\n",
       "      <th>16712</th>\n",
       "      <td>Haitaka no Psychedelica</td>\n",
       "      <td>PSV</td>\n",
       "      <td>2016.0</td>\n",
       "      <td>Adventure</td>\n",
       "      <td>0.00</td>\n",
       "      <td>0.00</td>\n",
       "      <td>0.01</td>\n",
       "      <td>0.00</td>\n",
       "      <td>NaN</td>\n",
       "      <td>NaN</td>\n",
       "      <td>NaN</td>\n",
       "    </tr>\n",
       "    <tr>\n",
       "      <th>16713</th>\n",
       "      <td>Spirits &amp; Spells</td>\n",
       "      <td>GBA</td>\n",
       "      <td>2003.0</td>\n",
       "      <td>Platform</td>\n",
       "      <td>0.01</td>\n",
       "      <td>0.00</td>\n",
       "      <td>0.00</td>\n",
       "      <td>0.00</td>\n",
       "      <td>NaN</td>\n",
       "      <td>NaN</td>\n",
       "      <td>NaN</td>\n",
       "    </tr>\n",
       "    <tr>\n",
       "      <th>16714</th>\n",
       "      <td>Winning Post 8 2016</td>\n",
       "      <td>PSV</td>\n",
       "      <td>2016.0</td>\n",
       "      <td>Simulation</td>\n",
       "      <td>0.00</td>\n",
       "      <td>0.00</td>\n",
       "      <td>0.01</td>\n",
       "      <td>0.00</td>\n",
       "      <td>NaN</td>\n",
       "      <td>NaN</td>\n",
       "      <td>NaN</td>\n",
       "    </tr>\n",
       "  </tbody>\n",
       "</table>\n",
       "<p>16715 rows × 11 columns</p>\n",
       "</div>"
      ],
      "text/plain": [
       "                                Name Platform  Year_of_Release         Genre  \\\n",
       "0                         Wii Sports      Wii           2006.0        Sports   \n",
       "1                  Super Mario Bros.      NES           1985.0      Platform   \n",
       "2                     Mario Kart Wii      Wii           2008.0        Racing   \n",
       "3                  Wii Sports Resort      Wii           2009.0        Sports   \n",
       "4           Pokemon Red/Pokemon Blue       GB           1996.0  Role-Playing   \n",
       "...                              ...      ...              ...           ...   \n",
       "16710  Samurai Warriors: Sanada Maru      PS3           2016.0        Action   \n",
       "16711               LMA Manager 2007     X360           2006.0        Sports   \n",
       "16712        Haitaka no Psychedelica      PSV           2016.0     Adventure   \n",
       "16713               Spirits & Spells      GBA           2003.0      Platform   \n",
       "16714            Winning Post 8 2016      PSV           2016.0    Simulation   \n",
       "\n",
       "       NA_sales  EU_sales  JP_sales  Other_sales  Critic_Score User_Score  \\\n",
       "0         41.36     28.96      3.77         8.45          76.0          8   \n",
       "1         29.08      3.58      6.81         0.77           NaN        NaN   \n",
       "2         15.68     12.76      3.79         3.29          82.0        8.3   \n",
       "3         15.61     10.93      3.28         2.95          80.0          8   \n",
       "4         11.27      8.89     10.22         1.00           NaN        NaN   \n",
       "...         ...       ...       ...          ...           ...        ...   \n",
       "16710      0.00      0.00      0.01         0.00           NaN        NaN   \n",
       "16711      0.00      0.01      0.00         0.00           NaN        NaN   \n",
       "16712      0.00      0.00      0.01         0.00           NaN        NaN   \n",
       "16713      0.01      0.00      0.00         0.00           NaN        NaN   \n",
       "16714      0.00      0.00      0.01         0.00           NaN        NaN   \n",
       "\n",
       "      Rating  \n",
       "0          E  \n",
       "1        NaN  \n",
       "2          E  \n",
       "3          E  \n",
       "4        NaN  \n",
       "...      ...  \n",
       "16710    NaN  \n",
       "16711    NaN  \n",
       "16712    NaN  \n",
       "16713    NaN  \n",
       "16714    NaN  \n",
       "\n",
       "[16715 rows x 11 columns]"
      ]
     },
     "execution_count": 2,
     "metadata": {},
     "output_type": "execute_result"
    }
   ],
   "source": [
    "data = pd.read_csv('/Users/marksuskov/ЯП/games.csv')\n",
    "data"
   ]
  },
  {
   "cell_type": "code",
   "execution_count": 3,
   "metadata": {},
   "outputs": [
    {
     "name": "stdout",
     "output_type": "stream",
     "text": [
      "<class 'pandas.core.frame.DataFrame'>\n",
      "RangeIndex: 16715 entries, 0 to 16714\n",
      "Data columns (total 11 columns):\n",
      " #   Column           Non-Null Count  Dtype  \n",
      "---  ------           --------------  -----  \n",
      " 0   Name             16713 non-null  object \n",
      " 1   Platform         16715 non-null  object \n",
      " 2   Year_of_Release  16446 non-null  float64\n",
      " 3   Genre            16713 non-null  object \n",
      " 4   NA_sales         16715 non-null  float64\n",
      " 5   EU_sales         16715 non-null  float64\n",
      " 6   JP_sales         16715 non-null  float64\n",
      " 7   Other_sales      16715 non-null  float64\n",
      " 8   Critic_Score     8137 non-null   float64\n",
      " 9   User_Score       10014 non-null  object \n",
      " 10  Rating           9949 non-null   object \n",
      "dtypes: float64(6), object(5)\n",
      "memory usage: 1.4+ MB\n"
     ]
    }
   ],
   "source": [
    "data.info()"
   ]
  },
  {
   "cell_type": "markdown",
   "metadata": {},
   "source": [
    "Можно увидеть, что в некоторых столбцах присуствуют нулевые значения. В некоторых столбцах неправильные типы данных"
   ]
  },
  {
   "cell_type": "markdown",
   "metadata": {},
   "source": [
    "#### 2 Шаг. Предобработка данных"
   ]
  },
  {
   "cell_type": "markdown",
   "metadata": {},
   "source": [
    "Заменю названия столбцов (приведу к нижнему регистру)"
   ]
  },
  {
   "cell_type": "code",
   "execution_count": 4,
   "metadata": {},
   "outputs": [
    {
     "data": {
      "text/html": [
       "<div>\n",
       "<style scoped>\n",
       "    .dataframe tbody tr th:only-of-type {\n",
       "        vertical-align: middle;\n",
       "    }\n",
       "\n",
       "    .dataframe tbody tr th {\n",
       "        vertical-align: top;\n",
       "    }\n",
       "\n",
       "    .dataframe thead th {\n",
       "        text-align: right;\n",
       "    }\n",
       "</style>\n",
       "<table border=\"1\" class=\"dataframe\">\n",
       "  <thead>\n",
       "    <tr style=\"text-align: right;\">\n",
       "      <th></th>\n",
       "      <th>name</th>\n",
       "      <th>platform</th>\n",
       "      <th>year_of_release</th>\n",
       "      <th>genre</th>\n",
       "      <th>na_sales</th>\n",
       "      <th>eu_sales</th>\n",
       "      <th>jp_sales</th>\n",
       "      <th>other_sales</th>\n",
       "      <th>critic_score</th>\n",
       "      <th>user_score</th>\n",
       "      <th>rating</th>\n",
       "    </tr>\n",
       "  </thead>\n",
       "  <tbody>\n",
       "    <tr>\n",
       "      <th>0</th>\n",
       "      <td>Wii Sports</td>\n",
       "      <td>Wii</td>\n",
       "      <td>2006.0</td>\n",
       "      <td>Sports</td>\n",
       "      <td>41.36</td>\n",
       "      <td>28.96</td>\n",
       "      <td>3.77</td>\n",
       "      <td>8.45</td>\n",
       "      <td>76.0</td>\n",
       "      <td>8</td>\n",
       "      <td>E</td>\n",
       "    </tr>\n",
       "    <tr>\n",
       "      <th>1</th>\n",
       "      <td>Super Mario Bros.</td>\n",
       "      <td>NES</td>\n",
       "      <td>1985.0</td>\n",
       "      <td>Platform</td>\n",
       "      <td>29.08</td>\n",
       "      <td>3.58</td>\n",
       "      <td>6.81</td>\n",
       "      <td>0.77</td>\n",
       "      <td>NaN</td>\n",
       "      <td>NaN</td>\n",
       "      <td>NaN</td>\n",
       "    </tr>\n",
       "    <tr>\n",
       "      <th>2</th>\n",
       "      <td>Mario Kart Wii</td>\n",
       "      <td>Wii</td>\n",
       "      <td>2008.0</td>\n",
       "      <td>Racing</td>\n",
       "      <td>15.68</td>\n",
       "      <td>12.76</td>\n",
       "      <td>3.79</td>\n",
       "      <td>3.29</td>\n",
       "      <td>82.0</td>\n",
       "      <td>8.3</td>\n",
       "      <td>E</td>\n",
       "    </tr>\n",
       "    <tr>\n",
       "      <th>3</th>\n",
       "      <td>Wii Sports Resort</td>\n",
       "      <td>Wii</td>\n",
       "      <td>2009.0</td>\n",
       "      <td>Sports</td>\n",
       "      <td>15.61</td>\n",
       "      <td>10.93</td>\n",
       "      <td>3.28</td>\n",
       "      <td>2.95</td>\n",
       "      <td>80.0</td>\n",
       "      <td>8</td>\n",
       "      <td>E</td>\n",
       "    </tr>\n",
       "    <tr>\n",
       "      <th>4</th>\n",
       "      <td>Pokemon Red/Pokemon Blue</td>\n",
       "      <td>GB</td>\n",
       "      <td>1996.0</td>\n",
       "      <td>Role-Playing</td>\n",
       "      <td>11.27</td>\n",
       "      <td>8.89</td>\n",
       "      <td>10.22</td>\n",
       "      <td>1.00</td>\n",
       "      <td>NaN</td>\n",
       "      <td>NaN</td>\n",
       "      <td>NaN</td>\n",
       "    </tr>\n",
       "    <tr>\n",
       "      <th>...</th>\n",
       "      <td>...</td>\n",
       "      <td>...</td>\n",
       "      <td>...</td>\n",
       "      <td>...</td>\n",
       "      <td>...</td>\n",
       "      <td>...</td>\n",
       "      <td>...</td>\n",
       "      <td>...</td>\n",
       "      <td>...</td>\n",
       "      <td>...</td>\n",
       "      <td>...</td>\n",
       "    </tr>\n",
       "    <tr>\n",
       "      <th>16710</th>\n",
       "      <td>Samurai Warriors: Sanada Maru</td>\n",
       "      <td>PS3</td>\n",
       "      <td>2016.0</td>\n",
       "      <td>Action</td>\n",
       "      <td>0.00</td>\n",
       "      <td>0.00</td>\n",
       "      <td>0.01</td>\n",
       "      <td>0.00</td>\n",
       "      <td>NaN</td>\n",
       "      <td>NaN</td>\n",
       "      <td>NaN</td>\n",
       "    </tr>\n",
       "    <tr>\n",
       "      <th>16711</th>\n",
       "      <td>LMA Manager 2007</td>\n",
       "      <td>X360</td>\n",
       "      <td>2006.0</td>\n",
       "      <td>Sports</td>\n",
       "      <td>0.00</td>\n",
       "      <td>0.01</td>\n",
       "      <td>0.00</td>\n",
       "      <td>0.00</td>\n",
       "      <td>NaN</td>\n",
       "      <td>NaN</td>\n",
       "      <td>NaN</td>\n",
       "    </tr>\n",
       "    <tr>\n",
       "      <th>16712</th>\n",
       "      <td>Haitaka no Psychedelica</td>\n",
       "      <td>PSV</td>\n",
       "      <td>2016.0</td>\n",
       "      <td>Adventure</td>\n",
       "      <td>0.00</td>\n",
       "      <td>0.00</td>\n",
       "      <td>0.01</td>\n",
       "      <td>0.00</td>\n",
       "      <td>NaN</td>\n",
       "      <td>NaN</td>\n",
       "      <td>NaN</td>\n",
       "    </tr>\n",
       "    <tr>\n",
       "      <th>16713</th>\n",
       "      <td>Spirits &amp; Spells</td>\n",
       "      <td>GBA</td>\n",
       "      <td>2003.0</td>\n",
       "      <td>Platform</td>\n",
       "      <td>0.01</td>\n",
       "      <td>0.00</td>\n",
       "      <td>0.00</td>\n",
       "      <td>0.00</td>\n",
       "      <td>NaN</td>\n",
       "      <td>NaN</td>\n",
       "      <td>NaN</td>\n",
       "    </tr>\n",
       "    <tr>\n",
       "      <th>16714</th>\n",
       "      <td>Winning Post 8 2016</td>\n",
       "      <td>PSV</td>\n",
       "      <td>2016.0</td>\n",
       "      <td>Simulation</td>\n",
       "      <td>0.00</td>\n",
       "      <td>0.00</td>\n",
       "      <td>0.01</td>\n",
       "      <td>0.00</td>\n",
       "      <td>NaN</td>\n",
       "      <td>NaN</td>\n",
       "      <td>NaN</td>\n",
       "    </tr>\n",
       "  </tbody>\n",
       "</table>\n",
       "<p>16715 rows × 11 columns</p>\n",
       "</div>"
      ],
      "text/plain": [
       "                                name platform  year_of_release         genre  \\\n",
       "0                         Wii Sports      Wii           2006.0        Sports   \n",
       "1                  Super Mario Bros.      NES           1985.0      Platform   \n",
       "2                     Mario Kart Wii      Wii           2008.0        Racing   \n",
       "3                  Wii Sports Resort      Wii           2009.0        Sports   \n",
       "4           Pokemon Red/Pokemon Blue       GB           1996.0  Role-Playing   \n",
       "...                              ...      ...              ...           ...   \n",
       "16710  Samurai Warriors: Sanada Maru      PS3           2016.0        Action   \n",
       "16711               LMA Manager 2007     X360           2006.0        Sports   \n",
       "16712        Haitaka no Psychedelica      PSV           2016.0     Adventure   \n",
       "16713               Spirits & Spells      GBA           2003.0      Platform   \n",
       "16714            Winning Post 8 2016      PSV           2016.0    Simulation   \n",
       "\n",
       "       na_sales  eu_sales  jp_sales  other_sales  critic_score user_score  \\\n",
       "0         41.36     28.96      3.77         8.45          76.0          8   \n",
       "1         29.08      3.58      6.81         0.77           NaN        NaN   \n",
       "2         15.68     12.76      3.79         3.29          82.0        8.3   \n",
       "3         15.61     10.93      3.28         2.95          80.0          8   \n",
       "4         11.27      8.89     10.22         1.00           NaN        NaN   \n",
       "...         ...       ...       ...          ...           ...        ...   \n",
       "16710      0.00      0.00      0.01         0.00           NaN        NaN   \n",
       "16711      0.00      0.01      0.00         0.00           NaN        NaN   \n",
       "16712      0.00      0.00      0.01         0.00           NaN        NaN   \n",
       "16713      0.01      0.00      0.00         0.00           NaN        NaN   \n",
       "16714      0.00      0.00      0.01         0.00           NaN        NaN   \n",
       "\n",
       "      rating  \n",
       "0          E  \n",
       "1        NaN  \n",
       "2          E  \n",
       "3          E  \n",
       "4        NaN  \n",
       "...      ...  \n",
       "16710    NaN  \n",
       "16711    NaN  \n",
       "16712    NaN  \n",
       "16713    NaN  \n",
       "16714    NaN  \n",
       "\n",
       "[16715 rows x 11 columns]"
      ]
     },
     "execution_count": 4,
     "metadata": {},
     "output_type": "execute_result"
    }
   ],
   "source": [
    "data.columns = data.columns.str.lower()\n",
    "data"
   ]
  },
  {
   "cell_type": "markdown",
   "metadata": {},
   "source": [
    "Преобразую данные в нужные типы"
   ]
  },
  {
   "cell_type": "code",
   "execution_count": 5,
   "metadata": {},
   "outputs": [
    {
     "data": {
      "text/html": [
       "<div>\n",
       "<style scoped>\n",
       "    .dataframe tbody tr th:only-of-type {\n",
       "        vertical-align: middle;\n",
       "    }\n",
       "\n",
       "    .dataframe tbody tr th {\n",
       "        vertical-align: top;\n",
       "    }\n",
       "\n",
       "    .dataframe thead th {\n",
       "        text-align: right;\n",
       "    }\n",
       "</style>\n",
       "<table border=\"1\" class=\"dataframe\">\n",
       "  <thead>\n",
       "    <tr style=\"text-align: right;\">\n",
       "      <th></th>\n",
       "      <th>name</th>\n",
       "      <th>platform</th>\n",
       "      <th>year_of_release</th>\n",
       "      <th>genre</th>\n",
       "      <th>na_sales</th>\n",
       "      <th>eu_sales</th>\n",
       "      <th>jp_sales</th>\n",
       "      <th>other_sales</th>\n",
       "      <th>critic_score</th>\n",
       "      <th>user_score</th>\n",
       "      <th>rating</th>\n",
       "    </tr>\n",
       "  </thead>\n",
       "  <tbody>\n",
       "    <tr>\n",
       "      <th>0</th>\n",
       "      <td>Wii Sports</td>\n",
       "      <td>Wii</td>\n",
       "      <td>2006.0</td>\n",
       "      <td>Sports</td>\n",
       "      <td>41.36</td>\n",
       "      <td>28.96</td>\n",
       "      <td>3.77</td>\n",
       "      <td>8.45</td>\n",
       "      <td>76.0</td>\n",
       "      <td>8</td>\n",
       "      <td>E</td>\n",
       "    </tr>\n",
       "    <tr>\n",
       "      <th>1</th>\n",
       "      <td>Super Mario Bros.</td>\n",
       "      <td>NES</td>\n",
       "      <td>1985.0</td>\n",
       "      <td>Platform</td>\n",
       "      <td>29.08</td>\n",
       "      <td>3.58</td>\n",
       "      <td>6.81</td>\n",
       "      <td>0.77</td>\n",
       "      <td>NaN</td>\n",
       "      <td>NaN</td>\n",
       "      <td>NaN</td>\n",
       "    </tr>\n",
       "    <tr>\n",
       "      <th>2</th>\n",
       "      <td>Mario Kart Wii</td>\n",
       "      <td>Wii</td>\n",
       "      <td>2008.0</td>\n",
       "      <td>Racing</td>\n",
       "      <td>15.68</td>\n",
       "      <td>12.76</td>\n",
       "      <td>3.79</td>\n",
       "      <td>3.29</td>\n",
       "      <td>82.0</td>\n",
       "      <td>8.3</td>\n",
       "      <td>E</td>\n",
       "    </tr>\n",
       "    <tr>\n",
       "      <th>3</th>\n",
       "      <td>Wii Sports Resort</td>\n",
       "      <td>Wii</td>\n",
       "      <td>2009.0</td>\n",
       "      <td>Sports</td>\n",
       "      <td>15.61</td>\n",
       "      <td>10.93</td>\n",
       "      <td>3.28</td>\n",
       "      <td>2.95</td>\n",
       "      <td>80.0</td>\n",
       "      <td>8</td>\n",
       "      <td>E</td>\n",
       "    </tr>\n",
       "    <tr>\n",
       "      <th>4</th>\n",
       "      <td>Pokemon Red/Pokemon Blue</td>\n",
       "      <td>GB</td>\n",
       "      <td>1996.0</td>\n",
       "      <td>Role-Playing</td>\n",
       "      <td>11.27</td>\n",
       "      <td>8.89</td>\n",
       "      <td>10.22</td>\n",
       "      <td>1.00</td>\n",
       "      <td>NaN</td>\n",
       "      <td>NaN</td>\n",
       "      <td>NaN</td>\n",
       "    </tr>\n",
       "    <tr>\n",
       "      <th>...</th>\n",
       "      <td>...</td>\n",
       "      <td>...</td>\n",
       "      <td>...</td>\n",
       "      <td>...</td>\n",
       "      <td>...</td>\n",
       "      <td>...</td>\n",
       "      <td>...</td>\n",
       "      <td>...</td>\n",
       "      <td>...</td>\n",
       "      <td>...</td>\n",
       "      <td>...</td>\n",
       "    </tr>\n",
       "    <tr>\n",
       "      <th>16710</th>\n",
       "      <td>Samurai Warriors: Sanada Maru</td>\n",
       "      <td>PS3</td>\n",
       "      <td>2016.0</td>\n",
       "      <td>Action</td>\n",
       "      <td>0.00</td>\n",
       "      <td>0.00</td>\n",
       "      <td>0.01</td>\n",
       "      <td>0.00</td>\n",
       "      <td>NaN</td>\n",
       "      <td>NaN</td>\n",
       "      <td>NaN</td>\n",
       "    </tr>\n",
       "    <tr>\n",
       "      <th>16711</th>\n",
       "      <td>LMA Manager 2007</td>\n",
       "      <td>X360</td>\n",
       "      <td>2006.0</td>\n",
       "      <td>Sports</td>\n",
       "      <td>0.00</td>\n",
       "      <td>0.01</td>\n",
       "      <td>0.00</td>\n",
       "      <td>0.00</td>\n",
       "      <td>NaN</td>\n",
       "      <td>NaN</td>\n",
       "      <td>NaN</td>\n",
       "    </tr>\n",
       "    <tr>\n",
       "      <th>16712</th>\n",
       "      <td>Haitaka no Psychedelica</td>\n",
       "      <td>PSV</td>\n",
       "      <td>2016.0</td>\n",
       "      <td>Adventure</td>\n",
       "      <td>0.00</td>\n",
       "      <td>0.00</td>\n",
       "      <td>0.01</td>\n",
       "      <td>0.00</td>\n",
       "      <td>NaN</td>\n",
       "      <td>NaN</td>\n",
       "      <td>NaN</td>\n",
       "    </tr>\n",
       "    <tr>\n",
       "      <th>16713</th>\n",
       "      <td>Spirits &amp; Spells</td>\n",
       "      <td>GBA</td>\n",
       "      <td>2003.0</td>\n",
       "      <td>Platform</td>\n",
       "      <td>0.01</td>\n",
       "      <td>0.00</td>\n",
       "      <td>0.00</td>\n",
       "      <td>0.00</td>\n",
       "      <td>NaN</td>\n",
       "      <td>NaN</td>\n",
       "      <td>NaN</td>\n",
       "    </tr>\n",
       "    <tr>\n",
       "      <th>16714</th>\n",
       "      <td>Winning Post 8 2016</td>\n",
       "      <td>PSV</td>\n",
       "      <td>2016.0</td>\n",
       "      <td>Simulation</td>\n",
       "      <td>0.00</td>\n",
       "      <td>0.00</td>\n",
       "      <td>0.01</td>\n",
       "      <td>0.00</td>\n",
       "      <td>NaN</td>\n",
       "      <td>NaN</td>\n",
       "      <td>NaN</td>\n",
       "    </tr>\n",
       "  </tbody>\n",
       "</table>\n",
       "<p>16715 rows × 11 columns</p>\n",
       "</div>"
      ],
      "text/plain": [
       "                                name platform  year_of_release         genre  \\\n",
       "0                         Wii Sports      Wii           2006.0        Sports   \n",
       "1                  Super Mario Bros.      NES           1985.0      Platform   \n",
       "2                     Mario Kart Wii      Wii           2008.0        Racing   \n",
       "3                  Wii Sports Resort      Wii           2009.0        Sports   \n",
       "4           Pokemon Red/Pokemon Blue       GB           1996.0  Role-Playing   \n",
       "...                              ...      ...              ...           ...   \n",
       "16710  Samurai Warriors: Sanada Maru      PS3           2016.0        Action   \n",
       "16711               LMA Manager 2007     X360           2006.0        Sports   \n",
       "16712        Haitaka no Psychedelica      PSV           2016.0     Adventure   \n",
       "16713               Spirits & Spells      GBA           2003.0      Platform   \n",
       "16714            Winning Post 8 2016      PSV           2016.0    Simulation   \n",
       "\n",
       "       na_sales  eu_sales  jp_sales  other_sales  critic_score user_score  \\\n",
       "0         41.36     28.96      3.77         8.45          76.0          8   \n",
       "1         29.08      3.58      6.81         0.77           NaN        NaN   \n",
       "2         15.68     12.76      3.79         3.29          82.0        8.3   \n",
       "3         15.61     10.93      3.28         2.95          80.0          8   \n",
       "4         11.27      8.89     10.22         1.00           NaN        NaN   \n",
       "...         ...       ...       ...          ...           ...        ...   \n",
       "16710      0.00      0.00      0.01         0.00           NaN        NaN   \n",
       "16711      0.00      0.01      0.00         0.00           NaN        NaN   \n",
       "16712      0.00      0.00      0.01         0.00           NaN        NaN   \n",
       "16713      0.01      0.00      0.00         0.00           NaN        NaN   \n",
       "16714      0.00      0.00      0.01         0.00           NaN        NaN   \n",
       "\n",
       "      rating  \n",
       "0          E  \n",
       "1        NaN  \n",
       "2          E  \n",
       "3          E  \n",
       "4        NaN  \n",
       "...      ...  \n",
       "16710    NaN  \n",
       "16711    NaN  \n",
       "16712    NaN  \n",
       "16713    NaN  \n",
       "16714    NaN  \n",
       "\n",
       "[16715 rows x 11 columns]"
      ]
     },
     "execution_count": 5,
     "metadata": {},
     "output_type": "execute_result"
    }
   ],
   "source": [
    "data['year_of_release'] =  pd.to_datetime(data['year_of_release'],format='%Y')\n",
    "data['year_of_release'] = data['year_of_release'].dt.year\n",
    "data\n",
    "#только с месяцем и днем смог сделать формат date, если делать через DatetimeIndex(), то формат другой"
   ]
  },
  {
   "cell_type": "markdown",
   "metadata": {},
   "source": [
    "преобразую столбец user_score в float, для этого разберусь со значениями tbd"
   ]
  },
  {
   "cell_type": "code",
   "execution_count": 6,
   "metadata": {},
   "outputs": [
    {
     "name": "stdout",
     "output_type": "stream",
     "text": [
      "user_score\n",
      "tbd    2424\n",
      "7.8     324\n",
      "8       290\n",
      "8.2     282\n",
      "8.3     254\n",
      "       ... \n",
      "1.1       2\n",
      "1.9       2\n",
      "9.6       2\n",
      "0         1\n",
      "9.7       1\n",
      "Name: count, Length: 96, dtype: int64\n"
     ]
    },
    {
     "data": {
      "text/html": [
       "<div>\n",
       "<style scoped>\n",
       "    .dataframe tbody tr th:only-of-type {\n",
       "        vertical-align: middle;\n",
       "    }\n",
       "\n",
       "    .dataframe tbody tr th {\n",
       "        vertical-align: top;\n",
       "    }\n",
       "\n",
       "    .dataframe thead th {\n",
       "        text-align: right;\n",
       "    }\n",
       "</style>\n",
       "<table border=\"1\" class=\"dataframe\">\n",
       "  <thead>\n",
       "    <tr style=\"text-align: right;\">\n",
       "      <th></th>\n",
       "      <th>name</th>\n",
       "      <th>platform</th>\n",
       "      <th>year_of_release</th>\n",
       "      <th>genre</th>\n",
       "      <th>na_sales</th>\n",
       "      <th>eu_sales</th>\n",
       "      <th>jp_sales</th>\n",
       "      <th>other_sales</th>\n",
       "      <th>critic_score</th>\n",
       "      <th>user_score</th>\n",
       "      <th>rating</th>\n",
       "    </tr>\n",
       "  </thead>\n",
       "  <tbody>\n",
       "    <tr>\n",
       "      <th>119</th>\n",
       "      <td>Zumba Fitness</td>\n",
       "      <td>Wii</td>\n",
       "      <td>2010.0</td>\n",
       "      <td>Sports</td>\n",
       "      <td>3.45</td>\n",
       "      <td>2.59</td>\n",
       "      <td>0.00</td>\n",
       "      <td>0.66</td>\n",
       "      <td>NaN</td>\n",
       "      <td>tbd</td>\n",
       "      <td>E</td>\n",
       "    </tr>\n",
       "    <tr>\n",
       "      <th>301</th>\n",
       "      <td>Namco Museum: 50th Anniversary</td>\n",
       "      <td>PS2</td>\n",
       "      <td>2005.0</td>\n",
       "      <td>Misc</td>\n",
       "      <td>2.08</td>\n",
       "      <td>1.35</td>\n",
       "      <td>0.00</td>\n",
       "      <td>0.54</td>\n",
       "      <td>61.0</td>\n",
       "      <td>tbd</td>\n",
       "      <td>E10+</td>\n",
       "    </tr>\n",
       "    <tr>\n",
       "      <th>520</th>\n",
       "      <td>Zumba Fitness 2</td>\n",
       "      <td>Wii</td>\n",
       "      <td>2011.0</td>\n",
       "      <td>Sports</td>\n",
       "      <td>1.51</td>\n",
       "      <td>1.03</td>\n",
       "      <td>0.00</td>\n",
       "      <td>0.27</td>\n",
       "      <td>NaN</td>\n",
       "      <td>tbd</td>\n",
       "      <td>T</td>\n",
       "    </tr>\n",
       "    <tr>\n",
       "      <th>645</th>\n",
       "      <td>uDraw Studio</td>\n",
       "      <td>Wii</td>\n",
       "      <td>2010.0</td>\n",
       "      <td>Misc</td>\n",
       "      <td>1.65</td>\n",
       "      <td>0.57</td>\n",
       "      <td>0.00</td>\n",
       "      <td>0.20</td>\n",
       "      <td>71.0</td>\n",
       "      <td>tbd</td>\n",
       "      <td>E</td>\n",
       "    </tr>\n",
       "    <tr>\n",
       "      <th>657</th>\n",
       "      <td>Frogger's Adventures: Temple of the Frog</td>\n",
       "      <td>GBA</td>\n",
       "      <td>NaN</td>\n",
       "      <td>Adventure</td>\n",
       "      <td>2.15</td>\n",
       "      <td>0.18</td>\n",
       "      <td>0.00</td>\n",
       "      <td>0.07</td>\n",
       "      <td>73.0</td>\n",
       "      <td>tbd</td>\n",
       "      <td>E</td>\n",
       "    </tr>\n",
       "    <tr>\n",
       "      <th>718</th>\n",
       "      <td>Just Dance Kids</td>\n",
       "      <td>Wii</td>\n",
       "      <td>2010.0</td>\n",
       "      <td>Misc</td>\n",
       "      <td>1.52</td>\n",
       "      <td>0.54</td>\n",
       "      <td>0.00</td>\n",
       "      <td>0.18</td>\n",
       "      <td>NaN</td>\n",
       "      <td>tbd</td>\n",
       "      <td>E</td>\n",
       "    </tr>\n",
       "    <tr>\n",
       "      <th>726</th>\n",
       "      <td>Dance Dance Revolution X2</td>\n",
       "      <td>PS2</td>\n",
       "      <td>2009.0</td>\n",
       "      <td>Simulation</td>\n",
       "      <td>1.09</td>\n",
       "      <td>0.85</td>\n",
       "      <td>0.00</td>\n",
       "      <td>0.28</td>\n",
       "      <td>NaN</td>\n",
       "      <td>tbd</td>\n",
       "      <td>E10+</td>\n",
       "    </tr>\n",
       "    <tr>\n",
       "      <th>821</th>\n",
       "      <td>The Incredibles</td>\n",
       "      <td>GBA</td>\n",
       "      <td>2004.0</td>\n",
       "      <td>Action</td>\n",
       "      <td>1.15</td>\n",
       "      <td>0.77</td>\n",
       "      <td>0.04</td>\n",
       "      <td>0.10</td>\n",
       "      <td>55.0</td>\n",
       "      <td>tbd</td>\n",
       "      <td>E</td>\n",
       "    </tr>\n",
       "    <tr>\n",
       "      <th>881</th>\n",
       "      <td>Who wants to be a millionaire</td>\n",
       "      <td>PC</td>\n",
       "      <td>1999.0</td>\n",
       "      <td>Misc</td>\n",
       "      <td>1.94</td>\n",
       "      <td>0.00</td>\n",
       "      <td>0.00</td>\n",
       "      <td>0.00</td>\n",
       "      <td>NaN</td>\n",
       "      <td>tbd</td>\n",
       "      <td>E</td>\n",
       "    </tr>\n",
       "    <tr>\n",
       "      <th>1047</th>\n",
       "      <td>Tetris Worlds</td>\n",
       "      <td>GBA</td>\n",
       "      <td>2001.0</td>\n",
       "      <td>Puzzle</td>\n",
       "      <td>1.25</td>\n",
       "      <td>0.39</td>\n",
       "      <td>0.00</td>\n",
       "      <td>0.06</td>\n",
       "      <td>65.0</td>\n",
       "      <td>tbd</td>\n",
       "      <td>E</td>\n",
       "    </tr>\n",
       "    <tr>\n",
       "      <th>1048</th>\n",
       "      <td>Imagine: Teacher</td>\n",
       "      <td>DS</td>\n",
       "      <td>2008.0</td>\n",
       "      <td>Simulation</td>\n",
       "      <td>0.70</td>\n",
       "      <td>0.82</td>\n",
       "      <td>0.00</td>\n",
       "      <td>0.19</td>\n",
       "      <td>NaN</td>\n",
       "      <td>tbd</td>\n",
       "      <td>E</td>\n",
       "    </tr>\n",
       "    <tr>\n",
       "      <th>1069</th>\n",
       "      <td>Personal Trainer: Math</td>\n",
       "      <td>DS</td>\n",
       "      <td>2007.0</td>\n",
       "      <td>Puzzle</td>\n",
       "      <td>0.48</td>\n",
       "      <td>1.12</td>\n",
       "      <td>0.00</td>\n",
       "      <td>0.08</td>\n",
       "      <td>63.0</td>\n",
       "      <td>tbd</td>\n",
       "      <td>E</td>\n",
       "    </tr>\n",
       "    <tr>\n",
       "      <th>1070</th>\n",
       "      <td>Game Party 3</td>\n",
       "      <td>Wii</td>\n",
       "      <td>2009.0</td>\n",
       "      <td>Puzzle</td>\n",
       "      <td>1.40</td>\n",
       "      <td>0.16</td>\n",
       "      <td>0.00</td>\n",
       "      <td>0.12</td>\n",
       "      <td>37.0</td>\n",
       "      <td>tbd</td>\n",
       "      <td>E</td>\n",
       "    </tr>\n",
       "    <tr>\n",
       "      <th>1089</th>\n",
       "      <td>Monsters, Inc.</td>\n",
       "      <td>GBA</td>\n",
       "      <td>2001.0</td>\n",
       "      <td>Adventure</td>\n",
       "      <td>0.59</td>\n",
       "      <td>0.95</td>\n",
       "      <td>0.03</td>\n",
       "      <td>0.10</td>\n",
       "      <td>NaN</td>\n",
       "      <td>tbd</td>\n",
       "      <td>E</td>\n",
       "    </tr>\n",
       "    <tr>\n",
       "      <th>1151</th>\n",
       "      <td>SpongeBob's Atlantis SquarePantis</td>\n",
       "      <td>DS</td>\n",
       "      <td>2007.0</td>\n",
       "      <td>Action</td>\n",
       "      <td>1.49</td>\n",
       "      <td>0.00</td>\n",
       "      <td>0.00</td>\n",
       "      <td>0.11</td>\n",
       "      <td>64.0</td>\n",
       "      <td>tbd</td>\n",
       "      <td>E</td>\n",
       "    </tr>\n",
       "    <tr>\n",
       "      <th>1199</th>\n",
       "      <td>MySims Kingdom</td>\n",
       "      <td>DS</td>\n",
       "      <td>2008.0</td>\n",
       "      <td>Simulation</td>\n",
       "      <td>0.80</td>\n",
       "      <td>0.59</td>\n",
       "      <td>0.01</td>\n",
       "      <td>0.16</td>\n",
       "      <td>58.0</td>\n",
       "      <td>tbd</td>\n",
       "      <td>E</td>\n",
       "    </tr>\n",
       "    <tr>\n",
       "      <th>1210</th>\n",
       "      <td>Moshi Monsters: Moshling Zoo</td>\n",
       "      <td>DS</td>\n",
       "      <td>2011.0</td>\n",
       "      <td>Misc</td>\n",
       "      <td>0.37</td>\n",
       "      <td>0.96</td>\n",
       "      <td>0.00</td>\n",
       "      <td>0.21</td>\n",
       "      <td>NaN</td>\n",
       "      <td>tbd</td>\n",
       "      <td>E</td>\n",
       "    </tr>\n",
       "    <tr>\n",
       "      <th>1284</th>\n",
       "      <td>Disney Sing It: Pop Hits</td>\n",
       "      <td>Wii</td>\n",
       "      <td>2009.0</td>\n",
       "      <td>Misc</td>\n",
       "      <td>1.07</td>\n",
       "      <td>0.28</td>\n",
       "      <td>0.00</td>\n",
       "      <td>0.13</td>\n",
       "      <td>NaN</td>\n",
       "      <td>tbd</td>\n",
       "      <td>E</td>\n",
       "    </tr>\n",
       "    <tr>\n",
       "      <th>1291</th>\n",
       "      <td>Imagine: Master Chef</td>\n",
       "      <td>DS</td>\n",
       "      <td>2007.0</td>\n",
       "      <td>Simulation</td>\n",
       "      <td>0.39</td>\n",
       "      <td>0.91</td>\n",
       "      <td>0.00</td>\n",
       "      <td>0.17</td>\n",
       "      <td>NaN</td>\n",
       "      <td>tbd</td>\n",
       "      <td>E</td>\n",
       "    </tr>\n",
       "    <tr>\n",
       "      <th>1292</th>\n",
       "      <td>Disney Princess</td>\n",
       "      <td>GBA</td>\n",
       "      <td>2003.0</td>\n",
       "      <td>Platform</td>\n",
       "      <td>1.04</td>\n",
       "      <td>0.37</td>\n",
       "      <td>0.00</td>\n",
       "      <td>0.06</td>\n",
       "      <td>NaN</td>\n",
       "      <td>tbd</td>\n",
       "      <td>E</td>\n",
       "    </tr>\n",
       "    <tr>\n",
       "      <th>1298</th>\n",
       "      <td>The SpongeBob SquarePants Movie</td>\n",
       "      <td>GBA</td>\n",
       "      <td>2004.0</td>\n",
       "      <td>Platform</td>\n",
       "      <td>1.02</td>\n",
       "      <td>0.38</td>\n",
       "      <td>0.00</td>\n",
       "      <td>0.06</td>\n",
       "      <td>NaN</td>\n",
       "      <td>tbd</td>\n",
       "      <td>E</td>\n",
       "    </tr>\n",
       "    <tr>\n",
       "      <th>1300</th>\n",
       "      <td>Midway Arcade Treasures</td>\n",
       "      <td>PS2</td>\n",
       "      <td>2003.0</td>\n",
       "      <td>Misc</td>\n",
       "      <td>0.72</td>\n",
       "      <td>0.56</td>\n",
       "      <td>0.00</td>\n",
       "      <td>0.19</td>\n",
       "      <td>76.0</td>\n",
       "      <td>tbd</td>\n",
       "      <td>T</td>\n",
       "    </tr>\n",
       "    <tr>\n",
       "      <th>1309</th>\n",
       "      <td>Wall-E</td>\n",
       "      <td>DS</td>\n",
       "      <td>2008.0</td>\n",
       "      <td>Platform</td>\n",
       "      <td>0.46</td>\n",
       "      <td>0.82</td>\n",
       "      <td>0.00</td>\n",
       "      <td>0.17</td>\n",
       "      <td>54.0</td>\n",
       "      <td>tbd</td>\n",
       "      <td>E</td>\n",
       "    </tr>\n",
       "    <tr>\n",
       "      <th>1341</th>\n",
       "      <td>Disney Princess: Magical Jewels</td>\n",
       "      <td>DS</td>\n",
       "      <td>2007.0</td>\n",
       "      <td>Adventure</td>\n",
       "      <td>1.12</td>\n",
       "      <td>0.19</td>\n",
       "      <td>0.00</td>\n",
       "      <td>0.11</td>\n",
       "      <td>NaN</td>\n",
       "      <td>tbd</td>\n",
       "      <td>E</td>\n",
       "    </tr>\n",
       "    <tr>\n",
       "      <th>1367</th>\n",
       "      <td>Hello Kitty Party</td>\n",
       "      <td>DS</td>\n",
       "      <td>2007.0</td>\n",
       "      <td>Misc</td>\n",
       "      <td>0.78</td>\n",
       "      <td>0.51</td>\n",
       "      <td>0.00</td>\n",
       "      <td>0.12</td>\n",
       "      <td>NaN</td>\n",
       "      <td>tbd</td>\n",
       "      <td>E</td>\n",
       "    </tr>\n",
       "    <tr>\n",
       "      <th>1423</th>\n",
       "      <td>SingStar Abba</td>\n",
       "      <td>PS2</td>\n",
       "      <td>2008.0</td>\n",
       "      <td>Misc</td>\n",
       "      <td>0.23</td>\n",
       "      <td>0.04</td>\n",
       "      <td>0.00</td>\n",
       "      <td>1.09</td>\n",
       "      <td>64.0</td>\n",
       "      <td>tbd</td>\n",
       "      <td>T</td>\n",
       "    </tr>\n",
       "    <tr>\n",
       "      <th>1487</th>\n",
       "      <td>Petz Wild Animals: Dolphinz</td>\n",
       "      <td>DS</td>\n",
       "      <td>2007.0</td>\n",
       "      <td>Simulation</td>\n",
       "      <td>0.71</td>\n",
       "      <td>0.48</td>\n",
       "      <td>0.00</td>\n",
       "      <td>0.13</td>\n",
       "      <td>NaN</td>\n",
       "      <td>tbd</td>\n",
       "      <td>E</td>\n",
       "    </tr>\n",
       "    <tr>\n",
       "      <th>1541</th>\n",
       "      <td>Imagine: Wedding Designer</td>\n",
       "      <td>DS</td>\n",
       "      <td>2008.0</td>\n",
       "      <td>Simulation</td>\n",
       "      <td>0.55</td>\n",
       "      <td>0.59</td>\n",
       "      <td>0.00</td>\n",
       "      <td>0.14</td>\n",
       "      <td>NaN</td>\n",
       "      <td>tbd</td>\n",
       "      <td>E</td>\n",
       "    </tr>\n",
       "    <tr>\n",
       "      <th>1560</th>\n",
       "      <td>Mystery Case Files: MillionHeir</td>\n",
       "      <td>DS</td>\n",
       "      <td>2008.0</td>\n",
       "      <td>Adventure</td>\n",
       "      <td>0.75</td>\n",
       "      <td>0.39</td>\n",
       "      <td>0.00</td>\n",
       "      <td>0.12</td>\n",
       "      <td>65.0</td>\n",
       "      <td>tbd</td>\n",
       "      <td>E</td>\n",
       "    </tr>\n",
       "    <tr>\n",
       "      <th>1700</th>\n",
       "      <td>Disney Sing It</td>\n",
       "      <td>Wii</td>\n",
       "      <td>2008.0</td>\n",
       "      <td>Misc</td>\n",
       "      <td>0.77</td>\n",
       "      <td>0.31</td>\n",
       "      <td>0.00</td>\n",
       "      <td>0.11</td>\n",
       "      <td>NaN</td>\n",
       "      <td>tbd</td>\n",
       "      <td>E</td>\n",
       "    </tr>\n",
       "  </tbody>\n",
       "</table>\n",
       "</div>"
      ],
      "text/plain": [
       "                                          name platform  year_of_release  \\\n",
       "119                              Zumba Fitness      Wii           2010.0   \n",
       "301             Namco Museum: 50th Anniversary      PS2           2005.0   \n",
       "520                            Zumba Fitness 2      Wii           2011.0   \n",
       "645                               uDraw Studio      Wii           2010.0   \n",
       "657   Frogger's Adventures: Temple of the Frog      GBA              NaN   \n",
       "718                            Just Dance Kids      Wii           2010.0   \n",
       "726                  Dance Dance Revolution X2      PS2           2009.0   \n",
       "821                            The Incredibles      GBA           2004.0   \n",
       "881              Who wants to be a millionaire       PC           1999.0   \n",
       "1047                             Tetris Worlds      GBA           2001.0   \n",
       "1048                          Imagine: Teacher       DS           2008.0   \n",
       "1069                    Personal Trainer: Math       DS           2007.0   \n",
       "1070                              Game Party 3      Wii           2009.0   \n",
       "1089                            Monsters, Inc.      GBA           2001.0   \n",
       "1151         SpongeBob's Atlantis SquarePantis       DS           2007.0   \n",
       "1199                            MySims Kingdom       DS           2008.0   \n",
       "1210              Moshi Monsters: Moshling Zoo       DS           2011.0   \n",
       "1284                  Disney Sing It: Pop Hits      Wii           2009.0   \n",
       "1291                      Imagine: Master Chef       DS           2007.0   \n",
       "1292                           Disney Princess      GBA           2003.0   \n",
       "1298           The SpongeBob SquarePants Movie      GBA           2004.0   \n",
       "1300                   Midway Arcade Treasures      PS2           2003.0   \n",
       "1309                                    Wall-E       DS           2008.0   \n",
       "1341           Disney Princess: Magical Jewels       DS           2007.0   \n",
       "1367                         Hello Kitty Party       DS           2007.0   \n",
       "1423                             SingStar Abba      PS2           2008.0   \n",
       "1487               Petz Wild Animals: Dolphinz       DS           2007.0   \n",
       "1541                 Imagine: Wedding Designer       DS           2008.0   \n",
       "1560           Mystery Case Files: MillionHeir       DS           2008.0   \n",
       "1700                            Disney Sing It      Wii           2008.0   \n",
       "\n",
       "           genre  na_sales  eu_sales  jp_sales  other_sales  critic_score  \\\n",
       "119       Sports      3.45      2.59      0.00         0.66           NaN   \n",
       "301         Misc      2.08      1.35      0.00         0.54          61.0   \n",
       "520       Sports      1.51      1.03      0.00         0.27           NaN   \n",
       "645         Misc      1.65      0.57      0.00         0.20          71.0   \n",
       "657    Adventure      2.15      0.18      0.00         0.07          73.0   \n",
       "718         Misc      1.52      0.54      0.00         0.18           NaN   \n",
       "726   Simulation      1.09      0.85      0.00         0.28           NaN   \n",
       "821       Action      1.15      0.77      0.04         0.10          55.0   \n",
       "881         Misc      1.94      0.00      0.00         0.00           NaN   \n",
       "1047      Puzzle      1.25      0.39      0.00         0.06          65.0   \n",
       "1048  Simulation      0.70      0.82      0.00         0.19           NaN   \n",
       "1069      Puzzle      0.48      1.12      0.00         0.08          63.0   \n",
       "1070      Puzzle      1.40      0.16      0.00         0.12          37.0   \n",
       "1089   Adventure      0.59      0.95      0.03         0.10           NaN   \n",
       "1151      Action      1.49      0.00      0.00         0.11          64.0   \n",
       "1199  Simulation      0.80      0.59      0.01         0.16          58.0   \n",
       "1210        Misc      0.37      0.96      0.00         0.21           NaN   \n",
       "1284        Misc      1.07      0.28      0.00         0.13           NaN   \n",
       "1291  Simulation      0.39      0.91      0.00         0.17           NaN   \n",
       "1292    Platform      1.04      0.37      0.00         0.06           NaN   \n",
       "1298    Platform      1.02      0.38      0.00         0.06           NaN   \n",
       "1300        Misc      0.72      0.56      0.00         0.19          76.0   \n",
       "1309    Platform      0.46      0.82      0.00         0.17          54.0   \n",
       "1341   Adventure      1.12      0.19      0.00         0.11           NaN   \n",
       "1367        Misc      0.78      0.51      0.00         0.12           NaN   \n",
       "1423        Misc      0.23      0.04      0.00         1.09          64.0   \n",
       "1487  Simulation      0.71      0.48      0.00         0.13           NaN   \n",
       "1541  Simulation      0.55      0.59      0.00         0.14           NaN   \n",
       "1560   Adventure      0.75      0.39      0.00         0.12          65.0   \n",
       "1700        Misc      0.77      0.31      0.00         0.11           NaN   \n",
       "\n",
       "     user_score rating  \n",
       "119         tbd      E  \n",
       "301         tbd   E10+  \n",
       "520         tbd      T  \n",
       "645         tbd      E  \n",
       "657         tbd      E  \n",
       "718         tbd      E  \n",
       "726         tbd   E10+  \n",
       "821         tbd      E  \n",
       "881         tbd      E  \n",
       "1047        tbd      E  \n",
       "1048        tbd      E  \n",
       "1069        tbd      E  \n",
       "1070        tbd      E  \n",
       "1089        tbd      E  \n",
       "1151        tbd      E  \n",
       "1199        tbd      E  \n",
       "1210        tbd      E  \n",
       "1284        tbd      E  \n",
       "1291        tbd      E  \n",
       "1292        tbd      E  \n",
       "1298        tbd      E  \n",
       "1300        tbd      T  \n",
       "1309        tbd      E  \n",
       "1341        tbd      E  \n",
       "1367        tbd      E  \n",
       "1423        tbd      T  \n",
       "1487        tbd      E  \n",
       "1541        tbd      E  \n",
       "1560        tbd      E  \n",
       "1700        tbd      E  "
      ]
     },
     "execution_count": 6,
     "metadata": {},
     "output_type": "execute_result"
    }
   ],
   "source": [
    "#data['user_score'] = data['user_score'].astype('float')\n",
    "print(data['user_score'].value_counts())\n",
    "(data[data['user_score'] == 'tbd']).head(30)"
   ]
  },
  {
   "cell_type": "markdown",
   "metadata": {},
   "source": [
    "как можно увидеть у всех этих игр довольно низкая популярность, в Японии так вообще ни одной продажи. Не буду удалять эти строки, так как они занимают больше 10% всего датафрейма. tbd - значит не определено, заменю на 0"
   ]
  },
  {
   "cell_type": "code",
   "execution_count": 7,
   "metadata": {},
   "outputs": [],
   "source": [
    "#data = ((data[data['user_score'] == 'tbd']))\n",
    "data.loc[data['user_score'] == 'tbd', 'user_score'] = 0"
   ]
  },
  {
   "cell_type": "code",
   "execution_count": 8,
   "metadata": {},
   "outputs": [],
   "source": [
    "data['user_score'] = data['user_score'].astype('float')\n",
    "pd.options.mode.chained_assignment = None"
   ]
  },
  {
   "cell_type": "markdown",
   "metadata": {},
   "source": [
    "Обработка пропусков"
   ]
  },
  {
   "cell_type": "code",
   "execution_count": 9,
   "metadata": {},
   "outputs": [
    {
     "name": "stdout",
     "output_type": "stream",
     "text": [
      "<class 'pandas.core.frame.DataFrame'>\n",
      "RangeIndex: 16715 entries, 0 to 16714\n",
      "Data columns (total 11 columns):\n",
      " #   Column           Non-Null Count  Dtype  \n",
      "---  ------           --------------  -----  \n",
      " 0   name             16713 non-null  object \n",
      " 1   platform         16715 non-null  object \n",
      " 2   year_of_release  16446 non-null  float64\n",
      " 3   genre            16713 non-null  object \n",
      " 4   na_sales         16715 non-null  float64\n",
      " 5   eu_sales         16715 non-null  float64\n",
      " 6   jp_sales         16715 non-null  float64\n",
      " 7   other_sales      16715 non-null  float64\n",
      " 8   critic_score     8137 non-null   float64\n",
      " 9   user_score       10014 non-null  float64\n",
      " 10  rating           9949 non-null   object \n",
      "dtypes: float64(7), object(4)\n",
      "memory usage: 1.4+ MB\n"
     ]
    }
   ],
   "source": [
    "data.info()"
   ]
  },
  {
   "cell_type": "code",
   "execution_count": 10,
   "metadata": {},
   "outputs": [
    {
     "data": {
      "text/plain": [
       "0"
      ]
     },
     "execution_count": 10,
     "metadata": {},
     "output_type": "execute_result"
    }
   ],
   "source": [
    "data = data[data['name'].isnull()==False]\n",
    "data['name'].isnull().sum()"
   ]
  },
  {
   "cell_type": "markdown",
   "metadata": {},
   "source": [
    "Строки где рейтинги неизвестны не буду удалять, так как они не помешают в наблюдениях "
   ]
  },
  {
   "cell_type": "markdown",
   "metadata": {},
   "source": [
    "Проанализирую пропуски в year_of_release"
   ]
  },
  {
   "cell_type": "code",
   "execution_count": 11,
   "metadata": {},
   "outputs": [],
   "source": [
    "#data['year_of_release'].isnull()\n",
    "#display(data[data['year_of_release'].isnull()==True])"
   ]
  },
  {
   "cell_type": "markdown",
   "metadata": {},
   "source": [
    "Можно заменить все пропуски медианным значением из строк с той же платформой, тогда получил приблизительно похожыие результаты, или можно удалить эти строки из таблицы, выберу второй вариант"
   ]
  },
  {
   "cell_type": "code",
   "execution_count": 12,
   "metadata": {},
   "outputs": [
    {
     "data": {
      "text/plain": [
       "0"
      ]
     },
     "execution_count": 12,
     "metadata": {},
     "output_type": "execute_result"
    }
   ],
   "source": [
    "data = data[data['year_of_release'].isnull()==False]\n",
    "data['year_of_release'].isnull().sum()"
   ]
  },
  {
   "cell_type": "markdown",
   "metadata": {},
   "source": [
    "Все пропуски были проработаны. Пропуски в столбце name связаны с человеческим фактором. Так как это самая важная ячейка в анализе. Пропуски в годе также непонятно с чем связаны. Пропуски в столбцах с рейтингаи возможно свяаны с небольшим количесвтом оценок от пользователей "
   ]
  },
  {
   "cell_type": "markdown",
   "metadata": {},
   "source": [
    "Посчитаю суммарные продажи во всех регионах и запишу их в отдельный столбец."
   ]
  },
  {
   "cell_type": "code",
   "execution_count": 13,
   "metadata": {},
   "outputs": [],
   "source": [
    "data\n",
    "data['sales'] = data['na_sales'] + data['eu_sales'] + data['jp_sales'] + data['other_sales']"
   ]
  },
  {
   "cell_type": "markdown",
   "metadata": {},
   "source": [
    "Проработаю дубликаты:"
   ]
  },
  {
   "cell_type": "code",
   "execution_count": 14,
   "metadata": {},
   "outputs": [
    {
     "data": {
      "text/plain": [
       "name               0\n",
       "platform           0\n",
       "year_of_release    0\n",
       "genre              0\n",
       "na_sales           0\n",
       "eu_sales           0\n",
       "jp_sales           0\n",
       "other_sales        0\n",
       "critic_score       0\n",
       "user_score         0\n",
       "rating             0\n",
       "sales              0\n",
       "dtype: int64"
      ]
     },
     "execution_count": 14,
     "metadata": {},
     "output_type": "execute_result"
    }
   ],
   "source": [
    "data[data.duplicated ()].count()"
   ]
  },
  {
   "cell_type": "markdown",
   "metadata": {},
   "source": [
    "Дубликатов нет"
   ]
  },
  {
   "cell_type": "markdown",
   "metadata": {},
   "source": [
    "В ходе предобрабоки данных были заменены имена столбцов в нижний регистр, была проведена работа с пропусками и были удалены строки с пропусками в name и year_of_release, проанализированы строки с tbd в user_score и эти строки были удалены"
   ]
  },
  {
   "cell_type": "markdown",
   "metadata": {},
   "source": [
    "#### 3 Шаг. Исследовательский анализ данных"
   ]
  },
  {
   "cell_type": "markdown",
   "metadata": {},
   "source": [
    "Рассмотрю, сколько игр выпускалось в разные годы:"
   ]
  },
  {
   "cell_type": "code",
   "execution_count": 15,
   "metadata": {},
   "outputs": [
    {
     "data": {
      "image/png": "[encoded data removed]",
      "text/plain": [
       "<Figure size 1000x500 with 1 Axes>"
      ]
     },
     "metadata": {},
     "output_type": "display_data"
    }
   ],
   "source": [
    "data['year_of_release'].value_counts()\n",
    "data['year_of_release'].hist(figsize = (10,5),bins = 80)\n",
    "plt.title('Количесвто продаж по годам',fontdict = {'fontsize' : 20})\n",
    "plt.xlabel('Год',fontdict = {'fontsize' : 14})\n",
    "plt.ylabel('Количество',fontdict = {'fontsize' : 14})\n",
    "plt.show()"
   ]
  },
  {
   "cell_type": "markdown",
   "metadata": {},
   "source": [
    "на этом графике хорошо видно в какой год сколько игр покупалось. Можно увидеть, что свой пик продажа игр достигла в 2008 году"
   ]
  },
  {
   "cell_type": "markdown",
   "metadata": {},
   "source": [
    "Посмотрю, как менялись продажи по платформам. Выберу платформы с наибольшими суммарными продажами и постройте распределение по годам. За какой характерный срок появляются новые и исчезают старые платформы?"
   ]
  },
  {
   "cell_type": "code",
   "execution_count": 16,
   "metadata": {},
   "outputs": [
    {
     "name": "stdout",
     "output_type": "stream",
     "text": [
      "platform\n",
      "PS2     2127\n",
      "DS      2121\n",
      "PS3     1306\n",
      "Wii     1286\n",
      "X360    1232\n",
      "PSP     1193\n",
      "PS      1190\n",
      "PC       957\n",
      "GBA      811\n",
      "XB       803\n",
      "GC       542\n",
      "3DS      512\n",
      "PSV      429\n",
      "PS4      392\n",
      "N64      316\n",
      "XOne     247\n",
      "SNES     239\n",
      "SAT      173\n",
      "WiiU     147\n",
      "2600     116\n",
      "NES       98\n",
      "GB        97\n",
      "DC        52\n",
      "GEN       27\n",
      "NG        12\n",
      "SCD        6\n",
      "WS         6\n",
      "3DO        3\n",
      "TG16       2\n",
      "GG         1\n",
      "PCFX       1\n",
      "Name: count, dtype: int64\n"
     ]
    },
    {
     "data": {
      "text/html": [
       "<div>\n",
       "<style scoped>\n",
       "    .dataframe tbody tr th:only-of-type {\n",
       "        vertical-align: middle;\n",
       "    }\n",
       "\n",
       "    .dataframe tbody tr th {\n",
       "        vertical-align: top;\n",
       "    }\n",
       "\n",
       "    .dataframe thead th {\n",
       "        text-align: right;\n",
       "    }\n",
       "</style>\n",
       "<table border=\"1\" class=\"dataframe\">\n",
       "  <thead>\n",
       "    <tr style=\"text-align: right;\">\n",
       "      <th></th>\n",
       "      <th></th>\n",
       "      <th>sales</th>\n",
       "    </tr>\n",
       "    <tr>\n",
       "      <th>platform</th>\n",
       "      <th>year_of_release</th>\n",
       "      <th></th>\n",
       "    </tr>\n",
       "  </thead>\n",
       "  <tbody>\n",
       "    <tr>\n",
       "      <th rowspan=\"5\" valign=\"top\">2600</th>\n",
       "      <th>1980.0</th>\n",
       "      <td>9</td>\n",
       "    </tr>\n",
       "    <tr>\n",
       "      <th>1981.0</th>\n",
       "      <td>46</td>\n",
       "    </tr>\n",
       "    <tr>\n",
       "      <th>1982.0</th>\n",
       "      <td>36</td>\n",
       "    </tr>\n",
       "    <tr>\n",
       "      <th>1983.0</th>\n",
       "      <td>11</td>\n",
       "    </tr>\n",
       "    <tr>\n",
       "      <th>1984.0</th>\n",
       "      <td>1</td>\n",
       "    </tr>\n",
       "    <tr>\n",
       "      <th>...</th>\n",
       "      <th>...</th>\n",
       "      <td>...</td>\n",
       "    </tr>\n",
       "    <tr>\n",
       "      <th>XB</th>\n",
       "      <th>2008.0</th>\n",
       "      <td>1</td>\n",
       "    </tr>\n",
       "    <tr>\n",
       "      <th rowspan=\"4\" valign=\"top\">XOne</th>\n",
       "      <th>2013.0</th>\n",
       "      <td>19</td>\n",
       "    </tr>\n",
       "    <tr>\n",
       "      <th>2014.0</th>\n",
       "      <td>61</td>\n",
       "    </tr>\n",
       "    <tr>\n",
       "      <th>2015.0</th>\n",
       "      <td>80</td>\n",
       "    </tr>\n",
       "    <tr>\n",
       "      <th>2016.0</th>\n",
       "      <td>87</td>\n",
       "    </tr>\n",
       "  </tbody>\n",
       "</table>\n",
       "<p>238 rows × 1 columns</p>\n",
       "</div>"
      ],
      "text/plain": [
       "                          sales\n",
       "platform year_of_release       \n",
       "2600     1980.0               9\n",
       "         1981.0              46\n",
       "         1982.0              36\n",
       "         1983.0              11\n",
       "         1984.0               1\n",
       "...                         ...\n",
       "XB       2008.0               1\n",
       "XOne     2013.0              19\n",
       "         2014.0              61\n",
       "         2015.0              80\n",
       "         2016.0              87\n",
       "\n",
       "[238 rows x 1 columns]"
      ]
     },
     "execution_count": 16,
     "metadata": {},
     "output_type": "execute_result"
    }
   ],
   "source": [
    "print(data['platform'].value_counts())\n",
    "data_platform_count = data.pivot_table(index = ['platform','year_of_release'],values = 'sales',aggfunc ='count')\n",
    "data_platform_count"
   ]
  },
  {
   "cell_type": "code",
   "execution_count": 17,
   "metadata": {},
   "outputs": [
    {
     "data": {
      "text/html": [
       "<div>\n",
       "<style scoped>\n",
       "    .dataframe tbody tr th:only-of-type {\n",
       "        vertical-align: middle;\n",
       "    }\n",
       "\n",
       "    .dataframe tbody tr th {\n",
       "        vertical-align: top;\n",
       "    }\n",
       "\n",
       "    .dataframe thead th {\n",
       "        text-align: right;\n",
       "    }\n",
       "</style>\n",
       "<table border=\"1\" class=\"dataframe\">\n",
       "  <thead>\n",
       "    <tr style=\"text-align: right;\">\n",
       "      <th></th>\n",
       "      <th>platform</th>\n",
       "      <th>year_of_release</th>\n",
       "      <th>sales</th>\n",
       "    </tr>\n",
       "  </thead>\n",
       "  <tbody>\n",
       "    <tr>\n",
       "      <th>116</th>\n",
       "      <td>PC</td>\n",
       "      <td>2014.0</td>\n",
       "      <td>47</td>\n",
       "    </tr>\n",
       "    <tr>\n",
       "      <th>117</th>\n",
       "      <td>PC</td>\n",
       "      <td>2015.0</td>\n",
       "      <td>50</td>\n",
       "    </tr>\n",
       "    <tr>\n",
       "      <th>118</th>\n",
       "      <td>PC</td>\n",
       "      <td>2016.0</td>\n",
       "      <td>54</td>\n",
       "    </tr>\n",
       "    <tr>\n",
       "      <th>150</th>\n",
       "      <td>PS3</td>\n",
       "      <td>2014.0</td>\n",
       "      <td>108</td>\n",
       "    </tr>\n",
       "    <tr>\n",
       "      <th>151</th>\n",
       "      <td>PS3</td>\n",
       "      <td>2015.0</td>\n",
       "      <td>73</td>\n",
       "    </tr>\n",
       "    <tr>\n",
       "      <th>152</th>\n",
       "      <td>PS3</td>\n",
       "      <td>2016.0</td>\n",
       "      <td>38</td>\n",
       "    </tr>\n",
       "    <tr>\n",
       "      <th>154</th>\n",
       "      <td>PS4</td>\n",
       "      <td>2014.0</td>\n",
       "      <td>75</td>\n",
       "    </tr>\n",
       "    <tr>\n",
       "      <th>155</th>\n",
       "      <td>PS4</td>\n",
       "      <td>2015.0</td>\n",
       "      <td>137</td>\n",
       "    </tr>\n",
       "    <tr>\n",
       "      <th>156</th>\n",
       "      <td>PS4</td>\n",
       "      <td>2016.0</td>\n",
       "      <td>164</td>\n",
       "    </tr>\n",
       "    <tr>\n",
       "      <th>222</th>\n",
       "      <td>X360</td>\n",
       "      <td>2014.0</td>\n",
       "      <td>63</td>\n",
       "    </tr>\n",
       "    <tr>\n",
       "      <th>223</th>\n",
       "      <td>X360</td>\n",
       "      <td>2015.0</td>\n",
       "      <td>35</td>\n",
       "    </tr>\n",
       "    <tr>\n",
       "      <th>224</th>\n",
       "      <td>X360</td>\n",
       "      <td>2016.0</td>\n",
       "      <td>13</td>\n",
       "    </tr>\n",
       "  </tbody>\n",
       "</table>\n",
       "</div>"
      ],
      "text/plain": [
       "    platform  year_of_release  sales\n",
       "116       PC           2014.0     47\n",
       "117       PC           2015.0     50\n",
       "118       PC           2016.0     54\n",
       "150      PS3           2014.0    108\n",
       "151      PS3           2015.0     73\n",
       "152      PS3           2016.0     38\n",
       "154      PS4           2014.0     75\n",
       "155      PS4           2015.0    137\n",
       "156      PS4           2016.0    164\n",
       "222     X360           2014.0     63\n",
       "223     X360           2015.0     35\n",
       "224     X360           2016.0     13"
      ]
     },
     "execution_count": 17,
     "metadata": {},
     "output_type": "execute_result"
    }
   ],
   "source": [
    "#исследую самые популярные платформы\n",
    "data_platform_count = data_platform_count.reset_index()\n",
    "data_platform_count = data_platform_count.query('(platform == \"PS\" or platform == \"PS2\" or platform == \"PS3\" or platform == \"PC\" or platform == \"DS\" or platform == \"X360\" or platform == \"PS4\") and year_of_release>2013')\n",
    "data_platform_count\n"
   ]
  },
  {
   "cell_type": "code",
   "execution_count": 18,
   "metadata": {},
   "outputs": [
    {
     "data": {
      "image/png": "[encoded data removed]",
      "text/plain": [
       "<Figure size 640x480 with 1 Axes>"
      ]
     },
     "metadata": {},
     "output_type": "display_data"
    }
   ],
   "source": [
    "data_platform_count.query('platform == \"PS3\"').plot(x = 'platform',y='year_of_release',kind = 'line')\n",
    "plt.title('Продажи PS3 по годам',fontdict = {'fontsize' : 20})\n",
    "plt.xlabel('PS3',fontdict = {'fontsize' : 14})\n",
    "plt.ylabel('Год',fontdict = {'fontsize' : 14})\n",
    "plt.show()"
   ]
  },
  {
   "cell_type": "code",
   "execution_count": 19,
   "metadata": {},
   "outputs": [
    {
     "data": {
      "image/png": "[encoded data removed]",
      "text/plain": [
       "<Figure size 640x480 with 1 Axes>"
      ]
     },
     "metadata": {},
     "output_type": "display_data"
    }
   ],
   "source": [
    "data_platform_count.query('platform == \"PS4\"').plot(x = 'platform',y='year_of_release',kind = 'line')\n",
    "plt.title('Продажи PS4 по годам',fontdict = {'fontsize' : 20})\n",
    "plt.xlabel('PS4',fontdict = {'fontsize' : 14})\n",
    "plt.ylabel('Год',fontdict = {'fontsize' : 14})\n",
    "plt.show()"
   ]
  },
  {
   "cell_type": "code",
   "execution_count": 20,
   "metadata": {},
   "outputs": [
    {
     "data": {
      "image/png": "[encoded data removed]",
      "text/plain": [
       "<Figure size 640x480 with 1 Axes>"
      ]
     },
     "metadata": {},
     "output_type": "display_data"
    }
   ],
   "source": [
    "data_platform_count.query('platform == \"X360\"').plot(x = 'platform',y='year_of_release',kind = 'line')\n",
    "plt.title('Продажи X360 по годам',fontdict = {'fontsize' : 20})\n",
    "plt.xlabel('X360',fontdict = {'fontsize' : 14})\n",
    "plt.ylabel('Год',fontdict = {'fontsize' : 14})\n",
    "#plt.ylim(2013,2017)\n",
    "plt.show()"
   ]
  },
  {
   "cell_type": "code",
   "execution_count": 21,
   "metadata": {},
   "outputs": [
    {
     "data": {
      "image/png": "[encoded data removed]",
      "text/plain": [
       "<Figure size 640x480 with 1 Axes>"
      ]
     },
     "metadata": {},
     "output_type": "display_data"
    }
   ],
   "source": [
    "data_platform_count.query('platform == \"PC\"').plot(x = 'platform',y='year_of_release',kind = 'line')\n",
    "plt.title('Продажи PC по годам',fontdict = {'fontsize' : 20})\n",
    "plt.xlabel('PC',fontdict = {'fontsize' : 14})\n",
    "plt.ylabel('Год',fontdict = {'fontsize' : 14})\n",
    "#plt.ylim(2013,2017)\n",
    "plt.show()"
   ]
  },
  {
   "cell_type": "markdown",
   "metadata": {},
   "source": [
    "Для наглядности были выбраны самые популярные в датасете платформы, а также вся линейка консолей PS. Можно увидеть что с выходом новых консолей постепенно поднимается и их популярность, тем временем пк популярен всегда\n"
   ]
  },
  {
   "cell_type": "markdown",
   "metadata": {},
   "source": [
    "Возьмите данные за соответствующий актуальный период. Актуальный период определите самостоятельно в результате исследования предыдущих вопросов. Основной фактор — эти данные помогут построить прогноз на 2017 год."
   ]
  },
  {
   "cell_type": "markdown",
   "metadata": {},
   "source": [
    "Судя по графику \"Количесвто продаж по годам\" количестов проданных игр будет примерно как в 2016. По графику 'Самые популярные платформы и годы популярности игр на них' можно отметить, что продолжится рост популярности на современные консоли, такие как ps4 и начнут уходить такие консоли как ps3 x360"
   ]
  },
  {
   "cell_type": "markdown",
   "metadata": {},
   "source": [
    "Какие платформы лидируют по продажам, растут или падают? Выберите несколько потенциально прибыльных платформ."
   ]
  },
  {
   "cell_type": "markdown",
   "metadata": {},
   "source": [
    "PS2     1891;\n",
    "DS      1377;\n",
    "PS3     1219;\n",
    "X360    1149;\n",
    "PS      1146. Это самые популярные консоли в датасете с 1984"
   ]
  },
  {
   "cell_type": "markdown",
   "metadata": {},
   "source": [
    "По графикам видно, что новые консоли будут расти по отношению к старым. Для потдвержения посмотрю список самых популярных платформ за 2016"
   ]
  },
  {
   "cell_type": "code",
   "execution_count": 22,
   "metadata": {},
   "outputs": [
    {
     "data": {
      "text/plain": [
       "platform\n",
       "PS4     164\n",
       "XOne     87\n",
       "PSV      85\n",
       "PC       54\n",
       "3DS      46\n",
       "PS3      38\n",
       "WiiU     14\n",
       "X360     13\n",
       "Wii       1\n",
       "Name: count, dtype: int64"
      ]
     },
     "execution_count": 22,
     "metadata": {},
     "output_type": "execute_result"
    }
   ],
   "source": [
    "data_16_year = data[data['year_of_release'] == 2016]\n",
    "data_16_year['platform'].value_counts()"
   ]
  },
  {
   "cell_type": "markdown",
   "metadata": {},
   "source": [
    "По показателям за 2016 год можно удтвердиться в прошлых наблюдениях, тут лидируют ps4,xone,psv в то время как PS2, которая лидер во всей таблице, в 2016 году отсуствует. Такая тенденция будет продолжаться и в 2017"
   ]
  },
  {
   "cell_type": "markdown",
   "metadata": {},
   "source": [
    "Постройте график «ящик с усами» по глобальным продажам игр в разбивке по платформам."
   ]
  },
  {
   "cell_type": "code",
   "execution_count": 23,
   "metadata": {},
   "outputs": [
    {
     "data": {
      "image/png": "[encoded data removed]",
      "text/plain": [
       "<Figure size 1800x600 with 1 Axes>"
      ]
     },
     "metadata": {},
     "output_type": "display_data"
    }
   ],
   "source": [
    "data_popular_platform = data.query('(platform == \"PS\" or platform == \"PS2\" or platform == \"PS3\" or platform == \"PC\" or platform == \"DS\" or platform == \"X360\" or platform == \"PS4\") and year_of_release>2013')\n",
    "data_popular_platform.boxplot(column = 'sales',by = 'platform',figsize = (18,6))\n",
    "plt.title('Глобальные продажи игр в разбивке по платформам.',fontdict = {'fontsize' : 20})\n",
    "plt.xlabel('Платформы',fontdict = {'fontsize' : 14})\n",
    "plt.ylabel('количество',fontdict = {'fontsize' : 14})\n",
    "plt.ylim(0,8)\n",
    "plt.show()"
   ]
  },
  {
   "cell_type": "markdown",
   "metadata": {},
   "source": [
    "По графику мы еще раз можем увидеть популряность плафторм "
   ]
  },
  {
   "cell_type": "markdown",
   "metadata": {},
   "source": [
    "Посмотрите, как влияют на продажи внутри одной популярной платформы отзывы пользователей и критиков. Постройте диаграмму рассеяния и посчитайте корреляцию между отзывами и продажами. Посмотрю на примере ps3"
   ]
  },
  {
   "cell_type": "code",
   "execution_count": 24,
   "metadata": {},
   "outputs": [
    {
     "name": "stdout",
     "output_type": "stream",
     "text": [
      "0.19996195715548157\n"
     ]
    },
    {
     "data": {
      "image/png": "[encoded data removed]",
      "text/plain": [
       "<Figure size 1800x600 with 1 Axes>"
      ]
     },
     "metadata": {},
     "output_type": "display_data"
    }
   ],
   "source": [
    "data_ps3 = data[data['platform'] == 'PS3']\n",
    "data_ps3\n",
    "print(data_ps3['sales'].corr(data_ps3['user_score']))\n",
    "data_ps3.plot(x = 'user_score',y='sales',kind = 'scatter',alpha = 0.5,figsize = (18,6))\n",
    "plt.title('Отношение продаж и оценки пользователей',fontdict = {'fontsize' : 20})\n",
    "plt.xlabel('Оценки пользователей',fontdict = {'fontsize' : 14})\n",
    "plt.ylabel('Продажи',fontdict = {'fontsize' : 14})\n",
    "plt.show()"
   ]
  },
  {
   "cell_type": "markdown",
   "metadata": {},
   "source": [
    "Отзывы пользователей почти не влияют на продажи, но все же немного больше продаж у игр с болшьими баллами"
   ]
  },
  {
   "cell_type": "code",
   "execution_count": 25,
   "metadata": {},
   "outputs": [
    {
     "name": "stdout",
     "output_type": "stream",
     "text": [
      "0.43275895789971397\n"
     ]
    },
    {
     "data": {
      "image/png": "[encoded data removed]",
      "text/plain": [
       "<Figure size 1800x600 with 1 Axes>"
      ]
     },
     "metadata": {},
     "output_type": "display_data"
    }
   ],
   "source": [
    "print(data_ps3['sales'].corr(data_ps3['critic_score']))\n",
    "data_ps3.plot(x = 'critic_score',y='sales',kind = 'scatter',alpha = 0.5,figsize = (18,6))\n",
    "plt.title('Отношение продаж и оценки критиков',fontdict = {'fontsize' : 20})\n",
    "plt.xlabel('Оценки критиков',fontdict = {'fontsize' : 14})\n",
    "plt.ylabel('Продажи',fontdict = {'fontsize' : 14})\n",
    "plt.show()"
   ]
  },
  {
   "cell_type": "markdown",
   "metadata": {},
   "source": [
    "как можно заметить, оценки критиков больше зависит на продажи чем оценки пользователей"
   ]
  },
  {
   "cell_type": "markdown",
   "metadata": {},
   "source": [
    "Соотнесите выводы с продажами игр на других платформах. Проверю эту тендению с другой платформой:"
   ]
  },
  {
   "cell_type": "code",
   "execution_count": 26,
   "metadata": {},
   "outputs": [
    {
     "name": "stdout",
     "output_type": "stream",
     "text": [
      "0.0626278007914455\n"
     ]
    },
    {
     "data": {
      "image/png": "[encoded data removed]",
      "text/plain": [
       "<Figure size 1800x600 with 1 Axes>"
      ]
     },
     "metadata": {},
     "output_type": "display_data"
    }
   ],
   "source": [
    "data_pc = data[data['platform'] == 'PC']\n",
    "data_pc\n",
    "print(data_pc['sales'].corr(data_pc['user_score']))\n",
    "data_pc.plot(x = 'user_score',y='sales',kind = 'scatter',alpha = 0.5,figsize = (18,6))\n",
    "plt.title('Отношение продаж и оценки пользователей',fontdict = {'fontsize' : 20})\n",
    "plt.xlabel('Оценки пользователей',fontdict = {'fontsize' : 14})\n",
    "plt.ylabel('Продажи',fontdict = {'fontsize' : 14})\n",
    "plt.show()"
   ]
  },
  {
   "cell_type": "code",
   "execution_count": 27,
   "metadata": {},
   "outputs": [
    {
     "name": "stdout",
     "output_type": "stream",
     "text": [
      "0.2573947184009853\n"
     ]
    },
    {
     "data": {
      "image/png": "[encoded data removed]",
      "text/plain": [
       "<Figure size 1800x600 with 1 Axes>"
      ]
     },
     "metadata": {},
     "output_type": "display_data"
    }
   ],
   "source": [
    "print(data_pc['sales'].corr(data_pc['critic_score']))\n",
    "data_pc.plot(x = 'critic_score',y='sales',kind = 'scatter',alpha = 0.5,figsize = (18,6))\n",
    "plt.title('Отношение продаж и оценки критиков',fontdict = {'fontsize' : 20})\n",
    "plt.xlabel('Оценки критиков',fontdict = {'fontsize' : 14})\n",
    "plt.ylabel('Продажи',fontdict = {'fontsize' : 14})\n",
    "plt.show()"
   ]
  },
  {
   "cell_type": "markdown",
   "metadata": {},
   "source": [
    "Как мы видим на ПК еще меньше зависят оценки на продажи, оценки пользователей тут вообще не влияют"
   ]
  },
  {
   "cell_type": "markdown",
   "metadata": {},
   "source": [
    "Посмотрите на общее распределение игр по жанрам. Что можно сказать о самых прибыльных жанрах? Выделяются ли жанры с высокими и низкими продажами?"
   ]
  },
  {
   "cell_type": "code",
   "execution_count": 28,
   "metadata": {},
   "outputs": [
    {
     "data": {
      "text/html": [
       "<div>\n",
       "<style scoped>\n",
       "    .dataframe tbody tr th:only-of-type {\n",
       "        vertical-align: middle;\n",
       "    }\n",
       "\n",
       "    .dataframe tbody tr th {\n",
       "        vertical-align: top;\n",
       "    }\n",
       "\n",
       "    .dataframe thead th {\n",
       "        text-align: right;\n",
       "    }\n",
       "</style>\n",
       "<table border=\"1\" class=\"dataframe\">\n",
       "  <thead>\n",
       "    <tr style=\"text-align: right;\">\n",
       "      <th></th>\n",
       "      <th>sales</th>\n",
       "    </tr>\n",
       "    <tr>\n",
       "      <th>genre</th>\n",
       "      <th></th>\n",
       "    </tr>\n",
       "  </thead>\n",
       "  <tbody>\n",
       "    <tr>\n",
       "      <th>Action</th>\n",
       "      <td>0.519057</td>\n",
       "    </tr>\n",
       "    <tr>\n",
       "      <th>Adventure</th>\n",
       "      <td>0.180456</td>\n",
       "    </tr>\n",
       "    <tr>\n",
       "      <th>Fighting</th>\n",
       "      <td>0.528865</td>\n",
       "    </tr>\n",
       "    <tr>\n",
       "      <th>Misc</th>\n",
       "      <td>0.459204</td>\n",
       "    </tr>\n",
       "    <tr>\n",
       "      <th>Platform</th>\n",
       "      <td>0.940262</td>\n",
       "    </tr>\n",
       "    <tr>\n",
       "      <th>Puzzle</th>\n",
       "      <td>0.421599</td>\n",
       "    </tr>\n",
       "    <tr>\n",
       "      <th>Racing</th>\n",
       "      <td>0.590122</td>\n",
       "    </tr>\n",
       "    <tr>\n",
       "      <th>Role-Playing</th>\n",
       "      <td>0.628683</td>\n",
       "    </tr>\n",
       "    <tr>\n",
       "      <th>Shooter</th>\n",
       "      <td>0.803519</td>\n",
       "    </tr>\n",
       "    <tr>\n",
       "      <th>Simulation</th>\n",
       "      <td>0.452695</td>\n",
       "    </tr>\n",
       "    <tr>\n",
       "      <th>Sports</th>\n",
       "      <td>0.567940</td>\n",
       "    </tr>\n",
       "    <tr>\n",
       "      <th>Strategy</th>\n",
       "      <td>0.256419</td>\n",
       "    </tr>\n",
       "  </tbody>\n",
       "</table>\n",
       "</div>"
      ],
      "text/plain": [
       "                 sales\n",
       "genre                 \n",
       "Action        0.519057\n",
       "Adventure     0.180456\n",
       "Fighting      0.528865\n",
       "Misc          0.459204\n",
       "Platform      0.940262\n",
       "Puzzle        0.421599\n",
       "Racing        0.590122\n",
       "Role-Playing  0.628683\n",
       "Shooter       0.803519\n",
       "Simulation    0.452695\n",
       "Sports        0.567940\n",
       "Strategy      0.256419"
      ]
     },
     "metadata": {},
     "output_type": "display_data"
    },
    {
     "data": {
      "image/png": "[encoded data removed]",
      "text/plain": [
       "<Figure size 1800x600 with 1 Axes>"
      ]
     },
     "metadata": {},
     "output_type": "display_data"
    }
   ],
   "source": [
    "data_genre = data.pivot_table(index = 'genre',values = 'sales',aggfunc = 'mean')\n",
    "display(data_genre)\n",
    "data_genre.plot(kind = 'bar',figsize = (18,6))\n",
    "plt.title('Распределение игр по жанрам',fontdict = {'fontsize' : 20})\n",
    "plt.xlabel('жанр',fontdict = {'fontsize' : 14})\n",
    "plt.ylabel('Сборы',fontdict = {'fontsize' : 14})\n",
    "plt.show()"
   ]
  },
  {
   "cell_type": "markdown",
   "metadata": {},
   "source": [
    "Самые популярные жанры это Action,Adventure,Fighting; Самые непопулярные: Sports Strategy"
   ]
  },
  {
   "cell_type": "markdown",
   "metadata": {},
   "source": [
    "В ходе анализа данных было проанализировано множесто зависимостей: пик продажа игр достигла в 2008 году; Можно увидеть что с выходом новых консолей постепенно пожнимается и их популярность, тем временем пк популярен всегда, По показателям за 2016 год можно удтвердиться в прошлых наблюдениях, тут лидируют ps4,xone,psv в то время как PS2, которая лидер во всей таблице, в 2016 году отсуствует. Такая тенденция будет продолжаться и в 2017; Отзывы пользователей почти не влияют на продажи, Отзывы критиков влияют немного больше; Самые популярные жанры это Action,Adventure,Fighting; Самые непопулярные: Sports Strategy"
   ]
  },
  {
   "cell_type": "markdown",
   "metadata": {},
   "source": [
    "#### 4 Шаг. Составьте портрет пользователя каждого региона"
   ]
  },
  {
   "cell_type": "markdown",
   "metadata": {},
   "source": [
    "Определите для пользователя каждого региона (NA, EU, JP):\n",
    "Самые популярные платформы (топ-5). Опишите различия в долях продаж.\n",
    "Самые популярные жанры (топ-5)"
   ]
  },
  {
   "cell_type": "code",
   "execution_count": 29,
   "metadata": {},
   "outputs": [
    {
     "data": {
      "text/html": [
       "<div>\n",
       "<style scoped>\n",
       "    .dataframe tbody tr th:only-of-type {\n",
       "        vertical-align: middle;\n",
       "    }\n",
       "\n",
       "    .dataframe tbody tr th {\n",
       "        vertical-align: top;\n",
       "    }\n",
       "\n",
       "    .dataframe thead th {\n",
       "        text-align: right;\n",
       "    }\n",
       "</style>\n",
       "<table border=\"1\" class=\"dataframe\">\n",
       "  <thead>\n",
       "    <tr style=\"text-align: right;\">\n",
       "      <th></th>\n",
       "      <th>na_sales</th>\n",
       "    </tr>\n",
       "    <tr>\n",
       "      <th>platform</th>\n",
       "      <th></th>\n",
       "    </tr>\n",
       "  </thead>\n",
       "  <tbody>\n",
       "    <tr>\n",
       "      <th>X360</th>\n",
       "      <td>595.74</td>\n",
       "    </tr>\n",
       "    <tr>\n",
       "      <th>PS2</th>\n",
       "      <td>572.92</td>\n",
       "    </tr>\n",
       "    <tr>\n",
       "      <th>Wii</th>\n",
       "      <td>486.87</td>\n",
       "    </tr>\n",
       "    <tr>\n",
       "      <th>PS3</th>\n",
       "      <td>390.13</td>\n",
       "    </tr>\n",
       "    <tr>\n",
       "      <th>DS</th>\n",
       "      <td>380.31</td>\n",
       "    </tr>\n",
       "  </tbody>\n",
       "</table>\n",
       "</div>"
      ],
      "text/plain": [
       "          na_sales\n",
       "platform          \n",
       "X360        595.74\n",
       "PS2         572.92\n",
       "Wii         486.87\n",
       "PS3         390.13\n",
       "DS          380.31"
      ]
     },
     "metadata": {},
     "output_type": "display_data"
    },
    {
     "data": {
      "text/html": [
       "<div>\n",
       "<style scoped>\n",
       "    .dataframe tbody tr th:only-of-type {\n",
       "        vertical-align: middle;\n",
       "    }\n",
       "\n",
       "    .dataframe tbody tr th {\n",
       "        vertical-align: top;\n",
       "    }\n",
       "\n",
       "    .dataframe thead th {\n",
       "        text-align: right;\n",
       "    }\n",
       "</style>\n",
       "<table border=\"1\" class=\"dataframe\">\n",
       "  <thead>\n",
       "    <tr style=\"text-align: right;\">\n",
       "      <th></th>\n",
       "      <th>eu_sales</th>\n",
       "    </tr>\n",
       "    <tr>\n",
       "      <th>platform</th>\n",
       "      <th></th>\n",
       "    </tr>\n",
       "  </thead>\n",
       "  <tbody>\n",
       "    <tr>\n",
       "      <th>PS2</th>\n",
       "      <td>332.63</td>\n",
       "    </tr>\n",
       "    <tr>\n",
       "      <th>PS3</th>\n",
       "      <td>327.21</td>\n",
       "    </tr>\n",
       "    <tr>\n",
       "      <th>X360</th>\n",
       "      <td>268.32</td>\n",
       "    </tr>\n",
       "    <tr>\n",
       "      <th>Wii</th>\n",
       "      <td>258.32</td>\n",
       "    </tr>\n",
       "    <tr>\n",
       "      <th>PS</th>\n",
       "      <td>212.39</td>\n",
       "    </tr>\n",
       "  </tbody>\n",
       "</table>\n",
       "</div>"
      ],
      "text/plain": [
       "          eu_sales\n",
       "platform          \n",
       "PS2         332.63\n",
       "PS3         327.21\n",
       "X360        268.32\n",
       "Wii         258.32\n",
       "PS          212.39"
      ]
     },
     "metadata": {},
     "output_type": "display_data"
    },
    {
     "data": {
      "text/html": [
       "<div>\n",
       "<style scoped>\n",
       "    .dataframe tbody tr th:only-of-type {\n",
       "        vertical-align: middle;\n",
       "    }\n",
       "\n",
       "    .dataframe tbody tr th {\n",
       "        vertical-align: top;\n",
       "    }\n",
       "\n",
       "    .dataframe thead th {\n",
       "        text-align: right;\n",
       "    }\n",
       "</style>\n",
       "<table border=\"1\" class=\"dataframe\">\n",
       "  <thead>\n",
       "    <tr style=\"text-align: right;\">\n",
       "      <th></th>\n",
       "      <th>jp_sales</th>\n",
       "    </tr>\n",
       "    <tr>\n",
       "      <th>platform</th>\n",
       "      <th></th>\n",
       "    </tr>\n",
       "  </thead>\n",
       "  <tbody>\n",
       "    <tr>\n",
       "      <th>DS</th>\n",
       "      <td>175.02</td>\n",
       "    </tr>\n",
       "    <tr>\n",
       "      <th>PS</th>\n",
       "      <td>139.78</td>\n",
       "    </tr>\n",
       "    <tr>\n",
       "      <th>PS2</th>\n",
       "      <td>137.54</td>\n",
       "    </tr>\n",
       "    <tr>\n",
       "      <th>SNES</th>\n",
       "      <td>116.55</td>\n",
       "    </tr>\n",
       "    <tr>\n",
       "      <th>3DS</th>\n",
       "      <td>100.62</td>\n",
       "    </tr>\n",
       "  </tbody>\n",
       "</table>\n",
       "</div>"
      ],
      "text/plain": [
       "          jp_sales\n",
       "platform          \n",
       "DS          175.02\n",
       "PS          139.78\n",
       "PS2         137.54\n",
       "SNES        116.55\n",
       "3DS         100.62"
      ]
     },
     "metadata": {},
     "output_type": "display_data"
    }
   ],
   "source": [
    "data_platform_na = data.pivot_table(index = 'platform',values = 'na_sales',aggfunc = 'sum')\n",
    "display(data_platform_na.sort_values(by = 'na_sales',ascending = False).head(5))\n",
    "\n",
    "data_platform_eu = data.pivot_table(index = 'platform',values = 'eu_sales',aggfunc = 'sum')\n",
    "display(data_platform_eu.sort_values(by = 'eu_sales',ascending = False).head(5))\n",
    "\n",
    "data_platform_jp = data.pivot_table(index = 'platform',values = 'jp_sales',aggfunc = 'sum')\n",
    "display(data_platform_jp.sort_values(by = 'jp_sales',ascending = False).head(5))"
   ]
  },
  {
   "cell_type": "markdown",
   "metadata": {},
   "source": [
    "Можно заметить, что x360 очень популярен в Северной Америке и Европе, но не популярен в Японии, что логично, потому что японцы больше поддерживают своих производителей "
   ]
  },
  {
   "cell_type": "code",
   "execution_count": 30,
   "metadata": {},
   "outputs": [
    {
     "data": {
      "text/html": [
       "<div>\n",
       "<style scoped>\n",
       "    .dataframe tbody tr th:only-of-type {\n",
       "        vertical-align: middle;\n",
       "    }\n",
       "\n",
       "    .dataframe tbody tr th {\n",
       "        vertical-align: top;\n",
       "    }\n",
       "\n",
       "    .dataframe thead th {\n",
       "        text-align: right;\n",
       "    }\n",
       "</style>\n",
       "<table border=\"1\" class=\"dataframe\">\n",
       "  <thead>\n",
       "    <tr style=\"text-align: right;\">\n",
       "      <th></th>\n",
       "      <th>na_sales</th>\n",
       "    </tr>\n",
       "    <tr>\n",
       "      <th>genre</th>\n",
       "      <th></th>\n",
       "    </tr>\n",
       "  </thead>\n",
       "  <tbody>\n",
       "    <tr>\n",
       "      <th>Action</th>\n",
       "      <td>863.17</td>\n",
       "    </tr>\n",
       "    <tr>\n",
       "      <th>Sports</th>\n",
       "      <td>671.20</td>\n",
       "    </tr>\n",
       "    <tr>\n",
       "      <th>Shooter</th>\n",
       "      <td>584.83</td>\n",
       "    </tr>\n",
       "    <tr>\n",
       "      <th>Platform</th>\n",
       "      <td>444.44</td>\n",
       "    </tr>\n",
       "    <tr>\n",
       "      <th>Misc</th>\n",
       "      <td>399.57</td>\n",
       "    </tr>\n",
       "  </tbody>\n",
       "</table>\n",
       "</div>"
      ],
      "text/plain": [
       "          na_sales\n",
       "genre             \n",
       "Action      863.17\n",
       "Sports      671.20\n",
       "Shooter     584.83\n",
       "Platform    444.44\n",
       "Misc        399.57"
      ]
     },
     "metadata": {},
     "output_type": "display_data"
    },
    {
     "data": {
      "text/html": [
       "<div>\n",
       "<style scoped>\n",
       "    .dataframe tbody tr th:only-of-type {\n",
       "        vertical-align: middle;\n",
       "    }\n",
       "\n",
       "    .dataframe tbody tr th {\n",
       "        vertical-align: top;\n",
       "    }\n",
       "\n",
       "    .dataframe thead th {\n",
       "        text-align: right;\n",
       "    }\n",
       "</style>\n",
       "<table border=\"1\" class=\"dataframe\">\n",
       "  <thead>\n",
       "    <tr style=\"text-align: right;\">\n",
       "      <th></th>\n",
       "      <th>eu_sales</th>\n",
       "    </tr>\n",
       "    <tr>\n",
       "      <th>genre</th>\n",
       "      <th></th>\n",
       "    </tr>\n",
       "  </thead>\n",
       "  <tbody>\n",
       "    <tr>\n",
       "      <th>Action</th>\n",
       "      <td>510.99</td>\n",
       "    </tr>\n",
       "    <tr>\n",
       "      <th>Sports</th>\n",
       "      <td>371.33</td>\n",
       "    </tr>\n",
       "    <tr>\n",
       "      <th>Shooter</th>\n",
       "      <td>314.52</td>\n",
       "    </tr>\n",
       "    <tr>\n",
       "      <th>Racing</th>\n",
       "      <td>234.49</td>\n",
       "    </tr>\n",
       "    <tr>\n",
       "      <th>Misc</th>\n",
       "      <td>210.60</td>\n",
       "    </tr>\n",
       "  </tbody>\n",
       "</table>\n",
       "</div>"
      ],
      "text/plain": [
       "         eu_sales\n",
       "genre            \n",
       "Action     510.99\n",
       "Sports     371.33\n",
       "Shooter    314.52\n",
       "Racing     234.49\n",
       "Misc       210.60"
      ]
     },
     "metadata": {},
     "output_type": "display_data"
    },
    {
     "data": {
      "text/html": [
       "<div>\n",
       "<style scoped>\n",
       "    .dataframe tbody tr th:only-of-type {\n",
       "        vertical-align: middle;\n",
       "    }\n",
       "\n",
       "    .dataframe tbody tr th {\n",
       "        vertical-align: top;\n",
       "    }\n",
       "\n",
       "    .dataframe thead th {\n",
       "        text-align: right;\n",
       "    }\n",
       "</style>\n",
       "<table border=\"1\" class=\"dataframe\">\n",
       "  <thead>\n",
       "    <tr style=\"text-align: right;\">\n",
       "      <th></th>\n",
       "      <th>jp_sales</th>\n",
       "    </tr>\n",
       "    <tr>\n",
       "      <th>genre</th>\n",
       "      <th></th>\n",
       "    </tr>\n",
       "  </thead>\n",
       "  <tbody>\n",
       "    <tr>\n",
       "      <th>Role-Playing</th>\n",
       "      <td>353.39</td>\n",
       "    </tr>\n",
       "    <tr>\n",
       "      <th>Action</th>\n",
       "      <td>160.14</td>\n",
       "    </tr>\n",
       "    <tr>\n",
       "      <th>Sports</th>\n",
       "      <td>134.93</td>\n",
       "    </tr>\n",
       "    <tr>\n",
       "      <th>Platform</th>\n",
       "      <td>130.71</td>\n",
       "    </tr>\n",
       "    <tr>\n",
       "      <th>Misc</th>\n",
       "      <td>107.02</td>\n",
       "    </tr>\n",
       "  </tbody>\n",
       "</table>\n",
       "</div>"
      ],
      "text/plain": [
       "              jp_sales\n",
       "genre                 \n",
       "Role-Playing    353.39\n",
       "Action          160.14\n",
       "Sports          134.93\n",
       "Platform        130.71\n",
       "Misc            107.02"
      ]
     },
     "metadata": {},
     "output_type": "display_data"
    }
   ],
   "source": [
    "data_genre_na = data.pivot_table(index = 'genre',values = 'na_sales',aggfunc = 'sum')\n",
    "display(data_genre_na.sort_values(by = 'na_sales',ascending = False).head(5))\n",
    "\n",
    "data_genre_eu = data.pivot_table(index = 'genre',values = 'eu_sales',aggfunc = 'sum')\n",
    "display(data_genre_eu.sort_values(by = 'eu_sales',ascending = False).head(5))\n",
    "\n",
    "data_genre_jp = data.pivot_table(index = 'genre',values = 'jp_sales',aggfunc = 'sum')\n",
    "display(data_genre_jp.sort_values(by = 'jp_sales',ascending = False).head(5))"
   ]
  },
  {
   "cell_type": "markdown",
   "metadata": {},
   "source": [
    "В Северной Америке и Европы опять похожы результаты, в Японии же на первое место вырываются ролевые игры"
   ]
  },
  {
   "cell_type": "markdown",
   "metadata": {},
   "source": [
    "Влияет ли рейтинг ESRB на продажи в отдельном регионе?"
   ]
  },
  {
   "cell_type": "code",
   "execution_count": 31,
   "metadata": {},
   "outputs": [
    {
     "data": {
      "text/html": [
       "<div>\n",
       "<style scoped>\n",
       "    .dataframe tbody tr th:only-of-type {\n",
       "        vertical-align: middle;\n",
       "    }\n",
       "\n",
       "    .dataframe tbody tr th {\n",
       "        vertical-align: top;\n",
       "    }\n",
       "\n",
       "    .dataframe thead th {\n",
       "        text-align: right;\n",
       "    }\n",
       "</style>\n",
       "<table border=\"1\" class=\"dataframe\">\n",
       "  <thead>\n",
       "    <tr style=\"text-align: right;\">\n",
       "      <th></th>\n",
       "      <th>rating</th>\n",
       "      <th>eu_sales</th>\n",
       "      <th>jp_sales</th>\n",
       "      <th>na_sales</th>\n",
       "    </tr>\n",
       "  </thead>\n",
       "  <tbody>\n",
       "    <tr>\n",
       "      <th>0</th>\n",
       "      <td>AO</td>\n",
       "      <td>0.61</td>\n",
       "      <td>0.00</td>\n",
       "      <td>1.26</td>\n",
       "    </tr>\n",
       "    <tr>\n",
       "      <th>1</th>\n",
       "      <td>E</td>\n",
       "      <td>703.87</td>\n",
       "      <td>197.96</td>\n",
       "      <td>1274.24</td>\n",
       "    </tr>\n",
       "    <tr>\n",
       "      <th>2</th>\n",
       "      <td>E10+</td>\n",
       "      <td>183.35</td>\n",
       "      <td>40.20</td>\n",
       "      <td>345.50</td>\n",
       "    </tr>\n",
       "    <tr>\n",
       "      <th>3</th>\n",
       "      <td>EC</td>\n",
       "      <td>0.11</td>\n",
       "      <td>0.00</td>\n",
       "      <td>1.53</td>\n",
       "    </tr>\n",
       "    <tr>\n",
       "      <th>4</th>\n",
       "      <td>K-A</td>\n",
       "      <td>0.27</td>\n",
       "      <td>1.46</td>\n",
       "      <td>2.56</td>\n",
       "    </tr>\n",
       "    <tr>\n",
       "      <th>5</th>\n",
       "      <td>M</td>\n",
       "      <td>480.00</td>\n",
       "      <td>63.58</td>\n",
       "      <td>742.89</td>\n",
       "    </tr>\n",
       "    <tr>\n",
       "      <th>6</th>\n",
       "      <td>RP</td>\n",
       "      <td>0.03</td>\n",
       "      <td>0.00</td>\n",
       "      <td>0.00</td>\n",
       "    </tr>\n",
       "    <tr>\n",
       "      <th>7</th>\n",
       "      <td>T</td>\n",
       "      <td>421.79</td>\n",
       "      <td>150.70</td>\n",
       "      <td>747.60</td>\n",
       "    </tr>\n",
       "  </tbody>\n",
       "</table>\n",
       "</div>"
      ],
      "text/plain": [
       "  rating  eu_sales  jp_sales  na_sales\n",
       "0     AO      0.61      0.00      1.26\n",
       "1      E    703.87    197.96   1274.24\n",
       "2   E10+    183.35     40.20    345.50\n",
       "3     EC      0.11      0.00      1.53\n",
       "4    K-A      0.27      1.46      2.56\n",
       "5      M    480.00     63.58    742.89\n",
       "6     RP      0.03      0.00      0.00\n",
       "7      T    421.79    150.70    747.60"
      ]
     },
     "execution_count": 31,
     "metadata": {},
     "output_type": "execute_result"
    }
   ],
   "source": [
    "#Составлю общую табдицу на продажи по регионам и esrb\n",
    "data_rating = data.pivot_table(index = 'rating',values = ['na_sales','eu_sales','jp_sales'],aggfunc = 'sum')\n",
    "data_rating =data_rating.reset_index()\n",
    "data_rating"
   ]
  },
  {
   "cell_type": "code",
   "execution_count": 32,
   "metadata": {},
   "outputs": [
    {
     "data": {
      "image/png": "[encoded data removed]",
      "text/plain": [
       "<Figure size 1000x600 with 1 Axes>"
      ]
     },
     "metadata": {},
     "output_type": "display_data"
    }
   ],
   "source": [
    "#print(data_rating['na_sales'].corr(data_rating['rating']))\n",
    "data_rating.plot(x = 'rating',y='na_sales',kind = 'barh',alpha = 0.5,figsize = (10,6))\n",
    "plt.title('Отношение продаж в Северной Америке ESRB',fontdict = {'fontsize' : 20})\n",
    "plt.xlabel('ESRB',fontdict = {'fontsize' : 14})\n",
    "plt.ylabel('Прожажи',fontdict = {'fontsize' : 14})\n",
    "plt.show()"
   ]
  },
  {
   "cell_type": "code",
   "execution_count": 33,
   "metadata": {},
   "outputs": [
    {
     "data": {
      "image/png": "[encoded data removed]",
      "text/plain": [
       "<Figure size 1000x600 with 1 Axes>"
      ]
     },
     "metadata": {},
     "output_type": "display_data"
    }
   ],
   "source": [
    "data_rating.plot(x = 'rating',y='eu_sales',kind = 'barh',alpha = 0.5,figsize = (10,6))\n",
    "plt.title('Отношение продаж в Европе ESRB',fontdict = {'fontsize' : 20})\n",
    "plt.xlabel('ESRB',fontdict = {'fontsize' : 14})\n",
    "plt.ylabel('Прожажи',fontdict = {'fontsize' : 14})\n",
    "plt.show()"
   ]
  },
  {
   "cell_type": "code",
   "execution_count": 34,
   "metadata": {},
   "outputs": [
    {
     "data": {
      "image/png": "[encoded data removed]",
      "text/plain": [
       "<Figure size 1000x600 with 1 Axes>"
      ]
     },
     "metadata": {},
     "output_type": "display_data"
    }
   ],
   "source": [
    "data_rating.plot(x = 'rating',y='jp_sales',kind = 'barh',alpha = 0.5,figsize = (10,6))\n",
    "plt.title('Отношение продаж в Японии ESRB',fontdict = {'fontsize' : 20})\n",
    "plt.xlabel('ESRB',fontdict = {'fontsize' : 14})\n",
    "plt.ylabel('Прожажи',fontdict = {'fontsize' : 14})\n",
    "plt.show()"
   ]
  },
  {
   "cell_type": "markdown",
   "metadata": {},
   "source": [
    "В Европе и Америке снова видны одинаковые результаты, явно лидирует рейтинги E,M,T. В Японии не так популярен рейтинг M.\n",
    "Рейтинг ESRB влияет на популярность игры"
   ]
  },
  {
   "cell_type": "markdown",
   "metadata": {},
   "source": [
    "В ходе составления портрета пользователя каждого региона можно увидеть, что регион Европа и Северная Америка очень похожи между собой и по популярным жанрам: Action, Sports, Shooter; и по консолям X360, PS2, Wii, PS3; Япония отличается тут из жанров выделяются: Role-Playing, Action, Sports; из платформ: DS, PS, PS2; Также и в рейтинге ESRB В Европе и Америке явно лидирует рейтинги E,M,T. В Японии не так популярен рейтинг M. Рейтинг ESRB влияет на популярность игр"
   ]
  },
  {
   "cell_type": "markdown",
   "metadata": {},
   "source": [
    "#### 5 Шаг Проверка гипотез"
   ]
  },
  {
   "cell_type": "markdown",
   "metadata": {},
   "source": [
    "нулевая гипотеза: Средние пользовательские рейтинги платформ Xbox One и PC одинаковые\n",
    "Альтернативная: Средние пользовательские рейтинги платформ Xbox On не равно PC"
   ]
  },
  {
   "cell_type": "code",
   "execution_count": 35,
   "metadata": {},
   "outputs": [],
   "source": [
    "#создам таблицу с платформами и средним значением пользовательского рейтинга \n",
    "#удалю пропуски в user_score для гипотез\n",
    "data_user_notnull = data[data['user_score'].isnull()==False]\n",
    "data_xbox = data_user_notnull[data_user_notnull['platform'] == 'XOne']\n",
    "data_pc = data_user_notnull[data_user_notnull['platform'] == 'PC']\n"
   ]
  },
  {
   "cell_type": "code",
   "execution_count": 36,
   "metadata": {},
   "outputs": [
    {
     "name": "stdout",
     "output_type": "stream",
     "text": [
      "p-значение: 0.006207707506247993\n",
      "Отвергаем нулевую гипотезу\n"
     ]
    }
   ],
   "source": [
    "alpha = .05\n",
    "results = st.ttest_ind(data_xbox['user_score'], data_pc['user_score'])\n",
    "\n",
    "print('p-значение:', results.pvalue)\n",
    "\n",
    "if results.pvalue < alpha:\n",
    "    print('Отвергаем нулевую гипотезу')\n",
    "else:\n",
    "    print('Не получилось отвергнуть нулевую гипотезу') \n"
   ]
  },
  {
   "cell_type": "code",
   "execution_count": 37,
   "metadata": {},
   "outputs": [
    {
     "name": "stdout",
     "output_type": "stream",
     "text": [
      "  platform  user_score\n",
      "5       PC    6.635323\n"
     ]
    },
    {
     "data": {
      "text/html": [
       "<div>\n",
       "<style scoped>\n",
       "    .dataframe tbody tr th:only-of-type {\n",
       "        vertical-align: middle;\n",
       "    }\n",
       "\n",
       "    .dataframe tbody tr th {\n",
       "        vertical-align: top;\n",
       "    }\n",
       "\n",
       "    .dataframe thead th {\n",
       "        text-align: right;\n",
       "    }\n",
       "</style>\n",
       "<table border=\"1\" class=\"dataframe\">\n",
       "  <thead>\n",
       "    <tr style=\"text-align: right;\">\n",
       "      <th></th>\n",
       "      <th>platform</th>\n",
       "      <th>user_score</th>\n",
       "    </tr>\n",
       "  </thead>\n",
       "  <tbody>\n",
       "    <tr>\n",
       "      <th>16</th>\n",
       "      <td>XOne</td>\n",
       "      <td>6.149741</td>\n",
       "    </tr>\n",
       "  </tbody>\n",
       "</table>\n",
       "</div>"
      ],
      "text/plain": [
       "   platform  user_score\n",
       "16     XOne    6.149741"
      ]
     },
     "execution_count": 37,
     "metadata": {},
     "output_type": "execute_result"
    }
   ],
   "source": [
    "#проверю на ген совокупности\n",
    "data_mean_rating = data_user_notnull.pivot_table(index = 'platform',values = 'user_score',aggfunc = 'mean')\n",
    "data_mean_rating = data_mean_rating.reset_index()\n",
    "data_mean_rating\n",
    "Xbox_On = data_mean_rating[data_mean_rating['platform'] == 'XOne']\n",
    "PC_mean = data_mean_rating[data_mean_rating['platform'] == 'PC']\n",
    "print(PC_mean)\n",
    "Xbox_On"
   ]
  },
  {
   "cell_type": "markdown",
   "metadata": {},
   "source": [
    " Средние пользовательские рейтинги платформ Xbox One и PC примерно равны"
   ]
  },
  {
   "cell_type": "markdown",
   "metadata": {},
   "source": [
    "Средние пользовательские рейтинги жанров Action (англ. «действие», экшен-игры) и Sports (англ. «спортивные соревнования») разные.\n",
    "Нулевая гипотеза средние пользовательские рейтинги жанров Action и Sports равны.\n",
    "алтернативная на равны"
   ]
  },
  {
   "cell_type": "code",
   "execution_count": 38,
   "metadata": {},
   "outputs": [],
   "source": [
    "data_action = data_user_notnull[data_user_notnull['genre'] == 'Action']\n",
    "data_sports = data_user_notnull[data_user_notnull['genre'] == 'Sports']"
   ]
  },
  {
   "cell_type": "code",
   "execution_count": 39,
   "metadata": {},
   "outputs": [
    {
     "name": "stdout",
     "output_type": "stream",
     "text": [
      "p-значение: 3.513886479422392e-14\n",
      "Отвергаем нулевую гипотезу\n"
     ]
    }
   ],
   "source": [
    "alpha = .05\n",
    "results = st.ttest_ind(data_action['user_score'], data_sports['user_score'])\n",
    "\n",
    "print('p-значение:', results.pvalue)\n",
    "\n",
    "if results.pvalue < alpha:\n",
    "    print('Отвергаем нулевую гипотезу')\n",
    "else:\n",
    "    print('Не получилось отвергнуть нулевую гипотезу') \n"
   ]
  },
  {
   "cell_type": "markdown",
   "metadata": {},
   "source": [
    "проверю ген совокупность"
   ]
  },
  {
   "cell_type": "code",
   "execution_count": 40,
   "metadata": {},
   "outputs": [
    {
     "name": "stdout",
     "output_type": "stream",
     "text": [
      "5.857855822550832\n"
     ]
    },
    {
     "data": {
      "text/plain": [
       "5.053463349024882"
      ]
     },
     "execution_count": 40,
     "metadata": {},
     "output_type": "execute_result"
    }
   ],
   "source": [
    "print(data_action['user_score'].mean())\n",
    "data_sports['user_score'].mean()"
   ]
  },
  {
   "cell_type": "markdown",
   "metadata": {},
   "source": [
    "практически равны"
   ]
  },
  {
   "cell_type": "markdown",
   "metadata": {},
   "source": [
    "После гипотез можно сделать вывод, что средние пользовательские рейтинги жанров Action и Sports равны.\n",
    " Средние пользовательские рейтинги платформ Xbox One и PC примерно равны"
   ]
  },
  {
   "cell_type": "markdown",
   "metadata": {},
   "source": [
    "### Общий вывод"
   ]
  },
  {
   "cell_type": "markdown",
   "metadata": {},
   "source": [
    "Подводя итог всей работы было выполнено:\n",
    "- Предобработка данных: В ходе предобрабоки данных были заменены имена столбцов в нижний регистр, была проведена работа с пропусками и были удалены строки с пропусками в name и year_of_release, проанализированы строки с tbd в user_score заменены 0\n",
    "- Исследовательский анализ данных: В ходе анализа данных было проанализировано множесто зависимостей: пик продажа игр достигла в 2008 году; Можно увидеть что с выходом новых консолей постепенно пожнимается и их популярность, тем временем пк популярен всегда, По показателям за 2016 год можно удтвердиться в прошлых наблюдениях, тут лидируют ps4,xone,psv в то время как PS2, которая лидер во всей таблице, в 2016 году отсуствует. Такая тенденция будет продолжаться и в 2017; Отзывы пользователей почти не влияют на продажи, Отзывы критиков влияют немного больше; Самые популярные жанры это Action,Adventure,Fighting; Самые непопулярные: Sports Strategy\n",
    "- Проверка гипотез: После гипотез можно сделать вывод, что средние пользовательские рейтинги жанров Action и Sports равны. Средние пользовательские рейтинги платформ Xbox One и PC примерно равны\n",
    "    \n",
    "Нужно обратить внимание на популярные по продажам и заработку жанры, а также выбрать те жанры, которые популярны во всех регионах. Не стоит забывать про платформы, которые с каждым годом заменяют друг друга. На 2017 год точно нужно сделать акцент на ps4, pc, xone"
   ]
  },
  {
   "cell_type": "code",
   "execution_count": null,
   "metadata": {},
   "outputs": [],
   "source": []
  }
 ],
 "metadata": {
  "ExecuteTimeLog": [
   {
    "duration": 5,
    "start_time": "2023-09-01T11:16:17.946Z"
   },
   {
    "duration": 2,
    "start_time": "2023-09-01T11:16:20.880Z"
   },
   {
    "duration": 2,
    "start_time": "2023-09-01T11:16:33.682Z"
   },
   {
    "duration": 2,
    "start_time": "2023-09-01T11:17:29.297Z"
   },
   {
    "duration": 1362,
    "start_time": "2023-09-01T11:19:27.531Z"
   },
   {
    "duration": 210,
    "start_time": "2023-09-01T11:19:54.388Z"
   },
   {
    "duration": 16,
    "start_time": "2023-09-01T11:20:15.044Z"
   },
   {
    "duration": 5,
    "start_time": "2023-09-01T11:28:22.283Z"
   },
   {
    "duration": 6,
    "start_time": "2023-09-01T11:28:38.723Z"
   },
   {
    "duration": 24,
    "start_time": "2023-09-01T11:28:42.557Z"
   },
   {
    "duration": 3,
    "start_time": "2023-09-01T11:28:47.924Z"
   },
   {
    "duration": 119,
    "start_time": "2023-09-01T11:28:49.852Z"
   },
   {
    "duration": 9,
    "start_time": "2023-09-01T11:29:00.021Z"
   },
   {
    "duration": 81,
    "start_time": "2023-09-01T11:29:07.515Z"
   },
   {
    "duration": 11,
    "start_time": "2023-09-01T11:29:10.773Z"
   },
   {
    "duration": 8,
    "start_time": "2023-09-01T11:29:14.470Z"
   },
   {
    "duration": 9,
    "start_time": "2023-09-01T11:29:19.880Z"
   },
   {
    "duration": 10,
    "start_time": "2023-09-01T11:29:24.213Z"
   },
   {
    "duration": 3,
    "start_time": "2023-09-01T11:29:37.999Z"
   },
   {
    "duration": 73,
    "start_time": "2023-09-01T11:29:40.005Z"
   },
   {
    "duration": 5,
    "start_time": "2023-09-01T11:29:46.844Z"
   },
   {
    "duration": 9,
    "start_time": "2023-09-01T11:29:49.972Z"
   },
   {
    "duration": 4,
    "start_time": "2023-09-01T11:29:52.725Z"
   },
   {
    "duration": 5,
    "start_time": "2023-09-01T11:30:00.540Z"
   },
   {
    "duration": 23,
    "start_time": "2023-09-01T11:30:05.878Z"
   },
   {
    "duration": 4,
    "start_time": "2023-09-01T11:30:16.821Z"
   },
   {
    "duration": 22,
    "start_time": "2023-09-01T11:30:20.429Z"
   },
   {
    "duration": 24,
    "start_time": "2023-09-01T11:32:34.376Z"
   },
   {
    "duration": 34,
    "start_time": "2023-09-01T11:32:43.648Z"
   },
   {
    "duration": 29,
    "start_time": "2023-09-01T11:32:55.689Z"
   },
   {
    "duration": 1146,
    "start_time": "2023-09-01T11:33:07.239Z"
   },
   {
    "duration": 85,
    "start_time": "2023-09-01T11:33:08.387Z"
   },
   {
    "duration": 14,
    "start_time": "2023-09-01T11:33:08.474Z"
   },
   {
    "duration": 20,
    "start_time": "2023-09-01T11:33:08.489Z"
   },
   {
    "duration": 21,
    "start_time": "2023-09-01T11:33:08.512Z"
   },
   {
    "duration": 22,
    "start_time": "2023-09-01T11:33:38.936Z"
   },
   {
    "duration": 28,
    "start_time": "2023-09-01T11:33:52.625Z"
   },
   {
    "duration": 33,
    "start_time": "2023-09-01T11:33:55.971Z"
   },
   {
    "duration": 23,
    "start_time": "2023-09-01T11:34:01.899Z"
   },
   {
    "duration": 1148,
    "start_time": "2023-09-01T11:34:08.371Z"
   },
   {
    "duration": 79,
    "start_time": "2023-09-01T11:34:09.521Z"
   },
   {
    "duration": 14,
    "start_time": "2023-09-01T11:34:09.602Z"
   },
   {
    "duration": 49,
    "start_time": "2023-09-01T11:34:09.618Z"
   },
   {
    "duration": 22,
    "start_time": "2023-09-01T11:34:09.671Z"
   },
   {
    "duration": 28,
    "start_time": "2023-09-01T11:34:18.289Z"
   },
   {
    "duration": 1094,
    "start_time": "2023-09-01T11:34:27.320Z"
   },
   {
    "duration": 77,
    "start_time": "2023-09-01T11:34:28.416Z"
   },
   {
    "duration": 15,
    "start_time": "2023-09-01T11:34:28.494Z"
   },
   {
    "duration": 31,
    "start_time": "2023-09-01T11:34:28.511Z"
   },
   {
    "duration": 37,
    "start_time": "2023-09-01T11:34:28.558Z"
   },
   {
    "duration": 1198,
    "start_time": "2023-09-01T11:35:31.581Z"
   },
   {
    "duration": 104,
    "start_time": "2023-09-01T11:35:32.781Z"
   },
   {
    "duration": 19,
    "start_time": "2023-09-01T11:35:32.888Z"
   },
   {
    "duration": 36,
    "start_time": "2023-09-01T11:35:32.909Z"
   },
   {
    "duration": 53,
    "start_time": "2023-09-01T11:35:32.947Z"
   },
   {
    "duration": 1174,
    "start_time": "2023-09-01T11:36:18.440Z"
   },
   {
    "duration": 76,
    "start_time": "2023-09-01T11:36:19.617Z"
   },
   {
    "duration": 14,
    "start_time": "2023-09-01T11:36:19.697Z"
   },
   {
    "duration": 21,
    "start_time": "2023-09-01T11:36:19.713Z"
   },
   {
    "duration": 44,
    "start_time": "2023-09-01T11:36:19.735Z"
   },
   {
    "duration": 1176,
    "start_time": "2023-09-01T11:36:27.248Z"
   },
   {
    "duration": 76,
    "start_time": "2023-09-01T11:36:28.426Z"
   },
   {
    "duration": 13,
    "start_time": "2023-09-01T11:36:28.503Z"
   },
   {
    "duration": 43,
    "start_time": "2023-09-01T11:36:28.518Z"
   },
   {
    "duration": 28,
    "start_time": "2023-09-01T11:36:28.567Z"
   },
   {
    "duration": 1152,
    "start_time": "2023-09-01T11:39:23.504Z"
   },
   {
    "duration": 80,
    "start_time": "2023-09-01T11:39:24.658Z"
   },
   {
    "duration": 14,
    "start_time": "2023-09-01T11:39:24.740Z"
   },
   {
    "duration": 40,
    "start_time": "2023-09-01T11:39:24.758Z"
   },
   {
    "duration": 141,
    "start_time": "2023-09-01T11:39:24.799Z"
   },
   {
    "duration": 4,
    "start_time": "2023-09-01T11:40:16.207Z"
   },
   {
    "duration": 23,
    "start_time": "2023-09-01T11:40:22.112Z"
   },
   {
    "duration": 15,
    "start_time": "2023-09-01T11:40:26.920Z"
   },
   {
    "duration": 25,
    "start_time": "2023-09-01T11:40:41.888Z"
   },
   {
    "duration": 14,
    "start_time": "2023-09-01T11:40:49.816Z"
   },
   {
    "duration": 24,
    "start_time": "2023-09-01T11:40:53.840Z"
   },
   {
    "duration": 14,
    "start_time": "2023-09-01T11:40:59.031Z"
   },
   {
    "duration": 39,
    "start_time": "2023-09-01T11:41:03.152Z"
   },
   {
    "duration": 23,
    "start_time": "2023-09-01T11:43:27.177Z"
   },
   {
    "duration": 10,
    "start_time": "2023-09-01T11:47:42.426Z"
   },
   {
    "duration": 31,
    "start_time": "2023-09-01T11:47:51.976Z"
   },
   {
    "duration": 19,
    "start_time": "2023-09-01T11:48:54.014Z"
   },
   {
    "duration": 18,
    "start_time": "2023-09-01T11:49:11.622Z"
   },
   {
    "duration": 18,
    "start_time": "2023-09-01T11:49:16.191Z"
   },
   {
    "duration": 46,
    "start_time": "2023-09-01T11:49:21.374Z"
   },
   {
    "duration": 14,
    "start_time": "2023-09-01T11:49:28.295Z"
   },
   {
    "duration": 19,
    "start_time": "2023-09-01T11:50:32.642Z"
   },
   {
    "duration": 20,
    "start_time": "2023-09-01T11:50:41.305Z"
   },
   {
    "duration": 19,
    "start_time": "2023-09-01T11:51:02.033Z"
   },
   {
    "duration": 40,
    "start_time": "2023-09-01T11:53:02.469Z"
   },
   {
    "duration": 1179,
    "start_time": "2023-09-01T11:53:13.179Z"
   },
   {
    "duration": 92,
    "start_time": "2023-09-01T11:53:14.361Z"
   },
   {
    "duration": 20,
    "start_time": "2023-09-01T11:53:14.455Z"
   },
   {
    "duration": 23,
    "start_time": "2023-09-01T11:53:14.477Z"
   },
   {
    "duration": 33,
    "start_time": "2023-09-01T11:53:14.503Z"
   },
   {
    "duration": 1157,
    "start_time": "2023-09-01T11:53:31.392Z"
   },
   {
    "duration": 85,
    "start_time": "2023-09-01T11:53:32.551Z"
   },
   {
    "duration": 18,
    "start_time": "2023-09-01T11:53:32.642Z"
   },
   {
    "duration": 36,
    "start_time": "2023-09-01T11:53:32.662Z"
   },
   {
    "duration": 23,
    "start_time": "2023-09-01T11:53:32.700Z"
   },
   {
    "duration": 34,
    "start_time": "2023-09-01T11:54:42.292Z"
   },
   {
    "duration": 1229,
    "start_time": "2023-09-01T11:54:49.350Z"
   },
   {
    "duration": 85,
    "start_time": "2023-09-01T11:54:50.587Z"
   },
   {
    "duration": 17,
    "start_time": "2023-09-01T11:54:50.677Z"
   },
   {
    "duration": 27,
    "start_time": "2023-09-01T11:54:50.696Z"
   },
   {
    "duration": 48,
    "start_time": "2023-09-01T11:54:50.725Z"
   },
   {
    "duration": 45,
    "start_time": "2023-09-01T11:55:06.584Z"
   },
   {
    "duration": 1201,
    "start_time": "2023-09-01T11:55:13.244Z"
   },
   {
    "duration": 89,
    "start_time": "2023-09-01T11:55:14.447Z"
   },
   {
    "duration": 15,
    "start_time": "2023-09-01T11:55:14.539Z"
   },
   {
    "duration": 32,
    "start_time": "2023-09-01T11:55:14.556Z"
   },
   {
    "duration": 21,
    "start_time": "2023-09-01T11:55:14.590Z"
   },
   {
    "duration": 31,
    "start_time": "2023-09-01T11:55:24.532Z"
   },
   {
    "duration": 1206,
    "start_time": "2023-09-01T11:55:32.938Z"
   },
   {
    "duration": 87,
    "start_time": "2023-09-01T11:55:34.147Z"
   },
   {
    "duration": 13,
    "start_time": "2023-09-01T11:55:34.236Z"
   },
   {
    "duration": 34,
    "start_time": "2023-09-01T11:55:34.251Z"
   },
   {
    "duration": 752,
    "start_time": "2023-09-01T11:55:34.291Z"
   },
   {
    "duration": 1196,
    "start_time": "2023-09-01T11:55:44.628Z"
   },
   {
    "duration": 83,
    "start_time": "2023-09-01T11:55:45.826Z"
   },
   {
    "duration": 14,
    "start_time": "2023-09-01T11:55:45.912Z"
   },
   {
    "duration": 41,
    "start_time": "2023-09-01T11:55:45.929Z"
   },
   {
    "duration": 24,
    "start_time": "2023-09-01T11:55:45.993Z"
   },
   {
    "duration": 30,
    "start_time": "2023-09-01T12:01:45.627Z"
   },
   {
    "duration": 1158,
    "start_time": "2023-09-01T12:01:51.780Z"
   },
   {
    "duration": 85,
    "start_time": "2023-09-01T12:01:52.940Z"
   },
   {
    "duration": 18,
    "start_time": "2023-09-01T12:01:53.027Z"
   },
   {
    "duration": 44,
    "start_time": "2023-09-01T12:01:53.047Z"
   },
   {
    "duration": 23,
    "start_time": "2023-09-01T12:01:53.094Z"
   },
   {
    "duration": 16,
    "start_time": "2023-09-01T12:02:04.375Z"
   },
   {
    "duration": 428,
    "start_time": "2023-09-01T12:05:16.327Z"
   },
   {
    "duration": 14,
    "start_time": "2023-09-01T12:05:36.328Z"
   },
   {
    "duration": 18,
    "start_time": "2023-09-01T12:05:42.553Z"
   },
   {
    "duration": 296,
    "start_time": "2023-09-01T12:05:51.039Z"
   },
   {
    "duration": 6,
    "start_time": "2023-09-01T12:06:23.873Z"
   },
   {
    "duration": 14,
    "start_time": "2023-09-01T12:07:07.578Z"
   },
   {
    "duration": 6,
    "start_time": "2023-09-01T12:07:23.243Z"
   },
   {
    "duration": 6,
    "start_time": "2023-09-01T12:08:09.418Z"
   },
   {
    "duration": 5,
    "start_time": "2023-09-01T12:08:16.491Z"
   },
   {
    "duration": 11,
    "start_time": "2023-09-01T12:08:28.978Z"
   },
   {
    "duration": 11,
    "start_time": "2023-09-01T12:14:16.177Z"
   },
   {
    "duration": 12,
    "start_time": "2023-09-01T12:14:47.446Z"
   },
   {
    "duration": 25,
    "start_time": "2023-09-01T12:15:01.944Z"
   },
   {
    "duration": 29,
    "start_time": "2023-09-01T12:16:40.706Z"
   },
   {
    "duration": 17,
    "start_time": "2023-09-01T12:22:58.512Z"
   },
   {
    "duration": 6,
    "start_time": "2023-09-01T12:23:33.249Z"
   },
   {
    "duration": 11,
    "start_time": "2023-09-01T12:23:43.383Z"
   },
   {
    "duration": 23,
    "start_time": "2023-09-01T12:23:47.922Z"
   },
   {
    "duration": 6,
    "start_time": "2023-09-01T12:24:19.329Z"
   },
   {
    "duration": 22,
    "start_time": "2023-09-01T12:24:23.649Z"
   },
   {
    "duration": 14,
    "start_time": "2023-09-01T12:24:32.810Z"
   },
   {
    "duration": 104,
    "start_time": "2023-09-01T12:25:21.321Z"
   },
   {
    "duration": 14,
    "start_time": "2023-09-01T12:25:40.811Z"
   },
   {
    "duration": 8,
    "start_time": "2023-09-01T12:27:38.667Z"
   },
   {
    "duration": 6,
    "start_time": "2023-09-01T12:27:42.535Z"
   },
   {
    "duration": 9,
    "start_time": "2023-09-01T12:28:01.429Z"
   },
   {
    "duration": 9,
    "start_time": "2023-09-01T12:28:09.196Z"
   },
   {
    "duration": 9,
    "start_time": "2023-09-01T12:33:13.245Z"
   },
   {
    "duration": 11,
    "start_time": "2023-09-01T12:37:17.082Z"
   },
   {
    "duration": 10,
    "start_time": "2023-09-01T12:37:30.742Z"
   },
   {
    "duration": 16,
    "start_time": "2023-09-01T12:37:34.655Z"
   },
   {
    "duration": 11,
    "start_time": "2023-09-01T12:38:45.513Z"
   },
   {
    "duration": 14,
    "start_time": "2023-09-01T12:38:48.947Z"
   },
   {
    "duration": 13,
    "start_time": "2023-09-01T12:38:55.595Z"
   },
   {
    "duration": 24,
    "start_time": "2023-09-01T12:39:00.089Z"
   },
   {
    "duration": 20,
    "start_time": "2023-09-01T12:39:24.667Z"
   },
   {
    "duration": 17,
    "start_time": "2023-09-01T12:40:06.498Z"
   },
   {
    "duration": 18,
    "start_time": "2023-09-01T12:40:17.242Z"
   },
   {
    "duration": 8,
    "start_time": "2023-09-01T12:40:22.963Z"
   },
   {
    "duration": 14,
    "start_time": "2023-09-01T12:42:24.050Z"
   },
   {
    "duration": 7,
    "start_time": "2023-09-01T12:43:14.998Z"
   },
   {
    "duration": 8,
    "start_time": "2023-09-01T12:43:22.245Z"
   },
   {
    "duration": 13,
    "start_time": "2023-09-01T12:43:37.518Z"
   },
   {
    "duration": 14,
    "start_time": "2023-09-01T12:43:43.169Z"
   },
   {
    "duration": 1124,
    "start_time": "2023-09-01T12:43:57.298Z"
   },
   {
    "duration": 71,
    "start_time": "2023-09-01T12:43:58.424Z"
   },
   {
    "duration": 14,
    "start_time": "2023-09-01T12:43:58.497Z"
   },
   {
    "duration": 20,
    "start_time": "2023-09-01T12:43:58.513Z"
   },
   {
    "duration": 39,
    "start_time": "2023-09-01T12:43:58.535Z"
   },
   {
    "duration": 27,
    "start_time": "2023-09-01T12:43:58.576Z"
   },
   {
    "duration": 8,
    "start_time": "2023-09-01T12:43:58.604Z"
   },
   {
    "duration": 6,
    "start_time": "2023-09-01T12:43:58.614Z"
   },
   {
    "duration": 44,
    "start_time": "2023-09-01T12:43:58.622Z"
   },
   {
    "duration": 29,
    "start_time": "2023-09-01T12:43:58.668Z"
   },
   {
    "duration": 10,
    "start_time": "2023-09-01T12:44:06.840Z"
   },
   {
    "duration": 19,
    "start_time": "2023-09-01T12:44:17.343Z"
   },
   {
    "duration": 1120,
    "start_time": "2023-09-01T12:44:43.206Z"
   },
   {
    "duration": 73,
    "start_time": "2023-09-01T12:44:44.328Z"
   },
   {
    "duration": 125,
    "start_time": "2023-09-01T12:44:44.403Z"
   },
   {
    "duration": 20,
    "start_time": "2023-09-01T12:44:44.530Z"
   },
   {
    "duration": 42,
    "start_time": "2023-09-01T12:44:44.553Z"
   },
   {
    "duration": 28,
    "start_time": "2023-09-01T12:44:44.597Z"
   },
   {
    "duration": 6,
    "start_time": "2023-09-01T12:44:44.627Z"
   },
   {
    "duration": 20,
    "start_time": "2023-09-01T12:44:44.634Z"
   },
   {
    "duration": 17,
    "start_time": "2023-09-01T12:44:44.656Z"
   },
   {
    "duration": 11,
    "start_time": "2023-09-01T12:44:44.675Z"
   },
   {
    "duration": 12,
    "start_time": "2023-09-01T12:44:50.212Z"
   },
   {
    "duration": 6,
    "start_time": "2023-09-01T12:46:11.523Z"
   },
   {
    "duration": 7,
    "start_time": "2023-09-01T12:46:25.593Z"
   },
   {
    "duration": 5,
    "start_time": "2023-09-01T12:46:29.874Z"
   },
   {
    "duration": 7,
    "start_time": "2023-09-01T12:46:52.361Z"
   },
   {
    "duration": 10,
    "start_time": "2023-09-01T12:46:59.745Z"
   },
   {
    "duration": 11,
    "start_time": "2023-09-01T12:47:03.177Z"
   },
   {
    "duration": 7,
    "start_time": "2023-09-01T12:47:13.558Z"
   },
   {
    "duration": 10,
    "start_time": "2023-09-01T12:47:18.760Z"
   },
   {
    "duration": 12,
    "start_time": "2023-09-01T12:47:20.770Z"
   },
   {
    "duration": 8,
    "start_time": "2023-09-01T12:47:35.546Z"
   },
   {
    "duration": 13,
    "start_time": "2023-09-01T12:47:54.819Z"
   },
   {
    "duration": 22,
    "start_time": "2023-09-01T12:48:01.035Z"
   },
   {
    "duration": 45,
    "start_time": "2023-09-01T12:48:43.246Z"
   },
   {
    "duration": 22,
    "start_time": "2023-09-01T12:48:49.646Z"
   },
   {
    "duration": 79,
    "start_time": "2023-09-01T12:50:18.413Z"
   },
   {
    "duration": 26,
    "start_time": "2023-09-01T12:50:25.789Z"
   },
   {
    "duration": 32,
    "start_time": "2023-09-01T12:50:37.020Z"
   },
   {
    "duration": 4,
    "start_time": "2023-09-01T12:51:52.800Z"
   },
   {
    "duration": 23,
    "start_time": "2023-09-01T12:51:56.384Z"
   },
   {
    "duration": 7,
    "start_time": "2023-09-01T12:52:12.023Z"
   },
   {
    "duration": 9,
    "start_time": "2023-09-01T12:52:42.566Z"
   },
   {
    "duration": 31,
    "start_time": "2023-09-01T12:52:54.086Z"
   },
   {
    "duration": 21,
    "start_time": "2023-09-01T12:56:04.174Z"
   },
   {
    "duration": 9,
    "start_time": "2023-09-01T12:58:17.589Z"
   },
   {
    "duration": 14,
    "start_time": "2023-09-01T12:58:24.198Z"
   },
   {
    "duration": 16,
    "start_time": "2023-09-01T12:58:29.993Z"
   },
   {
    "duration": 1223,
    "start_time": "2023-09-01T13:00:11.030Z"
   },
   {
    "duration": 74,
    "start_time": "2023-09-01T13:00:12.256Z"
   },
   {
    "duration": 15,
    "start_time": "2023-09-01T13:00:12.332Z"
   },
   {
    "duration": 24,
    "start_time": "2023-09-01T13:00:12.348Z"
   },
   {
    "duration": 31,
    "start_time": "2023-09-01T13:00:12.375Z"
   },
   {
    "duration": 31,
    "start_time": "2023-09-01T13:00:12.408Z"
   },
   {
    "duration": 8,
    "start_time": "2023-09-01T13:00:12.457Z"
   },
   {
    "duration": 13,
    "start_time": "2023-09-01T13:00:12.468Z"
   },
   {
    "duration": 27,
    "start_time": "2023-09-01T13:00:12.483Z"
   },
   {
    "duration": 18,
    "start_time": "2023-09-01T13:00:12.512Z"
   },
   {
    "duration": 39,
    "start_time": "2023-09-01T13:00:12.532Z"
   },
   {
    "duration": 7,
    "start_time": "2023-09-01T13:00:12.573Z"
   },
   {
    "duration": 28,
    "start_time": "2023-09-01T13:02:37.185Z"
   },
   {
    "duration": 1187,
    "start_time": "2023-09-01T13:03:02.395Z"
   },
   {
    "duration": 91,
    "start_time": "2023-09-01T13:03:03.585Z"
   },
   {
    "duration": 15,
    "start_time": "2023-09-01T13:03:03.678Z"
   },
   {
    "duration": 22,
    "start_time": "2023-09-01T13:03:03.695Z"
   },
   {
    "duration": 53,
    "start_time": "2023-09-01T13:03:03.719Z"
   },
   {
    "duration": 44,
    "start_time": "2023-09-01T13:03:03.774Z"
   },
   {
    "duration": 13,
    "start_time": "2023-09-01T13:03:03.820Z"
   },
   {
    "duration": 11,
    "start_time": "2023-09-01T13:03:03.835Z"
   },
   {
    "duration": 30,
    "start_time": "2023-09-01T13:03:03.848Z"
   },
   {
    "duration": 32,
    "start_time": "2023-09-01T13:03:03.880Z"
   },
   {
    "duration": 32,
    "start_time": "2023-09-01T13:03:03.914Z"
   },
   {
    "duration": 19,
    "start_time": "2023-09-01T13:03:03.948Z"
   },
   {
    "duration": 13,
    "start_time": "2023-09-01T13:04:31.396Z"
   },
   {
    "duration": 3,
    "start_time": "2023-09-01T13:05:16.675Z"
   },
   {
    "duration": 32,
    "start_time": "2023-09-01T13:05:30.739Z"
   },
   {
    "duration": 25,
    "start_time": "2023-09-01T13:06:31.968Z"
   },
   {
    "duration": 3,
    "start_time": "2023-09-01T13:09:29.391Z"
   },
   {
    "duration": 3,
    "start_time": "2023-09-01T13:11:02.818Z"
   },
   {
    "duration": 7,
    "start_time": "2023-09-01T13:11:05.969Z"
   },
   {
    "duration": 249,
    "start_time": "2023-09-01T13:11:16.660Z"
   },
   {
    "duration": 207,
    "start_time": "2023-09-01T13:11:25.089Z"
   },
   {
    "duration": 210,
    "start_time": "2023-09-01T13:11:30.562Z"
   },
   {
    "duration": 210,
    "start_time": "2023-09-01T13:11:34.518Z"
   },
   {
    "duration": 205,
    "start_time": "2023-09-01T13:11:46.034Z"
   },
   {
    "duration": 206,
    "start_time": "2023-09-01T13:11:49.441Z"
   },
   {
    "duration": 81,
    "start_time": "2023-09-01T13:12:05.790Z"
   },
   {
    "duration": 404,
    "start_time": "2023-09-01T13:12:09.068Z"
   },
   {
    "duration": 197,
    "start_time": "2023-09-01T13:12:29.563Z"
   },
   {
    "duration": 512,
    "start_time": "2023-09-01T13:12:40.538Z"
   },
   {
    "duration": 217,
    "start_time": "2023-09-01T13:12:47.716Z"
   },
   {
    "duration": 90,
    "start_time": "2023-09-01T13:12:50.827Z"
   },
   {
    "duration": 227,
    "start_time": "2023-09-01T13:12:55.618Z"
   },
   {
    "duration": 357,
    "start_time": "2023-09-01T13:13:07.461Z"
   },
   {
    "duration": 257,
    "start_time": "2023-09-01T13:13:10.790Z"
   },
   {
    "duration": 7,
    "start_time": "2023-09-01T13:15:35.762Z"
   },
   {
    "duration": 12,
    "start_time": "2023-09-01T13:17:06.423Z"
   },
   {
    "duration": 39,
    "start_time": "2023-09-01T13:17:11.863Z"
   },
   {
    "duration": 22,
    "start_time": "2023-09-01T13:18:12.166Z"
   },
   {
    "duration": 13,
    "start_time": "2023-09-01T13:18:32.817Z"
   },
   {
    "duration": 87,
    "start_time": "2023-09-01T13:18:37.623Z"
   },
   {
    "duration": 25,
    "start_time": "2023-09-01T13:18:57.218Z"
   },
   {
    "duration": 21,
    "start_time": "2023-09-01T13:19:50.502Z"
   },
   {
    "duration": 35,
    "start_time": "2023-09-01T13:20:20.635Z"
   },
   {
    "duration": 21,
    "start_time": "2023-09-01T13:21:25.264Z"
   },
   {
    "duration": 147,
    "start_time": "2023-09-01T13:21:33.910Z"
   },
   {
    "duration": 27,
    "start_time": "2023-09-01T13:21:46.746Z"
   },
   {
    "duration": 11,
    "start_time": "2023-09-01T13:22:36.740Z"
   },
   {
    "duration": 23,
    "start_time": "2023-09-01T13:22:41.611Z"
   },
   {
    "duration": 12,
    "start_time": "2023-09-01T13:22:51.540Z"
   },
   {
    "duration": 12,
    "start_time": "2023-09-01T13:22:55.060Z"
   },
   {
    "duration": 22,
    "start_time": "2023-09-01T13:23:02.677Z"
   },
   {
    "duration": 22,
    "start_time": "2023-09-01T13:23:15.877Z"
   },
   {
    "duration": 23,
    "start_time": "2023-09-01T13:23:31.405Z"
   },
   {
    "duration": 1089,
    "start_time": "2023-09-01T13:24:23.092Z"
   },
   {
    "duration": 1306,
    "start_time": "2023-09-01T13:25:03.437Z"
   },
   {
    "duration": 1258,
    "start_time": "2023-09-01T13:25:14.533Z"
   },
   {
    "duration": 5,
    "start_time": "2023-09-01T13:28:19.984Z"
   },
   {
    "duration": 9,
    "start_time": "2023-09-01T13:28:26.361Z"
   },
   {
    "duration": 1179,
    "start_time": "2023-09-01T13:28:52.098Z"
   },
   {
    "duration": 1170,
    "start_time": "2023-09-01T14:35:43.014Z"
   },
   {
    "duration": 1097,
    "start_time": "2023-09-01T14:36:06.843Z"
   },
   {
    "duration": 23,
    "start_time": "2023-09-01T14:36:36.252Z"
   },
   {
    "duration": 11,
    "start_time": "2023-09-01T14:36:47.268Z"
   },
   {
    "duration": 11,
    "start_time": "2023-09-01T14:37:10.109Z"
   },
   {
    "duration": 13,
    "start_time": "2023-09-01T14:37:17.092Z"
   },
   {
    "duration": 14,
    "start_time": "2023-09-01T14:37:34.037Z"
   },
   {
    "duration": 11,
    "start_time": "2023-09-01T14:37:43.790Z"
   },
   {
    "duration": 283,
    "start_time": "2023-09-01T14:39:22.239Z"
   },
   {
    "duration": 23,
    "start_time": "2023-09-01T14:40:23.249Z"
   },
   {
    "duration": 1236,
    "start_time": "2023-09-01T14:40:26.178Z"
   },
   {
    "duration": 1202,
    "start_time": "2023-09-01T14:40:37.328Z"
   },
   {
    "duration": 21,
    "start_time": "2023-09-01T14:40:49.736Z"
   },
   {
    "duration": 87,
    "start_time": "2023-09-01T14:40:51.519Z"
   },
   {
    "duration": 259,
    "start_time": "2023-09-01T14:40:55.031Z"
   },
   {
    "duration": 13,
    "start_time": "2023-09-01T14:42:04.041Z"
   },
   {
    "duration": 97,
    "start_time": "2023-09-01T14:42:21.426Z"
   },
   {
    "duration": 11,
    "start_time": "2023-09-01T14:42:26.106Z"
   },
   {
    "duration": 13,
    "start_time": "2023-09-01T14:42:50.529Z"
   },
   {
    "duration": 13,
    "start_time": "2023-09-01T14:43:15.931Z"
   },
   {
    "duration": 12,
    "start_time": "2023-09-01T14:43:23.090Z"
   },
   {
    "duration": 31,
    "start_time": "2023-09-01T14:43:29.362Z"
   },
   {
    "duration": 30,
    "start_time": "2023-09-01T14:43:31.622Z"
   },
   {
    "duration": 15,
    "start_time": "2023-09-01T14:43:49.626Z"
   },
   {
    "duration": 7,
    "start_time": "2023-09-01T14:44:08.779Z"
   },
   {
    "duration": 12,
    "start_time": "2023-09-01T14:44:22.361Z"
   },
   {
    "duration": 11,
    "start_time": "2023-09-01T14:44:47.797Z"
   },
   {
    "duration": 12,
    "start_time": "2023-09-01T14:45:10.772Z"
   },
   {
    "duration": 13,
    "start_time": "2023-09-01T14:45:22.189Z"
   },
   {
    "duration": 12,
    "start_time": "2023-09-01T14:45:48.572Z"
   },
   {
    "duration": 24,
    "start_time": "2023-09-01T14:45:57.372Z"
   },
   {
    "duration": 10,
    "start_time": "2023-09-01T14:45:59.449Z"
   },
   {
    "duration": 10,
    "start_time": "2023-09-01T14:46:04.614Z"
   },
   {
    "duration": 9,
    "start_time": "2023-09-01T14:46:09.496Z"
   },
   {
    "duration": 22,
    "start_time": "2023-09-01T14:46:11.766Z"
   },
   {
    "duration": 10,
    "start_time": "2023-09-01T14:46:14.318Z"
   },
   {
    "duration": 10,
    "start_time": "2023-09-01T14:46:26.596Z"
   },
   {
    "duration": 22,
    "start_time": "2023-09-01T14:46:28.373Z"
   },
   {
    "duration": 13,
    "start_time": "2023-09-01T14:46:30.301Z"
   },
   {
    "duration": 73,
    "start_time": "2023-09-01T14:46:55.710Z"
   },
   {
    "duration": 11,
    "start_time": "2023-09-01T14:47:11.414Z"
   },
   {
    "duration": 13,
    "start_time": "2023-09-01T14:47:33.631Z"
   },
   {
    "duration": 23,
    "start_time": "2023-09-01T14:47:36.238Z"
   },
   {
    "duration": 12,
    "start_time": "2023-09-01T14:47:37.838Z"
   },
   {
    "duration": 63,
    "start_time": "2023-09-01T14:47:49.262Z"
   },
   {
    "duration": 38,
    "start_time": "2023-09-01T14:48:10.895Z"
   },
   {
    "duration": 23,
    "start_time": "2023-09-01T14:48:22.008Z"
   },
   {
    "duration": 12,
    "start_time": "2023-09-01T14:48:28.664Z"
   },
   {
    "duration": 22,
    "start_time": "2023-09-01T14:48:31.711Z"
   },
   {
    "duration": 22,
    "start_time": "2023-09-01T14:48:34.432Z"
   },
   {
    "duration": 16,
    "start_time": "2023-09-01T14:48:50.135Z"
   },
   {
    "duration": 24,
    "start_time": "2023-09-01T14:50:02.218Z"
   },
   {
    "duration": 16,
    "start_time": "2023-09-01T14:50:05.945Z"
   },
   {
    "duration": 22,
    "start_time": "2023-09-01T14:51:09.362Z"
   },
   {
    "duration": 23,
    "start_time": "2023-09-01T14:51:14.579Z"
   },
   {
    "duration": 26,
    "start_time": "2023-09-01T14:51:26.923Z"
   },
   {
    "duration": 140,
    "start_time": "2023-09-01T14:51:49.196Z"
   },
   {
    "duration": 145,
    "start_time": "2023-09-01T14:52:25.372Z"
   },
   {
    "duration": 23,
    "start_time": "2023-09-01T14:52:44.261Z"
   },
   {
    "duration": 163,
    "start_time": "2023-09-01T14:52:46.453Z"
   },
   {
    "duration": 166,
    "start_time": "2023-09-01T14:53:11.237Z"
   },
   {
    "duration": 22,
    "start_time": "2023-09-01T14:53:16.174Z"
   },
   {
    "duration": 157,
    "start_time": "2023-09-01T14:53:18.358Z"
   },
   {
    "duration": 131,
    "start_time": "2023-09-01T14:55:39.025Z"
   },
   {
    "duration": 430,
    "start_time": "2023-09-01T14:55:46.593Z"
   },
   {
    "duration": 12,
    "start_time": "2023-09-01T14:55:52.633Z"
   },
   {
    "duration": 13,
    "start_time": "2023-09-01T14:56:00.962Z"
   },
   {
    "duration": 23,
    "start_time": "2023-09-01T14:56:05.521Z"
   },
   {
    "duration": 187,
    "start_time": "2023-09-01T14:56:07.337Z"
   },
   {
    "duration": 151,
    "start_time": "2023-09-01T14:56:28.178Z"
   },
   {
    "duration": 253,
    "start_time": "2023-09-01T15:17:14.969Z"
   },
   {
    "duration": 154,
    "start_time": "2023-09-01T15:17:59.809Z"
   },
   {
    "duration": 13,
    "start_time": "2023-09-01T15:18:12.787Z"
   },
   {
    "duration": 22,
    "start_time": "2023-09-01T15:18:26.106Z"
   },
   {
    "duration": 170,
    "start_time": "2023-09-01T15:18:27.987Z"
   },
   {
    "duration": 162,
    "start_time": "2023-09-01T15:18:59.602Z"
   },
   {
    "duration": 173,
    "start_time": "2023-09-01T15:19:17.475Z"
   },
   {
    "duration": 14,
    "start_time": "2023-09-01T15:19:24.310Z"
   },
   {
    "duration": 23,
    "start_time": "2023-09-01T15:19:30.738Z"
   },
   {
    "duration": 175,
    "start_time": "2023-09-01T15:19:33.555Z"
   },
   {
    "duration": 187,
    "start_time": "2023-09-01T15:19:58.236Z"
   },
   {
    "duration": 72,
    "start_time": "2023-09-01T15:22:31.087Z"
   },
   {
    "duration": 70,
    "start_time": "2023-09-01T15:22:43.629Z"
   },
   {
    "duration": 127,
    "start_time": "2023-09-01T15:24:24.862Z"
   },
   {
    "duration": 3,
    "start_time": "2023-09-01T15:25:22.289Z"
   },
   {
    "duration": 6,
    "start_time": "2023-09-01T15:25:27.719Z"
   },
   {
    "duration": 24,
    "start_time": "2023-09-01T15:25:32.055Z"
   },
   {
    "duration": 7,
    "start_time": "2023-09-01T15:26:23.785Z"
   },
   {
    "duration": 65,
    "start_time": "2023-09-01T15:27:51.057Z"
   },
   {
    "duration": 117,
    "start_time": "2023-09-01T15:30:31.859Z"
   },
   {
    "duration": 248,
    "start_time": "2023-09-01T15:30:45.749Z"
   },
   {
    "duration": 22,
    "start_time": "2023-09-01T15:30:51.668Z"
   },
   {
    "duration": 168,
    "start_time": "2023-09-01T15:30:54.852Z"
   },
   {
    "duration": 112,
    "start_time": "2023-09-01T15:30:58.924Z"
   },
   {
    "duration": 123,
    "start_time": "2023-09-01T15:31:54.571Z"
   },
   {
    "duration": 113,
    "start_time": "2023-09-01T15:32:05.837Z"
   },
   {
    "duration": 112,
    "start_time": "2023-09-01T15:32:17.029Z"
   },
   {
    "duration": 109,
    "start_time": "2023-09-01T15:32:22.308Z"
   },
   {
    "duration": 288,
    "start_time": "2023-09-01T15:32:30.438Z"
   },
   {
    "duration": 109,
    "start_time": "2023-09-01T15:32:53.573Z"
   },
   {
    "duration": 106,
    "start_time": "2023-09-01T15:33:46.573Z"
   },
   {
    "duration": 470,
    "start_time": "2023-09-01T15:33:57.215Z"
   },
   {
    "duration": 463,
    "start_time": "2023-09-01T15:34:12.286Z"
   },
   {
    "duration": 664,
    "start_time": "2023-09-01T15:34:20.397Z"
   },
   {
    "duration": 146,
    "start_time": "2023-09-01T15:34:29.486Z"
   },
   {
    "duration": 472,
    "start_time": "2023-09-01T15:34:34.487Z"
   },
   {
    "duration": 491,
    "start_time": "2023-09-01T15:34:43.319Z"
   },
   {
    "duration": 470,
    "start_time": "2023-09-01T15:34:47.181Z"
   },
   {
    "duration": 683,
    "start_time": "2023-09-01T15:38:16.360Z"
   },
   {
    "duration": 606,
    "start_time": "2023-09-01T15:38:21.152Z"
   },
   {
    "duration": 480,
    "start_time": "2023-09-01T15:38:30.818Z"
   },
   {
    "duration": 2766,
    "start_time": "2023-09-01T15:39:41.939Z"
   },
   {
    "duration": 152,
    "start_time": "2023-09-01T15:39:53.273Z"
   },
   {
    "duration": 467,
    "start_time": "2023-09-01T15:40:13.437Z"
   },
   {
    "duration": 485,
    "start_time": "2023-09-01T15:40:37.403Z"
   },
   {
    "duration": 0,
    "start_time": "2023-09-01T15:41:59.360Z"
   },
   {
    "duration": 456,
    "start_time": "2023-09-01T15:42:03.581Z"
   },
   {
    "duration": 110,
    "start_time": "2023-09-01T15:42:28.932Z"
   },
   {
    "duration": 5393,
    "start_time": "2023-09-01T15:42:47.540Z"
   },
   {
    "duration": 486,
    "start_time": "2023-09-01T15:43:37.118Z"
   },
   {
    "duration": 24,
    "start_time": "2023-09-01T15:45:46.865Z"
   },
   {
    "duration": 139,
    "start_time": "2023-09-01T15:47:18.234Z"
   },
   {
    "duration": 136,
    "start_time": "2023-09-01T15:47:36.449Z"
   },
   {
    "duration": 139,
    "start_time": "2023-09-01T15:49:07.219Z"
   },
   {
    "duration": 132,
    "start_time": "2023-09-01T15:49:14.036Z"
   },
   {
    "duration": 128,
    "start_time": "2023-09-01T15:49:16.579Z"
   },
   {
    "duration": 493,
    "start_time": "2023-09-01T15:50:11.581Z"
   },
   {
    "duration": 143,
    "start_time": "2023-09-01T15:50:51.013Z"
   },
   {
    "duration": 153,
    "start_time": "2023-09-01T15:51:07.653Z"
   },
   {
    "duration": 164,
    "start_time": "2023-09-01T15:51:20.598Z"
   },
   {
    "duration": 167,
    "start_time": "2023-09-01T15:51:45.942Z"
   },
   {
    "duration": 177,
    "start_time": "2023-09-01T15:54:03.864Z"
   },
   {
    "duration": 180,
    "start_time": "2023-09-01T15:54:31.129Z"
   },
   {
    "duration": 10,
    "start_time": "2023-09-01T15:56:18.442Z"
   },
   {
    "duration": 10,
    "start_time": "2023-09-01T15:56:21.971Z"
   },
   {
    "duration": 13,
    "start_time": "2023-09-01T15:56:25.171Z"
   },
   {
    "duration": 15,
    "start_time": "2023-09-01T15:56:35.268Z"
   },
   {
    "duration": 14,
    "start_time": "2023-09-01T15:57:26.314Z"
   },
   {
    "duration": 15,
    "start_time": "2023-09-01T15:57:33.642Z"
   },
   {
    "duration": 15,
    "start_time": "2023-09-01T15:57:54.253Z"
   },
   {
    "duration": 156,
    "start_time": "2023-09-01T15:58:01.339Z"
   },
   {
    "duration": 852,
    "start_time": "2023-09-01T15:58:33.134Z"
   },
   {
    "duration": 139,
    "start_time": "2023-09-01T15:58:40.804Z"
   },
   {
    "duration": 151,
    "start_time": "2023-09-01T15:58:54.956Z"
   },
   {
    "duration": 25,
    "start_time": "2023-09-01T15:59:18.469Z"
   },
   {
    "duration": 147,
    "start_time": "2023-09-01T15:59:22.346Z"
   },
   {
    "duration": 153,
    "start_time": "2023-09-01T15:59:35.630Z"
   },
   {
    "duration": 144,
    "start_time": "2023-09-01T16:00:17.566Z"
   },
   {
    "duration": 189,
    "start_time": "2023-09-01T16:00:24.631Z"
   },
   {
    "duration": 217,
    "start_time": "2023-09-01T16:00:42.039Z"
   },
   {
    "duration": 228,
    "start_time": "2023-09-01T16:01:42.503Z"
   },
   {
    "duration": 207,
    "start_time": "2023-09-01T16:01:56.528Z"
   },
   {
    "duration": 220,
    "start_time": "2023-09-01T16:02:03.977Z"
   },
   {
    "duration": 233,
    "start_time": "2023-09-01T16:02:07.618Z"
   },
   {
    "duration": 2,
    "start_time": "2023-09-01T16:03:27.387Z"
   },
   {
    "duration": 112,
    "start_time": "2023-09-01T16:04:16.915Z"
   },
   {
    "duration": 15,
    "start_time": "2023-09-01T16:16:09.951Z"
   },
   {
    "duration": 16,
    "start_time": "2023-09-01T16:16:36.272Z"
   },
   {
    "duration": 13,
    "start_time": "2023-09-01T16:16:40.784Z"
   },
   {
    "duration": 16,
    "start_time": "2023-09-01T16:16:45.199Z"
   },
   {
    "duration": 18,
    "start_time": "2023-09-01T16:17:28.056Z"
   },
   {
    "duration": 18,
    "start_time": "2023-09-01T16:17:37.038Z"
   },
   {
    "duration": 16,
    "start_time": "2023-09-01T16:17:43.408Z"
   },
   {
    "duration": 16,
    "start_time": "2023-09-01T16:18:14.841Z"
   },
   {
    "duration": 14,
    "start_time": "2023-09-01T16:18:35.217Z"
   },
   {
    "duration": 36,
    "start_time": "2023-09-01T16:19:14.889Z"
   },
   {
    "duration": 40,
    "start_time": "2023-09-01T16:19:58.099Z"
   },
   {
    "duration": 36,
    "start_time": "2023-09-01T16:23:02.221Z"
   },
   {
    "duration": 1713,
    "start_time": "2023-09-01T16:26:37.506Z"
   },
   {
    "duration": 305,
    "start_time": "2023-09-01T16:26:55.337Z"
   },
   {
    "duration": 10,
    "start_time": "2023-09-01T16:28:35.358Z"
   },
   {
    "duration": 17,
    "start_time": "2023-09-01T16:28:52.683Z"
   },
   {
    "duration": 15,
    "start_time": "2023-09-01T16:29:50.436Z"
   },
   {
    "duration": 309,
    "start_time": "2023-09-01T16:30:05.836Z"
   },
   {
    "duration": 1162,
    "start_time": "2023-09-01T16:30:35.565Z"
   },
   {
    "duration": 17,
    "start_time": "2023-09-01T16:30:46.573Z"
   },
   {
    "duration": 1500,
    "start_time": "2023-09-01T16:30:49.773Z"
   },
   {
    "duration": 150,
    "start_time": "2023-09-01T16:31:11.781Z"
   },
   {
    "duration": 1173,
    "start_time": "2023-09-01T16:31:42.233Z"
   },
   {
    "duration": 75,
    "start_time": "2023-09-01T16:31:43.408Z"
   },
   {
    "duration": 15,
    "start_time": "2023-09-01T16:31:43.485Z"
   },
   {
    "duration": 21,
    "start_time": "2023-09-01T16:31:43.502Z"
   },
   {
    "duration": 40,
    "start_time": "2023-09-01T16:31:43.525Z"
   },
   {
    "duration": 30,
    "start_time": "2023-09-01T16:31:43.567Z"
   },
   {
    "duration": 12,
    "start_time": "2023-09-01T16:31:43.599Z"
   },
   {
    "duration": 11,
    "start_time": "2023-09-01T16:31:43.613Z"
   },
   {
    "duration": 31,
    "start_time": "2023-09-01T16:31:43.626Z"
   },
   {
    "duration": 11,
    "start_time": "2023-09-01T16:31:43.659Z"
   },
   {
    "duration": 10,
    "start_time": "2023-09-01T16:31:43.672Z"
   },
   {
    "duration": 28,
    "start_time": "2023-09-01T16:31:43.683Z"
   },
   {
    "duration": 9,
    "start_time": "2023-09-01T16:31:43.713Z"
   },
   {
    "duration": 330,
    "start_time": "2023-09-01T16:31:43.726Z"
   },
   {
    "duration": 23,
    "start_time": "2023-09-01T16:31:44.058Z"
   },
   {
    "duration": 188,
    "start_time": "2023-09-01T16:31:44.083Z"
   },
   {
    "duration": 9,
    "start_time": "2023-09-01T16:31:44.273Z"
   },
   {
    "duration": 233,
    "start_time": "2023-09-01T16:31:44.284Z"
   },
   {
    "duration": 176,
    "start_time": "2023-09-01T16:31:44.519Z"
   },
   {
    "duration": 186,
    "start_time": "2023-09-01T16:31:44.697Z"
   },
   {
    "duration": 190,
    "start_time": "2023-09-01T16:31:44.885Z"
   },
   {
    "duration": 189,
    "start_time": "2023-09-01T16:31:45.077Z"
   },
   {
    "duration": 323,
    "start_time": "2023-09-01T16:31:45.268Z"
   },
   {
    "duration": 37,
    "start_time": "2023-09-01T16:31:45.593Z"
   },
   {
    "duration": 59,
    "start_time": "2023-09-01T16:31:45.632Z"
   },
   {
    "duration": 17,
    "start_time": "2023-09-01T16:31:45.693Z"
   },
   {
    "duration": 261,
    "start_time": "2023-09-01T16:31:45.712Z"
   },
   {
    "duration": 1370,
    "start_time": "2023-09-01T16:31:58.015Z"
   },
   {
    "duration": 1220,
    "start_time": "2023-09-01T16:32:43.424Z"
   },
   {
    "duration": 1765,
    "start_time": "2023-09-01T16:32:53.472Z"
   },
   {
    "duration": 18,
    "start_time": "2023-09-01T16:33:03.887Z"
   },
   {
    "duration": 1802,
    "start_time": "2023-09-01T16:33:16.319Z"
   },
   {
    "duration": 13,
    "start_time": "2023-09-01T16:33:24.007Z"
   },
   {
    "duration": 18,
    "start_time": "2023-09-01T16:33:29.983Z"
   },
   {
    "duration": 21,
    "start_time": "2023-09-01T16:34:00.792Z"
   },
   {
    "duration": 145,
    "start_time": "2023-09-01T16:34:07.001Z"
   },
   {
    "duration": 309,
    "start_time": "2023-09-01T16:34:15.865Z"
   },
   {
    "duration": 165,
    "start_time": "2023-09-01T16:34:22.585Z"
   },
   {
    "duration": 145,
    "start_time": "2023-09-01T16:34:49.946Z"
   },
   {
    "duration": 157,
    "start_time": "2023-09-01T16:35:19.859Z"
   },
   {
    "duration": 136,
    "start_time": "2023-09-01T16:35:33.977Z"
   },
   {
    "duration": 172,
    "start_time": "2023-09-01T16:35:38.612Z"
   },
   {
    "duration": 158,
    "start_time": "2023-09-01T16:35:57.410Z"
   },
   {
    "duration": 169,
    "start_time": "2023-09-01T16:36:09.458Z"
   },
   {
    "duration": 3,
    "start_time": "2023-09-01T16:42:35.322Z"
   },
   {
    "duration": 17,
    "start_time": "2023-09-01T17:03:17.237Z"
   },
   {
    "duration": 14,
    "start_time": "2023-09-01T17:03:24.701Z"
   },
   {
    "duration": 14,
    "start_time": "2023-09-01T17:03:29.493Z"
   },
   {
    "duration": 16,
    "start_time": "2023-09-01T17:03:31.829Z"
   },
   {
    "duration": 10,
    "start_time": "2023-09-01T17:04:07.453Z"
   },
   {
    "duration": 13,
    "start_time": "2023-09-01T17:04:10.830Z"
   },
   {
    "duration": 1161,
    "start_time": "2023-09-01T17:05:16.750Z"
   },
   {
    "duration": 10,
    "start_time": "2023-09-01T17:05:50.090Z"
   },
   {
    "duration": 15,
    "start_time": "2023-09-01T17:05:53.410Z"
   },
   {
    "duration": 11,
    "start_time": "2023-09-01T17:06:30.841Z"
   },
   {
    "duration": 13,
    "start_time": "2023-09-01T17:06:34.233Z"
   },
   {
    "duration": 102,
    "start_time": "2023-09-01T17:06:39.130Z"
   },
   {
    "duration": 11,
    "start_time": "2023-09-01T17:06:44.769Z"
   },
   {
    "duration": 12,
    "start_time": "2023-09-01T17:06:47.244Z"
   },
   {
    "duration": 17,
    "start_time": "2023-09-01T17:07:10.891Z"
   },
   {
    "duration": 11,
    "start_time": "2023-09-01T17:07:23.155Z"
   },
   {
    "duration": 16,
    "start_time": "2023-09-01T17:07:25.715Z"
   },
   {
    "duration": 13,
    "start_time": "2023-09-01T17:07:57.469Z"
   },
   {
    "duration": 15,
    "start_time": "2023-09-01T17:08:16.804Z"
   },
   {
    "duration": 888,
    "start_time": "2023-09-01T17:09:34.973Z"
   },
   {
    "duration": 24,
    "start_time": "2023-09-01T17:10:02.214Z"
   },
   {
    "duration": 16,
    "start_time": "2023-09-01T17:11:02.958Z"
   },
   {
    "duration": 14,
    "start_time": "2023-09-01T17:11:16.598Z"
   },
   {
    "duration": 994,
    "start_time": "2023-09-01T17:14:41.012Z"
   },
   {
    "duration": 73,
    "start_time": "2023-09-01T17:14:42.007Z"
   },
   {
    "duration": 12,
    "start_time": "2023-09-01T17:14:42.081Z"
   },
   {
    "duration": 19,
    "start_time": "2023-09-01T17:14:42.096Z"
   },
   {
    "duration": 28,
    "start_time": "2023-09-01T17:14:42.116Z"
   },
   {
    "duration": 27,
    "start_time": "2023-09-01T17:14:42.156Z"
   },
   {
    "duration": 5,
    "start_time": "2023-09-01T17:14:42.184Z"
   },
   {
    "duration": 8,
    "start_time": "2023-09-01T17:14:42.191Z"
   },
   {
    "duration": 15,
    "start_time": "2023-09-01T17:14:42.201Z"
   },
   {
    "duration": 9,
    "start_time": "2023-09-01T17:14:42.218Z"
   },
   {
    "duration": 29,
    "start_time": "2023-09-01T17:14:42.229Z"
   },
   {
    "duration": 9,
    "start_time": "2023-09-01T17:14:42.260Z"
   },
   {
    "duration": 9,
    "start_time": "2023-09-01T17:14:42.271Z"
   },
   {
    "duration": 333,
    "start_time": "2023-09-01T17:14:42.281Z"
   },
   {
    "duration": 24,
    "start_time": "2023-09-01T17:14:42.616Z"
   },
   {
    "duration": 178,
    "start_time": "2023-09-01T17:14:42.656Z"
   },
   {
    "duration": 22,
    "start_time": "2023-09-01T17:14:42.835Z"
   },
   {
    "duration": 219,
    "start_time": "2023-09-01T17:14:42.859Z"
   },
   {
    "duration": 180,
    "start_time": "2023-09-01T17:14:43.079Z"
   },
   {
    "duration": 180,
    "start_time": "2023-09-01T17:14:43.260Z"
   },
   {
    "duration": 193,
    "start_time": "2023-09-01T17:14:43.442Z"
   },
   {
    "duration": 190,
    "start_time": "2023-09-01T17:14:43.636Z"
   },
   {
    "duration": 321,
    "start_time": "2023-09-01T17:14:43.828Z"
   },
   {
    "duration": 38,
    "start_time": "2023-09-01T17:14:44.151Z"
   },
   {
    "duration": 43,
    "start_time": "2023-09-01T17:14:44.191Z"
   },
   {
    "duration": 18,
    "start_time": "2023-09-01T17:14:44.256Z"
   },
   {
    "duration": 172,
    "start_time": "2023-09-01T17:14:44.275Z"
   },
   {
    "duration": 151,
    "start_time": "2023-09-01T17:14:44.450Z"
   },
   {
    "duration": 169,
    "start_time": "2023-09-01T17:14:44.603Z"
   },
   {
    "duration": 16,
    "start_time": "2023-09-01T17:14:44.773Z"
   },
   {
    "duration": 113,
    "start_time": "2023-09-01T17:14:44.790Z"
   },
   {
    "duration": 36,
    "start_time": "2023-09-01T17:17:17.965Z"
   },
   {
    "duration": 30,
    "start_time": "2023-09-01T17:17:37.869Z"
   },
   {
    "duration": 5,
    "start_time": "2023-09-01T17:18:07.422Z"
   },
   {
    "duration": 15,
    "start_time": "2023-09-01T17:19:11.070Z"
   },
   {
    "duration": 14,
    "start_time": "2023-09-01T17:19:16.105Z"
   },
   {
    "duration": 5,
    "start_time": "2023-09-01T17:19:19.751Z"
   },
   {
    "duration": 15,
    "start_time": "2023-09-01T17:19:50.368Z"
   },
   {
    "duration": 17,
    "start_time": "2023-09-01T17:20:03.119Z"
   },
   {
    "duration": 5,
    "start_time": "2023-09-01T17:20:10.456Z"
   },
   {
    "duration": 4,
    "start_time": "2023-09-01T17:20:13.209Z"
   },
   {
    "duration": 7,
    "start_time": "2023-09-01T17:22:27.018Z"
   },
   {
    "duration": 12,
    "start_time": "2023-09-01T17:22:30.034Z"
   },
   {
    "duration": 27,
    "start_time": "2023-09-01T17:22:43.668Z"
   },
   {
    "duration": 65,
    "start_time": "2023-09-01T17:23:54.948Z"
   },
   {
    "duration": 9,
    "start_time": "2023-09-01T17:23:58.228Z"
   },
   {
    "duration": 7,
    "start_time": "2023-09-01T17:24:04.645Z"
   },
   {
    "duration": 5,
    "start_time": "2023-09-01T17:24:45.961Z"
   },
   {
    "duration": 6,
    "start_time": "2023-09-01T17:25:37.022Z"
   },
   {
    "duration": 74,
    "start_time": "2023-09-01T17:26:48.720Z"
   },
   {
    "duration": 60,
    "start_time": "2023-09-04T10:13:14.086Z"
   },
   {
    "duration": 1422,
    "start_time": "2023-09-04T10:13:19.439Z"
   },
   {
    "duration": 124,
    "start_time": "2023-09-04T10:13:20.863Z"
   },
   {
    "duration": 17,
    "start_time": "2023-09-04T10:13:20.989Z"
   },
   {
    "duration": 23,
    "start_time": "2023-09-04T10:13:21.008Z"
   },
   {
    "duration": 26,
    "start_time": "2023-09-04T10:13:21.033Z"
   },
   {
    "duration": 39,
    "start_time": "2023-09-04T10:13:21.080Z"
   },
   {
    "duration": 5,
    "start_time": "2023-09-04T10:13:21.121Z"
   },
   {
    "duration": 8,
    "start_time": "2023-09-04T10:13:21.128Z"
   },
   {
    "duration": 14,
    "start_time": "2023-09-04T10:13:21.137Z"
   },
   {
    "duration": 11,
    "start_time": "2023-09-04T10:13:21.183Z"
   },
   {
    "duration": 36,
    "start_time": "2023-09-04T10:13:21.196Z"
   },
   {
    "duration": 21,
    "start_time": "2023-09-04T10:13:21.234Z"
   },
   {
    "duration": 16,
    "start_time": "2023-09-04T10:13:21.257Z"
   },
   {
    "duration": 368,
    "start_time": "2023-09-04T10:13:21.275Z"
   },
   {
    "duration": 35,
    "start_time": "2023-09-04T10:13:21.646Z"
   },
   {
    "duration": 214,
    "start_time": "2023-09-04T10:13:21.684Z"
   },
   {
    "duration": 9,
    "start_time": "2023-09-04T10:13:21.901Z"
   },
   {
    "duration": 272,
    "start_time": "2023-09-04T10:13:21.912Z"
   },
   {
    "duration": 205,
    "start_time": "2023-09-04T10:13:22.186Z"
   },
   {
    "duration": 200,
    "start_time": "2023-09-04T10:13:22.392Z"
   },
   {
    "duration": 217,
    "start_time": "2023-09-04T10:13:22.594Z"
   },
   {
    "duration": 222,
    "start_time": "2023-09-04T10:13:22.813Z"
   },
   {
    "duration": 340,
    "start_time": "2023-09-04T10:13:23.037Z"
   },
   {
    "duration": 37,
    "start_time": "2023-09-04T10:13:23.380Z"
   },
   {
    "duration": 34,
    "start_time": "2023-09-04T10:13:23.419Z"
   },
   {
    "duration": 48,
    "start_time": "2023-09-04T10:13:23.454Z"
   },
   {
    "duration": 189,
    "start_time": "2023-09-04T10:13:23.504Z"
   },
   {
    "duration": 186,
    "start_time": "2023-09-04T10:13:23.696Z"
   },
   {
    "duration": 199,
    "start_time": "2023-09-04T10:13:23.883Z"
   },
   {
    "duration": 6,
    "start_time": "2023-09-04T10:13:24.084Z"
   },
   {
    "duration": 28,
    "start_time": "2023-09-04T10:13:24.092Z"
   },
   {
    "duration": 27,
    "start_time": "2023-09-04T10:13:24.122Z"
   },
   {
    "duration": 13,
    "start_time": "2023-09-04T10:13:24.150Z"
   },
   {
    "duration": 7,
    "start_time": "2023-09-04T10:13:24.165Z"
   },
   {
    "duration": 11,
    "start_time": "2023-09-04T10:13:24.173Z"
   },
   {
    "duration": 32,
    "start_time": "2023-09-04T10:17:15.850Z"
   },
   {
    "duration": 33,
    "start_time": "2023-09-04T10:17:52.023Z"
   },
   {
    "duration": 15,
    "start_time": "2023-09-04T10:18:02.164Z"
   },
   {
    "duration": 104,
    "start_time": "2023-09-04T10:18:07.691Z"
   },
   {
    "duration": 29,
    "start_time": "2023-09-04T10:18:17.187Z"
   },
   {
    "duration": 3,
    "start_time": "2023-09-04T10:18:32.860Z"
   },
   {
    "duration": 108,
    "start_time": "2023-09-04T10:20:18.946Z"
   },
   {
    "duration": 82,
    "start_time": "2023-09-04T10:20:28.852Z"
   },
   {
    "duration": 20,
    "start_time": "2023-09-04T10:23:52.678Z"
   },
   {
    "duration": 15,
    "start_time": "2023-09-04T10:24:00.596Z"
   },
   {
    "duration": 27,
    "start_time": "2023-09-04T10:24:31.615Z"
   },
   {
    "duration": 1133,
    "start_time": "2023-09-04T10:24:51.638Z"
   },
   {
    "duration": 83,
    "start_time": "2023-09-04T10:24:52.773Z"
   },
   {
    "duration": 15,
    "start_time": "2023-09-04T10:24:52.858Z"
   },
   {
    "duration": 80,
    "start_time": "2023-09-04T10:24:52.874Z"
   },
   {
    "duration": 139,
    "start_time": "2023-09-04T10:24:52.956Z"
   },
   {
    "duration": 0,
    "start_time": "2023-09-04T10:24:53.098Z"
   },
   {
    "duration": 0,
    "start_time": "2023-09-04T10:24:53.099Z"
   },
   {
    "duration": 0,
    "start_time": "2023-09-04T10:24:53.100Z"
   },
   {
    "duration": 0,
    "start_time": "2023-09-04T10:24:53.101Z"
   },
   {
    "duration": 0,
    "start_time": "2023-09-04T10:24:53.102Z"
   },
   {
    "duration": 0,
    "start_time": "2023-09-04T10:24:53.104Z"
   },
   {
    "duration": 0,
    "start_time": "2023-09-04T10:24:53.105Z"
   },
   {
    "duration": 0,
    "start_time": "2023-09-04T10:24:53.106Z"
   },
   {
    "duration": 0,
    "start_time": "2023-09-04T10:24:53.107Z"
   },
   {
    "duration": 0,
    "start_time": "2023-09-04T10:24:53.108Z"
   },
   {
    "duration": 0,
    "start_time": "2023-09-04T10:24:53.109Z"
   },
   {
    "duration": 0,
    "start_time": "2023-09-04T10:24:53.110Z"
   },
   {
    "duration": 0,
    "start_time": "2023-09-04T10:24:53.111Z"
   },
   {
    "duration": 0,
    "start_time": "2023-09-04T10:24:53.112Z"
   },
   {
    "duration": 0,
    "start_time": "2023-09-04T10:24:53.113Z"
   },
   {
    "duration": 0,
    "start_time": "2023-09-04T10:24:53.114Z"
   },
   {
    "duration": 0,
    "start_time": "2023-09-04T10:24:53.115Z"
   },
   {
    "duration": 0,
    "start_time": "2023-09-04T10:24:53.116Z"
   },
   {
    "duration": 0,
    "start_time": "2023-09-04T10:24:53.117Z"
   },
   {
    "duration": 0,
    "start_time": "2023-09-04T10:24:53.118Z"
   },
   {
    "duration": 0,
    "start_time": "2023-09-04T10:24:53.119Z"
   },
   {
    "duration": 0,
    "start_time": "2023-09-04T10:24:53.120Z"
   },
   {
    "duration": 0,
    "start_time": "2023-09-04T10:24:53.122Z"
   },
   {
    "duration": 0,
    "start_time": "2023-09-04T10:24:53.123Z"
   },
   {
    "duration": 0,
    "start_time": "2023-09-04T10:24:53.124Z"
   },
   {
    "duration": 0,
    "start_time": "2023-09-04T10:24:53.125Z"
   },
   {
    "duration": 0,
    "start_time": "2023-09-04T10:24:53.126Z"
   },
   {
    "duration": 0,
    "start_time": "2023-09-04T10:24:53.127Z"
   },
   {
    "duration": 0,
    "start_time": "2023-09-04T10:24:53.128Z"
   },
   {
    "duration": 0,
    "start_time": "2023-09-04T10:24:53.129Z"
   },
   {
    "duration": 48,
    "start_time": "2023-09-04T10:25:19.401Z"
   },
   {
    "duration": 20,
    "start_time": "2023-09-04T10:25:22.994Z"
   },
   {
    "duration": 1256,
    "start_time": "2023-09-04T10:25:29.399Z"
   },
   {
    "duration": 81,
    "start_time": "2023-09-04T10:25:30.657Z"
   },
   {
    "duration": 17,
    "start_time": "2023-09-04T10:25:30.740Z"
   },
   {
    "duration": 44,
    "start_time": "2023-09-04T10:25:30.758Z"
   },
   {
    "duration": 191,
    "start_time": "2023-09-04T10:25:30.804Z"
   },
   {
    "duration": 0,
    "start_time": "2023-09-04T10:25:30.998Z"
   },
   {
    "duration": 0,
    "start_time": "2023-09-04T10:25:30.999Z"
   },
   {
    "duration": 0,
    "start_time": "2023-09-04T10:25:31.000Z"
   },
   {
    "duration": 0,
    "start_time": "2023-09-04T10:25:31.002Z"
   },
   {
    "duration": 0,
    "start_time": "2023-09-04T10:25:31.003Z"
   },
   {
    "duration": 0,
    "start_time": "2023-09-04T10:25:31.004Z"
   },
   {
    "duration": 0,
    "start_time": "2023-09-04T10:25:31.005Z"
   },
   {
    "duration": 0,
    "start_time": "2023-09-04T10:25:31.006Z"
   },
   {
    "duration": 0,
    "start_time": "2023-09-04T10:25:31.007Z"
   },
   {
    "duration": 0,
    "start_time": "2023-09-04T10:25:31.009Z"
   },
   {
    "duration": 0,
    "start_time": "2023-09-04T10:25:31.010Z"
   },
   {
    "duration": 0,
    "start_time": "2023-09-04T10:25:31.011Z"
   },
   {
    "duration": 0,
    "start_time": "2023-09-04T10:25:31.012Z"
   },
   {
    "duration": 0,
    "start_time": "2023-09-04T10:25:31.013Z"
   },
   {
    "duration": 0,
    "start_time": "2023-09-04T10:25:31.014Z"
   },
   {
    "duration": 0,
    "start_time": "2023-09-04T10:25:31.015Z"
   },
   {
    "duration": 0,
    "start_time": "2023-09-04T10:25:31.016Z"
   },
   {
    "duration": 0,
    "start_time": "2023-09-04T10:25:31.018Z"
   },
   {
    "duration": 0,
    "start_time": "2023-09-04T10:25:31.019Z"
   },
   {
    "duration": 0,
    "start_time": "2023-09-04T10:25:31.020Z"
   },
   {
    "duration": 0,
    "start_time": "2023-09-04T10:25:31.021Z"
   },
   {
    "duration": 0,
    "start_time": "2023-09-04T10:25:31.022Z"
   },
   {
    "duration": 0,
    "start_time": "2023-09-04T10:25:31.023Z"
   },
   {
    "duration": 0,
    "start_time": "2023-09-04T10:25:31.024Z"
   },
   {
    "duration": 0,
    "start_time": "2023-09-04T10:25:31.025Z"
   },
   {
    "duration": 0,
    "start_time": "2023-09-04T10:25:31.026Z"
   },
   {
    "duration": 0,
    "start_time": "2023-09-04T10:25:31.027Z"
   },
   {
    "duration": 0,
    "start_time": "2023-09-04T10:25:31.028Z"
   },
   {
    "duration": 1,
    "start_time": "2023-09-04T10:25:31.029Z"
   },
   {
    "duration": 0,
    "start_time": "2023-09-04T10:25:31.030Z"
   },
   {
    "duration": 19,
    "start_time": "2023-09-04T10:25:44.876Z"
   },
   {
    "duration": 30,
    "start_time": "2023-09-04T10:26:04.415Z"
   },
   {
    "duration": 10,
    "start_time": "2023-09-04T10:26:24.067Z"
   },
   {
    "duration": 12,
    "start_time": "2023-09-04T10:26:53.558Z"
   },
   {
    "duration": 32,
    "start_time": "2023-09-04T10:26:59.399Z"
   },
   {
    "duration": 15,
    "start_time": "2023-09-04T10:27:12.302Z"
   },
   {
    "duration": 27,
    "start_time": "2023-09-04T10:27:56.474Z"
   },
   {
    "duration": 1166,
    "start_time": "2023-09-04T10:28:05.411Z"
   },
   {
    "duration": 93,
    "start_time": "2023-09-04T10:28:06.580Z"
   },
   {
    "duration": 24,
    "start_time": "2023-09-04T10:28:06.675Z"
   },
   {
    "duration": 29,
    "start_time": "2023-09-04T10:28:06.701Z"
   },
   {
    "duration": 35,
    "start_time": "2023-09-04T10:28:06.732Z"
   },
   {
    "duration": 43,
    "start_time": "2023-09-04T10:28:06.782Z"
   },
   {
    "duration": 23,
    "start_time": "2023-09-04T10:28:06.826Z"
   },
   {
    "duration": 150,
    "start_time": "2023-09-04T10:28:06.851Z"
   },
   {
    "duration": 0,
    "start_time": "2023-09-04T10:28:07.003Z"
   },
   {
    "duration": 0,
    "start_time": "2023-09-04T10:28:07.005Z"
   },
   {
    "duration": 0,
    "start_time": "2023-09-04T10:28:07.006Z"
   },
   {
    "duration": 0,
    "start_time": "2023-09-04T10:28:07.007Z"
   },
   {
    "duration": 0,
    "start_time": "2023-09-04T10:28:07.008Z"
   },
   {
    "duration": 0,
    "start_time": "2023-09-04T10:28:07.009Z"
   },
   {
    "duration": 0,
    "start_time": "2023-09-04T10:28:07.010Z"
   },
   {
    "duration": 0,
    "start_time": "2023-09-04T10:28:07.012Z"
   },
   {
    "duration": 0,
    "start_time": "2023-09-04T10:28:07.013Z"
   },
   {
    "duration": 0,
    "start_time": "2023-09-04T10:28:07.014Z"
   },
   {
    "duration": 0,
    "start_time": "2023-09-04T10:28:07.016Z"
   },
   {
    "duration": 0,
    "start_time": "2023-09-04T10:28:07.017Z"
   },
   {
    "duration": 0,
    "start_time": "2023-09-04T10:28:07.018Z"
   },
   {
    "duration": 0,
    "start_time": "2023-09-04T10:28:07.019Z"
   },
   {
    "duration": 0,
    "start_time": "2023-09-04T10:28:07.020Z"
   },
   {
    "duration": 0,
    "start_time": "2023-09-04T10:28:07.021Z"
   },
   {
    "duration": 0,
    "start_time": "2023-09-04T10:28:07.022Z"
   },
   {
    "duration": 0,
    "start_time": "2023-09-04T10:28:07.023Z"
   },
   {
    "duration": 0,
    "start_time": "2023-09-04T10:28:07.024Z"
   },
   {
    "duration": 0,
    "start_time": "2023-09-04T10:28:07.025Z"
   },
   {
    "duration": 0,
    "start_time": "2023-09-04T10:28:07.026Z"
   },
   {
    "duration": 0,
    "start_time": "2023-09-04T10:28:07.027Z"
   },
   {
    "duration": 0,
    "start_time": "2023-09-04T10:28:07.028Z"
   },
   {
    "duration": 0,
    "start_time": "2023-09-04T10:28:07.029Z"
   },
   {
    "duration": 0,
    "start_time": "2023-09-04T10:28:07.030Z"
   },
   {
    "duration": 0,
    "start_time": "2023-09-04T10:28:07.031Z"
   },
   {
    "duration": 0,
    "start_time": "2023-09-04T10:28:07.081Z"
   },
   {
    "duration": 3,
    "start_time": "2023-09-04T10:29:19.030Z"
   },
   {
    "duration": 1217,
    "start_time": "2023-09-04T10:29:28.641Z"
   },
   {
    "duration": 79,
    "start_time": "2023-09-04T10:29:29.862Z"
   },
   {
    "duration": 16,
    "start_time": "2023-09-04T10:29:29.942Z"
   },
   {
    "duration": 30,
    "start_time": "2023-09-04T10:29:29.961Z"
   },
   {
    "duration": 30,
    "start_time": "2023-09-04T10:29:29.993Z"
   },
   {
    "duration": 61,
    "start_time": "2023-09-04T10:29:30.026Z"
   },
   {
    "duration": 73,
    "start_time": "2023-09-04T10:29:30.089Z"
   },
   {
    "duration": 18,
    "start_time": "2023-09-04T10:29:30.164Z"
   },
   {
    "duration": 62,
    "start_time": "2023-09-04T10:29:30.184Z"
   },
   {
    "duration": 46,
    "start_time": "2023-09-04T10:29:30.248Z"
   },
   {
    "duration": 30,
    "start_time": "2023-09-04T10:29:30.296Z"
   },
   {
    "duration": 44,
    "start_time": "2023-09-04T10:29:30.329Z"
   },
   {
    "duration": 56,
    "start_time": "2023-09-04T10:29:30.375Z"
   },
   {
    "duration": 632,
    "start_time": "2023-09-04T10:29:30.433Z"
   },
   {
    "duration": 0,
    "start_time": "2023-09-04T10:29:31.068Z"
   },
   {
    "duration": 0,
    "start_time": "2023-09-04T10:29:31.069Z"
   },
   {
    "duration": 0,
    "start_time": "2023-09-04T10:29:31.072Z"
   },
   {
    "duration": 0,
    "start_time": "2023-09-04T10:29:31.080Z"
   },
   {
    "duration": 0,
    "start_time": "2023-09-04T10:29:31.082Z"
   },
   {
    "duration": 0,
    "start_time": "2023-09-04T10:29:31.083Z"
   },
   {
    "duration": 0,
    "start_time": "2023-09-04T10:29:31.084Z"
   },
   {
    "duration": 1,
    "start_time": "2023-09-04T10:29:31.085Z"
   },
   {
    "duration": 0,
    "start_time": "2023-09-04T10:29:31.086Z"
   },
   {
    "duration": 0,
    "start_time": "2023-09-04T10:29:31.087Z"
   },
   {
    "duration": 0,
    "start_time": "2023-09-04T10:29:31.089Z"
   },
   {
    "duration": 0,
    "start_time": "2023-09-04T10:29:31.090Z"
   },
   {
    "duration": 0,
    "start_time": "2023-09-04T10:29:31.091Z"
   },
   {
    "duration": 0,
    "start_time": "2023-09-04T10:29:31.092Z"
   },
   {
    "duration": 0,
    "start_time": "2023-09-04T10:29:31.093Z"
   },
   {
    "duration": 0,
    "start_time": "2023-09-04T10:29:31.095Z"
   },
   {
    "duration": 0,
    "start_time": "2023-09-04T10:29:31.096Z"
   },
   {
    "duration": 0,
    "start_time": "2023-09-04T10:29:31.097Z"
   },
   {
    "duration": 0,
    "start_time": "2023-09-04T10:29:31.098Z"
   },
   {
    "duration": 0,
    "start_time": "2023-09-04T10:29:31.099Z"
   },
   {
    "duration": 0,
    "start_time": "2023-09-04T10:29:31.100Z"
   },
   {
    "duration": 9,
    "start_time": "2023-09-04T10:31:22.032Z"
   },
   {
    "duration": 1218,
    "start_time": "2023-09-04T10:31:32.699Z"
   },
   {
    "duration": 1227,
    "start_time": "2023-09-04T10:31:40.746Z"
   },
   {
    "duration": 79,
    "start_time": "2023-09-04T10:31:41.975Z"
   },
   {
    "duration": 15,
    "start_time": "2023-09-04T10:31:42.056Z"
   },
   {
    "duration": 23,
    "start_time": "2023-09-04T10:31:42.072Z"
   },
   {
    "duration": 27,
    "start_time": "2023-09-04T10:31:42.097Z"
   },
   {
    "duration": 29,
    "start_time": "2023-09-04T10:31:42.125Z"
   },
   {
    "duration": 74,
    "start_time": "2023-09-04T10:31:42.156Z"
   },
   {
    "duration": 3,
    "start_time": "2023-09-04T10:31:42.231Z"
   },
   {
    "duration": 28,
    "start_time": "2023-09-04T10:31:42.235Z"
   },
   {
    "duration": 26,
    "start_time": "2023-09-04T10:31:42.265Z"
   },
   {
    "duration": 2,
    "start_time": "2023-09-04T10:31:42.293Z"
   },
   {
    "duration": 22,
    "start_time": "2023-09-04T10:31:42.297Z"
   },
   {
    "duration": 11,
    "start_time": "2023-09-04T10:31:42.320Z"
   },
   {
    "duration": 431,
    "start_time": "2023-09-04T10:31:42.335Z"
   },
   {
    "duration": 0,
    "start_time": "2023-09-04T10:31:42.768Z"
   },
   {
    "duration": 0,
    "start_time": "2023-09-04T10:31:42.770Z"
   },
   {
    "duration": 0,
    "start_time": "2023-09-04T10:31:42.771Z"
   },
   {
    "duration": 0,
    "start_time": "2023-09-04T10:31:42.781Z"
   },
   {
    "duration": 1,
    "start_time": "2023-09-04T10:31:42.782Z"
   },
   {
    "duration": 0,
    "start_time": "2023-09-04T10:31:42.784Z"
   },
   {
    "duration": 0,
    "start_time": "2023-09-04T10:31:42.786Z"
   },
   {
    "duration": 0,
    "start_time": "2023-09-04T10:31:42.786Z"
   },
   {
    "duration": 0,
    "start_time": "2023-09-04T10:31:42.788Z"
   },
   {
    "duration": 0,
    "start_time": "2023-09-04T10:31:42.789Z"
   },
   {
    "duration": 0,
    "start_time": "2023-09-04T10:31:42.790Z"
   },
   {
    "duration": 0,
    "start_time": "2023-09-04T10:31:42.791Z"
   },
   {
    "duration": 0,
    "start_time": "2023-09-04T10:31:42.793Z"
   },
   {
    "duration": 0,
    "start_time": "2023-09-04T10:31:42.794Z"
   },
   {
    "duration": 0,
    "start_time": "2023-09-04T10:31:42.795Z"
   },
   {
    "duration": 0,
    "start_time": "2023-09-04T10:31:42.796Z"
   },
   {
    "duration": 0,
    "start_time": "2023-09-04T10:31:42.797Z"
   },
   {
    "duration": 0,
    "start_time": "2023-09-04T10:31:42.799Z"
   },
   {
    "duration": 0,
    "start_time": "2023-09-04T10:31:42.800Z"
   },
   {
    "duration": 0,
    "start_time": "2023-09-04T10:31:42.802Z"
   },
   {
    "duration": 1,
    "start_time": "2023-09-04T10:31:42.802Z"
   },
   {
    "duration": 19,
    "start_time": "2023-09-04T10:32:02.763Z"
   },
   {
    "duration": 19,
    "start_time": "2023-09-04T10:32:06.959Z"
   },
   {
    "duration": 1571,
    "start_time": "2023-09-04T10:32:20.617Z"
   },
   {
    "duration": 51,
    "start_time": "2023-09-04T10:32:55.850Z"
   },
   {
    "duration": 1162,
    "start_time": "2023-09-04T10:32:57.453Z"
   },
   {
    "duration": 81,
    "start_time": "2023-09-04T10:32:59.022Z"
   },
   {
    "duration": 16,
    "start_time": "2023-09-04T10:33:01.092Z"
   },
   {
    "duration": 22,
    "start_time": "2023-09-04T10:33:04.239Z"
   },
   {
    "duration": 30,
    "start_time": "2023-09-04T10:33:06.733Z"
   },
   {
    "duration": 16,
    "start_time": "2023-09-04T10:33:10.648Z"
   },
   {
    "duration": 4,
    "start_time": "2023-09-04T10:34:03.635Z"
   },
   {
    "duration": 33,
    "start_time": "2023-09-04T10:35:16.363Z"
   },
   {
    "duration": 59,
    "start_time": "2023-09-04T10:35:19.206Z"
   },
   {
    "duration": 20,
    "start_time": "2023-09-04T10:35:27.021Z"
   },
   {
    "duration": 1152,
    "start_time": "2023-09-04T10:35:43.624Z"
   },
   {
    "duration": 87,
    "start_time": "2023-09-04T10:35:46.770Z"
   },
   {
    "duration": 16,
    "start_time": "2023-09-04T10:35:48.868Z"
   },
   {
    "duration": 22,
    "start_time": "2023-09-04T10:35:51.548Z"
   },
   {
    "duration": 27,
    "start_time": "2023-09-04T10:35:54.108Z"
   },
   {
    "duration": 15,
    "start_time": "2023-09-04T10:36:04.071Z"
   },
   {
    "duration": 28,
    "start_time": "2023-09-04T10:36:25.366Z"
   },
   {
    "duration": 14,
    "start_time": "2023-09-04T10:36:28.977Z"
   },
   {
    "duration": 56,
    "start_time": "2023-09-04T10:36:39.840Z"
   },
   {
    "duration": 21,
    "start_time": "2023-09-04T10:36:44.442Z"
   },
   {
    "duration": 19,
    "start_time": "2023-09-04T10:36:49.760Z"
   },
   {
    "duration": 1355,
    "start_time": "2023-09-04T10:37:30.296Z"
   },
   {
    "duration": 79,
    "start_time": "2023-09-04T10:37:31.654Z"
   },
   {
    "duration": 16,
    "start_time": "2023-09-04T10:37:31.734Z"
   },
   {
    "duration": 45,
    "start_time": "2023-09-04T10:37:31.752Z"
   },
   {
    "duration": 42,
    "start_time": "2023-09-04T10:37:31.799Z"
   },
   {
    "duration": 39,
    "start_time": "2023-09-04T10:37:31.842Z"
   },
   {
    "duration": 134,
    "start_time": "2023-09-04T10:37:31.883Z"
   },
   {
    "duration": 82,
    "start_time": "2023-09-04T10:37:32.019Z"
   },
   {
    "duration": 39,
    "start_time": "2023-09-04T10:37:32.103Z"
   },
   {
    "duration": 21,
    "start_time": "2023-09-04T10:37:32.144Z"
   },
   {
    "duration": 14,
    "start_time": "2023-09-04T10:37:32.166Z"
   },
   {
    "duration": 35,
    "start_time": "2023-09-04T10:37:32.181Z"
   },
   {
    "duration": 12,
    "start_time": "2023-09-04T10:37:32.218Z"
   },
   {
    "duration": 419,
    "start_time": "2023-09-04T10:37:32.233Z"
   },
   {
    "duration": 28,
    "start_time": "2023-09-04T10:37:32.653Z"
   },
   {
    "duration": 191,
    "start_time": "2023-09-04T10:37:32.683Z"
   },
   {
    "duration": 8,
    "start_time": "2023-09-04T10:37:32.881Z"
   },
   {
    "duration": 239,
    "start_time": "2023-09-04T10:37:32.890Z"
   },
   {
    "duration": 654,
    "start_time": "2023-09-04T10:37:33.131Z"
   },
   {
    "duration": 0,
    "start_time": "2023-09-04T10:37:33.787Z"
   },
   {
    "duration": 0,
    "start_time": "2023-09-04T10:37:33.788Z"
   },
   {
    "duration": 0,
    "start_time": "2023-09-04T10:37:33.789Z"
   },
   {
    "duration": 0,
    "start_time": "2023-09-04T10:37:33.790Z"
   },
   {
    "duration": 0,
    "start_time": "2023-09-04T10:37:33.790Z"
   },
   {
    "duration": 0,
    "start_time": "2023-09-04T10:37:33.792Z"
   },
   {
    "duration": 0,
    "start_time": "2023-09-04T10:37:33.793Z"
   },
   {
    "duration": 0,
    "start_time": "2023-09-04T10:37:33.794Z"
   },
   {
    "duration": 0,
    "start_time": "2023-09-04T10:37:33.795Z"
   },
   {
    "duration": 0,
    "start_time": "2023-09-04T10:37:33.796Z"
   },
   {
    "duration": 0,
    "start_time": "2023-09-04T10:37:33.797Z"
   },
   {
    "duration": 0,
    "start_time": "2023-09-04T10:37:33.798Z"
   },
   {
    "duration": 0,
    "start_time": "2023-09-04T10:37:33.799Z"
   },
   {
    "duration": 0,
    "start_time": "2023-09-04T10:37:33.800Z"
   },
   {
    "duration": 0,
    "start_time": "2023-09-04T10:37:33.801Z"
   },
   {
    "duration": 0,
    "start_time": "2023-09-04T10:37:33.802Z"
   },
   {
    "duration": 15,
    "start_time": "2023-09-04T10:37:40.076Z"
   },
   {
    "duration": 19,
    "start_time": "2023-09-04T10:40:40.381Z"
   },
   {
    "duration": 17,
    "start_time": "2023-09-04T10:42:21.445Z"
   },
   {
    "duration": 183,
    "start_time": "2023-09-04T10:47:59.215Z"
   },
   {
    "duration": 7,
    "start_time": "2023-09-04T10:48:22.481Z"
   },
   {
    "duration": 5,
    "start_time": "2023-09-04T10:48:49.745Z"
   },
   {
    "duration": 187,
    "start_time": "2023-09-04T10:48:53.642Z"
   },
   {
    "duration": 5,
    "start_time": "2023-09-04T10:51:44.860Z"
   },
   {
    "duration": 5,
    "start_time": "2023-09-04T10:52:01.121Z"
   },
   {
    "duration": 17,
    "start_time": "2023-09-04T10:52:07.218Z"
   },
   {
    "duration": 1187,
    "start_time": "2023-09-04T10:52:18.994Z"
   },
   {
    "duration": 79,
    "start_time": "2023-09-04T10:52:20.188Z"
   },
   {
    "duration": 18,
    "start_time": "2023-09-04T10:52:20.269Z"
   },
   {
    "duration": 33,
    "start_time": "2023-09-04T10:52:20.289Z"
   },
   {
    "duration": 43,
    "start_time": "2023-09-04T10:52:20.324Z"
   },
   {
    "duration": 37,
    "start_time": "2023-09-04T10:52:20.369Z"
   },
   {
    "duration": 61,
    "start_time": "2023-09-04T10:52:20.407Z"
   },
   {
    "duration": 16,
    "start_time": "2023-09-04T10:52:20.470Z"
   },
   {
    "duration": 32,
    "start_time": "2023-09-04T10:52:20.488Z"
   },
   {
    "duration": 18,
    "start_time": "2023-09-04T10:52:20.521Z"
   },
   {
    "duration": 53,
    "start_time": "2023-09-04T10:52:20.541Z"
   },
   {
    "duration": 53,
    "start_time": "2023-09-04T10:52:20.595Z"
   },
   {
    "duration": 101,
    "start_time": "2023-09-04T10:52:20.650Z"
   },
   {
    "duration": 72,
    "start_time": "2023-09-04T10:52:20.754Z"
   },
   {
    "duration": 394,
    "start_time": "2023-09-04T10:52:20.828Z"
   },
   {
    "duration": 22,
    "start_time": "2023-09-04T10:52:21.224Z"
   },
   {
    "duration": 194,
    "start_time": "2023-09-04T10:52:21.248Z"
   },
   {
    "duration": 8,
    "start_time": "2023-09-04T10:52:21.444Z"
   },
   {
    "duration": 274,
    "start_time": "2023-09-04T10:52:21.454Z"
   },
   {
    "duration": 594,
    "start_time": "2023-09-04T10:52:21.731Z"
   },
   {
    "duration": 0,
    "start_time": "2023-09-04T10:52:22.326Z"
   },
   {
    "duration": 0,
    "start_time": "2023-09-04T10:52:22.328Z"
   },
   {
    "duration": 0,
    "start_time": "2023-09-04T10:52:22.329Z"
   },
   {
    "duration": 0,
    "start_time": "2023-09-04T10:52:22.329Z"
   },
   {
    "duration": 0,
    "start_time": "2023-09-04T10:52:22.330Z"
   },
   {
    "duration": 0,
    "start_time": "2023-09-04T10:52:22.331Z"
   },
   {
    "duration": 0,
    "start_time": "2023-09-04T10:52:22.332Z"
   },
   {
    "duration": 0,
    "start_time": "2023-09-04T10:52:22.333Z"
   },
   {
    "duration": 0,
    "start_time": "2023-09-04T10:52:22.334Z"
   },
   {
    "duration": 0,
    "start_time": "2023-09-04T10:52:22.335Z"
   },
   {
    "duration": 0,
    "start_time": "2023-09-04T10:52:22.336Z"
   },
   {
    "duration": 0,
    "start_time": "2023-09-04T10:52:22.337Z"
   },
   {
    "duration": 0,
    "start_time": "2023-09-04T10:52:22.338Z"
   },
   {
    "duration": 0,
    "start_time": "2023-09-04T10:52:22.340Z"
   },
   {
    "duration": 0,
    "start_time": "2023-09-04T10:52:22.341Z"
   },
   {
    "duration": 0,
    "start_time": "2023-09-04T10:52:22.342Z"
   },
   {
    "duration": 5,
    "start_time": "2023-09-04T10:53:00.724Z"
   },
   {
    "duration": 5,
    "start_time": "2023-09-04T10:53:14.057Z"
   },
   {
    "duration": 211,
    "start_time": "2023-09-04T10:53:26.136Z"
   },
   {
    "duration": 185,
    "start_time": "2023-09-04T10:54:45.236Z"
   },
   {
    "duration": 16,
    "start_time": "2023-09-04T10:54:50.132Z"
   },
   {
    "duration": 1200,
    "start_time": "2023-09-04T10:54:58.541Z"
   },
   {
    "duration": 79,
    "start_time": "2023-09-04T10:54:59.743Z"
   },
   {
    "duration": 14,
    "start_time": "2023-09-04T10:54:59.824Z"
   },
   {
    "duration": 22,
    "start_time": "2023-09-04T10:54:59.840Z"
   },
   {
    "duration": 41,
    "start_time": "2023-09-04T10:54:59.864Z"
   },
   {
    "duration": 50,
    "start_time": "2023-09-04T10:54:59.907Z"
   },
   {
    "duration": 2,
    "start_time": "2023-09-04T10:54:59.959Z"
   },
   {
    "duration": 10,
    "start_time": "2023-09-04T10:54:59.963Z"
   },
   {
    "duration": 30,
    "start_time": "2023-09-04T10:54:59.975Z"
   },
   {
    "duration": 79,
    "start_time": "2023-09-04T10:55:00.008Z"
   },
   {
    "duration": 40,
    "start_time": "2023-09-04T10:55:00.089Z"
   },
   {
    "duration": 45,
    "start_time": "2023-09-04T10:55:00.130Z"
   },
   {
    "duration": 32,
    "start_time": "2023-09-04T10:55:00.177Z"
   },
   {
    "duration": 56,
    "start_time": "2023-09-04T10:55:00.210Z"
   },
   {
    "duration": 416,
    "start_time": "2023-09-04T10:55:00.268Z"
   },
   {
    "duration": 28,
    "start_time": "2023-09-04T10:55:00.687Z"
   },
   {
    "duration": 209,
    "start_time": "2023-09-04T10:55:00.717Z"
   },
   {
    "duration": 8,
    "start_time": "2023-09-04T10:55:00.927Z"
   },
   {
    "duration": 370,
    "start_time": "2023-09-04T10:55:00.937Z"
   },
   {
    "duration": 399,
    "start_time": "2023-09-04T10:55:01.309Z"
   },
   {
    "duration": 0,
    "start_time": "2023-09-04T10:55:01.711Z"
   },
   {
    "duration": 0,
    "start_time": "2023-09-04T10:55:01.712Z"
   },
   {
    "duration": 0,
    "start_time": "2023-09-04T10:55:01.714Z"
   },
   {
    "duration": 0,
    "start_time": "2023-09-04T10:55:01.715Z"
   },
   {
    "duration": 0,
    "start_time": "2023-09-04T10:55:01.717Z"
   },
   {
    "duration": 0,
    "start_time": "2023-09-04T10:55:01.718Z"
   },
   {
    "duration": 0,
    "start_time": "2023-09-04T10:55:01.720Z"
   },
   {
    "duration": 0,
    "start_time": "2023-09-04T10:55:01.721Z"
   },
   {
    "duration": 0,
    "start_time": "2023-09-04T10:55:01.722Z"
   },
   {
    "duration": 0,
    "start_time": "2023-09-04T10:55:01.724Z"
   },
   {
    "duration": 0,
    "start_time": "2023-09-04T10:55:01.725Z"
   },
   {
    "duration": 0,
    "start_time": "2023-09-04T10:55:01.726Z"
   },
   {
    "duration": 0,
    "start_time": "2023-09-04T10:55:01.728Z"
   },
   {
    "duration": 0,
    "start_time": "2023-09-04T10:55:01.729Z"
   },
   {
    "duration": 0,
    "start_time": "2023-09-04T10:55:01.730Z"
   },
   {
    "duration": 0,
    "start_time": "2023-09-04T10:55:01.731Z"
   },
   {
    "duration": 167,
    "start_time": "2023-09-04T10:55:54.280Z"
   },
   {
    "duration": 175,
    "start_time": "2023-09-04T10:56:01.168Z"
   },
   {
    "duration": 22,
    "start_time": "2023-09-04T10:56:36.046Z"
   },
   {
    "duration": 1174,
    "start_time": "2023-09-04T10:56:42.195Z"
   },
   {
    "duration": 85,
    "start_time": "2023-09-04T10:56:43.371Z"
   },
   {
    "duration": 15,
    "start_time": "2023-09-04T10:56:43.457Z"
   },
   {
    "duration": 28,
    "start_time": "2023-09-04T10:56:43.474Z"
   },
   {
    "duration": 32,
    "start_time": "2023-09-04T10:56:43.504Z"
   },
   {
    "duration": 29,
    "start_time": "2023-09-04T10:56:43.538Z"
   },
   {
    "duration": 7,
    "start_time": "2023-09-04T10:56:43.582Z"
   },
   {
    "duration": 9,
    "start_time": "2023-09-04T10:56:43.591Z"
   },
   {
    "duration": 16,
    "start_time": "2023-09-04T10:56:43.605Z"
   },
   {
    "duration": 9,
    "start_time": "2023-09-04T10:56:43.623Z"
   },
   {
    "duration": 2,
    "start_time": "2023-09-04T10:56:43.634Z"
   },
   {
    "duration": 12,
    "start_time": "2023-09-04T10:56:43.638Z"
   },
   {
    "duration": 7,
    "start_time": "2023-09-04T10:56:43.652Z"
   },
   {
    "duration": 41,
    "start_time": "2023-09-04T10:56:43.662Z"
   },
   {
    "duration": 398,
    "start_time": "2023-09-04T10:56:43.705Z"
   },
   {
    "duration": 23,
    "start_time": "2023-09-04T10:56:44.105Z"
   },
   {
    "duration": 2075,
    "start_time": "2023-09-04T10:56:44.130Z"
   },
   {
    "duration": 0,
    "start_time": "2023-09-04T10:56:46.207Z"
   },
   {
    "duration": 0,
    "start_time": "2023-09-04T10:56:46.208Z"
   },
   {
    "duration": 0,
    "start_time": "2023-09-04T10:56:46.209Z"
   },
   {
    "duration": 0,
    "start_time": "2023-09-04T10:56:46.210Z"
   },
   {
    "duration": 0,
    "start_time": "2023-09-04T10:56:46.211Z"
   },
   {
    "duration": 0,
    "start_time": "2023-09-04T10:56:46.212Z"
   },
   {
    "duration": 0,
    "start_time": "2023-09-04T10:56:46.213Z"
   },
   {
    "duration": 0,
    "start_time": "2023-09-04T10:56:46.214Z"
   },
   {
    "duration": 0,
    "start_time": "2023-09-04T10:56:46.215Z"
   },
   {
    "duration": 0,
    "start_time": "2023-09-04T10:56:46.216Z"
   },
   {
    "duration": 0,
    "start_time": "2023-09-04T10:56:46.217Z"
   },
   {
    "duration": 0,
    "start_time": "2023-09-04T10:56:46.219Z"
   },
   {
    "duration": 0,
    "start_time": "2023-09-04T10:56:46.220Z"
   },
   {
    "duration": 0,
    "start_time": "2023-09-04T10:56:46.222Z"
   },
   {
    "duration": 0,
    "start_time": "2023-09-04T10:56:46.222Z"
   },
   {
    "duration": 0,
    "start_time": "2023-09-04T10:56:46.223Z"
   },
   {
    "duration": 0,
    "start_time": "2023-09-04T10:56:46.224Z"
   },
   {
    "duration": 0,
    "start_time": "2023-09-04T10:56:46.225Z"
   },
   {
    "duration": 0,
    "start_time": "2023-09-04T10:56:46.226Z"
   },
   {
    "duration": 200,
    "start_time": "2023-09-04T10:57:05.104Z"
   },
   {
    "duration": 180,
    "start_time": "2023-09-04T10:59:07.698Z"
   },
   {
    "duration": 6,
    "start_time": "2023-09-04T10:59:21.441Z"
   },
   {
    "duration": 10,
    "start_time": "2023-09-04T10:59:44.179Z"
   },
   {
    "duration": 14,
    "start_time": "2023-09-04T10:59:55.522Z"
   },
   {
    "duration": 1275,
    "start_time": "2023-09-04T11:00:05.045Z"
   },
   {
    "duration": 88,
    "start_time": "2023-09-04T11:00:06.322Z"
   },
   {
    "duration": 16,
    "start_time": "2023-09-04T11:00:06.412Z"
   },
   {
    "duration": 24,
    "start_time": "2023-09-04T11:00:06.429Z"
   },
   {
    "duration": 50,
    "start_time": "2023-09-04T11:00:06.455Z"
   },
   {
    "duration": 30,
    "start_time": "2023-09-04T11:00:06.506Z"
   },
   {
    "duration": 10,
    "start_time": "2023-09-04T11:00:06.538Z"
   },
   {
    "duration": 21,
    "start_time": "2023-09-04T11:00:06.550Z"
   },
   {
    "duration": 40,
    "start_time": "2023-09-04T11:00:06.573Z"
   },
   {
    "duration": 19,
    "start_time": "2023-09-04T11:00:06.616Z"
   },
   {
    "duration": 11,
    "start_time": "2023-09-04T11:00:06.637Z"
   },
   {
    "duration": 24,
    "start_time": "2023-09-04T11:00:06.650Z"
   },
   {
    "duration": 42,
    "start_time": "2023-09-04T11:00:06.676Z"
   },
   {
    "duration": 36,
    "start_time": "2023-09-04T11:00:06.722Z"
   },
   {
    "duration": 549,
    "start_time": "2023-09-04T11:00:06.760Z"
   },
   {
    "duration": 26,
    "start_time": "2023-09-04T11:00:07.311Z"
   },
   {
    "duration": 204,
    "start_time": "2023-09-04T11:00:07.339Z"
   },
   {
    "duration": 8,
    "start_time": "2023-09-04T11:00:07.544Z"
   },
   {
    "duration": 283,
    "start_time": "2023-09-04T11:00:07.554Z"
   },
   {
    "duration": 811,
    "start_time": "2023-09-04T11:00:07.839Z"
   },
   {
    "duration": 0,
    "start_time": "2023-09-04T11:00:08.652Z"
   },
   {
    "duration": 0,
    "start_time": "2023-09-04T11:00:08.653Z"
   },
   {
    "duration": 0,
    "start_time": "2023-09-04T11:00:08.655Z"
   },
   {
    "duration": 0,
    "start_time": "2023-09-04T11:00:08.656Z"
   },
   {
    "duration": 0,
    "start_time": "2023-09-04T11:00:08.657Z"
   },
   {
    "duration": 0,
    "start_time": "2023-09-04T11:00:08.658Z"
   },
   {
    "duration": 0,
    "start_time": "2023-09-04T11:00:08.659Z"
   },
   {
    "duration": 0,
    "start_time": "2023-09-04T11:00:08.660Z"
   },
   {
    "duration": 0,
    "start_time": "2023-09-04T11:00:08.662Z"
   },
   {
    "duration": 0,
    "start_time": "2023-09-04T11:00:08.663Z"
   },
   {
    "duration": 0,
    "start_time": "2023-09-04T11:00:08.664Z"
   },
   {
    "duration": 0,
    "start_time": "2023-09-04T11:00:08.665Z"
   },
   {
    "duration": 0,
    "start_time": "2023-09-04T11:00:08.666Z"
   },
   {
    "duration": 0,
    "start_time": "2023-09-04T11:00:08.667Z"
   },
   {
    "duration": 0,
    "start_time": "2023-09-04T11:00:08.669Z"
   },
   {
    "duration": 0,
    "start_time": "2023-09-04T11:00:08.670Z"
   },
   {
    "duration": 210,
    "start_time": "2023-09-04T11:01:11.103Z"
   },
   {
    "duration": 33,
    "start_time": "2023-09-04T11:01:27.895Z"
   },
   {
    "duration": 15,
    "start_time": "2023-09-04T11:01:35.324Z"
   },
   {
    "duration": 214,
    "start_time": "2023-09-04T11:01:43.578Z"
   },
   {
    "duration": 19,
    "start_time": "2023-09-04T11:01:51.856Z"
   },
   {
    "duration": 19,
    "start_time": "2023-09-04T11:01:58.619Z"
   },
   {
    "duration": 1297,
    "start_time": "2023-09-04T11:02:04.273Z"
   },
   {
    "duration": 78,
    "start_time": "2023-09-04T11:02:05.572Z"
   },
   {
    "duration": 291,
    "start_time": "2023-09-04T11:02:05.654Z"
   },
   {
    "duration": 23,
    "start_time": "2023-09-04T11:02:05.947Z"
   },
   {
    "duration": 72,
    "start_time": "2023-09-04T11:02:05.972Z"
   },
   {
    "duration": 50,
    "start_time": "2023-09-04T11:02:06.046Z"
   },
   {
    "duration": 3,
    "start_time": "2023-09-04T11:02:06.098Z"
   },
   {
    "duration": 6,
    "start_time": "2023-09-04T11:02:06.103Z"
   },
   {
    "duration": 20,
    "start_time": "2023-09-04T11:02:06.113Z"
   },
   {
    "duration": 9,
    "start_time": "2023-09-04T11:02:06.135Z"
   },
   {
    "duration": 23,
    "start_time": "2023-09-04T11:02:06.145Z"
   },
   {
    "duration": 8,
    "start_time": "2023-09-04T11:02:06.182Z"
   },
   {
    "duration": 21,
    "start_time": "2023-09-04T11:02:06.192Z"
   },
   {
    "duration": 50,
    "start_time": "2023-09-04T11:02:06.215Z"
   },
   {
    "duration": 302,
    "start_time": "2023-09-04T11:02:06.267Z"
   },
   {
    "duration": 27,
    "start_time": "2023-09-04T11:02:06.570Z"
   },
   {
    "duration": 174,
    "start_time": "2023-09-04T11:02:06.599Z"
   },
   {
    "duration": 9,
    "start_time": "2023-09-04T11:02:06.780Z"
   },
   {
    "duration": 297,
    "start_time": "2023-09-04T11:02:06.791Z"
   },
   {
    "duration": 545,
    "start_time": "2023-09-04T11:02:07.090Z"
   },
   {
    "duration": 0,
    "start_time": "2023-09-04T11:02:07.637Z"
   },
   {
    "duration": 0,
    "start_time": "2023-09-04T11:02:07.638Z"
   },
   {
    "duration": 0,
    "start_time": "2023-09-04T11:02:07.639Z"
   },
   {
    "duration": 0,
    "start_time": "2023-09-04T11:02:07.640Z"
   },
   {
    "duration": 0,
    "start_time": "2023-09-04T11:02:07.641Z"
   },
   {
    "duration": 0,
    "start_time": "2023-09-04T11:02:07.642Z"
   },
   {
    "duration": 0,
    "start_time": "2023-09-04T11:02:07.643Z"
   },
   {
    "duration": 0,
    "start_time": "2023-09-04T11:02:07.643Z"
   },
   {
    "duration": 0,
    "start_time": "2023-09-04T11:02:07.644Z"
   },
   {
    "duration": 0,
    "start_time": "2023-09-04T11:02:07.646Z"
   },
   {
    "duration": 0,
    "start_time": "2023-09-04T11:02:07.647Z"
   },
   {
    "duration": 0,
    "start_time": "2023-09-04T11:02:07.648Z"
   },
   {
    "duration": 0,
    "start_time": "2023-09-04T11:02:07.648Z"
   },
   {
    "duration": 0,
    "start_time": "2023-09-04T11:02:07.649Z"
   },
   {
    "duration": 0,
    "start_time": "2023-09-04T11:02:07.650Z"
   },
   {
    "duration": 0,
    "start_time": "2023-09-04T11:02:07.651Z"
   },
   {
    "duration": 179,
    "start_time": "2023-09-04T11:02:18.263Z"
   },
   {
    "duration": 158,
    "start_time": "2023-09-04T11:02:28.629Z"
   },
   {
    "duration": 22,
    "start_time": "2023-09-04T11:02:35.358Z"
   },
   {
    "duration": 1445,
    "start_time": "2023-09-04T11:02:42.038Z"
   },
   {
    "duration": 79,
    "start_time": "2023-09-04T11:02:43.486Z"
   },
   {
    "duration": 21,
    "start_time": "2023-09-04T11:02:43.568Z"
   },
   {
    "duration": 30,
    "start_time": "2023-09-04T11:02:43.592Z"
   },
   {
    "duration": 46,
    "start_time": "2023-09-04T11:02:43.625Z"
   },
   {
    "duration": 35,
    "start_time": "2023-09-04T11:02:43.673Z"
   },
   {
    "duration": 3,
    "start_time": "2023-09-04T11:02:43.710Z"
   },
   {
    "duration": 39,
    "start_time": "2023-09-04T11:02:43.715Z"
   },
   {
    "duration": 41,
    "start_time": "2023-09-04T11:02:43.756Z"
   },
   {
    "duration": 37,
    "start_time": "2023-09-04T11:02:43.799Z"
   },
   {
    "duration": 22,
    "start_time": "2023-09-04T11:02:43.838Z"
   },
   {
    "duration": 25,
    "start_time": "2023-09-04T11:02:43.862Z"
   },
   {
    "duration": 12,
    "start_time": "2023-09-04T11:02:43.889Z"
   },
   {
    "duration": 60,
    "start_time": "2023-09-04T11:02:43.906Z"
   },
   {
    "duration": 312,
    "start_time": "2023-09-04T11:02:43.968Z"
   },
   {
    "duration": 26,
    "start_time": "2023-09-04T11:02:44.281Z"
   },
   {
    "duration": 183,
    "start_time": "2023-09-04T11:02:44.309Z"
   },
   {
    "duration": 8,
    "start_time": "2023-09-04T11:02:44.494Z"
   },
   {
    "duration": 274,
    "start_time": "2023-09-04T11:02:44.505Z"
   },
   {
    "duration": 636,
    "start_time": "2023-09-04T11:02:44.781Z"
   },
   {
    "duration": 0,
    "start_time": "2023-09-04T11:02:45.419Z"
   },
   {
    "duration": 0,
    "start_time": "2023-09-04T11:02:45.420Z"
   },
   {
    "duration": 0,
    "start_time": "2023-09-04T11:02:45.422Z"
   },
   {
    "duration": 0,
    "start_time": "2023-09-04T11:02:45.423Z"
   },
   {
    "duration": 0,
    "start_time": "2023-09-04T11:02:45.425Z"
   },
   {
    "duration": 0,
    "start_time": "2023-09-04T11:02:45.426Z"
   },
   {
    "duration": 0,
    "start_time": "2023-09-04T11:02:45.428Z"
   },
   {
    "duration": 0,
    "start_time": "2023-09-04T11:02:45.429Z"
   },
   {
    "duration": 0,
    "start_time": "2023-09-04T11:02:45.431Z"
   },
   {
    "duration": 0,
    "start_time": "2023-09-04T11:02:45.432Z"
   },
   {
    "duration": 0,
    "start_time": "2023-09-04T11:02:45.434Z"
   },
   {
    "duration": 0,
    "start_time": "2023-09-04T11:02:45.436Z"
   },
   {
    "duration": 0,
    "start_time": "2023-09-04T11:02:45.438Z"
   },
   {
    "duration": 0,
    "start_time": "2023-09-04T11:02:45.439Z"
   },
   {
    "duration": 0,
    "start_time": "2023-09-04T11:02:45.441Z"
   },
   {
    "duration": 0,
    "start_time": "2023-09-04T11:02:45.442Z"
   },
   {
    "duration": 1333,
    "start_time": "2023-09-04T11:03:35.724Z"
   },
   {
    "duration": 169,
    "start_time": "2023-09-04T11:03:44.528Z"
   },
   {
    "duration": 18,
    "start_time": "2023-09-04T11:03:53.966Z"
   },
   {
    "duration": 1252,
    "start_time": "2023-09-04T11:04:03.818Z"
   },
   {
    "duration": 79,
    "start_time": "2023-09-04T11:04:05.072Z"
   },
   {
    "duration": 14,
    "start_time": "2023-09-04T11:04:05.153Z"
   },
   {
    "duration": 38,
    "start_time": "2023-09-04T11:04:05.169Z"
   },
   {
    "duration": 61,
    "start_time": "2023-09-04T11:04:05.209Z"
   },
   {
    "duration": 39,
    "start_time": "2023-09-04T11:04:05.272Z"
   },
   {
    "duration": 2,
    "start_time": "2023-09-04T11:04:05.313Z"
   },
   {
    "duration": 19,
    "start_time": "2023-09-04T11:04:05.317Z"
   },
   {
    "duration": 30,
    "start_time": "2023-09-04T11:04:05.337Z"
   },
   {
    "duration": 21,
    "start_time": "2023-09-04T11:04:05.370Z"
   },
   {
    "duration": 9,
    "start_time": "2023-09-04T11:04:05.393Z"
   },
   {
    "duration": 23,
    "start_time": "2023-09-04T11:04:05.403Z"
   },
   {
    "duration": 5,
    "start_time": "2023-09-04T11:04:05.427Z"
   },
   {
    "duration": 33,
    "start_time": "2023-09-04T11:04:05.434Z"
   },
   {
    "duration": 281,
    "start_time": "2023-09-04T11:04:05.469Z"
   },
   {
    "duration": 34,
    "start_time": "2023-09-04T11:04:05.752Z"
   },
   {
    "duration": 398,
    "start_time": "2023-09-04T11:04:05.789Z"
   },
   {
    "duration": 6,
    "start_time": "2023-09-04T11:04:06.189Z"
   },
   {
    "duration": 304,
    "start_time": "2023-09-04T11:04:06.197Z"
   },
   {
    "duration": 408,
    "start_time": "2023-09-04T11:04:06.503Z"
   },
   {
    "duration": 0,
    "start_time": "2023-09-04T11:04:06.914Z"
   },
   {
    "duration": 1,
    "start_time": "2023-09-04T11:04:06.915Z"
   },
   {
    "duration": 0,
    "start_time": "2023-09-04T11:04:06.918Z"
   },
   {
    "duration": 0,
    "start_time": "2023-09-04T11:04:06.919Z"
   },
   {
    "duration": 0,
    "start_time": "2023-09-04T11:04:06.921Z"
   },
   {
    "duration": 0,
    "start_time": "2023-09-04T11:04:06.922Z"
   },
   {
    "duration": 0,
    "start_time": "2023-09-04T11:04:06.925Z"
   },
   {
    "duration": 0,
    "start_time": "2023-09-04T11:04:06.926Z"
   },
   {
    "duration": 0,
    "start_time": "2023-09-04T11:04:06.927Z"
   },
   {
    "duration": 0,
    "start_time": "2023-09-04T11:04:06.929Z"
   },
   {
    "duration": 0,
    "start_time": "2023-09-04T11:04:06.930Z"
   },
   {
    "duration": 0,
    "start_time": "2023-09-04T11:04:06.932Z"
   },
   {
    "duration": 0,
    "start_time": "2023-09-04T11:04:06.933Z"
   },
   {
    "duration": 0,
    "start_time": "2023-09-04T11:04:06.934Z"
   },
   {
    "duration": 0,
    "start_time": "2023-09-04T11:04:06.935Z"
   },
   {
    "duration": 0,
    "start_time": "2023-09-04T11:04:06.939Z"
   },
   {
    "duration": 201,
    "start_time": "2023-09-04T11:04:18.885Z"
   },
   {
    "duration": 165,
    "start_time": "2023-09-04T11:04:38.004Z"
   },
   {
    "duration": 15,
    "start_time": "2023-09-04T11:04:57.612Z"
   },
   {
    "duration": 1209,
    "start_time": "2023-09-04T11:05:04.458Z"
   },
   {
    "duration": 80,
    "start_time": "2023-09-04T11:05:05.670Z"
   },
   {
    "duration": 16,
    "start_time": "2023-09-04T11:05:05.752Z"
   },
   {
    "duration": 64,
    "start_time": "2023-09-04T11:05:05.769Z"
   },
   {
    "duration": 52,
    "start_time": "2023-09-04T11:05:05.835Z"
   },
   {
    "duration": 45,
    "start_time": "2023-09-04T11:05:05.889Z"
   },
   {
    "duration": 8,
    "start_time": "2023-09-04T11:05:05.936Z"
   },
   {
    "duration": 35,
    "start_time": "2023-09-04T11:05:05.946Z"
   },
   {
    "duration": 52,
    "start_time": "2023-09-04T11:05:05.983Z"
   },
   {
    "duration": 42,
    "start_time": "2023-09-04T11:05:06.037Z"
   },
   {
    "duration": 43,
    "start_time": "2023-09-04T11:05:06.080Z"
   },
   {
    "duration": 37,
    "start_time": "2023-09-04T11:05:06.126Z"
   },
   {
    "duration": 37,
    "start_time": "2023-09-04T11:05:06.165Z"
   },
   {
    "duration": 37,
    "start_time": "2023-09-04T11:05:06.205Z"
   },
   {
    "duration": 293,
    "start_time": "2023-09-04T11:05:06.243Z"
   },
   {
    "duration": 24,
    "start_time": "2023-09-04T11:05:06.538Z"
   },
   {
    "duration": 146,
    "start_time": "2023-09-04T11:05:06.564Z"
   },
   {
    "duration": 0,
    "start_time": "2023-09-04T11:05:06.712Z"
   },
   {
    "duration": 0,
    "start_time": "2023-09-04T11:05:06.714Z"
   },
   {
    "duration": 0,
    "start_time": "2023-09-04T11:05:06.715Z"
   },
   {
    "duration": 0,
    "start_time": "2023-09-04T11:05:06.716Z"
   },
   {
    "duration": 0,
    "start_time": "2023-09-04T11:05:06.717Z"
   },
   {
    "duration": 0,
    "start_time": "2023-09-04T11:05:06.719Z"
   },
   {
    "duration": 0,
    "start_time": "2023-09-04T11:05:06.720Z"
   },
   {
    "duration": 0,
    "start_time": "2023-09-04T11:05:06.721Z"
   },
   {
    "duration": 0,
    "start_time": "2023-09-04T11:05:06.722Z"
   },
   {
    "duration": 0,
    "start_time": "2023-09-04T11:05:06.723Z"
   },
   {
    "duration": 0,
    "start_time": "2023-09-04T11:05:06.724Z"
   },
   {
    "duration": 0,
    "start_time": "2023-09-04T11:05:06.725Z"
   },
   {
    "duration": 0,
    "start_time": "2023-09-04T11:05:06.726Z"
   },
   {
    "duration": 0,
    "start_time": "2023-09-04T11:05:06.727Z"
   },
   {
    "duration": 0,
    "start_time": "2023-09-04T11:05:06.729Z"
   },
   {
    "duration": 0,
    "start_time": "2023-09-04T11:05:06.730Z"
   },
   {
    "duration": 0,
    "start_time": "2023-09-04T11:05:06.731Z"
   },
   {
    "duration": 0,
    "start_time": "2023-09-04T11:05:06.732Z"
   },
   {
    "duration": 0,
    "start_time": "2023-09-04T11:05:06.733Z"
   },
   {
    "duration": 215,
    "start_time": "2023-09-04T11:05:20.648Z"
   },
   {
    "duration": 184,
    "start_time": "2023-09-04T11:05:31.205Z"
   },
   {
    "duration": 16,
    "start_time": "2023-09-04T11:05:43.166Z"
   },
   {
    "duration": 1251,
    "start_time": "2023-09-04T11:05:49.353Z"
   },
   {
    "duration": 77,
    "start_time": "2023-09-04T11:05:50.606Z"
   },
   {
    "duration": 18,
    "start_time": "2023-09-04T11:05:50.685Z"
   },
   {
    "duration": 29,
    "start_time": "2023-09-04T11:05:50.704Z"
   },
   {
    "duration": 43,
    "start_time": "2023-09-04T11:05:50.737Z"
   },
   {
    "duration": 30,
    "start_time": "2023-09-04T11:05:50.782Z"
   },
   {
    "duration": 8,
    "start_time": "2023-09-04T11:05:50.813Z"
   },
   {
    "duration": 20,
    "start_time": "2023-09-04T11:05:50.824Z"
   },
   {
    "duration": 24,
    "start_time": "2023-09-04T11:05:50.846Z"
   },
   {
    "duration": 19,
    "start_time": "2023-09-04T11:05:50.873Z"
   },
   {
    "duration": 26,
    "start_time": "2023-09-04T11:05:50.894Z"
   },
   {
    "duration": 59,
    "start_time": "2023-09-04T11:05:50.922Z"
   },
   {
    "duration": 5,
    "start_time": "2023-09-04T11:05:50.983Z"
   },
   {
    "duration": 20,
    "start_time": "2023-09-04T11:05:50.991Z"
   },
   {
    "duration": 318,
    "start_time": "2023-09-04T11:05:51.013Z"
   },
   {
    "duration": 25,
    "start_time": "2023-09-04T11:05:51.332Z"
   },
   {
    "duration": 1793,
    "start_time": "2023-09-04T11:05:51.359Z"
   },
   {
    "duration": 7,
    "start_time": "2023-09-04T11:05:53.153Z"
   },
   {
    "duration": 259,
    "start_time": "2023-09-04T11:05:53.162Z"
   },
   {
    "duration": 1168,
    "start_time": "2023-09-04T11:05:53.423Z"
   },
   {
    "duration": 0,
    "start_time": "2023-09-04T11:05:54.593Z"
   },
   {
    "duration": 0,
    "start_time": "2023-09-04T11:05:54.594Z"
   },
   {
    "duration": 0,
    "start_time": "2023-09-04T11:05:54.595Z"
   },
   {
    "duration": 0,
    "start_time": "2023-09-04T11:05:54.597Z"
   },
   {
    "duration": 0,
    "start_time": "2023-09-04T11:05:54.599Z"
   },
   {
    "duration": 0,
    "start_time": "2023-09-04T11:05:54.600Z"
   },
   {
    "duration": 0,
    "start_time": "2023-09-04T11:05:54.601Z"
   },
   {
    "duration": 0,
    "start_time": "2023-09-04T11:05:54.602Z"
   },
   {
    "duration": 0,
    "start_time": "2023-09-04T11:05:54.603Z"
   },
   {
    "duration": 0,
    "start_time": "2023-09-04T11:05:54.604Z"
   },
   {
    "duration": 0,
    "start_time": "2023-09-04T11:05:54.606Z"
   },
   {
    "duration": 0,
    "start_time": "2023-09-04T11:05:54.607Z"
   },
   {
    "duration": 0,
    "start_time": "2023-09-04T11:05:54.608Z"
   },
   {
    "duration": 0,
    "start_time": "2023-09-04T11:05:54.609Z"
   },
   {
    "duration": 0,
    "start_time": "2023-09-04T11:05:54.610Z"
   },
   {
    "duration": 0,
    "start_time": "2023-09-04T11:05:54.612Z"
   },
   {
    "duration": 178,
    "start_time": "2023-09-04T11:06:05.899Z"
   },
   {
    "duration": 168,
    "start_time": "2023-09-04T11:06:19.459Z"
   },
   {
    "duration": 15,
    "start_time": "2023-09-04T11:06:47.626Z"
   },
   {
    "duration": 1248,
    "start_time": "2023-09-04T11:06:53.691Z"
   },
   {
    "duration": 82,
    "start_time": "2023-09-04T11:06:54.941Z"
   },
   {
    "duration": 15,
    "start_time": "2023-09-04T11:06:55.024Z"
   },
   {
    "duration": 41,
    "start_time": "2023-09-04T11:06:55.041Z"
   },
   {
    "duration": 26,
    "start_time": "2023-09-04T11:06:55.084Z"
   },
   {
    "duration": 32,
    "start_time": "2023-09-04T11:06:55.111Z"
   },
   {
    "duration": 3,
    "start_time": "2023-09-04T11:06:55.144Z"
   },
   {
    "duration": 24,
    "start_time": "2023-09-04T11:06:55.148Z"
   },
   {
    "duration": 24,
    "start_time": "2023-09-04T11:06:55.180Z"
   },
   {
    "duration": 14,
    "start_time": "2023-09-04T11:06:55.207Z"
   },
   {
    "duration": 13,
    "start_time": "2023-09-04T11:06:55.223Z"
   },
   {
    "duration": 28,
    "start_time": "2023-09-04T11:06:55.237Z"
   },
   {
    "duration": 25,
    "start_time": "2023-09-04T11:06:55.267Z"
   },
   {
    "duration": 21,
    "start_time": "2023-09-04T11:06:55.294Z"
   },
   {
    "duration": 281,
    "start_time": "2023-09-04T11:06:55.317Z"
   },
   {
    "duration": 25,
    "start_time": "2023-09-04T11:06:55.600Z"
   },
   {
    "duration": 179,
    "start_time": "2023-09-04T11:06:55.627Z"
   },
   {
    "duration": 7,
    "start_time": "2023-09-04T11:06:55.808Z"
   },
   {
    "duration": 262,
    "start_time": "2023-09-04T11:06:55.817Z"
   },
   {
    "duration": 529,
    "start_time": "2023-09-04T11:06:56.081Z"
   },
   {
    "duration": 0,
    "start_time": "2023-09-04T11:06:56.612Z"
   },
   {
    "duration": 0,
    "start_time": "2023-09-04T11:06:56.614Z"
   },
   {
    "duration": 0,
    "start_time": "2023-09-04T11:06:56.615Z"
   },
   {
    "duration": 0,
    "start_time": "2023-09-04T11:06:56.616Z"
   },
   {
    "duration": 0,
    "start_time": "2023-09-04T11:06:56.617Z"
   },
   {
    "duration": 0,
    "start_time": "2023-09-04T11:06:56.618Z"
   },
   {
    "duration": 0,
    "start_time": "2023-09-04T11:06:56.620Z"
   },
   {
    "duration": 0,
    "start_time": "2023-09-04T11:06:56.621Z"
   },
   {
    "duration": 0,
    "start_time": "2023-09-04T11:06:56.622Z"
   },
   {
    "duration": 0,
    "start_time": "2023-09-04T11:06:56.623Z"
   },
   {
    "duration": 0,
    "start_time": "2023-09-04T11:06:56.624Z"
   },
   {
    "duration": 0,
    "start_time": "2023-09-04T11:06:56.625Z"
   },
   {
    "duration": 0,
    "start_time": "2023-09-04T11:06:56.627Z"
   },
   {
    "duration": 0,
    "start_time": "2023-09-04T11:06:56.629Z"
   },
   {
    "duration": 0,
    "start_time": "2023-09-04T11:06:56.630Z"
   },
   {
    "duration": 0,
    "start_time": "2023-09-04T11:06:56.631Z"
   },
   {
    "duration": 164,
    "start_time": "2023-09-04T11:07:16.606Z"
   },
   {
    "duration": 171,
    "start_time": "2023-09-04T11:07:22.637Z"
   },
   {
    "duration": 176,
    "start_time": "2023-09-04T11:08:43.375Z"
   },
   {
    "duration": 147,
    "start_time": "2023-09-04T11:08:55.168Z"
   },
   {
    "duration": 178,
    "start_time": "2023-09-04T11:09:47.344Z"
   },
   {
    "duration": 145,
    "start_time": "2023-09-04T11:09:57.065Z"
   },
   {
    "duration": 143,
    "start_time": "2023-09-04T11:10:00.318Z"
   },
   {
    "duration": 156,
    "start_time": "2023-09-04T11:10:31.776Z"
   },
   {
    "duration": 172,
    "start_time": "2023-09-04T11:11:20.697Z"
   },
   {
    "duration": 154,
    "start_time": "2023-09-04T11:12:02.612Z"
   },
   {
    "duration": 141,
    "start_time": "2023-09-04T11:12:23.859Z"
   },
   {
    "duration": 164,
    "start_time": "2023-09-04T11:12:36.238Z"
   },
   {
    "duration": 141,
    "start_time": "2023-09-04T11:12:41.409Z"
   },
   {
    "duration": 17,
    "start_time": "2023-09-04T11:13:39.290Z"
   },
   {
    "duration": 1192,
    "start_time": "2023-09-04T11:13:48.203Z"
   },
   {
    "duration": 79,
    "start_time": "2023-09-04T11:13:49.397Z"
   },
   {
    "duration": 15,
    "start_time": "2023-09-04T11:13:49.478Z"
   },
   {
    "duration": 22,
    "start_time": "2023-09-04T11:13:49.494Z"
   },
   {
    "duration": 28,
    "start_time": "2023-09-04T11:13:49.518Z"
   },
   {
    "duration": 47,
    "start_time": "2023-09-04T11:13:49.548Z"
   },
   {
    "duration": 2,
    "start_time": "2023-09-04T11:13:49.597Z"
   },
   {
    "duration": 10,
    "start_time": "2023-09-04T11:13:49.601Z"
   },
   {
    "duration": 19,
    "start_time": "2023-09-04T11:13:49.613Z"
   },
   {
    "duration": 9,
    "start_time": "2023-09-04T11:13:49.634Z"
   },
   {
    "duration": 2,
    "start_time": "2023-09-04T11:13:49.646Z"
   },
   {
    "duration": 36,
    "start_time": "2023-09-04T11:13:49.650Z"
   },
   {
    "duration": 6,
    "start_time": "2023-09-04T11:13:49.687Z"
   },
   {
    "duration": 36,
    "start_time": "2023-09-04T11:13:49.696Z"
   },
   {
    "duration": 294,
    "start_time": "2023-09-04T11:13:49.734Z"
   },
   {
    "duration": 26,
    "start_time": "2023-09-04T11:13:50.030Z"
   },
   {
    "duration": 202,
    "start_time": "2023-09-04T11:13:50.058Z"
   },
   {
    "duration": 160,
    "start_time": "2023-09-04T11:13:50.263Z"
   },
   {
    "duration": 172,
    "start_time": "2023-09-04T11:13:50.425Z"
   },
   {
    "duration": 163,
    "start_time": "2023-09-04T11:13:50.599Z"
   },
   {
    "duration": 165,
    "start_time": "2023-09-04T11:13:50.764Z"
   },
   {
    "duration": 7,
    "start_time": "2023-09-04T11:13:50.930Z"
   },
   {
    "duration": 245,
    "start_time": "2023-09-04T11:13:50.938Z"
   },
   {
    "duration": 705,
    "start_time": "2023-09-04T11:13:51.187Z"
   },
   {
    "duration": 0,
    "start_time": "2023-09-04T11:13:51.894Z"
   },
   {
    "duration": 0,
    "start_time": "2023-09-04T11:13:51.895Z"
   },
   {
    "duration": 0,
    "start_time": "2023-09-04T11:13:51.896Z"
   },
   {
    "duration": 0,
    "start_time": "2023-09-04T11:13:51.897Z"
   },
   {
    "duration": 0,
    "start_time": "2023-09-04T11:13:51.898Z"
   },
   {
    "duration": 0,
    "start_time": "2023-09-04T11:13:51.900Z"
   },
   {
    "duration": 0,
    "start_time": "2023-09-04T11:13:51.901Z"
   },
   {
    "duration": 0,
    "start_time": "2023-09-04T11:13:51.902Z"
   },
   {
    "duration": 0,
    "start_time": "2023-09-04T11:13:51.903Z"
   },
   {
    "duration": 0,
    "start_time": "2023-09-04T11:13:51.904Z"
   },
   {
    "duration": 0,
    "start_time": "2023-09-04T11:13:52.010Z"
   },
   {
    "duration": 0,
    "start_time": "2023-09-04T11:13:52.011Z"
   },
   {
    "duration": 0,
    "start_time": "2023-09-04T11:13:52.012Z"
   },
   {
    "duration": 0,
    "start_time": "2023-09-04T11:13:52.013Z"
   },
   {
    "duration": 0,
    "start_time": "2023-09-04T11:13:52.015Z"
   },
   {
    "duration": 0,
    "start_time": "2023-09-04T11:13:52.016Z"
   },
   {
    "duration": 151,
    "start_time": "2023-09-04T11:14:08.442Z"
   },
   {
    "duration": 167,
    "start_time": "2023-09-04T11:14:14.080Z"
   },
   {
    "duration": 151,
    "start_time": "2023-09-04T11:14:27.530Z"
   },
   {
    "duration": 1197,
    "start_time": "2023-09-04T11:14:34.152Z"
   },
   {
    "duration": 78,
    "start_time": "2023-09-04T11:14:35.351Z"
   },
   {
    "duration": 16,
    "start_time": "2023-09-04T11:14:35.430Z"
   },
   {
    "duration": 35,
    "start_time": "2023-09-04T11:14:35.448Z"
   },
   {
    "duration": 36,
    "start_time": "2023-09-04T11:14:35.485Z"
   },
   {
    "duration": 32,
    "start_time": "2023-09-04T11:14:35.523Z"
   },
   {
    "duration": 2,
    "start_time": "2023-09-04T11:14:35.581Z"
   },
   {
    "duration": 11,
    "start_time": "2023-09-04T11:14:35.585Z"
   },
   {
    "duration": 17,
    "start_time": "2023-09-04T11:14:35.597Z"
   },
   {
    "duration": 10,
    "start_time": "2023-09-04T11:14:35.618Z"
   },
   {
    "duration": 6,
    "start_time": "2023-09-04T11:14:35.630Z"
   },
   {
    "duration": 15,
    "start_time": "2023-09-04T11:14:35.638Z"
   },
   {
    "duration": 5,
    "start_time": "2023-09-04T11:14:35.655Z"
   },
   {
    "duration": 22,
    "start_time": "2023-09-04T11:14:35.680Z"
   },
   {
    "duration": 282,
    "start_time": "2023-09-04T11:14:35.704Z"
   },
   {
    "duration": 23,
    "start_time": "2023-09-04T11:14:35.988Z"
   },
   {
    "duration": 185,
    "start_time": "2023-09-04T11:14:36.013Z"
   },
   {
    "duration": 176,
    "start_time": "2023-09-04T11:14:36.200Z"
   },
   {
    "duration": 161,
    "start_time": "2023-09-04T11:14:36.381Z"
   },
   {
    "duration": 189,
    "start_time": "2023-09-04T11:14:36.544Z"
   },
   {
    "duration": 204,
    "start_time": "2023-09-04T11:14:36.735Z"
   },
   {
    "duration": 7,
    "start_time": "2023-09-04T11:14:36.942Z"
   },
   {
    "duration": 222,
    "start_time": "2023-09-04T11:14:36.951Z"
   },
   {
    "duration": 681,
    "start_time": "2023-09-04T11:14:37.176Z"
   },
   {
    "duration": 0,
    "start_time": "2023-09-04T11:14:37.859Z"
   },
   {
    "duration": 0,
    "start_time": "2023-09-04T11:14:37.860Z"
   },
   {
    "duration": 1,
    "start_time": "2023-09-04T11:14:37.861Z"
   },
   {
    "duration": 0,
    "start_time": "2023-09-04T11:14:37.863Z"
   },
   {
    "duration": 0,
    "start_time": "2023-09-04T11:14:37.864Z"
   },
   {
    "duration": 0,
    "start_time": "2023-09-04T11:14:37.865Z"
   },
   {
    "duration": 0,
    "start_time": "2023-09-04T11:14:37.866Z"
   },
   {
    "duration": 0,
    "start_time": "2023-09-04T11:14:37.867Z"
   },
   {
    "duration": 0,
    "start_time": "2023-09-04T11:14:37.869Z"
   },
   {
    "duration": 0,
    "start_time": "2023-09-04T11:14:37.870Z"
   },
   {
    "duration": 0,
    "start_time": "2023-09-04T11:14:37.871Z"
   },
   {
    "duration": 0,
    "start_time": "2023-09-04T11:14:37.872Z"
   },
   {
    "duration": 0,
    "start_time": "2023-09-04T11:14:37.873Z"
   },
   {
    "duration": 0,
    "start_time": "2023-09-04T11:14:37.874Z"
   },
   {
    "duration": 0,
    "start_time": "2023-09-04T11:14:37.875Z"
   },
   {
    "duration": 0,
    "start_time": "2023-09-04T11:14:37.876Z"
   },
   {
    "duration": 7,
    "start_time": "2023-09-04T11:14:59.169Z"
   },
   {
    "duration": 7,
    "start_time": "2023-09-04T11:15:09.262Z"
   },
   {
    "duration": 8,
    "start_time": "2023-09-04T11:15:13.541Z"
   },
   {
    "duration": 612,
    "start_time": "2023-09-04T11:16:19.721Z"
   },
   {
    "duration": 242,
    "start_time": "2023-09-04T11:17:58.808Z"
   },
   {
    "duration": 276,
    "start_time": "2023-09-04T11:18:17.491Z"
   },
   {
    "duration": 218,
    "start_time": "2023-09-04T11:21:30.782Z"
   },
   {
    "duration": 1151,
    "start_time": "2023-09-04T11:21:54.024Z"
   },
   {
    "duration": 93,
    "start_time": "2023-09-04T11:21:55.178Z"
   },
   {
    "duration": 19,
    "start_time": "2023-09-04T11:21:55.273Z"
   },
   {
    "duration": 27,
    "start_time": "2023-09-04T11:21:55.294Z"
   },
   {
    "duration": 28,
    "start_time": "2023-09-04T11:21:55.323Z"
   },
   {
    "duration": 55,
    "start_time": "2023-09-04T11:21:55.352Z"
   },
   {
    "duration": 2,
    "start_time": "2023-09-04T11:21:55.410Z"
   },
   {
    "duration": 7,
    "start_time": "2023-09-04T11:21:55.414Z"
   },
   {
    "duration": 17,
    "start_time": "2023-09-04T11:21:55.423Z"
   },
   {
    "duration": 9,
    "start_time": "2023-09-04T11:21:55.442Z"
   },
   {
    "duration": 28,
    "start_time": "2023-09-04T11:21:55.453Z"
   },
   {
    "duration": 22,
    "start_time": "2023-09-04T11:21:55.483Z"
   },
   {
    "duration": 4,
    "start_time": "2023-09-04T11:21:55.507Z"
   },
   {
    "duration": 38,
    "start_time": "2023-09-04T11:21:55.514Z"
   },
   {
    "duration": 276,
    "start_time": "2023-09-04T11:21:55.554Z"
   },
   {
    "duration": 25,
    "start_time": "2023-09-04T11:21:55.831Z"
   },
   {
    "duration": 182,
    "start_time": "2023-09-04T11:21:55.858Z"
   },
   {
    "duration": 165,
    "start_time": "2023-09-04T11:21:56.042Z"
   },
   {
    "duration": 177,
    "start_time": "2023-09-04T11:21:56.209Z"
   },
   {
    "duration": 159,
    "start_time": "2023-09-04T11:21:56.388Z"
   },
   {
    "duration": 170,
    "start_time": "2023-09-04T11:21:56.548Z"
   },
   {
    "duration": 7,
    "start_time": "2023-09-04T11:21:56.719Z"
   },
   {
    "duration": 283,
    "start_time": "2023-09-04T11:21:56.728Z"
   },
   {
    "duration": 760,
    "start_time": "2023-09-04T11:21:57.013Z"
   },
   {
    "duration": 0,
    "start_time": "2023-09-04T11:21:57.775Z"
   },
   {
    "duration": 0,
    "start_time": "2023-09-04T11:21:57.776Z"
   },
   {
    "duration": 0,
    "start_time": "2023-09-04T11:21:57.777Z"
   },
   {
    "duration": 0,
    "start_time": "2023-09-04T11:21:57.778Z"
   },
   {
    "duration": 0,
    "start_time": "2023-09-04T11:21:57.779Z"
   },
   {
    "duration": 0,
    "start_time": "2023-09-04T11:21:57.780Z"
   },
   {
    "duration": 0,
    "start_time": "2023-09-04T11:21:57.781Z"
   },
   {
    "duration": 0,
    "start_time": "2023-09-04T11:21:57.783Z"
   },
   {
    "duration": 0,
    "start_time": "2023-09-04T11:21:57.784Z"
   },
   {
    "duration": 0,
    "start_time": "2023-09-04T11:21:57.786Z"
   },
   {
    "duration": 0,
    "start_time": "2023-09-04T11:21:57.788Z"
   },
   {
    "duration": 0,
    "start_time": "2023-09-04T11:21:57.789Z"
   },
   {
    "duration": 0,
    "start_time": "2023-09-04T11:21:57.790Z"
   },
   {
    "duration": 0,
    "start_time": "2023-09-04T11:21:57.791Z"
   },
   {
    "duration": 0,
    "start_time": "2023-09-04T11:21:57.792Z"
   },
   {
    "duration": 0,
    "start_time": "2023-09-04T11:21:57.793Z"
   },
   {
    "duration": 364,
    "start_time": "2023-09-04T11:23:47.003Z"
   },
   {
    "duration": 175,
    "start_time": "2023-09-04T11:23:55.004Z"
   },
   {
    "duration": 639,
    "start_time": "2023-09-04T11:23:58.279Z"
   },
   {
    "duration": 17,
    "start_time": "2023-09-04T11:24:30.783Z"
   },
   {
    "duration": 17,
    "start_time": "2023-09-04T11:25:29.722Z"
   },
   {
    "duration": 29,
    "start_time": "2023-09-04T11:26:04.635Z"
   },
   {
    "duration": 104,
    "start_time": "2023-09-04T11:26:13.024Z"
   },
   {
    "duration": 261,
    "start_time": "2023-09-04T11:26:30.195Z"
   },
   {
    "duration": 5,
    "start_time": "2023-09-04T11:28:13.452Z"
   },
   {
    "duration": 14,
    "start_time": "2023-09-04T11:28:22.000Z"
   },
   {
    "duration": 6,
    "start_time": "2023-09-04T11:28:31.707Z"
   },
   {
    "duration": 178,
    "start_time": "2023-09-04T11:28:46.120Z"
   },
   {
    "duration": 162,
    "start_time": "2023-09-04T11:28:53.987Z"
   },
   {
    "duration": 187,
    "start_time": "2023-09-04T11:28:57.657Z"
   },
   {
    "duration": 186,
    "start_time": "2023-09-04T11:29:00.936Z"
   },
   {
    "duration": 261,
    "start_time": "2023-09-04T11:29:10.240Z"
   },
   {
    "duration": 1269,
    "start_time": "2023-09-04T11:29:17.993Z"
   },
   {
    "duration": 77,
    "start_time": "2023-09-04T11:29:19.264Z"
   },
   {
    "duration": 15,
    "start_time": "2023-09-04T11:29:19.342Z"
   },
   {
    "duration": 32,
    "start_time": "2023-09-04T11:29:19.359Z"
   },
   {
    "duration": 37,
    "start_time": "2023-09-04T11:29:19.392Z"
   },
   {
    "duration": 31,
    "start_time": "2023-09-04T11:29:19.430Z"
   },
   {
    "duration": 5,
    "start_time": "2023-09-04T11:29:19.463Z"
   },
   {
    "duration": 6,
    "start_time": "2023-09-04T11:29:19.481Z"
   },
   {
    "duration": 29,
    "start_time": "2023-09-04T11:29:19.489Z"
   },
   {
    "duration": 9,
    "start_time": "2023-09-04T11:29:19.521Z"
   },
   {
    "duration": 2,
    "start_time": "2023-09-04T11:29:19.532Z"
   },
   {
    "duration": 15,
    "start_time": "2023-09-04T11:29:19.536Z"
   },
   {
    "duration": 5,
    "start_time": "2023-09-04T11:29:19.554Z"
   },
   {
    "duration": 37,
    "start_time": "2023-09-04T11:29:19.561Z"
   },
   {
    "duration": 282,
    "start_time": "2023-09-04T11:29:19.600Z"
   },
   {
    "duration": 23,
    "start_time": "2023-09-04T11:29:19.884Z"
   },
   {
    "duration": 184,
    "start_time": "2023-09-04T11:29:19.909Z"
   },
   {
    "duration": 173,
    "start_time": "2023-09-04T11:29:20.095Z"
   },
   {
    "duration": 179,
    "start_time": "2023-09-04T11:29:20.270Z"
   },
   {
    "duration": 166,
    "start_time": "2023-09-04T11:29:20.451Z"
   },
   {
    "duration": 171,
    "start_time": "2023-09-04T11:29:20.619Z"
   },
   {
    "duration": 8,
    "start_time": "2023-09-04T11:29:20.792Z"
   },
   {
    "duration": 254,
    "start_time": "2023-09-04T11:29:20.802Z"
   },
   {
    "duration": 184,
    "start_time": "2023-09-04T11:29:21.058Z"
   },
   {
    "duration": 259,
    "start_time": "2023-09-04T11:29:21.244Z"
   },
   {
    "duration": 192,
    "start_time": "2023-09-04T11:29:21.505Z"
   },
   {
    "duration": 203,
    "start_time": "2023-09-04T11:29:21.699Z"
   },
   {
    "duration": 257,
    "start_time": "2023-09-04T11:29:21.907Z"
   },
   {
    "duration": 45,
    "start_time": "2023-09-04T11:29:22.166Z"
   },
   {
    "duration": 42,
    "start_time": "2023-09-04T11:29:22.213Z"
   },
   {
    "duration": 18,
    "start_time": "2023-09-04T11:29:22.281Z"
   },
   {
    "duration": 191,
    "start_time": "2023-09-04T11:29:22.300Z"
   },
   {
    "duration": 179,
    "start_time": "2023-09-04T11:29:22.493Z"
   },
   {
    "duration": 190,
    "start_time": "2023-09-04T11:29:22.674Z"
   },
   {
    "duration": 6,
    "start_time": "2023-09-04T11:29:22.866Z"
   },
   {
    "duration": 11,
    "start_time": "2023-09-04T11:29:22.874Z"
   },
   {
    "duration": 17,
    "start_time": "2023-09-04T11:29:22.886Z"
   },
   {
    "duration": 7,
    "start_time": "2023-09-04T11:29:22.905Z"
   },
   {
    "duration": 10,
    "start_time": "2023-09-04T11:29:22.913Z"
   },
   {
    "duration": 10,
    "start_time": "2023-09-04T11:29:22.925Z"
   },
   {
    "duration": 238,
    "start_time": "2023-09-04T11:30:07.387Z"
   },
   {
    "duration": 94,
    "start_time": "2023-09-04T11:31:35.336Z"
   },
   {
    "duration": 18,
    "start_time": "2023-09-04T11:32:34.383Z"
   },
   {
    "duration": 7,
    "start_time": "2023-09-04T11:33:35.730Z"
   },
   {
    "duration": 8,
    "start_time": "2023-09-04T11:35:14.759Z"
   },
   {
    "duration": 5,
    "start_time": "2023-09-04T11:35:16.164Z"
   },
   {
    "duration": 18,
    "start_time": "2023-09-04T11:35:22.818Z"
   },
   {
    "duration": 7,
    "start_time": "2023-09-04T11:36:26.329Z"
   },
   {
    "duration": 6,
    "start_time": "2023-09-04T11:36:27.607Z"
   },
   {
    "duration": 6,
    "start_time": "2023-09-04T11:36:35.241Z"
   },
   {
    "duration": 1552,
    "start_time": "2023-09-04T18:59:27.344Z"
   },
   {
    "duration": 170,
    "start_time": "2023-09-04T18:59:28.899Z"
   },
   {
    "duration": 20,
    "start_time": "2023-09-04T18:59:29.071Z"
   },
   {
    "duration": 23,
    "start_time": "2023-09-04T18:59:29.093Z"
   },
   {
    "duration": 50,
    "start_time": "2023-09-04T18:59:29.117Z"
   },
   {
    "duration": 28,
    "start_time": "2023-09-04T18:59:29.176Z"
   },
   {
    "duration": 5,
    "start_time": "2023-09-04T18:59:29.205Z"
   },
   {
    "duration": 11,
    "start_time": "2023-09-04T18:59:34.448Z"
   },
   {
    "duration": 31,
    "start_time": "2023-09-04T18:59:35.951Z"
   },
   {
    "duration": 289,
    "start_time": "2023-09-04T19:02:11.587Z"
   },
   {
    "duration": 3,
    "start_time": "2023-09-04T19:02:14.486Z"
   },
   {
    "duration": 131,
    "start_time": "2023-09-04T19:02:14.491Z"
   },
   {
    "duration": 27,
    "start_time": "2023-09-04T19:02:14.635Z"
   },
   {
    "duration": 51,
    "start_time": "2023-09-04T19:02:14.663Z"
   },
   {
    "duration": 62,
    "start_time": "2023-09-04T19:02:14.717Z"
   },
   {
    "duration": 47,
    "start_time": "2023-09-04T19:02:14.781Z"
   },
   {
    "duration": 36,
    "start_time": "2023-09-04T19:02:14.832Z"
   },
   {
    "duration": 31,
    "start_time": "2023-09-04T19:02:14.870Z"
   },
   {
    "duration": 36,
    "start_time": "2023-09-04T19:02:14.903Z"
   },
   {
    "duration": 37,
    "start_time": "2023-09-04T19:02:14.941Z"
   },
   {
    "duration": 86,
    "start_time": "2023-09-04T19:02:14.980Z"
   },
   {
    "duration": 45,
    "start_time": "2023-09-04T19:02:15.069Z"
   },
   {
    "duration": 46,
    "start_time": "2023-09-04T19:02:15.115Z"
   },
   {
    "duration": 36,
    "start_time": "2023-09-04T19:02:15.167Z"
   },
   {
    "duration": 328,
    "start_time": "2023-09-04T19:02:15.205Z"
   },
   {
    "duration": 38,
    "start_time": "2023-09-04T19:02:15.537Z"
   },
   {
    "duration": 171,
    "start_time": "2023-09-04T19:02:15.577Z"
   },
   {
    "duration": 199,
    "start_time": "2023-09-04T19:02:15.749Z"
   },
   {
    "duration": 211,
    "start_time": "2023-09-04T19:02:15.957Z"
   },
   {
    "duration": 221,
    "start_time": "2023-09-04T19:02:16.176Z"
   },
   {
    "duration": 181,
    "start_time": "2023-09-04T19:02:16.399Z"
   },
   {
    "duration": 10,
    "start_time": "2023-09-04T19:02:16.582Z"
   },
   {
    "duration": 240,
    "start_time": "2023-09-04T19:02:17.953Z"
   },
   {
    "duration": 321,
    "start_time": "2023-09-04T19:02:25.558Z"
   }
  ],
  "kernelspec": {
   "display_name": "Python 3 (ipykernel)",
   "language": "python",
   "name": "python3"
  },
  "language_info": {
   "codemirror_mode": {
    "name": "ipython",
    "version": 3
   },
   "file_extension": ".py",
   "mimetype": "text/x-python",
   "name": "python",
   "nbconvert_exporter": "python",
   "pygments_lexer": "ipython3",
   "version": "3.11.5"
  },
  "toc": {
   "base_numbering": 1,
   "nav_menu": {},
   "number_sections": true,
   "sideBar": true,
   "skip_h1_title": true,
   "title_cell": "Table of Contents",
   "title_sidebar": "Contents",
   "toc_cell": false,
   "toc_position": {},
   "toc_section_display": true,
   "toc_window_display": false
  }
 },
 "nbformat": 4,
 "nbformat_minor": 2
}
