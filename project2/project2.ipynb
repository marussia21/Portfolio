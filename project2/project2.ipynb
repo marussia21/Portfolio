{
 "cells": [
  {
   "cell_type": "markdown",
   "metadata": {},
   "source": [
    "## Анализ мобильного приложения"
   ]
  },
  {
   "cell_type": "markdown",
   "metadata": {},
   "source": [
    "### Задача и цель\n",
    "Вы работаете в стартапе, который продаёт продукты питания. Нужно разобраться, как ведут себя пользователи вашего мобильного приложения. \n",
    "Нужно разобраться, как ведут себя пользователи мобильного приложения. \n",
    "Изучить воронку продаж. Узнайть, как пользователи доходят до покупки. Сколько пользователей доходит до покупки, а сколько — «застревает» на предыдущих шагах? На каких именно?\n",
    "После этого исследуйте результаты A/A/B-эксперимента"
   ]
  },
  {
   "cell_type": "markdown",
   "metadata": {},
   "source": [
    "### План\n",
    "#### - Изучить общую информацию\n",
    "#### - Подготовить данные\n",
    "#### - Изучить и проверить данные\n",
    "#### - Изучить воронку событий\n",
    "#### - Изучить результаты эксперимента"
   ]
  },
  {
   "cell_type": "markdown",
   "metadata": {},
   "source": [
    "Импортирую библиотеки:"
   ]
  },
  {
   "cell_type": "code",
   "execution_count": 1,
   "metadata": {},
   "outputs": [],
   "source": [
    "import pandas as pd\n",
    "import datetime as dt\n",
    "import numpy as np\n",
    "import matplotlib.pyplot as plt\n",
    "from pandas.plotting import register_matplotlib_converters\n",
    "import warnings\n",
    "import scipy.stats as stats\n",
    "from matplotlib.pyplot import figure\n",
    "import seaborn as sns\n",
    "import math as mth\n",
    "from scipy import stats as st\n",
    "from collections import defaultdict\n"
   ]
  },
  {
   "cell_type": "markdown",
   "metadata": {},
   "source": [
    "### Шаг 1.\n",
    "Открыть файл с данными и изучить общую информацию"
   ]
  },
  {
   "cell_type": "code",
   "execution_count": 2,
   "metadata": {},
   "outputs": [
    {
     "data": {
      "text/html": [
       "<div>\n",
       "<style scoped>\n",
       "    .dataframe tbody tr th:only-of-type {\n",
       "        vertical-align: middle;\n",
       "    }\n",
       "\n",
       "    .dataframe tbody tr th {\n",
       "        vertical-align: top;\n",
       "    }\n",
       "\n",
       "    .dataframe thead th {\n",
       "        text-align: right;\n",
       "    }\n",
       "</style>\n",
       "<table border=\"1\" class=\"dataframe\">\n",
       "  <thead>\n",
       "    <tr style=\"text-align: right;\">\n",
       "      <th></th>\n",
       "      <th>EventName</th>\n",
       "      <th>DeviceIDHash</th>\n",
       "      <th>EventTimestamp</th>\n",
       "      <th>ExpId</th>\n",
       "    </tr>\n",
       "  </thead>\n",
       "  <tbody>\n",
       "    <tr>\n",
       "      <th>0</th>\n",
       "      <td>MainScreenAppear</td>\n",
       "      <td>4575588528974610257</td>\n",
       "      <td>1564029816</td>\n",
       "      <td>246</td>\n",
       "    </tr>\n",
       "    <tr>\n",
       "      <th>1</th>\n",
       "      <td>MainScreenAppear</td>\n",
       "      <td>7416695313311560658</td>\n",
       "      <td>1564053102</td>\n",
       "      <td>246</td>\n",
       "    </tr>\n",
       "    <tr>\n",
       "      <th>2</th>\n",
       "      <td>PaymentScreenSuccessful</td>\n",
       "      <td>3518123091307005509</td>\n",
       "      <td>1564054127</td>\n",
       "      <td>248</td>\n",
       "    </tr>\n",
       "    <tr>\n",
       "      <th>3</th>\n",
       "      <td>CartScreenAppear</td>\n",
       "      <td>3518123091307005509</td>\n",
       "      <td>1564054127</td>\n",
       "      <td>248</td>\n",
       "    </tr>\n",
       "    <tr>\n",
       "      <th>4</th>\n",
       "      <td>PaymentScreenSuccessful</td>\n",
       "      <td>6217807653094995999</td>\n",
       "      <td>1564055322</td>\n",
       "      <td>248</td>\n",
       "    </tr>\n",
       "    <tr>\n",
       "      <th>...</th>\n",
       "      <td>...</td>\n",
       "      <td>...</td>\n",
       "      <td>...</td>\n",
       "      <td>...</td>\n",
       "    </tr>\n",
       "    <tr>\n",
       "      <th>244121</th>\n",
       "      <td>MainScreenAppear</td>\n",
       "      <td>4599628364049201812</td>\n",
       "      <td>1565212345</td>\n",
       "      <td>247</td>\n",
       "    </tr>\n",
       "    <tr>\n",
       "      <th>244122</th>\n",
       "      <td>MainScreenAppear</td>\n",
       "      <td>5849806612437486590</td>\n",
       "      <td>1565212439</td>\n",
       "      <td>246</td>\n",
       "    </tr>\n",
       "    <tr>\n",
       "      <th>244123</th>\n",
       "      <td>MainScreenAppear</td>\n",
       "      <td>5746969938801999050</td>\n",
       "      <td>1565212483</td>\n",
       "      <td>246</td>\n",
       "    </tr>\n",
       "    <tr>\n",
       "      <th>244124</th>\n",
       "      <td>MainScreenAppear</td>\n",
       "      <td>5746969938801999050</td>\n",
       "      <td>1565212498</td>\n",
       "      <td>246</td>\n",
       "    </tr>\n",
       "    <tr>\n",
       "      <th>244125</th>\n",
       "      <td>OffersScreenAppear</td>\n",
       "      <td>5746969938801999050</td>\n",
       "      <td>1565212517</td>\n",
       "      <td>246</td>\n",
       "    </tr>\n",
       "  </tbody>\n",
       "</table>\n",
       "<p>244126 rows × 4 columns</p>\n",
       "</div>"
      ],
      "text/plain": [
       "                      EventName         DeviceIDHash  EventTimestamp  ExpId\n",
       "0              MainScreenAppear  4575588528974610257      1564029816    246\n",
       "1              MainScreenAppear  7416695313311560658      1564053102    246\n",
       "2       PaymentScreenSuccessful  3518123091307005509      1564054127    248\n",
       "3              CartScreenAppear  3518123091307005509      1564054127    248\n",
       "4       PaymentScreenSuccessful  6217807653094995999      1564055322    248\n",
       "...                         ...                  ...             ...    ...\n",
       "244121         MainScreenAppear  4599628364049201812      1565212345    247\n",
       "244122         MainScreenAppear  5849806612437486590      1565212439    246\n",
       "244123         MainScreenAppear  5746969938801999050      1565212483    246\n",
       "244124         MainScreenAppear  5746969938801999050      1565212498    246\n",
       "244125       OffersScreenAppear  5746969938801999050      1565212517    246\n",
       "\n",
       "[244126 rows x 4 columns]"
      ]
     },
     "metadata": {},
     "output_type": "display_data"
    }
   ],
   "source": [
    "data = pd.read_csv('/Users/marksuskov/ЯП/logs_exp.csv',sep='\\t')\n",
    "display(data)"
   ]
  },
  {
   "cell_type": "markdown",
   "metadata": {},
   "source": [
    "### Шаг 2. \n",
    "- Подготовьте данные\n",
    "- Замените названия столбцов на удобные для вас;\n",
    "- Проверьте пропуски и типы данных. Откорректируйте, если нужно;\n",
    "- Добавьте столбец даты и времени, а также отдельный столбец дат;"
   ]
  },
  {
   "cell_type": "code",
   "execution_count": 3,
   "metadata": {},
   "outputs": [
    {
     "data": {
      "text/html": [
       "<div>\n",
       "<style scoped>\n",
       "    .dataframe tbody tr th:only-of-type {\n",
       "        vertical-align: middle;\n",
       "    }\n",
       "\n",
       "    .dataframe tbody tr th {\n",
       "        vertical-align: top;\n",
       "    }\n",
       "\n",
       "    .dataframe thead th {\n",
       "        text-align: right;\n",
       "    }\n",
       "</style>\n",
       "<table border=\"1\" class=\"dataframe\">\n",
       "  <thead>\n",
       "    <tr style=\"text-align: right;\">\n",
       "      <th></th>\n",
       "      <th>eventname</th>\n",
       "      <th>userId</th>\n",
       "      <th>datetime</th>\n",
       "      <th>expid</th>\n",
       "    </tr>\n",
       "  </thead>\n",
       "  <tbody>\n",
       "    <tr>\n",
       "      <th>0</th>\n",
       "      <td>MainScreenAppear</td>\n",
       "      <td>4575588528974610257</td>\n",
       "      <td>1564029816</td>\n",
       "      <td>246</td>\n",
       "    </tr>\n",
       "    <tr>\n",
       "      <th>1</th>\n",
       "      <td>MainScreenAppear</td>\n",
       "      <td>7416695313311560658</td>\n",
       "      <td>1564053102</td>\n",
       "      <td>246</td>\n",
       "    </tr>\n",
       "    <tr>\n",
       "      <th>2</th>\n",
       "      <td>PaymentScreenSuccessful</td>\n",
       "      <td>3518123091307005509</td>\n",
       "      <td>1564054127</td>\n",
       "      <td>248</td>\n",
       "    </tr>\n",
       "    <tr>\n",
       "      <th>3</th>\n",
       "      <td>CartScreenAppear</td>\n",
       "      <td>3518123091307005509</td>\n",
       "      <td>1564054127</td>\n",
       "      <td>248</td>\n",
       "    </tr>\n",
       "    <tr>\n",
       "      <th>4</th>\n",
       "      <td>PaymentScreenSuccessful</td>\n",
       "      <td>6217807653094995999</td>\n",
       "      <td>1564055322</td>\n",
       "      <td>248</td>\n",
       "    </tr>\n",
       "    <tr>\n",
       "      <th>...</th>\n",
       "      <td>...</td>\n",
       "      <td>...</td>\n",
       "      <td>...</td>\n",
       "      <td>...</td>\n",
       "    </tr>\n",
       "    <tr>\n",
       "      <th>244121</th>\n",
       "      <td>MainScreenAppear</td>\n",
       "      <td>4599628364049201812</td>\n",
       "      <td>1565212345</td>\n",
       "      <td>247</td>\n",
       "    </tr>\n",
       "    <tr>\n",
       "      <th>244122</th>\n",
       "      <td>MainScreenAppear</td>\n",
       "      <td>5849806612437486590</td>\n",
       "      <td>1565212439</td>\n",
       "      <td>246</td>\n",
       "    </tr>\n",
       "    <tr>\n",
       "      <th>244123</th>\n",
       "      <td>MainScreenAppear</td>\n",
       "      <td>5746969938801999050</td>\n",
       "      <td>1565212483</td>\n",
       "      <td>246</td>\n",
       "    </tr>\n",
       "    <tr>\n",
       "      <th>244124</th>\n",
       "      <td>MainScreenAppear</td>\n",
       "      <td>5746969938801999050</td>\n",
       "      <td>1565212498</td>\n",
       "      <td>246</td>\n",
       "    </tr>\n",
       "    <tr>\n",
       "      <th>244125</th>\n",
       "      <td>OffersScreenAppear</td>\n",
       "      <td>5746969938801999050</td>\n",
       "      <td>1565212517</td>\n",
       "      <td>246</td>\n",
       "    </tr>\n",
       "  </tbody>\n",
       "</table>\n",
       "<p>244126 rows × 4 columns</p>\n",
       "</div>"
      ],
      "text/plain": [
       "                      eventname               userId    datetime  expid\n",
       "0              MainScreenAppear  4575588528974610257  1564029816    246\n",
       "1              MainScreenAppear  7416695313311560658  1564053102    246\n",
       "2       PaymentScreenSuccessful  3518123091307005509  1564054127    248\n",
       "3              CartScreenAppear  3518123091307005509  1564054127    248\n",
       "4       PaymentScreenSuccessful  6217807653094995999  1564055322    248\n",
       "...                         ...                  ...         ...    ...\n",
       "244121         MainScreenAppear  4599628364049201812  1565212345    247\n",
       "244122         MainScreenAppear  5849806612437486590  1565212439    246\n",
       "244123         MainScreenAppear  5746969938801999050  1565212483    246\n",
       "244124         MainScreenAppear  5746969938801999050  1565212498    246\n",
       "244125       OffersScreenAppear  5746969938801999050  1565212517    246\n",
       "\n",
       "[244126 rows x 4 columns]"
      ]
     },
     "execution_count": 3,
     "metadata": {},
     "output_type": "execute_result"
    }
   ],
   "source": [
    "#заменю название столбцов\n",
    "data.columns = data.columns = ['eventname', 'userId', 'datetime', 'expid']\n",
    "data\n"
   ]
  },
  {
   "cell_type": "code",
   "execution_count": 4,
   "metadata": {},
   "outputs": [
    {
     "data": {
      "text/plain": [
       "'Дубликатов:'"
      ]
     },
     "metadata": {},
     "output_type": "display_data"
    },
    {
     "data": {
      "text/plain": [
       "413"
      ]
     },
     "metadata": {},
     "output_type": "display_data"
    },
    {
     "data": {
      "text/plain": [
       "'Пропусков:'"
      ]
     },
     "metadata": {},
     "output_type": "display_data"
    },
    {
     "data": {
      "text/plain": [
       "0"
      ]
     },
     "metadata": {},
     "output_type": "display_data"
    }
   ],
   "source": [
    "#проверю пропуски и дубликаты\n",
    "display('Дубликатов:',data.duplicated().sum())\n",
    "display('Пропусков:',data.isnull().sum().sum())"
   ]
  },
  {
   "cell_type": "markdown",
   "metadata": {},
   "source": [
    "Было выявлено 413 дубликатов, удалю их"
   ]
  },
  {
   "cell_type": "code",
   "execution_count": 5,
   "metadata": {},
   "outputs": [
    {
     "data": {
      "text/plain": [
       "'Дубликатов:'"
      ]
     },
     "metadata": {},
     "output_type": "display_data"
    },
    {
     "data": {
      "text/plain": [
       "0"
      ]
     },
     "metadata": {},
     "output_type": "display_data"
    }
   ],
   "source": [
    "data = data.drop_duplicates() \n",
    "display('Дубликатов:',data.duplicated().sum())"
   ]
  },
  {
   "cell_type": "markdown",
   "metadata": {},
   "source": [
    "дубликаты были удалены"
   ]
  },
  {
   "cell_type": "code",
   "execution_count": 6,
   "metadata": {},
   "outputs": [
    {
     "name": "stdout",
     "output_type": "stream",
     "text": [
      "<class 'pandas.core.frame.DataFrame'>\n",
      "Index: 243713 entries, 0 to 244125\n",
      "Data columns (total 4 columns):\n",
      " #   Column     Non-Null Count   Dtype \n",
      "---  ------     --------------   ----- \n",
      " 0   eventname  243713 non-null  object\n",
      " 1   userId     243713 non-null  int64 \n",
      " 2   datetime   243713 non-null  int64 \n",
      " 3   expid      243713 non-null  int64 \n",
      "dtypes: int64(3), object(1)\n",
      "memory usage: 9.3+ MB\n"
     ]
    }
   ],
   "source": [
    "#Проверю типы данных\n",
    "data.info()"
   ]
  },
  {
   "cell_type": "code",
   "execution_count": 7,
   "metadata": {},
   "outputs": [],
   "source": [
    "pd.options.mode.chained_assignment = None"
   ]
  },
  {
   "cell_type": "code",
   "execution_count": 8,
   "metadata": {},
   "outputs": [
    {
     "data": {
      "text/html": [
       "<div>\n",
       "<style scoped>\n",
       "    .dataframe tbody tr th:only-of-type {\n",
       "        vertical-align: middle;\n",
       "    }\n",
       "\n",
       "    .dataframe tbody tr th {\n",
       "        vertical-align: top;\n",
       "    }\n",
       "\n",
       "    .dataframe thead th {\n",
       "        text-align: right;\n",
       "    }\n",
       "</style>\n",
       "<table border=\"1\" class=\"dataframe\">\n",
       "  <thead>\n",
       "    <tr style=\"text-align: right;\">\n",
       "      <th></th>\n",
       "      <th>eventname</th>\n",
       "      <th>userId</th>\n",
       "      <th>datetime</th>\n",
       "      <th>expid</th>\n",
       "    </tr>\n",
       "  </thead>\n",
       "  <tbody>\n",
       "    <tr>\n",
       "      <th>0</th>\n",
       "      <td>MainScreenAppear</td>\n",
       "      <td>4575588528974610257</td>\n",
       "      <td>2019-07-25 04:43:36</td>\n",
       "      <td>246</td>\n",
       "    </tr>\n",
       "    <tr>\n",
       "      <th>1</th>\n",
       "      <td>MainScreenAppear</td>\n",
       "      <td>7416695313311560658</td>\n",
       "      <td>2019-07-25 11:11:42</td>\n",
       "      <td>246</td>\n",
       "    </tr>\n",
       "    <tr>\n",
       "      <th>2</th>\n",
       "      <td>PaymentScreenSuccessful</td>\n",
       "      <td>3518123091307005509</td>\n",
       "      <td>2019-07-25 11:28:47</td>\n",
       "      <td>248</td>\n",
       "    </tr>\n",
       "    <tr>\n",
       "      <th>3</th>\n",
       "      <td>CartScreenAppear</td>\n",
       "      <td>3518123091307005509</td>\n",
       "      <td>2019-07-25 11:28:47</td>\n",
       "      <td>248</td>\n",
       "    </tr>\n",
       "    <tr>\n",
       "      <th>4</th>\n",
       "      <td>PaymentScreenSuccessful</td>\n",
       "      <td>6217807653094995999</td>\n",
       "      <td>2019-07-25 11:48:42</td>\n",
       "      <td>248</td>\n",
       "    </tr>\n",
       "    <tr>\n",
       "      <th>...</th>\n",
       "      <td>...</td>\n",
       "      <td>...</td>\n",
       "      <td>...</td>\n",
       "      <td>...</td>\n",
       "    </tr>\n",
       "    <tr>\n",
       "      <th>244121</th>\n",
       "      <td>MainScreenAppear</td>\n",
       "      <td>4599628364049201812</td>\n",
       "      <td>2019-08-07 21:12:25</td>\n",
       "      <td>247</td>\n",
       "    </tr>\n",
       "    <tr>\n",
       "      <th>244122</th>\n",
       "      <td>MainScreenAppear</td>\n",
       "      <td>5849806612437486590</td>\n",
       "      <td>2019-08-07 21:13:59</td>\n",
       "      <td>246</td>\n",
       "    </tr>\n",
       "    <tr>\n",
       "      <th>244123</th>\n",
       "      <td>MainScreenAppear</td>\n",
       "      <td>5746969938801999050</td>\n",
       "      <td>2019-08-07 21:14:43</td>\n",
       "      <td>246</td>\n",
       "    </tr>\n",
       "    <tr>\n",
       "      <th>244124</th>\n",
       "      <td>MainScreenAppear</td>\n",
       "      <td>5746969938801999050</td>\n",
       "      <td>2019-08-07 21:14:58</td>\n",
       "      <td>246</td>\n",
       "    </tr>\n",
       "    <tr>\n",
       "      <th>244125</th>\n",
       "      <td>OffersScreenAppear</td>\n",
       "      <td>5746969938801999050</td>\n",
       "      <td>2019-08-07 21:15:17</td>\n",
       "      <td>246</td>\n",
       "    </tr>\n",
       "  </tbody>\n",
       "</table>\n",
       "<p>243713 rows × 4 columns</p>\n",
       "</div>"
      ],
      "text/plain": [
       "                      eventname               userId            datetime  \\\n",
       "0              MainScreenAppear  4575588528974610257 2019-07-25 04:43:36   \n",
       "1              MainScreenAppear  7416695313311560658 2019-07-25 11:11:42   \n",
       "2       PaymentScreenSuccessful  3518123091307005509 2019-07-25 11:28:47   \n",
       "3              CartScreenAppear  3518123091307005509 2019-07-25 11:28:47   \n",
       "4       PaymentScreenSuccessful  6217807653094995999 2019-07-25 11:48:42   \n",
       "...                         ...                  ...                 ...   \n",
       "244121         MainScreenAppear  4599628364049201812 2019-08-07 21:12:25   \n",
       "244122         MainScreenAppear  5849806612437486590 2019-08-07 21:13:59   \n",
       "244123         MainScreenAppear  5746969938801999050 2019-08-07 21:14:43   \n",
       "244124         MainScreenAppear  5746969938801999050 2019-08-07 21:14:58   \n",
       "244125       OffersScreenAppear  5746969938801999050 2019-08-07 21:15:17   \n",
       "\n",
       "        expid  \n",
       "0         246  \n",
       "1         246  \n",
       "2         248  \n",
       "3         248  \n",
       "4         248  \n",
       "...       ...  \n",
       "244121    247  \n",
       "244122    246  \n",
       "244123    246  \n",
       "244124    246  \n",
       "244125    246  \n",
       "\n",
       "[243713 rows x 4 columns]"
      ]
     },
     "execution_count": 8,
     "metadata": {},
     "output_type": "execute_result"
    }
   ],
   "source": [
    "#Изменю тип данных в eventtimestamp\n",
    "data['datetime']=pd.to_datetime(data['datetime'], unit='s')\n",
    "data"
   ]
  },
  {
   "cell_type": "code",
   "execution_count": 9,
   "metadata": {},
   "outputs": [
    {
     "data": {
      "text/html": [
       "<div>\n",
       "<style scoped>\n",
       "    .dataframe tbody tr th:only-of-type {\n",
       "        vertical-align: middle;\n",
       "    }\n",
       "\n",
       "    .dataframe tbody tr th {\n",
       "        vertical-align: top;\n",
       "    }\n",
       "\n",
       "    .dataframe thead th {\n",
       "        text-align: right;\n",
       "    }\n",
       "</style>\n",
       "<table border=\"1\" class=\"dataframe\">\n",
       "  <thead>\n",
       "    <tr style=\"text-align: right;\">\n",
       "      <th></th>\n",
       "      <th>eventname</th>\n",
       "      <th>userId</th>\n",
       "      <th>datetime</th>\n",
       "      <th>expid</th>\n",
       "      <th>date</th>\n",
       "    </tr>\n",
       "  </thead>\n",
       "  <tbody>\n",
       "    <tr>\n",
       "      <th>0</th>\n",
       "      <td>MainScreenAppear</td>\n",
       "      <td>4575588528974610257</td>\n",
       "      <td>2019-07-25 04:43:36</td>\n",
       "      <td>246</td>\n",
       "      <td>2019-07-25</td>\n",
       "    </tr>\n",
       "    <tr>\n",
       "      <th>1</th>\n",
       "      <td>MainScreenAppear</td>\n",
       "      <td>7416695313311560658</td>\n",
       "      <td>2019-07-25 11:11:42</td>\n",
       "      <td>246</td>\n",
       "      <td>2019-07-25</td>\n",
       "    </tr>\n",
       "    <tr>\n",
       "      <th>2</th>\n",
       "      <td>PaymentScreenSuccessful</td>\n",
       "      <td>3518123091307005509</td>\n",
       "      <td>2019-07-25 11:28:47</td>\n",
       "      <td>248</td>\n",
       "      <td>2019-07-25</td>\n",
       "    </tr>\n",
       "    <tr>\n",
       "      <th>3</th>\n",
       "      <td>CartScreenAppear</td>\n",
       "      <td>3518123091307005509</td>\n",
       "      <td>2019-07-25 11:28:47</td>\n",
       "      <td>248</td>\n",
       "      <td>2019-07-25</td>\n",
       "    </tr>\n",
       "    <tr>\n",
       "      <th>4</th>\n",
       "      <td>PaymentScreenSuccessful</td>\n",
       "      <td>6217807653094995999</td>\n",
       "      <td>2019-07-25 11:48:42</td>\n",
       "      <td>248</td>\n",
       "      <td>2019-07-25</td>\n",
       "    </tr>\n",
       "    <tr>\n",
       "      <th>...</th>\n",
       "      <td>...</td>\n",
       "      <td>...</td>\n",
       "      <td>...</td>\n",
       "      <td>...</td>\n",
       "      <td>...</td>\n",
       "    </tr>\n",
       "    <tr>\n",
       "      <th>244121</th>\n",
       "      <td>MainScreenAppear</td>\n",
       "      <td>4599628364049201812</td>\n",
       "      <td>2019-08-07 21:12:25</td>\n",
       "      <td>247</td>\n",
       "      <td>2019-08-07</td>\n",
       "    </tr>\n",
       "    <tr>\n",
       "      <th>244122</th>\n",
       "      <td>MainScreenAppear</td>\n",
       "      <td>5849806612437486590</td>\n",
       "      <td>2019-08-07 21:13:59</td>\n",
       "      <td>246</td>\n",
       "      <td>2019-08-07</td>\n",
       "    </tr>\n",
       "    <tr>\n",
       "      <th>244123</th>\n",
       "      <td>MainScreenAppear</td>\n",
       "      <td>5746969938801999050</td>\n",
       "      <td>2019-08-07 21:14:43</td>\n",
       "      <td>246</td>\n",
       "      <td>2019-08-07</td>\n",
       "    </tr>\n",
       "    <tr>\n",
       "      <th>244124</th>\n",
       "      <td>MainScreenAppear</td>\n",
       "      <td>5746969938801999050</td>\n",
       "      <td>2019-08-07 21:14:58</td>\n",
       "      <td>246</td>\n",
       "      <td>2019-08-07</td>\n",
       "    </tr>\n",
       "    <tr>\n",
       "      <th>244125</th>\n",
       "      <td>OffersScreenAppear</td>\n",
       "      <td>5746969938801999050</td>\n",
       "      <td>2019-08-07 21:15:17</td>\n",
       "      <td>246</td>\n",
       "      <td>2019-08-07</td>\n",
       "    </tr>\n",
       "  </tbody>\n",
       "</table>\n",
       "<p>243713 rows × 5 columns</p>\n",
       "</div>"
      ],
      "text/plain": [
       "                      eventname               userId            datetime  \\\n",
       "0              MainScreenAppear  4575588528974610257 2019-07-25 04:43:36   \n",
       "1              MainScreenAppear  7416695313311560658 2019-07-25 11:11:42   \n",
       "2       PaymentScreenSuccessful  3518123091307005509 2019-07-25 11:28:47   \n",
       "3              CartScreenAppear  3518123091307005509 2019-07-25 11:28:47   \n",
       "4       PaymentScreenSuccessful  6217807653094995999 2019-07-25 11:48:42   \n",
       "...                         ...                  ...                 ...   \n",
       "244121         MainScreenAppear  4599628364049201812 2019-08-07 21:12:25   \n",
       "244122         MainScreenAppear  5849806612437486590 2019-08-07 21:13:59   \n",
       "244123         MainScreenAppear  5746969938801999050 2019-08-07 21:14:43   \n",
       "244124         MainScreenAppear  5746969938801999050 2019-08-07 21:14:58   \n",
       "244125       OffersScreenAppear  5746969938801999050 2019-08-07 21:15:17   \n",
       "\n",
       "        expid        date  \n",
       "0         246  2019-07-25  \n",
       "1         246  2019-07-25  \n",
       "2         248  2019-07-25  \n",
       "3         248  2019-07-25  \n",
       "4         248  2019-07-25  \n",
       "...       ...         ...  \n",
       "244121    247  2019-08-07  \n",
       "244122    246  2019-08-07  \n",
       "244123    246  2019-08-07  \n",
       "244124    246  2019-08-07  \n",
       "244125    246  2019-08-07  \n",
       "\n",
       "[243713 rows x 5 columns]"
      ]
     },
     "execution_count": 9,
     "metadata": {},
     "output_type": "execute_result"
    }
   ],
   "source": [
    "#Создам отдельный столбец дат\n",
    "data['date'] = data['datetime'].dt.date\n",
    "data"
   ]
  },
  {
   "cell_type": "markdown",
   "metadata": {},
   "source": [
    "В ходе шага 2 было:\n",
    "- Заменены названия столбцов\n",
    "- Удалены дубликаты. Пропуски не выявлены\n",
    "- столбец datetime приведен в парвильный тип данных\n",
    "- Добавлен столбец даты "
   ]
  },
  {
   "cell_type": "markdown",
   "metadata": {},
   "source": [
    "Проверим пересечение пользователей между группами"
   ]
  },
  {
   "cell_type": "code",
   "execution_count": 10,
   "metadata": {},
   "outputs": [
    {
     "data": {
      "text/html": [
       "<div>\n",
       "<style scoped>\n",
       "    .dataframe tbody tr th:only-of-type {\n",
       "        vertical-align: middle;\n",
       "    }\n",
       "\n",
       "    .dataframe tbody tr th {\n",
       "        vertical-align: top;\n",
       "    }\n",
       "\n",
       "    .dataframe thead th {\n",
       "        text-align: right;\n",
       "    }\n",
       "</style>\n",
       "<table border=\"1\" class=\"dataframe\">\n",
       "  <thead>\n",
       "    <tr style=\"text-align: right;\">\n",
       "      <th></th>\n",
       "      <th>userId</th>\n",
       "      <th>group</th>\n",
       "      <th>count</th>\n",
       "    </tr>\n",
       "  </thead>\n",
       "  <tbody>\n",
       "    <tr>\n",
       "      <th>0</th>\n",
       "      <td>6888746892508752</td>\n",
       "      <td>246</td>\n",
       "      <td>1</td>\n",
       "    </tr>\n",
       "    <tr>\n",
       "      <th>1</th>\n",
       "      <td>6909561520679493</td>\n",
       "      <td>247</td>\n",
       "      <td>5</td>\n",
       "    </tr>\n",
       "    <tr>\n",
       "      <th>2</th>\n",
       "      <td>6922444491712477</td>\n",
       "      <td>246</td>\n",
       "      <td>47</td>\n",
       "    </tr>\n",
       "    <tr>\n",
       "      <th>3</th>\n",
       "      <td>7435777799948366</td>\n",
       "      <td>248</td>\n",
       "      <td>6</td>\n",
       "    </tr>\n",
       "    <tr>\n",
       "      <th>4</th>\n",
       "      <td>7702139951469979</td>\n",
       "      <td>247</td>\n",
       "      <td>137</td>\n",
       "    </tr>\n",
       "  </tbody>\n",
       "</table>\n",
       "</div>"
      ],
      "text/plain": [
       "             userId  group  count\n",
       "0  6888746892508752    246      1\n",
       "1  6909561520679493    247      5\n",
       "2  6922444491712477    246     47\n",
       "3  7435777799948366    248      6\n",
       "4  7702139951469979    247    137"
      ]
     },
     "execution_count": 10,
     "metadata": {},
     "output_type": "execute_result"
    }
   ],
   "source": [
    "sizes = data.groupby(['userId', 'expid']).size().reset_index()\n",
    "sizes.columns = ['userId', 'group', 'count']\n",
    "sizes.head(5)"
   ]
  },
  {
   "cell_type": "markdown",
   "metadata": {},
   "source": [
    "Найдем пользователей попавших более, чем в 1 группу."
   ]
  },
  {
   "cell_type": "code",
   "execution_count": 11,
   "metadata": {},
   "outputs": [
    {
     "name": "stdout",
     "output_type": "stream",
     "text": [
      "Пользователи, попавшие в обе группы:  \n"
     ]
    }
   ],
   "source": [
    "double_users_list = list(zip(sizes['userId'], sizes['group']))\n",
    "double_users_dict = defaultdict (list)\n",
    "for user, group in double_users_list:\n",
    "    double_users_dict[user].append(group)\n",
    "\n",
    "double_users = [user for user in double_users_dict if len(double_users_dict[user]) > 1]\n",
    "print('Пользователи, попавшие в обе группы: ', ', '.join(str(el) for el in double_users))"
   ]
  },
  {
   "cell_type": "markdown",
   "metadata": {},
   "source": [
    "Пользователи, попавшие в обе группы:  "
   ]
  },
  {
   "cell_type": "code",
   "execution_count": 12,
   "metadata": {},
   "outputs": [
    {
     "data": {
      "text/plain": [
       "0"
      ]
     },
     "execution_count": 12,
     "metadata": {},
     "output_type": "execute_result"
    }
   ],
   "source": [
    "#Количество пользователей, попавших в обе группы\n",
    "len(double_users)"
   ]
  },
  {
   "cell_type": "markdown",
   "metadata": {},
   "source": [
    "Нет пересечений пользователей между группами"
   ]
  },
  {
   "cell_type": "markdown",
   "metadata": {},
   "source": [
    "### Шаг 3.\n",
    "Изучите и проверьте данные"
   ]
  },
  {
   "cell_type": "code",
   "execution_count": 13,
   "metadata": {},
   "outputs": [
    {
     "data": {
      "text/plain": [
       "243713"
      ]
     },
     "execution_count": 13,
     "metadata": {},
     "output_type": "execute_result"
    }
   ],
   "source": [
    "#Сколько всего событий в логе?\n",
    "data['eventname'].count()"
   ]
  },
  {
   "cell_type": "markdown",
   "metadata": {},
   "source": [
    "Всего 243713 событий"
   ]
  },
  {
   "cell_type": "code",
   "execution_count": 14,
   "metadata": {},
   "outputs": [
    {
     "data": {
      "text/plain": [
       "7551"
      ]
     },
     "execution_count": 14,
     "metadata": {},
     "output_type": "execute_result"
    }
   ],
   "source": [
    "#Сколько всего пользователей в логе?\n",
    "data['userId'].nunique()"
   ]
  },
  {
   "cell_type": "markdown",
   "metadata": {},
   "source": [
    "Всего 7551 пользователей"
   ]
  },
  {
   "cell_type": "code",
   "execution_count": 15,
   "metadata": {},
   "outputs": [
    {
     "data": {
      "text/plain": [
       "eventname    32.275593\n",
       "dtype: float64"
      ]
     },
     "execution_count": 15,
     "metadata": {},
     "output_type": "execute_result"
    }
   ],
   "source": [
    "#Сколько в среднем событий приходится на пользователя?\n",
    "event_on_user = data.groupby('userId',as_index = False).agg({'eventname':'count'})\n",
    "event_on_user.agg({'eventname':'mean'})"
   ]
  },
  {
   "cell_type": "markdown",
   "metadata": {},
   "source": [
    "в среднем на 1 пользователя событий приходится 32 события"
   ]
  },
  {
   "cell_type": "markdown",
   "metadata": {},
   "source": [
    "Найду максимальную и минимальную дату. Изучу, как меняется количество данных: построю столбчатую диаграмму, которая отобразит количество событий в зависимости от времени в разрезе групп. Можно ли быть уверенным, что у вас одинаково полные данные за весь период? Технически в логи новых дней по некоторым пользователям могут «доезжать» события из прошлого — это может «перекашивать данные». Определю, с какого момента данные полные и отбросьте более старые."
   ]
  },
  {
   "cell_type": "code",
   "execution_count": 16,
   "metadata": {},
   "outputs": [
    {
     "data": {
      "text/plain": [
       "datetime.date(2019, 8, 7)"
      ]
     },
     "metadata": {},
     "output_type": "display_data"
    },
    {
     "data": {
      "text/plain": [
       "datetime.date(2019, 7, 25)"
      ]
     },
     "metadata": {},
     "output_type": "display_data"
    }
   ],
   "source": [
    "display(data['date'].max()) #Максилаьная дата\n",
    "display(data['date'].min()) #Минимальная дата"
   ]
  },
  {
   "cell_type": "code",
   "execution_count": 17,
   "metadata": {},
   "outputs": [
    {
     "data": {
      "text/html": [
       "<div>\n",
       "<style scoped>\n",
       "    .dataframe tbody tr th:only-of-type {\n",
       "        vertical-align: middle;\n",
       "    }\n",
       "\n",
       "    .dataframe tbody tr th {\n",
       "        vertical-align: top;\n",
       "    }\n",
       "\n",
       "    .dataframe thead th {\n",
       "        text-align: right;\n",
       "    }\n",
       "</style>\n",
       "<table border=\"1\" class=\"dataframe\">\n",
       "  <thead>\n",
       "    <tr style=\"text-align: right;\">\n",
       "      <th></th>\n",
       "      <th>date</th>\n",
       "      <th>eventname</th>\n",
       "    </tr>\n",
       "  </thead>\n",
       "  <tbody>\n",
       "    <tr>\n",
       "      <th>0</th>\n",
       "      <td>2019-07-25</td>\n",
       "      <td>9</td>\n",
       "    </tr>\n",
       "    <tr>\n",
       "      <th>1</th>\n",
       "      <td>2019-07-26</td>\n",
       "      <td>31</td>\n",
       "    </tr>\n",
       "    <tr>\n",
       "      <th>2</th>\n",
       "      <td>2019-07-27</td>\n",
       "      <td>55</td>\n",
       "    </tr>\n",
       "    <tr>\n",
       "      <th>3</th>\n",
       "      <td>2019-07-28</td>\n",
       "      <td>105</td>\n",
       "    </tr>\n",
       "    <tr>\n",
       "      <th>4</th>\n",
       "      <td>2019-07-29</td>\n",
       "      <td>184</td>\n",
       "    </tr>\n",
       "    <tr>\n",
       "      <th>5</th>\n",
       "      <td>2019-07-30</td>\n",
       "      <td>412</td>\n",
       "    </tr>\n",
       "    <tr>\n",
       "      <th>6</th>\n",
       "      <td>2019-07-31</td>\n",
       "      <td>2030</td>\n",
       "    </tr>\n",
       "    <tr>\n",
       "      <th>7</th>\n",
       "      <td>2019-08-01</td>\n",
       "      <td>36141</td>\n",
       "    </tr>\n",
       "    <tr>\n",
       "      <th>8</th>\n",
       "      <td>2019-08-02</td>\n",
       "      <td>35554</td>\n",
       "    </tr>\n",
       "    <tr>\n",
       "      <th>9</th>\n",
       "      <td>2019-08-03</td>\n",
       "      <td>33282</td>\n",
       "    </tr>\n",
       "    <tr>\n",
       "      <th>10</th>\n",
       "      <td>2019-08-04</td>\n",
       "      <td>32968</td>\n",
       "    </tr>\n",
       "    <tr>\n",
       "      <th>11</th>\n",
       "      <td>2019-08-05</td>\n",
       "      <td>36058</td>\n",
       "    </tr>\n",
       "    <tr>\n",
       "      <th>12</th>\n",
       "      <td>2019-08-06</td>\n",
       "      <td>35788</td>\n",
       "    </tr>\n",
       "    <tr>\n",
       "      <th>13</th>\n",
       "      <td>2019-08-07</td>\n",
       "      <td>31096</td>\n",
       "    </tr>\n",
       "  </tbody>\n",
       "</table>\n",
       "</div>"
      ],
      "text/plain": [
       "          date  eventname\n",
       "0   2019-07-25          9\n",
       "1   2019-07-26         31\n",
       "2   2019-07-27         55\n",
       "3   2019-07-28        105\n",
       "4   2019-07-29        184\n",
       "5   2019-07-30        412\n",
       "6   2019-07-31       2030\n",
       "7   2019-08-01      36141\n",
       "8   2019-08-02      35554\n",
       "9   2019-08-03      33282\n",
       "10  2019-08-04      32968\n",
       "11  2019-08-05      36058\n",
       "12  2019-08-06      35788\n",
       "13  2019-08-07      31096"
      ]
     },
     "execution_count": 17,
     "metadata": {},
     "output_type": "execute_result"
    }
   ],
   "source": [
    "date_count_user = data.groupby('date',as_index = False).agg({'eventname':'count'})\n",
    "date_count_user"
   ]
  },
  {
   "cell_type": "code",
   "execution_count": 18,
   "metadata": {},
   "outputs": [
    {
     "data": {
      "text/plain": [
       "Text(0.5, 1.0, 'Количество событий в зависимости от времени')"
      ]
     },
     "execution_count": 18,
     "metadata": {},
     "output_type": "execute_result"
    },
    {
     "data": {
      "image/png": "[encoded data removed]",
      "text/plain": [
       "<Figure size 1700x500 with 1 Axes>"
      ]
     },
     "metadata": {},
     "output_type": "display_data"
    }
   ],
   "source": [
    "plt.figure(figsize=(17,5))\n",
    "#plt.plot(date_count_user['date'],date_count_user['eventname'])\n",
    "sns.histplot(x = 'date', data = data, bins = 10);\n",
    "plt.xlabel('Дата',fontdict = {'fontsize' : 14})\n",
    "plt.ylabel('Количество',fontdict = {'fontsize' : 14})\n",
    "plt.title('Количество событий в зависимости от времени',fontdict = {'fontsize' : 15})\n"
   ]
  },
  {
   "cell_type": "markdown",
   "metadata": {},
   "source": [
    "Мы не можем быть уверенным, что у вас одинаково полные данные за весь период, так как на графике значений до 2019-08-01 в несколько раз меньше чем после, откину эти данные из анализа"
   ]
  },
  {
   "cell_type": "code",
   "execution_count": 19,
   "metadata": {},
   "outputs": [
    {
     "data": {
      "text/plain": [
       "7551"
      ]
     },
     "metadata": {},
     "output_type": "display_data"
    },
    {
     "data": {
      "text/plain": [
       "243713"
      ]
     },
     "metadata": {},
     "output_type": "display_data"
    }
   ],
   "source": [
    "nunique_user_id_before = (data['userId'].nunique()) #количетсво уникальных пользователей до удаления\n",
    "count_eventname_before = (data['eventname'].count()) #количетсво событий  до удаления\n",
    "display(nunique_user_id_before)\n",
    "display(count_eventname_before)"
   ]
  },
  {
   "cell_type": "code",
   "execution_count": 20,
   "metadata": {},
   "outputs": [
    {
     "data": {
      "text/html": [
       "<div>\n",
       "<style scoped>\n",
       "    .dataframe tbody tr th:only-of-type {\n",
       "        vertical-align: middle;\n",
       "    }\n",
       "\n",
       "    .dataframe tbody tr th {\n",
       "        vertical-align: top;\n",
       "    }\n",
       "\n",
       "    .dataframe thead th {\n",
       "        text-align: right;\n",
       "    }\n",
       "</style>\n",
       "<table border=\"1\" class=\"dataframe\">\n",
       "  <thead>\n",
       "    <tr style=\"text-align: right;\">\n",
       "      <th></th>\n",
       "      <th>date</th>\n",
       "      <th>eventname</th>\n",
       "    </tr>\n",
       "  </thead>\n",
       "  <tbody>\n",
       "    <tr>\n",
       "      <th>0</th>\n",
       "      <td>2019-08-01</td>\n",
       "      <td>36141</td>\n",
       "    </tr>\n",
       "    <tr>\n",
       "      <th>1</th>\n",
       "      <td>2019-08-02</td>\n",
       "      <td>35554</td>\n",
       "    </tr>\n",
       "    <tr>\n",
       "      <th>2</th>\n",
       "      <td>2019-08-03</td>\n",
       "      <td>33282</td>\n",
       "    </tr>\n",
       "    <tr>\n",
       "      <th>3</th>\n",
       "      <td>2019-08-04</td>\n",
       "      <td>32968</td>\n",
       "    </tr>\n",
       "    <tr>\n",
       "      <th>4</th>\n",
       "      <td>2019-08-05</td>\n",
       "      <td>36058</td>\n",
       "    </tr>\n",
       "    <tr>\n",
       "      <th>5</th>\n",
       "      <td>2019-08-06</td>\n",
       "      <td>35788</td>\n",
       "    </tr>\n",
       "    <tr>\n",
       "      <th>6</th>\n",
       "      <td>2019-08-07</td>\n",
       "      <td>31096</td>\n",
       "    </tr>\n",
       "  </tbody>\n",
       "</table>\n",
       "</div>"
      ],
      "text/plain": [
       "         date  eventname\n",
       "0  2019-08-01      36141\n",
       "1  2019-08-02      35554\n",
       "2  2019-08-03      33282\n",
       "3  2019-08-04      32968\n",
       "4  2019-08-05      36058\n",
       "5  2019-08-06      35788\n",
       "6  2019-08-07      31096"
      ]
     },
     "execution_count": 20,
     "metadata": {},
     "output_type": "execute_result"
    }
   ],
   "source": [
    "data = data[data['datetime']>='2019-08-01 0:0:0']\n",
    "date_count_user = data.groupby('date',as_index = False).agg({'eventname':'count'})\n",
    "date_count_user"
   ]
  },
  {
   "cell_type": "code",
   "execution_count": 21,
   "metadata": {},
   "outputs": [
    {
     "data": {
      "text/plain": [
       "240887"
      ]
     },
     "execution_count": 21,
     "metadata": {},
     "output_type": "execute_result"
    }
   ],
   "source": [
    "data['userId'].nunique() #количетсво уникальных пользователей после удаления\n",
    "data['eventname'].count() #количетсво событий  после удаления"
   ]
  },
  {
   "cell_type": "code",
   "execution_count": 22,
   "metadata": {},
   "outputs": [
    {
     "data": {
      "text/plain": [
       "99.77486425638989"
      ]
     },
     "metadata": {},
     "output_type": "display_data"
    },
    {
     "data": {
      "text/plain": [
       "98.8404393692581"
      ]
     },
     "metadata": {},
     "output_type": "display_data"
    }
   ],
   "source": [
    "display (data['userId'].nunique() / nunique_user_id_before * 100) #процент остатка уникальных пользователей\n",
    "display (data['eventname'].count() / count_eventname_before * 100) #процент остатка событий"
   ]
  },
  {
   "cell_type": "markdown",
   "metadata": {},
   "source": [
    "Мы потеярли 17 пользователей, что занимает меньше полупроцента, также незначительна потеря в событиях всего 1 процент. Такое удаление не повиляет негативно на анализ"
   ]
  },
  {
   "cell_type": "code",
   "execution_count": 23,
   "metadata": {},
   "outputs": [
    {
     "data": {
      "text/plain": [
       "expid\n",
       "248    84563\n",
       "246    79302\n",
       "247    77022\n",
       "Name: count, dtype: int64"
      ]
     },
     "execution_count": 23,
     "metadata": {},
     "output_type": "execute_result"
    }
   ],
   "source": [
    "data['expid'].value_counts()"
   ]
  },
  {
   "cell_type": "markdown",
   "metadata": {},
   "source": [
    "У нас есть пользователи из всех трех жкспериментальных групп"
   ]
  },
  {
   "cell_type": "markdown",
   "metadata": {},
   "source": [
    "В ходе шага 3 были изучены данные.\n",
    "- Было определенно коичество событий всего\n",
    "- Были отрезаны даты меньше 2019-08-01 так как мы не можем быть уверенным, что у вас одинаково полные данные за весь период, так как на графике значений до 2019-08-01 в несколько раз меньше чем после, откину эти данные их анализа\n",
    "- после отброса данных мы потеряли всего 17 пользователей, что не повлияет на анализ"
   ]
  },
  {
   "cell_type": "markdown",
   "metadata": {},
   "source": [
    "### Шаг 4.\n",
    "Изучите воронку событий"
   ]
  },
  {
   "cell_type": "markdown",
   "metadata": {},
   "source": [
    "Посмотрите, какие события есть в логах, как часто они встречаются. Отсортируйте события по частоте."
   ]
  },
  {
   "cell_type": "code",
   "execution_count": 24,
   "metadata": {},
   "outputs": [
    {
     "data": {
      "text/plain": [
       "eventname\n",
       "MainScreenAppear           117328\n",
       "OffersScreenAppear          46333\n",
       "CartScreenAppear            42303\n",
       "PaymentScreenSuccessful     33918\n",
       "Tutorial                     1005\n",
       "Name: count, dtype: int64"
      ]
     },
     "execution_count": 24,
     "metadata": {},
     "output_type": "execute_result"
    }
   ],
   "source": [
    "data['eventname'].value_counts()"
   ]
  },
  {
   "cell_type": "markdown",
   "metadata": {},
   "source": [
    "Посчитаю, сколько пользователей совершали каждое из этих событий. Отсортируйю события по числу пользователей"
   ]
  },
  {
   "cell_type": "code",
   "execution_count": 25,
   "metadata": {},
   "outputs": [],
   "source": [
    "date_eventname_user = data.groupby('eventname',as_index = False).agg({'userId':'nunique'})\n",
    "date_eventname_user = date_eventname_user.sort_values(by='userId',ascending=False)"
   ]
  },
  {
   "cell_type": "markdown",
   "metadata": {},
   "source": [
    "Посчитайте долю пользователей, которые хоть раз совершали событие."
   ]
  },
  {
   "cell_type": "code",
   "execution_count": 26,
   "metadata": {},
   "outputs": [
    {
     "data": {
      "text/html": [
       "<div>\n",
       "<style scoped>\n",
       "    .dataframe tbody tr th:only-of-type {\n",
       "        vertical-align: middle;\n",
       "    }\n",
       "\n",
       "    .dataframe tbody tr th {\n",
       "        vertical-align: top;\n",
       "    }\n",
       "\n",
       "    .dataframe thead th {\n",
       "        text-align: right;\n",
       "    }\n",
       "</style>\n",
       "<table border=\"1\" class=\"dataframe\">\n",
       "  <thead>\n",
       "    <tr style=\"text-align: right;\">\n",
       "      <th></th>\n",
       "      <th>eventname</th>\n",
       "      <th>userId</th>\n",
       "      <th>%</th>\n",
       "    </tr>\n",
       "  </thead>\n",
       "  <tbody>\n",
       "    <tr>\n",
       "      <th>1</th>\n",
       "      <td>MainScreenAppear</td>\n",
       "      <td>7419</td>\n",
       "      <td>98.5</td>\n",
       "    </tr>\n",
       "    <tr>\n",
       "      <th>2</th>\n",
       "      <td>OffersScreenAppear</td>\n",
       "      <td>4593</td>\n",
       "      <td>61.0</td>\n",
       "    </tr>\n",
       "    <tr>\n",
       "      <th>0</th>\n",
       "      <td>CartScreenAppear</td>\n",
       "      <td>3734</td>\n",
       "      <td>49.6</td>\n",
       "    </tr>\n",
       "    <tr>\n",
       "      <th>3</th>\n",
       "      <td>PaymentScreenSuccessful</td>\n",
       "      <td>3539</td>\n",
       "      <td>47.0</td>\n",
       "    </tr>\n",
       "    <tr>\n",
       "      <th>4</th>\n",
       "      <td>Tutorial</td>\n",
       "      <td>840</td>\n",
       "      <td>11.1</td>\n",
       "    </tr>\n",
       "  </tbody>\n",
       "</table>\n",
       "</div>"
      ],
      "text/plain": [
       "                 eventname  userId     %\n",
       "1         MainScreenAppear    7419  98.5\n",
       "2       OffersScreenAppear    4593  61.0\n",
       "0         CartScreenAppear    3734  49.6\n",
       "3  PaymentScreenSuccessful    3539  47.0\n",
       "4                 Tutorial     840  11.1"
      ]
     },
     "execution_count": 26,
     "metadata": {},
     "output_type": "execute_result"
    }
   ],
   "source": [
    "# Посчитаем долю пользователей\n",
    "date_eventname_user['%'] = round(date_eventname_user['userId']/len(data['userId'].unique()), 3) * 100\n",
    "date_eventname_user"
   ]
  },
  {
   "cell_type": "markdown",
   "metadata": {},
   "source": [
    "Предположите, в каком порядке происходят события. Все ли они выстраиваются в последовательную цепочку? Их не нужно учитывать при расчёте воронки."
   ]
  },
  {
   "cell_type": "markdown",
   "metadata": {},
   "source": [
    "- tutorial (840 пользователей дошли)\n",
    "- Главный экран отображается (7419 пользователей дошли)\n",
    "- На экране появилось предложение (4593 пользователей дошли)\n",
    "- Экран корзины (3734 пользователей дошли)\n",
    "- Платеж выполнен (3539 пользователей дошли)"
   ]
  },
  {
   "cell_type": "markdown",
   "metadata": {},
   "source": [
    "Не совсем ясно в каком этапе проходит tutorial, так как он должен проходить до этапа платежа либо предложений. Но так как тут всего 840, значит это необязательное событие, не буду его включать в анализ воронок"
   ]
  },
  {
   "cell_type": "markdown",
   "metadata": {},
   "source": [
    "По воронке событий посчитаю, какая доля пользователей проходит на следующий шаг воронки (от числа пользователей на предыдущем)"
   ]
  },
  {
   "cell_type": "code",
   "execution_count": 27,
   "metadata": {},
   "outputs": [
    {
     "data": {
      "text/html": [
       "<div>\n",
       "<style scoped>\n",
       "    .dataframe tbody tr th:only-of-type {\n",
       "        vertical-align: middle;\n",
       "    }\n",
       "\n",
       "    .dataframe tbody tr th {\n",
       "        vertical-align: top;\n",
       "    }\n",
       "\n",
       "    .dataframe thead th {\n",
       "        text-align: right;\n",
       "    }\n",
       "</style>\n",
       "<table border=\"1\" class=\"dataframe\">\n",
       "  <thead>\n",
       "    <tr style=\"text-align: right;\">\n",
       "      <th></th>\n",
       "      <th>eventname</th>\n",
       "      <th>userId</th>\n",
       "      <th>%</th>\n",
       "      <th>eventname_lagged</th>\n",
       "    </tr>\n",
       "  </thead>\n",
       "  <tbody>\n",
       "    <tr>\n",
       "      <th>1</th>\n",
       "      <td>MainScreenAppear</td>\n",
       "      <td>7419</td>\n",
       "      <td>98.5</td>\n",
       "      <td>NaN</td>\n",
       "    </tr>\n",
       "    <tr>\n",
       "      <th>2</th>\n",
       "      <td>OffersScreenAppear</td>\n",
       "      <td>4593</td>\n",
       "      <td>61.0</td>\n",
       "      <td>61.908613</td>\n",
       "    </tr>\n",
       "    <tr>\n",
       "      <th>0</th>\n",
       "      <td>CartScreenAppear</td>\n",
       "      <td>3734</td>\n",
       "      <td>49.6</td>\n",
       "      <td>81.297627</td>\n",
       "    </tr>\n",
       "    <tr>\n",
       "      <th>3</th>\n",
       "      <td>PaymentScreenSuccessful</td>\n",
       "      <td>3539</td>\n",
       "      <td>47.0</td>\n",
       "      <td>94.777718</td>\n",
       "    </tr>\n",
       "    <tr>\n",
       "      <th>4</th>\n",
       "      <td>Tutorial</td>\n",
       "      <td>840</td>\n",
       "      <td>11.1</td>\n",
       "      <td>23.735519</td>\n",
       "    </tr>\n",
       "  </tbody>\n",
       "</table>\n",
       "</div>"
      ],
      "text/plain": [
       "                 eventname  userId     %  eventname_lagged\n",
       "1         MainScreenAppear    7419  98.5               NaN\n",
       "2       OffersScreenAppear    4593  61.0         61.908613\n",
       "0         CartScreenAppear    3734  49.6         81.297627\n",
       "3  PaymentScreenSuccessful    3539  47.0         94.777718\n",
       "4                 Tutorial     840  11.1         23.735519"
      ]
     },
     "execution_count": 27,
     "metadata": {},
     "output_type": "execute_result"
    }
   ],
   "source": [
    "date_eventname_user[\"eventname_lagged\"] = date_eventname_user['userId'] / (date_eventname_user['userId'].shift(1)) * 100 \n",
    "date_eventname_user #посчитал в процентах"
   ]
  },
  {
   "cell_type": "markdown",
   "metadata": {},
   "source": [
    "Как мы видим больше всего пользователей теряется на шаге с появлением предложений а именно 38% пользователей, который выдели главный экран"
   ]
  },
  {
   "cell_type": "markdown",
   "metadata": {},
   "source": [
    "62% пользователей переходят на экран предложения, здесь теряется наиболешее количество. Возможно главная страница не удобна пользователю. Со страницы предложения доходят до корзины - 81%, а до оплаты доходят почти все из \"корзины\" - 95%. 48% пользователей доходит от первого события до оплаты"
   ]
  },
  {
   "cell_type": "markdown",
   "metadata": {},
   "source": [
    "В ходе 4 шага мы поделили события на воронки и увидели как меняется количество пользователей от одного события к следующему"
   ]
  },
  {
   "cell_type": "markdown",
   "metadata": {},
   "source": [
    "### Шаг 5. \n",
    "Изучите результаты эксперимента"
   ]
  },
  {
   "cell_type": "code",
   "execution_count": 28,
   "metadata": {},
   "outputs": [
    {
     "data": {
      "text/plain": [
       "expid\n",
       "248    84563\n",
       "246    79302\n",
       "247    77022\n",
       "Name: count, dtype: int64"
      ]
     },
     "execution_count": 28,
     "metadata": {},
     "output_type": "execute_result"
    }
   ],
   "source": [
    "data['expid'].value_counts() #пользователей в каждой экспериментальной группе"
   ]
  },
  {
   "cell_type": "markdown",
   "metadata": {},
   "source": [
    "Проверю, находят ли статистические критерии разницу между выборками 246 и 247."
   ]
  },
  {
   "cell_type": "markdown",
   "metadata": {},
   "source": [
    "- Есть 2 контрольные группы для А/А-эксперимента, чтобы проверить корректность всех механизмов и расчётов. Проверьте, находят ли статистические критерии разницу между выборками 246 и 247."
   ]
  },
  {
   "cell_type": "code",
   "execution_count": 29,
   "metadata": {},
   "outputs": [
    {
     "data": {
      "text/html": [
       "<div>\n",
       "<style scoped>\n",
       "    .dataframe tbody tr th:only-of-type {\n",
       "        vertical-align: middle;\n",
       "    }\n",
       "\n",
       "    .dataframe tbody tr th {\n",
       "        vertical-align: top;\n",
       "    }\n",
       "\n",
       "    .dataframe thead th {\n",
       "        text-align: right;\n",
       "    }\n",
       "</style>\n",
       "<table border=\"1\" class=\"dataframe\">\n",
       "  <thead>\n",
       "    <tr style=\"text-align: right;\">\n",
       "      <th></th>\n",
       "      <th>eventname</th>\n",
       "      <th>userId</th>\n",
       "      <th>datetime</th>\n",
       "      <th>expid</th>\n",
       "      <th>date</th>\n",
       "    </tr>\n",
       "  </thead>\n",
       "  <tbody>\n",
       "    <tr>\n",
       "      <th>2828</th>\n",
       "      <td>Tutorial</td>\n",
       "      <td>3737462046622621720</td>\n",
       "      <td>2019-08-01 00:07:28</td>\n",
       "      <td>246</td>\n",
       "      <td>2019-08-01</td>\n",
       "    </tr>\n",
       "    <tr>\n",
       "      <th>2829</th>\n",
       "      <td>MainScreenAppear</td>\n",
       "      <td>3737462046622621720</td>\n",
       "      <td>2019-08-01 00:08:00</td>\n",
       "      <td>246</td>\n",
       "      <td>2019-08-01</td>\n",
       "    </tr>\n",
       "    <tr>\n",
       "      <th>2830</th>\n",
       "      <td>MainScreenAppear</td>\n",
       "      <td>3737462046622621720</td>\n",
       "      <td>2019-08-01 00:08:55</td>\n",
       "      <td>246</td>\n",
       "      <td>2019-08-01</td>\n",
       "    </tr>\n",
       "    <tr>\n",
       "      <th>2831</th>\n",
       "      <td>OffersScreenAppear</td>\n",
       "      <td>3737462046622621720</td>\n",
       "      <td>2019-08-01 00:08:58</td>\n",
       "      <td>246</td>\n",
       "      <td>2019-08-01</td>\n",
       "    </tr>\n",
       "    <tr>\n",
       "      <th>2832</th>\n",
       "      <td>MainScreenAppear</td>\n",
       "      <td>1433840883824088890</td>\n",
       "      <td>2019-08-01 00:08:59</td>\n",
       "      <td>247</td>\n",
       "      <td>2019-08-01</td>\n",
       "    </tr>\n",
       "    <tr>\n",
       "      <th>...</th>\n",
       "      <td>...</td>\n",
       "      <td>...</td>\n",
       "      <td>...</td>\n",
       "      <td>...</td>\n",
       "      <td>...</td>\n",
       "    </tr>\n",
       "    <tr>\n",
       "      <th>244121</th>\n",
       "      <td>MainScreenAppear</td>\n",
       "      <td>4599628364049201812</td>\n",
       "      <td>2019-08-07 21:12:25</td>\n",
       "      <td>247</td>\n",
       "      <td>2019-08-07</td>\n",
       "    </tr>\n",
       "    <tr>\n",
       "      <th>244122</th>\n",
       "      <td>MainScreenAppear</td>\n",
       "      <td>5849806612437486590</td>\n",
       "      <td>2019-08-07 21:13:59</td>\n",
       "      <td>246</td>\n",
       "      <td>2019-08-07</td>\n",
       "    </tr>\n",
       "    <tr>\n",
       "      <th>244123</th>\n",
       "      <td>MainScreenAppear</td>\n",
       "      <td>5746969938801999050</td>\n",
       "      <td>2019-08-07 21:14:43</td>\n",
       "      <td>246</td>\n",
       "      <td>2019-08-07</td>\n",
       "    </tr>\n",
       "    <tr>\n",
       "      <th>244124</th>\n",
       "      <td>MainScreenAppear</td>\n",
       "      <td>5746969938801999050</td>\n",
       "      <td>2019-08-07 21:14:58</td>\n",
       "      <td>246</td>\n",
       "      <td>2019-08-07</td>\n",
       "    </tr>\n",
       "    <tr>\n",
       "      <th>244125</th>\n",
       "      <td>OffersScreenAppear</td>\n",
       "      <td>5746969938801999050</td>\n",
       "      <td>2019-08-07 21:15:17</td>\n",
       "      <td>246</td>\n",
       "      <td>2019-08-07</td>\n",
       "    </tr>\n",
       "  </tbody>\n",
       "</table>\n",
       "<p>240887 rows × 5 columns</p>\n",
       "</div>"
      ],
      "text/plain": [
       "                 eventname               userId            datetime  expid  \\\n",
       "2828              Tutorial  3737462046622621720 2019-08-01 00:07:28    246   \n",
       "2829      MainScreenAppear  3737462046622621720 2019-08-01 00:08:00    246   \n",
       "2830      MainScreenAppear  3737462046622621720 2019-08-01 00:08:55    246   \n",
       "2831    OffersScreenAppear  3737462046622621720 2019-08-01 00:08:58    246   \n",
       "2832      MainScreenAppear  1433840883824088890 2019-08-01 00:08:59    247   \n",
       "...                    ...                  ...                 ...    ...   \n",
       "244121    MainScreenAppear  4599628364049201812 2019-08-07 21:12:25    247   \n",
       "244122    MainScreenAppear  5849806612437486590 2019-08-07 21:13:59    246   \n",
       "244123    MainScreenAppear  5746969938801999050 2019-08-07 21:14:43    246   \n",
       "244124    MainScreenAppear  5746969938801999050 2019-08-07 21:14:58    246   \n",
       "244125  OffersScreenAppear  5746969938801999050 2019-08-07 21:15:17    246   \n",
       "\n",
       "              date  \n",
       "2828    2019-08-01  \n",
       "2829    2019-08-01  \n",
       "2830    2019-08-01  \n",
       "2831    2019-08-01  \n",
       "2832    2019-08-01  \n",
       "...            ...  \n",
       "244121  2019-08-07  \n",
       "244122  2019-08-07  \n",
       "244123  2019-08-07  \n",
       "244124  2019-08-07  \n",
       "244125  2019-08-07  \n",
       "\n",
       "[240887 rows x 5 columns]"
      ]
     },
     "execution_count": 29,
     "metadata": {},
     "output_type": "execute_result"
    }
   ],
   "source": [
    "#Создам датафреймы с каждой из выборок\n",
    "data_246 = data[data['expid'] == 246]\n",
    "data_247 = data[data['expid'] == 247]\n",
    "data_248 = data[data['expid'] == 248]\n",
    "data"
   ]
  },
  {
   "cell_type": "markdown",
   "metadata": {},
   "source": [
    "Есть 2 контрольные группы для А/А-эксперимента, чтобы проверить корректность всех механизмов и расчётов. Проверьте, находят ли статистические критерии разницу между выборками 246 и 247."
   ]
  },
  {
   "cell_type": "markdown",
   "metadata": {},
   "source": [
    "H0 - Доли в двух выборках  равны (доли в группах, совершившие определенное событие)\n",
    "\n",
    "H1 - Доли в двух выборках не равны (доли в группах, совершившие определенное событие)"
   ]
  },
  {
   "cell_type": "markdown",
   "metadata": {},
   "source": [
    "Использую проверку гипотезы о равенстве долей. Проведу сравнения пропорций двух генеральных совокупностей по выборкам из них. Статистический тест z_value "
   ]
  },
  {
   "cell_type": "code",
   "execution_count": 30,
   "metadata": {
    "scrolled": true
   },
   "outputs": [
    {
     "data": {
      "text/html": [
       "<div>\n",
       "<style scoped>\n",
       "    .dataframe tbody tr th:only-of-type {\n",
       "        vertical-align: middle;\n",
       "    }\n",
       "\n",
       "    .dataframe tbody tr th {\n",
       "        vertical-align: top;\n",
       "    }\n",
       "\n",
       "    .dataframe thead th {\n",
       "        text-align: right;\n",
       "    }\n",
       "</style>\n",
       "<table border=\"1\" class=\"dataframe\">\n",
       "  <thead>\n",
       "    <tr style=\"text-align: right;\">\n",
       "      <th>name</th>\n",
       "      <th>CartScreenAppear</th>\n",
       "      <th>MainScreenAppear</th>\n",
       "      <th>OffersScreenAppear</th>\n",
       "      <th>PaymentScreenSuccessful</th>\n",
       "      <th>total</th>\n",
       "    </tr>\n",
       "    <tr>\n",
       "      <th>group</th>\n",
       "      <th></th>\n",
       "      <th></th>\n",
       "      <th></th>\n",
       "      <th></th>\n",
       "      <th></th>\n",
       "    </tr>\n",
       "  </thead>\n",
       "  <tbody>\n",
       "    <tr>\n",
       "      <th>246</th>\n",
       "      <td>1266</td>\n",
       "      <td>2450</td>\n",
       "      <td>1542</td>\n",
       "      <td>1200</td>\n",
       "      <td>2484</td>\n",
       "    </tr>\n",
       "    <tr>\n",
       "      <th>247</th>\n",
       "      <td>1238</td>\n",
       "      <td>2476</td>\n",
       "      <td>1520</td>\n",
       "      <td>1158</td>\n",
       "      <td>2513</td>\n",
       "    </tr>\n",
       "    <tr>\n",
       "      <th>248</th>\n",
       "      <td>1230</td>\n",
       "      <td>2493</td>\n",
       "      <td>1531</td>\n",
       "      <td>1181</td>\n",
       "      <td>2537</td>\n",
       "    </tr>\n",
       "  </tbody>\n",
       "</table>\n",
       "</div>"
      ],
      "text/plain": [
       "name   CartScreenAppear  MainScreenAppear  OffersScreenAppear  \\\n",
       "group                                                           \n",
       "246                1266              2450                1542   \n",
       "247                1238              2476                1520   \n",
       "248                1230              2493                1531   \n",
       "\n",
       "name   PaymentScreenSuccessful  total  \n",
       "group                                  \n",
       "246                       1200   2484  \n",
       "247                       1158   2513  \n",
       "248                       1181   2537  "
      ]
     },
     "execution_count": 30,
     "metadata": {},
     "output_type": "execute_result"
    }
   ],
   "source": [
    "\n",
    "data.columns = data.columns = ['name', 'device_id', 'datetime', 'group','date']\n",
    "data['device_id'] = data['device_id'].astype(str)\n",
    "data['group'] = data['group'].astype(str)\n",
    "logs_pivot = data.pivot_table(index='group',values='device_id',aggfunc='nunique')\n",
    "#Сделам таблицу с числом уникальных пользователей по событиям и контрольным группам\n",
    "logs_voronka = data.pivot_table(index='group',columns = 'name', values='device_id',aggfunc='nunique')\n",
    "del logs_voronka['Tutorial']\n",
    "logs_voronka['total'] = [logs_pivot['device_id'][0],logs_pivot['device_id'][1],logs_pivot['device_id'][2]]\n",
    "logs_voronka \n"
   ]
  },
  {
   "cell_type": "code",
   "execution_count": 31,
   "metadata": {},
   "outputs": [],
   "source": [
    "alpha = 0.05  # критический уровень статистической значимости"
   ]
  },
  {
   "cell_type": "code",
   "execution_count": 32,
   "metadata": {},
   "outputs": [],
   "source": [
    "# Функция для проверки гипотезы\n",
    "def hypothesi_testing(success, trials,alpha):\n",
    "\n",
    "    # пропорция успехов в первой группе:\n",
    "    p1 = success[0]/trials[0]\n",
    "    # пропорция успехов во второй группе:\n",
    "    p2 = success[1]/trials[1]\n",
    "\n",
    "    # пропорция успехов в комбинированном датасете:\n",
    "    p_combined = (success[0] + success[1]) / (trials[0] + trials[1])\n",
    "\n",
    "    # разница пропорций в датасетах\n",
    "    difference = p1 - p2 \n",
    "    z_value = difference / mth.sqrt(p_combined * (1 - p_combined) * (1/trials[0] + 1/trials[1]))\n",
    "\n",
    "    # задаем стандартное нормальное распределение (среднее 0, ст.отклонение 1)\n",
    "    distr = st.norm(0, 1)  # ваш код\n",
    "\n",
    "\n",
    "\n",
    "    p_value = (1 - distr.cdf(abs(z_value))) * 2\n",
    "\n",
    "    print('p-значение: ', p_value)\n",
    "\n",
    "    if p_value < alpha:\n",
    "        print('Отвергаем нулевую гипотезу: между долями есть значимая разница')\n",
    "    else:\n",
    "        print(\n",
    "            'Не получилось отвергнуть нулевую гипотезу, нет оснований считать доли разными'\n",
    "        )"
   ]
  },
  {
   "cell_type": "code",
   "execution_count": 33,
   "metadata": {},
   "outputs": [],
   "source": [
    "#Функция определения группы и параметров, а возвращает результат проверки\n",
    "def group(group_1,group_2,alpha):\n",
    "    alpha_test = alpha\n",
    "    count_total = ([logs_voronka['total'][group_1],logs_voronka['total'][group_2]])\n",
    "    count_MainScreenAppear = ([logs_voronka['MainScreenAppear'][group_1],logs_voronka['MainScreenAppear'][group_2]])\n",
    "    count_CartScreenAppear = ([logs_voronka['CartScreenAppear'][group_1],logs_voronka['CartScreenAppear'][group_2]])\n",
    "    count_OffersScreenAppear = ([logs_voronka['OffersScreenAppear'][group_1],logs_voronka['OffersScreenAppear'][group_2]])\n",
    "    count_PaymentScreenSuccessful = ([logs_voronka['PaymentScreenSuccessful'][group_1],logs_voronka['PaymentScreenSuccessful'][group_2]])\n",
    "    \n",
    "    print('Результаты теста по долям count_total и count_MainScreenAppear для групп')\n",
    "    hypothesi_testing(count_MainScreenAppear, count_total, alpha_test)\n",
    "    print('')    \n",
    "    \n",
    "    print('Результаты теста по долям count_OffersScreenAppear и count_total для групп')\n",
    "    hypothesi_testing(count_OffersScreenAppear, count_total, alpha_test)\n",
    "    print('')  \n",
    "    \n",
    "    print('Результаты теста по долям count_total и count_CartScreenAppear для групп')\n",
    "    hypothesi_testing(count_CartScreenAppear, count_total, alpha_test)\n",
    "    print('')  \n",
    "    \n",
    "    print('Результаты теста по долям count_PaymentScreenSuccessful и count_total для групп')\n",
    "    hypothesi_testing(count_PaymentScreenSuccessful, count_total, alpha_test)\n",
    "    \n",
    "    "
   ]
  },
  {
   "cell_type": "code",
   "execution_count": 34,
   "metadata": {
    "scrolled": true
   },
   "outputs": [
    {
     "name": "stdout",
     "output_type": "stream",
     "text": [
      "Результаты теста по долям count_total и count_MainScreenAppear для групп\n",
      "p-значение:  0.7570597232046099\n",
      "Не получилось отвергнуть нулевую гипотезу, нет оснований считать доли разными\n",
      "\n",
      "Результаты теста по долям count_OffersScreenAppear и count_total для групп\n",
      "p-значение:  0.2480954578522181\n",
      "Не получилось отвергнуть нулевую гипотезу, нет оснований считать доли разными\n",
      "\n",
      "Результаты теста по долям count_total и count_CartScreenAppear для групп\n",
      "p-значение:  0.22883372237997213\n",
      "Не получилось отвергнуть нулевую гипотезу, нет оснований считать доли разными\n",
      "\n",
      "Результаты теста по долям count_PaymentScreenSuccessful и count_total для групп\n",
      "p-значение:  0.11456679313141849\n",
      "Не получилось отвергнуть нулевую гипотезу, нет оснований считать доли разными\n"
     ]
    }
   ],
   "source": [
    "#группы 246 и 247\n",
    "group(0,1,alpha)"
   ]
  },
  {
   "cell_type": "markdown",
   "metadata": {},
   "source": [
    "*Разницы между выборками 246 и 247 нет. Нет оснований считать доли разными*"
   ]
  },
  {
   "cell_type": "markdown",
   "metadata": {},
   "source": [
    "Аналогично поступите с группой с изменённым шрифтом. Сравните результаты с каждой из контрольных групп в отдельности по каждому событию. Сравните результаты с объединённой контрольной группой. Какие выводы из эксперимента можно сделать?"
   ]
  },
  {
   "cell_type": "code",
   "execution_count": 35,
   "metadata": {},
   "outputs": [
    {
     "data": {
      "text/html": [
       "<div>\n",
       "<style scoped>\n",
       "    .dataframe tbody tr th:only-of-type {\n",
       "        vertical-align: middle;\n",
       "    }\n",
       "\n",
       "    .dataframe tbody tr th {\n",
       "        vertical-align: top;\n",
       "    }\n",
       "\n",
       "    .dataframe thead th {\n",
       "        text-align: right;\n",
       "    }\n",
       "</style>\n",
       "<table border=\"1\" class=\"dataframe\">\n",
       "  <thead>\n",
       "    <tr style=\"text-align: right;\">\n",
       "      <th>name</th>\n",
       "      <th>CartScreenAppear</th>\n",
       "      <th>MainScreenAppear</th>\n",
       "      <th>OffersScreenAppear</th>\n",
       "      <th>PaymentScreenSuccessful</th>\n",
       "      <th>total</th>\n",
       "    </tr>\n",
       "    <tr>\n",
       "      <th>group</th>\n",
       "      <th></th>\n",
       "      <th></th>\n",
       "      <th></th>\n",
       "      <th></th>\n",
       "      <th></th>\n",
       "    </tr>\n",
       "  </thead>\n",
       "  <tbody>\n",
       "    <tr>\n",
       "      <th>246</th>\n",
       "      <td>1266</td>\n",
       "      <td>2450</td>\n",
       "      <td>1542</td>\n",
       "      <td>1200</td>\n",
       "      <td>2484</td>\n",
       "    </tr>\n",
       "    <tr>\n",
       "      <th>247</th>\n",
       "      <td>1238</td>\n",
       "      <td>2476</td>\n",
       "      <td>1520</td>\n",
       "      <td>1158</td>\n",
       "      <td>2513</td>\n",
       "    </tr>\n",
       "    <tr>\n",
       "      <th>248</th>\n",
       "      <td>1230</td>\n",
       "      <td>2493</td>\n",
       "      <td>1531</td>\n",
       "      <td>1181</td>\n",
       "      <td>2537</td>\n",
       "    </tr>\n",
       "    <tr>\n",
       "      <th>249</th>\n",
       "      <td>2504</td>\n",
       "      <td>4926</td>\n",
       "      <td>3062</td>\n",
       "      <td>2358</td>\n",
       "      <td>4997</td>\n",
       "    </tr>\n",
       "  </tbody>\n",
       "</table>\n",
       "</div>"
      ],
      "text/plain": [
       "name   CartScreenAppear  MainScreenAppear  OffersScreenAppear  \\\n",
       "group                                                           \n",
       "246                1266              2450                1542   \n",
       "247                1238              2476                1520   \n",
       "248                1230              2493                1531   \n",
       "249                2504              4926                3062   \n",
       "\n",
       "name   PaymentScreenSuccessful  total  \n",
       "group                                  \n",
       "246                       1200   2484  \n",
       "247                       1158   2513  \n",
       "248                       1181   2537  \n",
       "249                       2358   4997  "
      ]
     },
     "execution_count": 35,
     "metadata": {},
     "output_type": "execute_result"
    }
   ],
   "source": [
    "#Соединим две контрольные группы в группу 249\n",
    "logs_voronka.loc['249'] = [logs_voronka['CartScreenAppear'][0]+logs_voronka['CartScreenAppear'][1] ,logs_voronka['MainScreenAppear'][0]+logs_voronka['MainScreenAppear'][1], logs_voronka['OffersScreenAppear'][0]+logs_voronka['OffersScreenAppear'][1], logs_voronka['PaymentScreenSuccessful'][0]+logs_voronka['PaymentScreenSuccessful'][1], logs_voronka['total'][0]+logs_voronka['total'][1]]\n",
    "logs_voronka"
   ]
  },
  {
   "cell_type": "code",
   "execution_count": 36,
   "metadata": {},
   "outputs": [
    {
     "name": "stdout",
     "output_type": "stream",
     "text": [
      "Результаты теста по долям count_total и count_MainScreenAppear для групп\n",
      "p-значение:  0.2949721933554552\n",
      "Не получилось отвергнуть нулевую гипотезу, нет оснований считать доли разными\n",
      "\n",
      "Результаты теста по долям count_OffersScreenAppear и count_total для групп\n",
      "p-значение:  0.20836205402738917\n",
      "Не получилось отвергнуть нулевую гипотезу, нет оснований считать доли разными\n",
      "\n",
      "Результаты теста по долям count_total и count_CartScreenAppear для групп\n",
      "p-значение:  0.07842923237520116\n",
      "Не получилось отвергнуть нулевую гипотезу, нет оснований считать доли разными\n",
      "\n",
      "Результаты теста по долям count_PaymentScreenSuccessful и count_total для групп\n",
      "p-значение:  0.2122553275697796\n",
      "Не получилось отвергнуть нулевую гипотезу, нет оснований считать доли разными\n"
     ]
    }
   ],
   "source": [
    "#группы 248 и 246\n",
    "group(0,2,alpha)"
   ]
  },
  {
   "cell_type": "markdown",
   "metadata": {},
   "source": [
    "Разницы между выборками 248 и 246 нет. Нет оснований считать доли разными"
   ]
  },
  {
   "cell_type": "code",
   "execution_count": 37,
   "metadata": {},
   "outputs": [
    {
     "name": "stdout",
     "output_type": "stream",
     "text": [
      "Результаты теста по долям count_total и count_MainScreenAppear для групп\n",
      "p-значение:  0.4587053616621515\n",
      "Не получилось отвергнуть нулевую гипотезу, нет оснований считать доли разными\n",
      "\n",
      "Результаты теста по долям count_OffersScreenAppear и count_total для групп\n",
      "p-значение:  0.9197817830592261\n",
      "Не получилось отвергнуть нулевую гипотезу, нет оснований считать доли разными\n",
      "\n",
      "Результаты теста по долям count_total и count_CartScreenAppear для групп\n",
      "p-значение:  0.5786197879539783\n",
      "Не получилось отвергнуть нулевую гипотезу, нет оснований считать доли разными\n",
      "\n",
      "Результаты теста по долям count_PaymentScreenSuccessful и count_total для групп\n",
      "p-значение:  0.7373415053803964\n",
      "Не получилось отвергнуть нулевую гипотезу, нет оснований считать доли разными\n"
     ]
    }
   ],
   "source": [
    "#группы 248 и 247\n",
    "group(1,2,alpha)"
   ]
  },
  {
   "cell_type": "markdown",
   "metadata": {},
   "source": [
    "Разницы между выборками 248 и 247 нет. Нет оснований считать доли разными"
   ]
  },
  {
   "cell_type": "code",
   "execution_count": 38,
   "metadata": {},
   "outputs": [
    {
     "name": "stdout",
     "output_type": "stream",
     "text": [
      "Результаты теста по долям count_total и count_MainScreenAppear для групп\n",
      "p-значение:  0.29424526837179577\n",
      "Не получилось отвергнуть нулевую гипотезу, нет оснований считать доли разными\n",
      "\n",
      "Результаты теста по долям count_OffersScreenAppear и count_total для групп\n",
      "p-значение:  0.43425549655188256\n",
      "Не получилось отвергнуть нулевую гипотезу, нет оснований считать доли разными\n",
      "\n",
      "Результаты теста по долям count_total и count_CartScreenAppear для групп\n",
      "p-значение:  0.18175875284404386\n",
      "Не получилось отвергнуть нулевую гипотезу, нет оснований считать доли разными\n",
      "\n",
      "Результаты теста по долям count_PaymentScreenSuccessful и count_total для групп\n",
      "p-значение:  0.6004294282308704\n",
      "Не получилось отвергнуть нулевую гипотезу, нет оснований считать доли разными\n"
     ]
    }
   ],
   "source": [
    "#группы 248 и 249\n",
    "group(3,2,alpha)"
   ]
  },
  {
   "cell_type": "markdown",
   "metadata": {},
   "source": [
    "*Разницы между выборками 248 и 249(объедененная контрольная группа) нет. Нет оснований считать доли разными*"
   ]
  },
  {
   "cell_type": "markdown",
   "metadata": {},
   "source": [
    "Выбран уровень значимости = 0.05"
   ]
  },
  {
   "cell_type": "markdown",
   "metadata": {},
   "source": [
    "Мы проводим множественный тест, т.е. берем несколько выборок из одного и того же набора данных. Его особенность в том, что с каждой новой проверкой гипотезы растёт вероятность ошибки первого рода. В связи с этим мы можем скорректировать наши конечные p_value для сравнения их значений с alpha, НО в этом нет необходимости, т.к. ни по одному из проведенных сравнений не обнаружилось статзначимых различий. "
   ]
  },
  {
   "cell_type": "markdown",
   "metadata": {},
   "source": [
    "## *Вывод*\n",
    "\n",
    "Манипуляции с датасетом:\n",
    "\n",
    "- Удалили дубли - 416\n",
    "- Пропуски не обнаружены\n",
    "- Переименованны столбцы\n",
    "- Изменены типы двнных\n",
    "\n",
    "В процессе исследлвания было установлено:\n",
    "\n",
    "- Уникальных пользователей - 7551\n",
    "- В среднем на одного пользователя приходится 32 события\n",
    "- При исследовании дат за которые есть данные, выяснилось, что до 1.08.2019 данных недостаточно, результаты эксперемента еще не доехали. Соответсвенно будем рассматривать период начиная с 01.08.2019. Все группы присутствуют в достаточном количестве. Всего потеряно - 2826 событий.\n",
    "\n",
    "- В лог имеется 5 экранов: главная, страница, страница предложения, корзина, страница оплаты, руководство\n",
    "\n",
    "- Самое популярное событие - показ главного экрана. Самое непопулярное - экран оплаты, руководство - не входит в воронку продаж. Возможный порядок событий:Просмотр главной страницы, Страница предложения, Корзина, Оплата. \"Руководство\" - видимо там описана информация о правилах заказа, оплаты, доставки и тд. У пользователей не пользуется спросом, и никак не влияет на продажи.\n",
    "\n",
    "- 62% пользователей переходят на экран предложения со главной страницы, здесь теряется наиболешее количество. Возможно главная страница не удобна пользователю. Со страницы предложения доходят до корзины - 81%, а до оплаты доходят почти все из \"корзины\" - 95%. Наблюдается довольно высокий процент пользователей, которые выполняют целевое действие - 48%\n",
    "- При проведении А/А теста, разницы между выборками нет. Нет оснований считать доли разными.\n",
    "- При сравнении долей контрольных групп и целевой так же различий не выявлено.\n",
    "- Можно сделать вывод, что текст на сайте менять не нужно. В лучшем случае конверсия не изменится. А доля перешедших к корзине пользователей может упасть.\n"
   ]
  },
  {
   "cell_type": "code",
   "execution_count": null,
   "metadata": {},
   "outputs": [],
   "source": []
  }
 ],
 "metadata": {
  "ExecuteTimeLog": [
   {
    "duration": 1317,
    "start_time": "2023-11-14T16:11:44.601Z"
   },
   {
    "duration": 75,
    "start_time": "2023-11-14T16:11:59.377Z"
   },
   {
    "duration": 852,
    "start_time": "2023-11-14T16:12:21.521Z"
   },
   {
    "duration": 321,
    "start_time": "2023-11-14T16:13:11.833Z"
   },
   {
    "duration": 316,
    "start_time": "2023-11-14T16:13:19.741Z"
   },
   {
    "duration": 324,
    "start_time": "2023-11-14T16:13:22.602Z"
   },
   {
    "duration": 306,
    "start_time": "2023-11-14T16:13:25.817Z"
   },
   {
    "duration": 334,
    "start_time": "2023-11-14T16:13:41.306Z"
   },
   {
    "duration": 327,
    "start_time": "2023-11-14T16:13:51.104Z"
   },
   {
    "duration": 336,
    "start_time": "2023-11-14T16:16:56.907Z"
   },
   {
    "duration": 198,
    "start_time": "2023-11-14T16:17:02.179Z"
   },
   {
    "duration": 199,
    "start_time": "2023-11-14T16:17:07.241Z"
   },
   {
    "duration": 12,
    "start_time": "2023-11-14T16:19:16.793Z"
   },
   {
    "duration": 79,
    "start_time": "2023-11-14T16:20:45.011Z"
   },
   {
    "duration": 74,
    "start_time": "2023-11-14T16:22:31.512Z"
   },
   {
    "duration": 131,
    "start_time": "2023-11-14T16:22:35.352Z"
   },
   {
    "duration": 72,
    "start_time": "2023-11-14T16:22:41.510Z"
   },
   {
    "duration": 137,
    "start_time": "2023-11-14T16:22:52.142Z"
   },
   {
    "duration": 89,
    "start_time": "2023-11-14T16:23:01.872Z"
   },
   {
    "duration": 141,
    "start_time": "2023-11-14T16:23:14.056Z"
   },
   {
    "duration": 23,
    "start_time": "2023-11-14T16:23:57.062Z"
   },
   {
    "duration": 112,
    "start_time": "2023-11-14T16:26:45.679Z"
   },
   {
    "duration": 10,
    "start_time": "2023-11-14T16:27:28.200Z"
   },
   {
    "duration": 10,
    "start_time": "2023-11-14T16:27:33.406Z"
   },
   {
    "duration": 17,
    "start_time": "2023-11-14T16:28:14.102Z"
   },
   {
    "duration": 33,
    "start_time": "2023-11-14T16:29:43.273Z"
   },
   {
    "duration": 22,
    "start_time": "2023-11-14T16:29:48.255Z"
   },
   {
    "duration": 31,
    "start_time": "2023-11-14T16:30:26.729Z"
   },
   {
    "duration": 1150,
    "start_time": "2023-11-14T19:51:43.665Z"
   },
   {
    "duration": 191,
    "start_time": "2023-11-14T19:51:44.818Z"
   },
   {
    "duration": 10,
    "start_time": "2023-11-14T19:51:45.011Z"
   },
   {
    "duration": 133,
    "start_time": "2023-11-14T19:51:45.023Z"
   },
   {
    "duration": 145,
    "start_time": "2023-11-14T19:51:45.159Z"
   },
   {
    "duration": 36,
    "start_time": "2023-11-14T19:51:45.306Z"
   },
   {
    "duration": 2017,
    "start_time": "2023-11-14T19:51:45.344Z"
   },
   {
    "duration": 0,
    "start_time": "2023-11-14T19:51:47.362Z"
   },
   {
    "duration": 21,
    "start_time": "2023-11-14T19:52:09.286Z"
   },
   {
    "duration": 81,
    "start_time": "2023-11-14T19:52:13.707Z"
   },
   {
    "duration": 15,
    "start_time": "2023-11-14T19:52:19.740Z"
   },
   {
    "duration": 97,
    "start_time": "2023-11-14T19:52:27.895Z"
   },
   {
    "duration": 5,
    "start_time": "2023-11-14T19:57:22.608Z"
   },
   {
    "duration": 14,
    "start_time": "2023-11-14T19:58:36.529Z"
   },
   {
    "duration": 4,
    "start_time": "2023-11-14T19:58:57.093Z"
   },
   {
    "duration": 13,
    "start_time": "2023-11-14T19:59:01.571Z"
   },
   {
    "duration": 5,
    "start_time": "2023-11-14T19:59:35.128Z"
   },
   {
    "duration": 9,
    "start_time": "2023-11-14T20:00:06.313Z"
   },
   {
    "duration": 2,
    "start_time": "2023-11-14T20:00:29.203Z"
   },
   {
    "duration": 22,
    "start_time": "2023-11-14T20:02:35.145Z"
   },
   {
    "duration": 28,
    "start_time": "2023-11-14T20:02:37.705Z"
   },
   {
    "duration": 17,
    "start_time": "2023-11-14T20:02:45.672Z"
   },
   {
    "duration": 30,
    "start_time": "2023-11-14T20:02:52.132Z"
   },
   {
    "duration": 25,
    "start_time": "2023-11-14T20:04:24.953Z"
   },
   {
    "duration": 26,
    "start_time": "2023-11-14T20:04:39.775Z"
   },
   {
    "duration": 25,
    "start_time": "2023-11-14T20:04:45.160Z"
   },
   {
    "duration": 42,
    "start_time": "2023-11-14T20:05:04.473Z"
   },
   {
    "duration": 5,
    "start_time": "2023-11-14T20:06:08.541Z"
   },
   {
    "duration": 26,
    "start_time": "2023-11-14T20:06:13.743Z"
   },
   {
    "duration": 37,
    "start_time": "2023-11-14T20:06:27.084Z"
   },
   {
    "duration": 35,
    "start_time": "2023-11-14T20:06:30.774Z"
   },
   {
    "duration": 30,
    "start_time": "2023-11-14T20:07:20.295Z"
   },
   {
    "duration": 26,
    "start_time": "2023-11-14T20:07:26.724Z"
   },
   {
    "duration": 28,
    "start_time": "2023-11-14T20:07:33.068Z"
   },
   {
    "duration": 25,
    "start_time": "2023-11-14T20:07:36.728Z"
   },
   {
    "duration": 41,
    "start_time": "2023-11-14T20:08:11.319Z"
   },
   {
    "duration": 26,
    "start_time": "2023-11-14T20:08:15.942Z"
   },
   {
    "duration": 34,
    "start_time": "2023-11-14T20:08:17.697Z"
   },
   {
    "duration": 32,
    "start_time": "2023-11-14T20:08:34.401Z"
   },
   {
    "duration": 36,
    "start_time": "2023-11-14T20:08:36.664Z"
   },
   {
    "duration": 155,
    "start_time": "2023-11-14T20:10:18.588Z"
   },
   {
    "duration": 223,
    "start_time": "2023-11-14T20:11:28.540Z"
   },
   {
    "duration": 162,
    "start_time": "2023-11-14T20:11:48.094Z"
   },
   {
    "duration": 171,
    "start_time": "2023-11-14T20:11:53.170Z"
   },
   {
    "duration": 175,
    "start_time": "2023-11-14T20:12:58.536Z"
   },
   {
    "duration": 164,
    "start_time": "2023-11-14T20:13:09.206Z"
   },
   {
    "duration": 151,
    "start_time": "2023-11-14T20:14:50.045Z"
   },
   {
    "duration": 183,
    "start_time": "2023-11-14T20:15:08.403Z"
   },
   {
    "duration": 264,
    "start_time": "2023-11-14T20:15:27.022Z"
   },
   {
    "duration": 173,
    "start_time": "2023-11-14T20:15:38.324Z"
   },
   {
    "duration": 181,
    "start_time": "2023-11-14T20:16:30.881Z"
   },
   {
    "duration": 156,
    "start_time": "2023-11-14T20:16:58.097Z"
   },
   {
    "duration": 165,
    "start_time": "2023-11-14T20:17:07.688Z"
   },
   {
    "duration": 149,
    "start_time": "2023-11-14T20:17:38.619Z"
   },
   {
    "duration": 144,
    "start_time": "2023-11-14T20:17:52.070Z"
   },
   {
    "duration": 180,
    "start_time": "2023-11-14T20:18:16.197Z"
   },
   {
    "duration": 53,
    "start_time": "2023-11-14T20:19:25.483Z"
   },
   {
    "duration": 100,
    "start_time": "2023-11-14T20:20:02.779Z"
   },
   {
    "duration": 72,
    "start_time": "2023-11-14T20:20:19.764Z"
   },
   {
    "duration": 15,
    "start_time": "2023-11-14T20:20:32.917Z"
   },
   {
    "duration": 172,
    "start_time": "2023-11-14T20:20:44.979Z"
   },
   {
    "duration": 292,
    "start_time": "2023-11-14T20:22:10.349Z"
   },
   {
    "duration": 83,
    "start_time": "2023-11-14T20:22:30.623Z"
   },
   {
    "duration": 145,
    "start_time": "2023-11-14T20:23:08.695Z"
   },
   {
    "duration": 40,
    "start_time": "2023-11-14T20:23:13.275Z"
   },
   {
    "duration": 148,
    "start_time": "2023-11-14T20:23:15.465Z"
   },
   {
    "duration": 38,
    "start_time": "2023-11-14T20:23:23.167Z"
   },
   {
    "duration": 148,
    "start_time": "2023-11-14T20:23:25.882Z"
   },
   {
    "duration": 4,
    "start_time": "2023-11-14T20:25:35.582Z"
   },
   {
    "duration": 195,
    "start_time": "2023-11-14T20:25:55.376Z"
   },
   {
    "duration": 18,
    "start_time": "2023-11-14T20:26:19.566Z"
   },
   {
    "duration": 206,
    "start_time": "2023-11-14T20:26:26.098Z"
   },
   {
    "duration": 12,
    "start_time": "2023-11-14T20:26:34.361Z"
   },
   {
    "duration": 201,
    "start_time": "2023-11-14T20:26:37.311Z"
   },
   {
    "duration": 528,
    "start_time": "2023-11-14T20:27:17.146Z"
   },
   {
    "duration": 811,
    "start_time": "2023-11-14T20:30:34.348Z"
   },
   {
    "duration": 3,
    "start_time": "2023-11-14T20:30:49.854Z"
   },
   {
    "duration": 23,
    "start_time": "2023-11-14T20:31:46.961Z"
   },
   {
    "duration": 49,
    "start_time": "2023-11-14T20:31:58.684Z"
   },
   {
    "duration": 44,
    "start_time": "2023-11-14T20:32:07.979Z"
   },
   {
    "duration": 8,
    "start_time": "2023-11-14T20:33:35.388Z"
   },
   {
    "duration": 8,
    "start_time": "2023-11-14T20:36:09.168Z"
   },
   {
    "duration": 5,
    "start_time": "2023-11-14T20:39:46.338Z"
   },
   {
    "duration": 25,
    "start_time": "2023-11-14T20:39:50.618Z"
   },
   {
    "duration": 12,
    "start_time": "2023-11-14T20:41:21.293Z"
   },
   {
    "duration": 23,
    "start_time": "2023-11-14T20:41:39.679Z"
   },
   {
    "duration": 27,
    "start_time": "2023-11-14T20:41:43.942Z"
   },
   {
    "duration": 58,
    "start_time": "2023-11-14T20:41:51.698Z"
   },
   {
    "duration": 22,
    "start_time": "2023-11-14T20:43:26.920Z"
   },
   {
    "duration": 21,
    "start_time": "2023-11-14T20:43:37.534Z"
   },
   {
    "duration": 25,
    "start_time": "2023-11-14T20:43:40.781Z"
   },
   {
    "duration": 23,
    "start_time": "2023-11-14T20:44:02.278Z"
   },
   {
    "duration": 25,
    "start_time": "2023-11-14T20:44:08.710Z"
   },
   {
    "duration": 5,
    "start_time": "2023-11-14T20:45:25.605Z"
   },
   {
    "duration": 27,
    "start_time": "2023-11-14T20:45:30.199Z"
   },
   {
    "duration": 32,
    "start_time": "2023-11-14T20:46:33.132Z"
   },
   {
    "duration": 26,
    "start_time": "2023-11-14T20:46:58.322Z"
   },
   {
    "duration": 23,
    "start_time": "2023-11-14T20:47:14.163Z"
   },
   {
    "duration": 5,
    "start_time": "2023-11-14T20:48:22.384Z"
   },
   {
    "duration": 15,
    "start_time": "2023-11-14T20:48:31.727Z"
   },
   {
    "duration": 63,
    "start_time": "2023-11-14T21:03:04.010Z"
   },
   {
    "duration": 26,
    "start_time": "2023-11-14T21:03:17.564Z"
   },
   {
    "duration": 56,
    "start_time": "2023-11-14T21:03:29.801Z"
   },
   {
    "duration": 56,
    "start_time": "2023-11-14T21:04:56.859Z"
   },
   {
    "duration": 58,
    "start_time": "2023-11-14T21:05:24.817Z"
   },
   {
    "duration": 10,
    "start_time": "2023-11-14T21:06:19.391Z"
   },
   {
    "duration": 7,
    "start_time": "2023-11-14T21:06:36.153Z"
   },
   {
    "duration": 51,
    "start_time": "2023-11-14T21:06:44.153Z"
   },
   {
    "duration": 6,
    "start_time": "2023-11-14T21:06:46.723Z"
   },
   {
    "duration": 4,
    "start_time": "2023-11-14T21:20:46.939Z"
   },
   {
    "duration": 9,
    "start_time": "2023-11-14T21:20:51.234Z"
   },
   {
    "duration": 8,
    "start_time": "2023-11-14T21:21:52.054Z"
   },
   {
    "duration": 10,
    "start_time": "2023-11-14T21:22:38.794Z"
   },
   {
    "duration": 8,
    "start_time": "2023-11-14T21:22:55.436Z"
   },
   {
    "duration": 11,
    "start_time": "2023-11-14T21:23:12.055Z"
   },
   {
    "duration": 13,
    "start_time": "2023-11-14T21:23:45.147Z"
   },
   {
    "duration": 1150,
    "start_time": "2023-11-14T21:23:55.015Z"
   },
   {
    "duration": 191,
    "start_time": "2023-11-14T21:23:56.168Z"
   },
   {
    "duration": 11,
    "start_time": "2023-11-14T21:23:56.361Z"
   },
   {
    "duration": 103,
    "start_time": "2023-11-14T21:23:56.374Z"
   },
   {
    "duration": 158,
    "start_time": "2023-11-14T21:23:56.480Z"
   },
   {
    "duration": 22,
    "start_time": "2023-11-14T21:23:56.640Z"
   },
   {
    "duration": 18,
    "start_time": "2023-11-14T21:23:56.665Z"
   },
   {
    "duration": 117,
    "start_time": "2023-11-14T21:23:56.686Z"
   },
   {
    "duration": 15,
    "start_time": "2023-11-14T21:23:56.804Z"
   },
   {
    "duration": 25,
    "start_time": "2023-11-14T21:23:56.820Z"
   },
   {
    "duration": 26,
    "start_time": "2023-11-14T21:23:56.846Z"
   },
   {
    "duration": 64,
    "start_time": "2023-11-14T21:23:56.874Z"
   },
   {
    "duration": 45,
    "start_time": "2023-11-14T21:23:56.940Z"
   },
   {
    "duration": 643,
    "start_time": "2023-11-14T21:23:56.987Z"
   },
   {
    "duration": 59,
    "start_time": "2023-11-14T21:23:57.631Z"
   },
   {
    "duration": 9,
    "start_time": "2023-11-14T21:23:57.692Z"
   },
   {
    "duration": 8,
    "start_time": "2023-11-14T21:23:57.703Z"
   },
   {
    "duration": 48,
    "start_time": "2023-11-14T21:23:57.712Z"
   },
   {
    "duration": 55,
    "start_time": "2023-11-14T21:23:57.762Z"
   },
   {
    "duration": 38,
    "start_time": "2023-11-14T21:23:57.819Z"
   },
   {
    "duration": 9,
    "start_time": "2023-11-14T21:23:57.859Z"
   },
   {
    "duration": 6,
    "start_time": "2023-11-14T21:29:00.454Z"
   },
   {
    "duration": 6,
    "start_time": "2023-11-14T21:29:11.111Z"
   },
   {
    "duration": 5,
    "start_time": "2023-11-14T22:20:12.183Z"
   },
   {
    "duration": 6,
    "start_time": "2023-11-14T22:34:46.900Z"
   },
   {
    "duration": 4,
    "start_time": "2023-11-14T22:35:37.330Z"
   },
   {
    "duration": 7,
    "start_time": "2023-11-14T22:35:41.693Z"
   },
   {
    "duration": 15,
    "start_time": "2023-11-14T22:35:53.142Z"
   },
   {
    "duration": 19,
    "start_time": "2023-11-14T22:36:03.441Z"
   },
   {
    "duration": 21,
    "start_time": "2023-11-14T22:36:24.228Z"
   },
   {
    "duration": 23,
    "start_time": "2023-11-14T22:36:53.750Z"
   },
   {
    "duration": 1472,
    "start_time": "2023-11-15T09:32:14.528Z"
   },
   {
    "duration": 547,
    "start_time": "2023-11-15T09:32:16.002Z"
   },
   {
    "duration": 11,
    "start_time": "2023-11-15T09:32:16.550Z"
   },
   {
    "duration": 124,
    "start_time": "2023-11-15T09:32:16.563Z"
   },
   {
    "duration": 157,
    "start_time": "2023-11-15T09:32:16.689Z"
   },
   {
    "duration": 42,
    "start_time": "2023-11-15T09:32:16.848Z"
   },
   {
    "duration": 17,
    "start_time": "2023-11-15T09:32:16.892Z"
   },
   {
    "duration": 114,
    "start_time": "2023-11-15T09:32:16.911Z"
   },
   {
    "duration": 16,
    "start_time": "2023-11-15T09:32:17.027Z"
   },
   {
    "duration": 28,
    "start_time": "2023-11-15T09:32:17.047Z"
   },
   {
    "duration": 28,
    "start_time": "2023-11-15T09:32:17.077Z"
   },
   {
    "duration": 61,
    "start_time": "2023-11-15T09:32:17.107Z"
   },
   {
    "duration": 45,
    "start_time": "2023-11-15T09:32:17.175Z"
   },
   {
    "duration": 707,
    "start_time": "2023-11-15T09:32:17.222Z"
   },
   {
    "duration": 78,
    "start_time": "2023-11-15T09:32:17.931Z"
   },
   {
    "duration": 9,
    "start_time": "2023-11-15T09:32:18.011Z"
   },
   {
    "duration": 7,
    "start_time": "2023-11-15T09:32:18.023Z"
   },
   {
    "duration": 59,
    "start_time": "2023-11-15T09:32:18.032Z"
   },
   {
    "duration": 57,
    "start_time": "2023-11-15T09:32:18.092Z"
   },
   {
    "duration": 29,
    "start_time": "2023-11-15T09:32:18.167Z"
   },
   {
    "duration": 9,
    "start_time": "2023-11-15T09:32:18.198Z"
   },
   {
    "duration": 22,
    "start_time": "2023-11-15T09:32:18.209Z"
   },
   {
    "duration": 39,
    "start_time": "2023-11-15T09:32:18.232Z"
   },
   {
    "duration": 39,
    "start_time": "2023-11-15T09:37:30.971Z"
   },
   {
    "duration": 193,
    "start_time": "2023-11-15T09:38:25.798Z"
   },
   {
    "duration": 3,
    "start_time": "2023-11-15T09:38:32.958Z"
   },
   {
    "duration": 1447,
    "start_time": "2023-11-15T09:38:35.832Z"
   },
   {
    "duration": 1232,
    "start_time": "2023-11-15T09:38:49.488Z"
   },
   {
    "duration": 207,
    "start_time": "2023-11-15T09:38:50.722Z"
   },
   {
    "duration": 10,
    "start_time": "2023-11-15T09:38:50.931Z"
   },
   {
    "duration": 108,
    "start_time": "2023-11-15T09:38:50.944Z"
   },
   {
    "duration": 165,
    "start_time": "2023-11-15T09:38:51.053Z"
   },
   {
    "duration": 22,
    "start_time": "2023-11-15T09:38:51.220Z"
   },
   {
    "duration": 41,
    "start_time": "2023-11-15T09:38:51.244Z"
   },
   {
    "duration": 97,
    "start_time": "2023-11-15T09:38:51.287Z"
   },
   {
    "duration": 18,
    "start_time": "2023-11-15T09:38:51.386Z"
   },
   {
    "duration": 10,
    "start_time": "2023-11-15T09:38:51.407Z"
   },
   {
    "duration": 59,
    "start_time": "2023-11-15T09:38:51.419Z"
   },
   {
    "duration": 43,
    "start_time": "2023-11-15T09:38:51.484Z"
   },
   {
    "duration": 54,
    "start_time": "2023-11-15T09:38:51.528Z"
   },
   {
    "duration": 678,
    "start_time": "2023-11-15T09:38:51.584Z"
   },
   {
    "duration": 65,
    "start_time": "2023-11-15T09:38:52.265Z"
   },
   {
    "duration": 9,
    "start_time": "2023-11-15T09:38:52.332Z"
   },
   {
    "duration": 29,
    "start_time": "2023-11-15T09:38:52.344Z"
   },
   {
    "duration": 42,
    "start_time": "2023-11-15T09:38:52.375Z"
   },
   {
    "duration": 79,
    "start_time": "2023-11-15T09:38:52.419Z"
   },
   {
    "duration": 25,
    "start_time": "2023-11-15T09:38:52.500Z"
   },
   {
    "duration": 10,
    "start_time": "2023-11-15T09:38:52.526Z"
   },
   {
    "duration": 44,
    "start_time": "2023-11-15T09:38:52.538Z"
   },
   {
    "duration": 36,
    "start_time": "2023-11-15T09:38:52.587Z"
   },
   {
    "duration": 4,
    "start_time": "2023-11-15T09:38:52.625Z"
   },
   {
    "duration": 14,
    "start_time": "2023-11-15T09:39:00.207Z"
   },
   {
    "duration": 200,
    "start_time": "2023-11-15T09:39:37.347Z"
   },
   {
    "duration": 1780,
    "start_time": "2023-11-15T09:40:29.984Z"
   },
   {
    "duration": 42,
    "start_time": "2023-11-15T09:43:15.619Z"
   },
   {
    "duration": 1209,
    "start_time": "2023-11-15T09:43:39.886Z"
   },
   {
    "duration": 218,
    "start_time": "2023-11-15T09:43:41.097Z"
   },
   {
    "duration": 12,
    "start_time": "2023-11-15T09:43:41.317Z"
   },
   {
    "duration": 103,
    "start_time": "2023-11-15T09:43:41.331Z"
   },
   {
    "duration": 163,
    "start_time": "2023-11-15T09:43:41.436Z"
   },
   {
    "duration": 22,
    "start_time": "2023-11-15T09:43:41.601Z"
   },
   {
    "duration": 50,
    "start_time": "2023-11-15T09:43:41.626Z"
   },
   {
    "duration": 103,
    "start_time": "2023-11-15T09:43:41.680Z"
   },
   {
    "duration": 18,
    "start_time": "2023-11-15T09:43:41.785Z"
   },
   {
    "duration": 15,
    "start_time": "2023-11-15T09:43:41.806Z"
   },
   {
    "duration": 35,
    "start_time": "2023-11-15T09:43:41.823Z"
   },
   {
    "duration": 54,
    "start_time": "2023-11-15T09:43:41.859Z"
   },
   {
    "duration": 66,
    "start_time": "2023-11-15T09:43:41.914Z"
   },
   {
    "duration": 671,
    "start_time": "2023-11-15T09:43:41.982Z"
   },
   {
    "duration": 64,
    "start_time": "2023-11-15T09:43:42.655Z"
   },
   {
    "duration": 9,
    "start_time": "2023-11-15T09:43:42.721Z"
   },
   {
    "duration": 7,
    "start_time": "2023-11-15T09:43:42.731Z"
   },
   {
    "duration": 57,
    "start_time": "2023-11-15T09:43:42.739Z"
   },
   {
    "duration": 64,
    "start_time": "2023-11-15T09:43:42.797Z"
   },
   {
    "duration": 31,
    "start_time": "2023-11-15T09:43:42.862Z"
   },
   {
    "duration": 19,
    "start_time": "2023-11-15T09:43:42.895Z"
   },
   {
    "duration": 32,
    "start_time": "2023-11-15T09:43:42.916Z"
   },
   {
    "duration": 34,
    "start_time": "2023-11-15T09:43:42.950Z"
   },
   {
    "duration": 1594,
    "start_time": "2023-11-15T09:43:42.986Z"
   },
   {
    "duration": 10,
    "start_time": "2023-11-15T09:44:38.831Z"
   },
   {
    "duration": 612,
    "start_time": "2023-11-15T09:44:47.767Z"
   },
   {
    "duration": 3,
    "start_time": "2023-11-15T09:45:57.734Z"
   },
   {
    "duration": 6,
    "start_time": "2023-11-15T09:46:17.046Z"
   },
   {
    "duration": 6,
    "start_time": "2023-11-15T09:46:18.796Z"
   },
   {
    "duration": 18,
    "start_time": "2023-11-15T09:46:32.391Z"
   },
   {
    "duration": 4,
    "start_time": "2023-11-15T09:48:06.232Z"
   },
   {
    "duration": 12,
    "start_time": "2023-11-15T09:48:11.151Z"
   },
   {
    "duration": 16,
    "start_time": "2023-11-15T09:48:56.267Z"
   },
   {
    "duration": 10,
    "start_time": "2023-11-15T09:49:07.152Z"
   },
   {
    "duration": 9,
    "start_time": "2023-11-15T09:49:25.046Z"
   },
   {
    "duration": 69,
    "start_time": "2023-11-15T10:43:49.643Z"
   },
   {
    "duration": 1303,
    "start_time": "2023-11-15T11:09:05.235Z"
   },
   {
    "duration": 206,
    "start_time": "2023-11-15T11:09:06.545Z"
   },
   {
    "duration": 12,
    "start_time": "2023-11-15T11:09:06.753Z"
   },
   {
    "duration": 100,
    "start_time": "2023-11-15T11:09:06.767Z"
   },
   {
    "duration": 141,
    "start_time": "2023-11-15T11:09:06.869Z"
   },
   {
    "duration": 38,
    "start_time": "2023-11-15T11:09:07.012Z"
   },
   {
    "duration": 19,
    "start_time": "2023-11-15T11:09:07.051Z"
   },
   {
    "duration": 108,
    "start_time": "2023-11-15T11:09:07.072Z"
   },
   {
    "duration": 19,
    "start_time": "2023-11-15T11:09:07.181Z"
   },
   {
    "duration": 41,
    "start_time": "2023-11-15T11:09:07.203Z"
   },
   {
    "duration": 30,
    "start_time": "2023-11-15T11:09:07.252Z"
   },
   {
    "duration": 40,
    "start_time": "2023-11-15T11:09:07.284Z"
   },
   {
    "duration": 64,
    "start_time": "2023-11-15T11:09:07.325Z"
   },
   {
    "duration": 686,
    "start_time": "2023-11-15T11:09:07.391Z"
   },
   {
    "duration": 75,
    "start_time": "2023-11-15T11:09:08.079Z"
   },
   {
    "duration": 12,
    "start_time": "2023-11-15T11:09:08.156Z"
   },
   {
    "duration": 8,
    "start_time": "2023-11-15T11:09:08.171Z"
   },
   {
    "duration": 29,
    "start_time": "2023-11-15T11:09:08.181Z"
   },
   {
    "duration": 87,
    "start_time": "2023-11-15T11:09:08.212Z"
   },
   {
    "duration": 38,
    "start_time": "2023-11-15T11:09:08.300Z"
   },
   {
    "duration": 10,
    "start_time": "2023-11-15T11:09:08.340Z"
   },
   {
    "duration": 17,
    "start_time": "2023-11-15T11:09:08.354Z"
   },
   {
    "duration": 29,
    "start_time": "2023-11-15T11:09:08.373Z"
   },
   {
    "duration": 623,
    "start_time": "2023-11-15T11:09:08.403Z"
   },
   {
    "duration": 2,
    "start_time": "2023-11-15T11:09:09.028Z"
   },
   {
    "duration": 12,
    "start_time": "2023-11-15T11:09:09.040Z"
   },
   {
    "duration": 11,
    "start_time": "2023-11-15T11:09:09.053Z"
   },
   {
    "duration": 22,
    "start_time": "2023-11-15T11:09:09.066Z"
   },
   {
    "duration": 16,
    "start_time": "2023-11-15T11:09:09.090Z"
   },
   {
    "duration": 22,
    "start_time": "2023-11-15T11:09:09.108Z"
   },
   {
    "duration": 19,
    "start_time": "2023-11-15T11:09:09.132Z"
   },
   {
    "duration": 1164,
    "start_time": "2023-11-15T11:09:20.883Z"
   },
   {
    "duration": 203,
    "start_time": "2023-11-15T11:09:22.049Z"
   },
   {
    "duration": 10,
    "start_time": "2023-11-15T11:09:22.253Z"
   },
   {
    "duration": 107,
    "start_time": "2023-11-15T11:09:22.265Z"
   },
   {
    "duration": 178,
    "start_time": "2023-11-15T11:09:22.375Z"
   },
   {
    "duration": 21,
    "start_time": "2023-11-15T11:09:22.554Z"
   },
   {
    "duration": 41,
    "start_time": "2023-11-15T11:09:22.577Z"
   },
   {
    "duration": 136,
    "start_time": "2023-11-15T11:09:22.620Z"
   },
   {
    "duration": 16,
    "start_time": "2023-11-15T11:09:22.758Z"
   },
   {
    "duration": 13,
    "start_time": "2023-11-15T11:09:22.776Z"
   },
   {
    "duration": 22,
    "start_time": "2023-11-15T11:09:22.791Z"
   },
   {
    "duration": 42,
    "start_time": "2023-11-15T11:09:22.835Z"
   },
   {
    "duration": 63,
    "start_time": "2023-11-15T11:09:22.878Z"
   },
   {
    "duration": 674,
    "start_time": "2023-11-15T11:09:22.950Z"
   },
   {
    "duration": 72,
    "start_time": "2023-11-15T11:09:23.625Z"
   },
   {
    "duration": 10,
    "start_time": "2023-11-15T11:09:23.699Z"
   },
   {
    "duration": 9,
    "start_time": "2023-11-15T11:09:23.711Z"
   },
   {
    "duration": 45,
    "start_time": "2023-11-15T11:09:23.738Z"
   },
   {
    "duration": 83,
    "start_time": "2023-11-15T11:09:23.785Z"
   },
   {
    "duration": 26,
    "start_time": "2023-11-15T11:09:23.870Z"
   },
   {
    "duration": 27,
    "start_time": "2023-11-15T11:09:23.898Z"
   },
   {
    "duration": 26,
    "start_time": "2023-11-15T11:09:23.927Z"
   },
   {
    "duration": 29,
    "start_time": "2023-11-15T11:09:23.955Z"
   },
   {
    "duration": 572,
    "start_time": "2023-11-15T11:09:23.985Z"
   },
   {
    "duration": 3,
    "start_time": "2023-11-15T11:09:24.558Z"
   },
   {
    "duration": 27,
    "start_time": "2023-11-15T11:09:24.562Z"
   },
   {
    "duration": 11,
    "start_time": "2023-11-15T11:09:24.591Z"
   },
   {
    "duration": 15,
    "start_time": "2023-11-15T11:09:24.603Z"
   },
   {
    "duration": 10,
    "start_time": "2023-11-15T11:09:24.619Z"
   },
   {
    "duration": 79,
    "start_time": "2023-11-15T11:09:24.636Z"
   },
   {
    "duration": 42,
    "start_time": "2023-11-15T11:09:24.717Z"
   },
   {
    "duration": 48,
    "start_time": "2023-11-15T12:34:14.459Z"
   },
   {
    "duration": 1440,
    "start_time": "2023-11-15T12:34:28.581Z"
   },
   {
    "duration": 752,
    "start_time": "2023-11-15T12:34:30.023Z"
   },
   {
    "duration": 11,
    "start_time": "2023-11-15T12:34:30.776Z"
   },
   {
    "duration": 164,
    "start_time": "2023-11-15T12:34:30.789Z"
   },
   {
    "duration": 151,
    "start_time": "2023-11-15T12:34:30.955Z"
   },
   {
    "duration": 38,
    "start_time": "2023-11-15T12:34:31.108Z"
   },
   {
    "duration": 20,
    "start_time": "2023-11-15T12:34:31.148Z"
   },
   {
    "duration": 161,
    "start_time": "2023-11-15T12:34:31.170Z"
   },
   {
    "duration": 247,
    "start_time": "2023-11-15T12:34:31.333Z"
   },
   {
    "duration": 71,
    "start_time": "2023-11-15T12:34:31.583Z"
   },
   {
    "duration": 47,
    "start_time": "2023-11-15T12:34:31.656Z"
   },
   {
    "duration": 59,
    "start_time": "2023-11-15T12:34:31.705Z"
   },
   {
    "duration": 46,
    "start_time": "2023-11-15T12:34:31.766Z"
   },
   {
    "duration": 684,
    "start_time": "2023-11-15T12:34:38.282Z"
   },
   {
    "duration": 4,
    "start_time": "2023-11-15T12:34:48.198Z"
   },
   {
    "duration": 202,
    "start_time": "2023-11-15T12:34:48.204Z"
   },
   {
    "duration": 10,
    "start_time": "2023-11-15T12:34:48.407Z"
   },
   {
    "duration": 93,
    "start_time": "2023-11-15T12:34:48.419Z"
   },
   {
    "duration": 143,
    "start_time": "2023-11-15T12:34:48.514Z"
   },
   {
    "duration": 22,
    "start_time": "2023-11-15T12:34:48.658Z"
   },
   {
    "duration": 17,
    "start_time": "2023-11-15T12:34:48.682Z"
   },
   {
    "duration": 113,
    "start_time": "2023-11-15T12:34:48.701Z"
   },
   {
    "duration": 32,
    "start_time": "2023-11-15T12:34:48.817Z"
   },
   {
    "duration": 15,
    "start_time": "2023-11-15T12:34:48.851Z"
   },
   {
    "duration": 25,
    "start_time": "2023-11-15T12:34:48.868Z"
   },
   {
    "duration": 65,
    "start_time": "2023-11-15T12:34:48.895Z"
   },
   {
    "duration": 50,
    "start_time": "2023-11-15T12:34:48.961Z"
   },
   {
    "duration": 591,
    "start_time": "2023-11-15T12:34:49.013Z"
   },
   {
    "duration": 71,
    "start_time": "2023-11-15T12:36:29.412Z"
   },
   {
    "duration": 59,
    "start_time": "2023-11-15T12:36:42.246Z"
   },
   {
    "duration": 56,
    "start_time": "2023-11-15T12:36:52.276Z"
   },
   {
    "duration": 76,
    "start_time": "2023-11-15T12:36:57.547Z"
   },
   {
    "duration": 121,
    "start_time": "2023-11-15T12:37:21.565Z"
   },
   {
    "duration": 1961,
    "start_time": "2023-11-15T12:38:56.461Z"
   },
   {
    "duration": 123,
    "start_time": "2023-11-15T12:39:13.456Z"
   },
   {
    "duration": 112,
    "start_time": "2023-11-15T12:39:16.698Z"
   },
   {
    "duration": 1257,
    "start_time": "2023-11-15T12:39:49.518Z"
   },
   {
    "duration": 214,
    "start_time": "2023-11-15T12:39:50.777Z"
   },
   {
    "duration": 11,
    "start_time": "2023-11-15T12:39:50.995Z"
   },
   {
    "duration": 150,
    "start_time": "2023-11-15T12:39:51.008Z"
   },
   {
    "duration": 162,
    "start_time": "2023-11-15T12:39:51.160Z"
   },
   {
    "duration": 36,
    "start_time": "2023-11-15T12:39:51.323Z"
   },
   {
    "duration": 48,
    "start_time": "2023-11-15T12:39:51.361Z"
   },
   {
    "duration": 111,
    "start_time": "2023-11-15T12:39:51.410Z"
   },
   {
    "duration": 130,
    "start_time": "2023-11-15T12:39:51.523Z"
   },
   {
    "duration": 14,
    "start_time": "2023-11-15T12:39:51.654Z"
   },
   {
    "duration": 22,
    "start_time": "2023-11-15T12:39:51.670Z"
   },
   {
    "duration": 32,
    "start_time": "2023-11-15T12:39:51.694Z"
   },
   {
    "duration": 77,
    "start_time": "2023-11-15T12:39:51.727Z"
   },
   {
    "duration": 85,
    "start_time": "2023-11-15T12:39:51.806Z"
   },
   {
    "duration": 888,
    "start_time": "2023-11-15T12:39:51.893Z"
   },
   {
    "duration": 99,
    "start_time": "2023-11-15T12:39:52.783Z"
   },
   {
    "duration": 8,
    "start_time": "2023-11-15T12:39:52.884Z"
   },
   {
    "duration": 99,
    "start_time": "2023-11-15T12:39:52.894Z"
   },
   {
    "duration": 40,
    "start_time": "2023-11-15T12:39:52.995Z"
   },
   {
    "duration": 53,
    "start_time": "2023-11-15T12:39:53.040Z"
   },
   {
    "duration": 22,
    "start_time": "2023-11-15T12:39:53.095Z"
   },
   {
    "duration": 10,
    "start_time": "2023-11-15T12:39:53.118Z"
   },
   {
    "duration": 41,
    "start_time": "2023-11-15T12:39:53.129Z"
   },
   {
    "duration": 37,
    "start_time": "2023-11-15T12:39:53.172Z"
   },
   {
    "duration": 620,
    "start_time": "2023-11-15T12:39:53.211Z"
   },
   {
    "duration": 0,
    "start_time": "2023-11-15T12:39:53.834Z"
   },
   {
    "duration": 0,
    "start_time": "2023-11-15T12:39:53.836Z"
   },
   {
    "duration": 0,
    "start_time": "2023-11-15T12:39:53.837Z"
   },
   {
    "duration": 0,
    "start_time": "2023-11-15T12:39:53.839Z"
   },
   {
    "duration": 0,
    "start_time": "2023-11-15T12:39:53.840Z"
   },
   {
    "duration": 0,
    "start_time": "2023-11-15T12:39:53.842Z"
   },
   {
    "duration": 0,
    "start_time": "2023-11-15T12:39:53.843Z"
   },
   {
    "duration": 104,
    "start_time": "2023-11-15T12:40:59.091Z"
   },
   {
    "duration": 128,
    "start_time": "2023-11-15T12:41:03.256Z"
   },
   {
    "duration": 1196,
    "start_time": "2023-11-15T12:41:14.794Z"
   },
   {
    "duration": 200,
    "start_time": "2023-11-15T12:41:15.992Z"
   },
   {
    "duration": 11,
    "start_time": "2023-11-15T12:41:16.194Z"
   },
   {
    "duration": 105,
    "start_time": "2023-11-15T12:41:16.207Z"
   },
   {
    "duration": 165,
    "start_time": "2023-11-15T12:41:16.314Z"
   },
   {
    "duration": 22,
    "start_time": "2023-11-15T12:41:16.481Z"
   },
   {
    "duration": 46,
    "start_time": "2023-11-15T12:41:16.505Z"
   },
   {
    "duration": 103,
    "start_time": "2023-11-15T12:41:16.553Z"
   },
   {
    "duration": 146,
    "start_time": "2023-11-15T12:41:16.658Z"
   },
   {
    "duration": 14,
    "start_time": "2023-11-15T12:41:16.806Z"
   },
   {
    "duration": 28,
    "start_time": "2023-11-15T12:41:16.821Z"
   },
   {
    "duration": 23,
    "start_time": "2023-11-15T12:41:16.851Z"
   },
   {
    "duration": 86,
    "start_time": "2023-11-15T12:41:16.876Z"
   },
   {
    "duration": 85,
    "start_time": "2023-11-15T12:41:16.964Z"
   },
   {
    "duration": 802,
    "start_time": "2023-11-15T12:41:17.051Z"
   },
   {
    "duration": 66,
    "start_time": "2023-11-15T12:41:17.855Z"
   },
   {
    "duration": 28,
    "start_time": "2023-11-15T12:41:17.923Z"
   },
   {
    "duration": 9,
    "start_time": "2023-11-15T12:41:17.953Z"
   },
   {
    "duration": 53,
    "start_time": "2023-11-15T12:41:17.964Z"
   },
   {
    "duration": 75,
    "start_time": "2023-11-15T12:41:18.019Z"
   },
   {
    "duration": 23,
    "start_time": "2023-11-15T12:41:18.095Z"
   },
   {
    "duration": 9,
    "start_time": "2023-11-15T12:41:18.119Z"
   },
   {
    "duration": 15,
    "start_time": "2023-11-15T12:41:18.130Z"
   },
   {
    "duration": 31,
    "start_time": "2023-11-15T12:41:18.151Z"
   },
   {
    "duration": 567,
    "start_time": "2023-11-15T12:41:18.184Z"
   },
   {
    "duration": 3,
    "start_time": "2023-11-15T12:41:18.753Z"
   },
   {
    "duration": 8,
    "start_time": "2023-11-15T12:41:18.757Z"
   },
   {
    "duration": 23,
    "start_time": "2023-11-15T12:41:18.768Z"
   },
   {
    "duration": 16,
    "start_time": "2023-11-15T12:41:18.793Z"
   },
   {
    "duration": 10,
    "start_time": "2023-11-15T12:41:18.810Z"
   },
   {
    "duration": 27,
    "start_time": "2023-11-15T12:41:18.822Z"
   },
   {
    "duration": 10,
    "start_time": "2023-11-15T12:41:18.850Z"
   },
   {
    "duration": 1289,
    "start_time": "2023-11-15T12:46:56.605Z"
   },
   {
    "duration": 224,
    "start_time": "2023-11-15T12:46:57.896Z"
   },
   {
    "duration": 15,
    "start_time": "2023-11-15T12:46:58.122Z"
   },
   {
    "duration": 106,
    "start_time": "2023-11-15T12:46:58.144Z"
   },
   {
    "duration": 154,
    "start_time": "2023-11-15T12:46:58.252Z"
   },
   {
    "duration": 33,
    "start_time": "2023-11-15T12:46:58.408Z"
   },
   {
    "duration": 19,
    "start_time": "2023-11-15T12:46:58.443Z"
   },
   {
    "duration": 107,
    "start_time": "2023-11-15T12:46:58.463Z"
   },
   {
    "duration": 197,
    "start_time": "2023-11-15T12:46:58.572Z"
   },
   {
    "duration": 14,
    "start_time": "2023-11-15T12:46:58.772Z"
   },
   {
    "duration": 44,
    "start_time": "2023-11-15T12:46:58.788Z"
   },
   {
    "duration": 40,
    "start_time": "2023-11-15T12:46:58.834Z"
   },
   {
    "duration": 104,
    "start_time": "2023-11-15T12:46:58.875Z"
   },
   {
    "duration": 122,
    "start_time": "2023-11-15T12:46:58.981Z"
   },
   {
    "duration": 889,
    "start_time": "2023-11-15T12:46:59.104Z"
   },
   {
    "duration": 20,
    "start_time": "2023-11-15T12:46:59.994Z"
   },
   {
    "duration": 98,
    "start_time": "2023-11-15T12:47:00.016Z"
   },
   {
    "duration": 29,
    "start_time": "2023-11-15T12:47:00.116Z"
   },
   {
    "duration": 27,
    "start_time": "2023-11-15T12:47:00.149Z"
   },
   {
    "duration": 8,
    "start_time": "2023-11-15T12:47:00.177Z"
   },
   {
    "duration": 82,
    "start_time": "2023-11-15T12:47:00.187Z"
   },
   {
    "duration": 108,
    "start_time": "2023-11-15T12:47:00.270Z"
   },
   {
    "duration": 29,
    "start_time": "2023-11-15T12:47:00.380Z"
   },
   {
    "duration": 35,
    "start_time": "2023-11-15T12:47:00.413Z"
   },
   {
    "duration": 36,
    "start_time": "2023-11-15T12:47:00.451Z"
   },
   {
    "duration": 78,
    "start_time": "2023-11-15T12:47:00.488Z"
   },
   {
    "duration": 579,
    "start_time": "2023-11-15T12:47:00.567Z"
   },
   {
    "duration": 10,
    "start_time": "2023-11-15T12:47:01.154Z"
   },
   {
    "duration": 43,
    "start_time": "2023-11-15T12:47:01.166Z"
   },
   {
    "duration": 77,
    "start_time": "2023-11-15T12:47:01.211Z"
   },
   {
    "duration": 122,
    "start_time": "2023-11-15T12:47:01.290Z"
   },
   {
    "duration": 146,
    "start_time": "2023-11-15T12:47:01.414Z"
   },
   {
    "duration": 110,
    "start_time": "2023-11-15T12:47:01.562Z"
   },
   {
    "duration": 41,
    "start_time": "2023-11-15T12:47:01.674Z"
   },
   {
    "duration": 111,
    "start_time": "2023-11-15T12:51:10.590Z"
   },
   {
    "duration": 23,
    "start_time": "2023-11-15T12:51:48.029Z"
   },
   {
    "duration": 1717,
    "start_time": "2023-11-15T12:52:04.547Z"
   },
   {
    "duration": 1201,
    "start_time": "2023-11-15T12:52:15.454Z"
   },
   {
    "duration": 199,
    "start_time": "2023-11-15T12:52:16.657Z"
   },
   {
    "duration": 10,
    "start_time": "2023-11-15T12:52:16.858Z"
   },
   {
    "duration": 104,
    "start_time": "2023-11-15T12:52:16.870Z"
   },
   {
    "duration": 152,
    "start_time": "2023-11-15T12:52:16.976Z"
   },
   {
    "duration": 33,
    "start_time": "2023-11-15T12:52:17.130Z"
   },
   {
    "duration": 17,
    "start_time": "2023-11-15T12:52:17.165Z"
   },
   {
    "duration": 108,
    "start_time": "2023-11-15T12:52:17.183Z"
   },
   {
    "duration": 177,
    "start_time": "2023-11-15T12:52:17.293Z"
   },
   {
    "duration": 15,
    "start_time": "2023-11-15T12:52:17.472Z"
   },
   {
    "duration": 24,
    "start_time": "2023-11-15T12:52:17.488Z"
   },
   {
    "duration": 46,
    "start_time": "2023-11-15T12:52:17.514Z"
   },
   {
    "duration": 100,
    "start_time": "2023-11-15T12:52:17.562Z"
   },
   {
    "duration": 90,
    "start_time": "2023-11-15T12:52:17.663Z"
   },
   {
    "duration": 844,
    "start_time": "2023-11-15T12:52:17.755Z"
   },
   {
    "duration": 21,
    "start_time": "2023-11-15T12:52:18.601Z"
   },
   {
    "duration": 81,
    "start_time": "2023-11-15T12:52:18.639Z"
   },
   {
    "duration": 36,
    "start_time": "2023-11-15T12:52:18.721Z"
   },
   {
    "duration": 19,
    "start_time": "2023-11-15T12:52:18.759Z"
   },
   {
    "duration": 10,
    "start_time": "2023-11-15T12:52:18.779Z"
   },
   {
    "duration": 58,
    "start_time": "2023-11-15T12:52:18.791Z"
   },
   {
    "duration": 37,
    "start_time": "2023-11-15T12:52:18.851Z"
   },
   {
    "duration": 21,
    "start_time": "2023-11-15T12:52:18.890Z"
   },
   {
    "duration": 25,
    "start_time": "2023-11-15T12:52:18.913Z"
   },
   {
    "duration": 22,
    "start_time": "2023-11-15T12:52:18.944Z"
   },
   {
    "duration": 34,
    "start_time": "2023-11-15T12:52:18.968Z"
   },
   {
    "duration": 589,
    "start_time": "2023-11-15T12:52:19.004Z"
   },
   {
    "duration": 3,
    "start_time": "2023-11-15T12:52:19.596Z"
   },
   {
    "duration": 106,
    "start_time": "2023-11-15T12:52:19.601Z"
   },
   {
    "duration": 214,
    "start_time": "2023-11-15T12:52:19.708Z"
   },
   {
    "duration": 159,
    "start_time": "2023-11-15T12:52:19.923Z"
   },
   {
    "duration": 139,
    "start_time": "2023-11-15T12:52:20.084Z"
   },
   {
    "duration": 169,
    "start_time": "2023-11-15T12:52:20.225Z"
   },
   {
    "duration": 46,
    "start_time": "2023-11-15T12:52:20.396Z"
   },
   {
    "duration": 10,
    "start_time": "2023-11-15T13:00:16.795Z"
   },
   {
    "duration": 1236,
    "start_time": "2023-11-15T13:02:21.827Z"
   },
   {
    "duration": 200,
    "start_time": "2023-11-15T13:02:23.065Z"
   },
   {
    "duration": 10,
    "start_time": "2023-11-15T13:02:23.267Z"
   },
   {
    "duration": 121,
    "start_time": "2023-11-15T13:02:23.279Z"
   },
   {
    "duration": 153,
    "start_time": "2023-11-15T13:02:23.401Z"
   },
   {
    "duration": 20,
    "start_time": "2023-11-15T13:02:23.556Z"
   },
   {
    "duration": 17,
    "start_time": "2023-11-15T13:02:23.578Z"
   },
   {
    "duration": 111,
    "start_time": "2023-11-15T13:02:23.597Z"
   },
   {
    "duration": 158,
    "start_time": "2023-11-15T13:02:23.709Z"
   },
   {
    "duration": 15,
    "start_time": "2023-11-15T13:02:23.870Z"
   },
   {
    "duration": 35,
    "start_time": "2023-11-15T13:02:23.887Z"
   },
   {
    "duration": 44,
    "start_time": "2023-11-15T13:02:23.924Z"
   },
   {
    "duration": 70,
    "start_time": "2023-11-15T13:02:23.969Z"
   },
   {
    "duration": 83,
    "start_time": "2023-11-15T13:02:24.041Z"
   },
   {
    "duration": 743,
    "start_time": "2023-11-15T13:02:24.126Z"
   },
   {
    "duration": 19,
    "start_time": "2023-11-15T13:02:24.872Z"
   },
   {
    "duration": 83,
    "start_time": "2023-11-15T13:02:24.893Z"
   },
   {
    "duration": 18,
    "start_time": "2023-11-15T13:02:24.977Z"
   },
   {
    "duration": 18,
    "start_time": "2023-11-15T13:02:24.997Z"
   },
   {
    "duration": 24,
    "start_time": "2023-11-15T13:02:25.017Z"
   },
   {
    "duration": 43,
    "start_time": "2023-11-15T13:02:25.042Z"
   },
   {
    "duration": 49,
    "start_time": "2023-11-15T13:02:25.086Z"
   },
   {
    "duration": 12,
    "start_time": "2023-11-15T13:02:25.137Z"
   },
   {
    "duration": 15,
    "start_time": "2023-11-15T13:02:25.150Z"
   },
   {
    "duration": 14,
    "start_time": "2023-11-15T13:02:25.166Z"
   },
   {
    "duration": 33,
    "start_time": "2023-11-15T13:02:25.182Z"
   },
   {
    "duration": 522,
    "start_time": "2023-11-15T13:02:25.216Z"
   },
   {
    "duration": 3,
    "start_time": "2023-11-15T13:02:25.742Z"
   },
   {
    "duration": 29,
    "start_time": "2023-11-15T13:02:25.747Z"
   },
   {
    "duration": 14,
    "start_time": "2023-11-15T13:02:25.778Z"
   },
   {
    "duration": 16,
    "start_time": "2023-11-15T13:02:25.793Z"
   },
   {
    "duration": 35,
    "start_time": "2023-11-15T13:02:25.811Z"
   },
   {
    "duration": 36,
    "start_time": "2023-11-15T13:02:25.848Z"
   },
   {
    "duration": 114,
    "start_time": "2023-11-15T13:02:25.886Z"
   },
   {
    "duration": 62,
    "start_time": "2023-11-15T13:02:26.002Z"
   },
   {
    "duration": 1216,
    "start_time": "2023-11-15T14:25:51.988Z"
   },
   {
    "duration": 193,
    "start_time": "2023-11-15T14:25:53.206Z"
   },
   {
    "duration": 10,
    "start_time": "2023-11-15T14:25:53.400Z"
   },
   {
    "duration": 103,
    "start_time": "2023-11-15T14:25:53.412Z"
   },
   {
    "duration": 164,
    "start_time": "2023-11-15T14:25:53.517Z"
   },
   {
    "duration": 20,
    "start_time": "2023-11-15T14:25:53.683Z"
   },
   {
    "duration": 44,
    "start_time": "2023-11-15T14:25:53.705Z"
   },
   {
    "duration": 84,
    "start_time": "2023-11-15T14:25:53.751Z"
   },
   {
    "duration": 141,
    "start_time": "2023-11-15T14:25:53.839Z"
   },
   {
    "duration": 13,
    "start_time": "2023-11-15T14:25:53.982Z"
   },
   {
    "duration": 60,
    "start_time": "2023-11-15T14:25:53.996Z"
   },
   {
    "duration": 23,
    "start_time": "2023-11-15T14:25:54.058Z"
   },
   {
    "duration": 75,
    "start_time": "2023-11-15T14:25:54.082Z"
   },
   {
    "duration": 84,
    "start_time": "2023-11-15T14:25:54.160Z"
   },
   {
    "duration": 745,
    "start_time": "2023-11-15T14:25:54.248Z"
   },
   {
    "duration": 19,
    "start_time": "2023-11-15T14:25:54.995Z"
   },
   {
    "duration": 93,
    "start_time": "2023-11-15T14:25:55.031Z"
   },
   {
    "duration": 29,
    "start_time": "2023-11-15T14:25:55.126Z"
   },
   {
    "duration": 136,
    "start_time": "2023-11-15T14:25:55.157Z"
   },
   {
    "duration": 6,
    "start_time": "2023-11-15T14:25:55.294Z"
   },
   {
    "duration": 47,
    "start_time": "2023-11-15T14:25:55.301Z"
   },
   {
    "duration": 63,
    "start_time": "2023-11-15T14:25:55.350Z"
   },
   {
    "duration": 10,
    "start_time": "2023-11-15T14:25:55.414Z"
   },
   {
    "duration": 25,
    "start_time": "2023-11-15T14:25:55.426Z"
   },
   {
    "duration": 9,
    "start_time": "2023-11-15T14:25:55.452Z"
   },
   {
    "duration": 36,
    "start_time": "2023-11-15T14:25:55.462Z"
   },
   {
    "duration": 566,
    "start_time": "2023-11-15T14:25:55.500Z"
   },
   {
    "duration": 2,
    "start_time": "2023-11-15T14:25:56.068Z"
   },
   {
    "duration": 19,
    "start_time": "2023-11-15T14:25:56.072Z"
   },
   {
    "duration": 8,
    "start_time": "2023-11-15T14:25:56.093Z"
   },
   {
    "duration": 49,
    "start_time": "2023-11-15T14:25:56.103Z"
   },
   {
    "duration": 11,
    "start_time": "2023-11-15T14:25:56.154Z"
   },
   {
    "duration": 12,
    "start_time": "2023-11-15T14:25:56.166Z"
   },
   {
    "duration": 8,
    "start_time": "2023-11-15T14:25:56.179Z"
   },
   {
    "duration": 10,
    "start_time": "2023-11-15T14:25:56.189Z"
   },
   {
    "duration": 2139,
    "start_time": "2023-11-15T14:27:20.754Z"
   },
   {
    "duration": 1228,
    "start_time": "2023-11-15T14:27:31.136Z"
   },
   {
    "duration": 237,
    "start_time": "2023-11-15T14:27:32.365Z"
   },
   {
    "duration": 11,
    "start_time": "2023-11-15T14:27:32.604Z"
   },
   {
    "duration": 137,
    "start_time": "2023-11-15T14:27:32.616Z"
   },
   {
    "duration": 157,
    "start_time": "2023-11-15T14:27:32.756Z"
   },
   {
    "duration": 31,
    "start_time": "2023-11-15T14:27:32.915Z"
   },
   {
    "duration": 24,
    "start_time": "2023-11-15T14:27:32.952Z"
   },
   {
    "duration": 145,
    "start_time": "2023-11-15T14:27:32.978Z"
   },
   {
    "duration": 157,
    "start_time": "2023-11-15T14:27:33.125Z"
   },
   {
    "duration": 16,
    "start_time": "2023-11-15T14:27:33.284Z"
   },
   {
    "duration": 40,
    "start_time": "2023-11-15T14:27:33.302Z"
   },
   {
    "duration": 33,
    "start_time": "2023-11-15T14:27:33.348Z"
   },
   {
    "duration": 81,
    "start_time": "2023-11-15T14:27:33.383Z"
   },
   {
    "duration": 91,
    "start_time": "2023-11-15T14:27:33.469Z"
   },
   {
    "duration": 851,
    "start_time": "2023-11-15T14:27:33.562Z"
   },
   {
    "duration": 36,
    "start_time": "2023-11-15T14:27:34.414Z"
   },
   {
    "duration": 63,
    "start_time": "2023-11-15T14:27:34.451Z"
   },
   {
    "duration": 34,
    "start_time": "2023-11-15T14:27:34.516Z"
   },
   {
    "duration": 18,
    "start_time": "2023-11-15T14:27:34.552Z"
   },
   {
    "duration": 6,
    "start_time": "2023-11-15T14:27:34.572Z"
   },
   {
    "duration": 68,
    "start_time": "2023-11-15T14:27:34.580Z"
   },
   {
    "duration": 34,
    "start_time": "2023-11-15T14:27:34.650Z"
   },
   {
    "duration": 11,
    "start_time": "2023-11-15T14:27:34.686Z"
   },
   {
    "duration": 14,
    "start_time": "2023-11-15T14:27:34.699Z"
   },
   {
    "duration": 23,
    "start_time": "2023-11-15T14:27:34.730Z"
   },
   {
    "duration": 47,
    "start_time": "2023-11-15T14:27:34.755Z"
   },
   {
    "duration": 575,
    "start_time": "2023-11-15T14:27:34.805Z"
   },
   {
    "duration": 3,
    "start_time": "2023-11-15T14:27:35.381Z"
   },
   {
    "duration": 6,
    "start_time": "2023-11-15T14:27:35.386Z"
   },
   {
    "duration": 11,
    "start_time": "2023-11-15T14:27:35.394Z"
   },
   {
    "duration": 37,
    "start_time": "2023-11-15T14:27:35.407Z"
   },
   {
    "duration": 18,
    "start_time": "2023-11-15T14:27:35.446Z"
   },
   {
    "duration": 15,
    "start_time": "2023-11-15T14:27:35.466Z"
   },
   {
    "duration": 17,
    "start_time": "2023-11-15T14:27:35.482Z"
   },
   {
    "duration": 11,
    "start_time": "2023-11-15T14:27:35.500Z"
   },
   {
    "duration": 1197,
    "start_time": "2023-11-15T14:27:55.950Z"
   },
   {
    "duration": 205,
    "start_time": "2023-11-15T14:27:57.149Z"
   },
   {
    "duration": 10,
    "start_time": "2023-11-15T14:27:57.356Z"
   },
   {
    "duration": 113,
    "start_time": "2023-11-15T14:27:57.368Z"
   },
   {
    "duration": 160,
    "start_time": "2023-11-15T14:27:57.484Z"
   },
   {
    "duration": 22,
    "start_time": "2023-11-15T14:27:57.646Z"
   },
   {
    "duration": 36,
    "start_time": "2023-11-15T14:27:57.669Z"
   },
   {
    "duration": 123,
    "start_time": "2023-11-15T14:27:57.706Z"
   },
   {
    "duration": 161,
    "start_time": "2023-11-15T14:27:57.831Z"
   },
   {
    "duration": 14,
    "start_time": "2023-11-15T14:27:57.994Z"
   },
   {
    "duration": 37,
    "start_time": "2023-11-15T14:27:58.009Z"
   },
   {
    "duration": 29,
    "start_time": "2023-11-15T14:27:58.048Z"
   },
   {
    "duration": 78,
    "start_time": "2023-11-15T14:27:58.079Z"
   },
   {
    "duration": 61,
    "start_time": "2023-11-15T14:27:58.160Z"
   },
   {
    "duration": 767,
    "start_time": "2023-11-15T14:27:58.222Z"
   },
   {
    "duration": 18,
    "start_time": "2023-11-15T14:27:58.991Z"
   },
   {
    "duration": 86,
    "start_time": "2023-11-15T14:27:59.011Z"
   },
   {
    "duration": 37,
    "start_time": "2023-11-15T14:27:59.098Z"
   },
   {
    "duration": 21,
    "start_time": "2023-11-15T14:27:59.139Z"
   },
   {
    "duration": 7,
    "start_time": "2023-11-15T14:27:59.161Z"
   },
   {
    "duration": 45,
    "start_time": "2023-11-15T14:27:59.169Z"
   },
   {
    "duration": 62,
    "start_time": "2023-11-15T14:27:59.215Z"
   },
   {
    "duration": 10,
    "start_time": "2023-11-15T14:27:59.279Z"
   },
   {
    "duration": 25,
    "start_time": "2023-11-15T14:27:59.290Z"
   },
   {
    "duration": 29,
    "start_time": "2023-11-15T14:27:59.316Z"
   },
   {
    "duration": 41,
    "start_time": "2023-11-15T14:27:59.347Z"
   },
   {
    "duration": 496,
    "start_time": "2023-11-15T14:27:59.389Z"
   },
   {
    "duration": 3,
    "start_time": "2023-11-15T14:27:59.886Z"
   },
   {
    "duration": 10,
    "start_time": "2023-11-15T14:27:59.891Z"
   },
   {
    "duration": 24,
    "start_time": "2023-11-15T14:27:59.902Z"
   },
   {
    "duration": 34,
    "start_time": "2023-11-15T14:27:59.928Z"
   },
   {
    "duration": 11,
    "start_time": "2023-11-15T14:27:59.964Z"
   },
   {
    "duration": 37,
    "start_time": "2023-11-15T14:27:59.976Z"
   },
   {
    "duration": 47,
    "start_time": "2023-11-15T14:28:00.015Z"
   },
   {
    "duration": 23,
    "start_time": "2023-11-15T14:28:00.064Z"
   },
   {
    "duration": 1704,
    "start_time": "2023-11-15T14:28:26.288Z"
   },
   {
    "duration": 1241,
    "start_time": "2023-11-15T14:28:31.927Z"
   },
   {
    "duration": 187,
    "start_time": "2023-11-15T14:28:33.169Z"
   },
   {
    "duration": 10,
    "start_time": "2023-11-15T14:28:33.358Z"
   },
   {
    "duration": 99,
    "start_time": "2023-11-15T14:28:33.370Z"
   },
   {
    "duration": 153,
    "start_time": "2023-11-15T14:28:33.472Z"
   },
   {
    "duration": 35,
    "start_time": "2023-11-15T14:28:33.631Z"
   },
   {
    "duration": 29,
    "start_time": "2023-11-15T14:28:33.669Z"
   },
   {
    "duration": 107,
    "start_time": "2023-11-15T14:28:33.699Z"
   },
   {
    "duration": 153,
    "start_time": "2023-11-15T14:28:33.808Z"
   },
   {
    "duration": 14,
    "start_time": "2023-11-15T14:28:33.963Z"
   },
   {
    "duration": 9,
    "start_time": "2023-11-15T14:28:33.978Z"
   },
   {
    "duration": 54,
    "start_time": "2023-11-15T14:28:33.988Z"
   },
   {
    "duration": 65,
    "start_time": "2023-11-15T14:28:34.044Z"
   },
   {
    "duration": 76,
    "start_time": "2023-11-15T14:28:34.112Z"
   },
   {
    "duration": 761,
    "start_time": "2023-11-15T14:28:34.190Z"
   },
   {
    "duration": 20,
    "start_time": "2023-11-15T14:28:34.953Z"
   },
   {
    "duration": 98,
    "start_time": "2023-11-15T14:28:34.974Z"
   },
   {
    "duration": 20,
    "start_time": "2023-11-15T14:28:35.074Z"
   },
   {
    "duration": 45,
    "start_time": "2023-11-15T14:28:35.096Z"
   },
   {
    "duration": 12,
    "start_time": "2023-11-15T14:28:35.142Z"
   },
   {
    "duration": 36,
    "start_time": "2023-11-15T14:28:35.156Z"
   },
   {
    "duration": 57,
    "start_time": "2023-11-15T14:28:35.194Z"
   },
   {
    "duration": 18,
    "start_time": "2023-11-15T14:28:35.255Z"
   },
   {
    "duration": 10,
    "start_time": "2023-11-15T14:28:35.276Z"
   },
   {
    "duration": 8,
    "start_time": "2023-11-15T14:28:35.288Z"
   },
   {
    "duration": 72,
    "start_time": "2023-11-15T14:28:35.297Z"
   },
   {
    "duration": 569,
    "start_time": "2023-11-15T14:28:35.371Z"
   },
   {
    "duration": 2,
    "start_time": "2023-11-15T14:28:35.942Z"
   },
   {
    "duration": 10,
    "start_time": "2023-11-15T14:28:35.952Z"
   },
   {
    "duration": 11,
    "start_time": "2023-11-15T14:28:35.965Z"
   },
   {
    "duration": 17,
    "start_time": "2023-11-15T14:28:35.979Z"
   },
   {
    "duration": 12,
    "start_time": "2023-11-15T14:28:35.998Z"
   },
   {
    "duration": 31,
    "start_time": "2023-11-15T14:28:36.012Z"
   },
   {
    "duration": 25,
    "start_time": "2023-11-15T14:28:36.045Z"
   },
   {
    "duration": 11,
    "start_time": "2023-11-15T14:28:36.071Z"
   },
   {
    "duration": 1277,
    "start_time": "2023-11-15T14:42:05.762Z"
   },
   {
    "duration": 252,
    "start_time": "2023-11-15T14:42:07.048Z"
   },
   {
    "duration": 20,
    "start_time": "2023-11-15T14:42:07.302Z"
   },
   {
    "duration": 130,
    "start_time": "2023-11-15T14:42:07.324Z"
   },
   {
    "duration": 162,
    "start_time": "2023-11-15T14:42:07.457Z"
   },
   {
    "duration": 45,
    "start_time": "2023-11-15T14:42:07.621Z"
   },
   {
    "duration": 24,
    "start_time": "2023-11-15T14:42:07.668Z"
   },
   {
    "duration": 143,
    "start_time": "2023-11-15T14:42:07.694Z"
   },
   {
    "duration": 208,
    "start_time": "2023-11-15T14:42:07.841Z"
   },
   {
    "duration": 24,
    "start_time": "2023-11-15T14:42:08.051Z"
   },
   {
    "duration": 11,
    "start_time": "2023-11-15T14:42:08.078Z"
   },
   {
    "duration": 61,
    "start_time": "2023-11-15T14:42:08.091Z"
   },
   {
    "duration": 83,
    "start_time": "2023-11-15T14:42:08.155Z"
   },
   {
    "duration": 119,
    "start_time": "2023-11-15T14:42:08.244Z"
   },
   {
    "duration": 898,
    "start_time": "2023-11-15T14:42:08.367Z"
   },
   {
    "duration": 23,
    "start_time": "2023-11-15T14:42:09.267Z"
   },
   {
    "duration": 95,
    "start_time": "2023-11-15T14:42:09.292Z"
   },
   {
    "duration": 21,
    "start_time": "2023-11-15T14:42:09.389Z"
   },
   {
    "duration": 46,
    "start_time": "2023-11-15T14:42:09.411Z"
   },
   {
    "duration": 10,
    "start_time": "2023-11-15T14:42:09.460Z"
   },
   {
    "duration": 26,
    "start_time": "2023-11-15T14:42:09.473Z"
   },
   {
    "duration": 72,
    "start_time": "2023-11-15T14:42:09.501Z"
   },
   {
    "duration": 12,
    "start_time": "2023-11-15T14:42:09.575Z"
   },
   {
    "duration": 18,
    "start_time": "2023-11-15T14:42:09.589Z"
   },
   {
    "duration": 68,
    "start_time": "2023-11-15T14:42:09.608Z"
   },
   {
    "duration": 65,
    "start_time": "2023-11-15T14:42:09.678Z"
   },
   {
    "duration": 551,
    "start_time": "2023-11-15T14:42:09.746Z"
   },
   {
    "duration": 2,
    "start_time": "2023-11-15T14:42:10.299Z"
   },
   {
    "duration": 15,
    "start_time": "2023-11-15T14:42:10.303Z"
   },
   {
    "duration": 13,
    "start_time": "2023-11-15T14:42:10.320Z"
   },
   {
    "duration": 24,
    "start_time": "2023-11-15T14:42:10.335Z"
   },
   {
    "duration": 22,
    "start_time": "2023-11-15T14:42:10.360Z"
   },
   {
    "duration": 30,
    "start_time": "2023-11-15T14:42:10.383Z"
   },
   {
    "duration": 9,
    "start_time": "2023-11-15T14:42:10.415Z"
   },
   {
    "duration": 11,
    "start_time": "2023-11-15T14:42:10.425Z"
   },
   {
    "duration": 107,
    "start_time": "2023-11-15T15:08:37.452Z"
   },
   {
    "duration": 1187,
    "start_time": "2023-11-15T16:15:08.460Z"
   },
   {
    "duration": 199,
    "start_time": "2023-11-15T16:15:09.649Z"
   },
   {
    "duration": 11,
    "start_time": "2023-11-15T16:15:09.849Z"
   },
   {
    "duration": 99,
    "start_time": "2023-11-15T16:15:09.862Z"
   },
   {
    "duration": 155,
    "start_time": "2023-11-15T16:15:09.963Z"
   },
   {
    "duration": 24,
    "start_time": "2023-11-15T16:15:10.120Z"
   },
   {
    "duration": 18,
    "start_time": "2023-11-15T16:15:10.145Z"
   },
   {
    "duration": 116,
    "start_time": "2023-11-15T16:15:10.165Z"
   },
   {
    "duration": 155,
    "start_time": "2023-11-15T16:15:10.282Z"
   },
   {
    "duration": 14,
    "start_time": "2023-11-15T16:15:10.439Z"
   },
   {
    "duration": 15,
    "start_time": "2023-11-15T16:15:10.454Z"
   },
   {
    "duration": 23,
    "start_time": "2023-11-15T16:15:10.471Z"
   },
   {
    "duration": 87,
    "start_time": "2023-11-15T16:15:10.496Z"
   },
   {
    "duration": 76,
    "start_time": "2023-11-15T16:15:10.585Z"
   },
   {
    "duration": 774,
    "start_time": "2023-11-15T16:15:10.663Z"
   },
   {
    "duration": 20,
    "start_time": "2023-11-15T16:15:11.438Z"
   },
   {
    "duration": 85,
    "start_time": "2023-11-15T16:15:11.459Z"
   },
   {
    "duration": 24,
    "start_time": "2023-11-15T16:15:11.546Z"
   },
   {
    "duration": 22,
    "start_time": "2023-11-15T16:15:11.572Z"
   },
   {
    "duration": 35,
    "start_time": "2023-11-15T16:15:11.596Z"
   },
   {
    "duration": 24,
    "start_time": "2023-11-15T16:15:11.633Z"
   },
   {
    "duration": 34,
    "start_time": "2023-11-15T16:15:11.659Z"
   },
   {
    "duration": 36,
    "start_time": "2023-11-15T16:15:11.695Z"
   },
   {
    "duration": 10,
    "start_time": "2023-11-15T16:15:11.733Z"
   },
   {
    "duration": 7,
    "start_time": "2023-11-15T16:15:11.744Z"
   },
   {
    "duration": 28,
    "start_time": "2023-11-15T16:15:11.753Z"
   },
   {
    "duration": 503,
    "start_time": "2023-11-15T16:15:11.783Z"
   },
   {
    "duration": 2,
    "start_time": "2023-11-15T16:15:12.290Z"
   },
   {
    "duration": 6,
    "start_time": "2023-11-15T16:15:12.293Z"
   },
   {
    "duration": 15,
    "start_time": "2023-11-15T16:15:12.300Z"
   },
   {
    "duration": 19,
    "start_time": "2023-11-15T16:15:12.317Z"
   },
   {
    "duration": 12,
    "start_time": "2023-11-15T16:15:12.338Z"
   },
   {
    "duration": 13,
    "start_time": "2023-11-15T16:15:12.352Z"
   },
   {
    "duration": 8,
    "start_time": "2023-11-15T16:15:12.367Z"
   },
   {
    "duration": 16,
    "start_time": "2023-11-15T16:15:12.376Z"
   },
   {
    "duration": 44,
    "start_time": "2023-11-15T21:46:04.331Z"
   },
   {
    "duration": 1260,
    "start_time": "2023-11-15T21:46:12.156Z"
   },
   {
    "duration": 522,
    "start_time": "2023-11-15T21:46:15.188Z"
   },
   {
    "duration": 10,
    "start_time": "2023-11-15T21:46:17.580Z"
   },
   {
    "duration": 75,
    "start_time": "2023-11-15T21:46:19.411Z"
   },
   {
    "duration": 119,
    "start_time": "2023-11-15T21:46:21.683Z"
   },
   {
    "duration": 19,
    "start_time": "2023-11-15T21:46:23.200Z"
   },
   {
    "duration": 17,
    "start_time": "2023-11-15T21:46:31.314Z"
   },
   {
    "duration": 89,
    "start_time": "2023-11-15T21:46:34.809Z"
   },
   {
    "duration": 25,
    "start_time": "2023-11-15T21:46:39.682Z"
   },
   {
    "duration": 59,
    "start_time": "2023-11-15T21:46:43.511Z"
   },
   {
    "duration": 4,
    "start_time": "2023-11-15T21:47:47.894Z"
   },
   {
    "duration": 9,
    "start_time": "2023-11-15T21:47:53.497Z"
   },
   {
    "duration": 4,
    "start_time": "2023-11-15T21:47:56.801Z"
   },
   {
    "duration": 1241,
    "start_time": "2023-11-16T13:12:11.424Z"
   },
   {
    "duration": 202,
    "start_time": "2023-11-16T13:12:12.667Z"
   },
   {
    "duration": 10,
    "start_time": "2023-11-16T13:12:12.871Z"
   },
   {
    "duration": 117,
    "start_time": "2023-11-16T13:12:12.883Z"
   },
   {
    "duration": 148,
    "start_time": "2023-11-16T13:12:13.003Z"
   },
   {
    "duration": 22,
    "start_time": "2023-11-16T13:12:13.153Z"
   },
   {
    "duration": 20,
    "start_time": "2023-11-16T13:12:13.176Z"
   },
   {
    "duration": 104,
    "start_time": "2023-11-16T13:12:13.198Z"
   },
   {
    "duration": 40,
    "start_time": "2023-11-16T13:12:13.304Z"
   },
   {
    "duration": 12,
    "start_time": "2023-11-16T13:12:13.346Z"
   },
   {
    "duration": 12,
    "start_time": "2023-11-16T13:12:13.360Z"
   },
   {
    "duration": 33,
    "start_time": "2023-11-16T13:12:13.374Z"
   },
   {
    "duration": 18,
    "start_time": "2023-11-16T13:12:13.409Z"
   },
   {
    "duration": 31,
    "start_time": "2023-11-16T13:12:13.432Z"
   },
   {
    "duration": 36,
    "start_time": "2023-11-16T13:12:13.464Z"
   },
   {
    "duration": 62,
    "start_time": "2023-11-16T13:12:13.502Z"
   },
   {
    "duration": 639,
    "start_time": "2023-11-16T13:12:13.566Z"
   },
   {
    "duration": 19,
    "start_time": "2023-11-16T13:12:14.207Z"
   },
   {
    "duration": 66,
    "start_time": "2023-11-16T13:12:14.228Z"
   },
   {
    "duration": 18,
    "start_time": "2023-11-16T13:12:14.296Z"
   },
   {
    "duration": 36,
    "start_time": "2023-11-16T13:12:14.315Z"
   },
   {
    "duration": 7,
    "start_time": "2023-11-16T13:12:14.353Z"
   },
   {
    "duration": 30,
    "start_time": "2023-11-16T13:12:14.361Z"
   },
   {
    "duration": 72,
    "start_time": "2023-11-16T13:12:14.392Z"
   },
   {
    "duration": 12,
    "start_time": "2023-11-16T13:12:14.466Z"
   },
   {
    "duration": 10,
    "start_time": "2023-11-16T13:12:14.479Z"
   },
   {
    "duration": 20,
    "start_time": "2023-11-16T13:12:14.490Z"
   },
   {
    "duration": 40,
    "start_time": "2023-11-16T13:12:14.511Z"
   },
   {
    "duration": 543,
    "start_time": "2023-11-16T13:12:14.553Z"
   },
   {
    "duration": 2,
    "start_time": "2023-11-16T13:12:15.098Z"
   },
   {
    "duration": 17,
    "start_time": "2023-11-16T13:12:15.102Z"
   },
   {
    "duration": 20,
    "start_time": "2023-11-16T13:12:15.121Z"
   },
   {
    "duration": 19,
    "start_time": "2023-11-16T13:12:15.143Z"
   },
   {
    "duration": 16,
    "start_time": "2023-11-16T13:12:15.164Z"
   },
   {
    "duration": 22,
    "start_time": "2023-11-16T13:12:15.181Z"
   },
   {
    "duration": 46,
    "start_time": "2023-11-16T13:12:15.209Z"
   },
   {
    "duration": 13,
    "start_time": "2023-11-16T13:12:15.258Z"
   },
   {
    "duration": 30,
    "start_time": "2023-11-16T13:13:27.952Z"
   },
   {
    "duration": 1309,
    "start_time": "2023-11-16T13:18:26.338Z"
   },
   {
    "duration": 185,
    "start_time": "2023-11-16T13:18:27.649Z"
   },
   {
    "duration": 11,
    "start_time": "2023-11-16T13:18:27.836Z"
   },
   {
    "duration": 88,
    "start_time": "2023-11-16T13:18:27.848Z"
   },
   {
    "duration": 130,
    "start_time": "2023-11-16T13:18:27.942Z"
   },
   {
    "duration": 20,
    "start_time": "2023-11-16T13:18:28.073Z"
   },
   {
    "duration": 23,
    "start_time": "2023-11-16T13:18:28.094Z"
   },
   {
    "duration": 95,
    "start_time": "2023-11-16T13:18:28.119Z"
   },
   {
    "duration": 36,
    "start_time": "2023-11-16T13:18:28.215Z"
   },
   {
    "duration": 11,
    "start_time": "2023-11-16T13:18:28.252Z"
   },
   {
    "duration": 43,
    "start_time": "2023-11-16T13:18:28.264Z"
   },
   {
    "duration": 26,
    "start_time": "2023-11-16T13:18:28.309Z"
   },
   {
    "duration": 26,
    "start_time": "2023-11-16T13:18:28.336Z"
   },
   {
    "duration": 23,
    "start_time": "2023-11-16T13:18:28.365Z"
   },
   {
    "duration": 33,
    "start_time": "2023-11-16T13:18:28.390Z"
   },
   {
    "duration": 42,
    "start_time": "2023-11-16T13:18:28.425Z"
   },
   {
    "duration": 619,
    "start_time": "2023-11-16T13:18:28.468Z"
   },
   {
    "duration": 18,
    "start_time": "2023-11-16T13:18:29.089Z"
   },
   {
    "duration": 66,
    "start_time": "2023-11-16T13:18:29.109Z"
   },
   {
    "duration": 17,
    "start_time": "2023-11-16T13:18:29.176Z"
   },
   {
    "duration": 26,
    "start_time": "2023-11-16T13:18:29.194Z"
   },
   {
    "duration": 6,
    "start_time": "2023-11-16T13:18:29.221Z"
   },
   {
    "duration": 24,
    "start_time": "2023-11-16T13:18:29.243Z"
   },
   {
    "duration": 75,
    "start_time": "2023-11-16T13:18:29.268Z"
   },
   {
    "duration": 12,
    "start_time": "2023-11-16T13:18:29.344Z"
   },
   {
    "duration": 14,
    "start_time": "2023-11-16T13:18:29.357Z"
   },
   {
    "duration": 27,
    "start_time": "2023-11-16T13:18:29.372Z"
   },
   {
    "duration": 27,
    "start_time": "2023-11-16T13:18:29.400Z"
   },
   {
    "duration": 516,
    "start_time": "2023-11-16T13:18:29.429Z"
   },
   {
    "duration": 2,
    "start_time": "2023-11-16T13:18:29.947Z"
   },
   {
    "duration": 15,
    "start_time": "2023-11-16T13:18:29.950Z"
   },
   {
    "duration": 60,
    "start_time": "2023-11-16T13:18:29.966Z"
   },
   {
    "duration": 56,
    "start_time": "2023-11-16T13:18:30.028Z"
   },
   {
    "duration": 46,
    "start_time": "2023-11-16T13:18:30.085Z"
   },
   {
    "duration": 41,
    "start_time": "2023-11-16T13:18:30.133Z"
   },
   {
    "duration": 47,
    "start_time": "2023-11-16T13:18:30.176Z"
   },
   {
    "duration": 35,
    "start_time": "2023-11-16T13:18:30.225Z"
   }
  ],
  "kernelspec": {
   "display_name": "Python 3 (ipykernel)",
   "language": "python",
   "name": "python3"
  },
  "language_info": {
   "codemirror_mode": {
    "name": "ipython",
    "version": 3
   },
   "file_extension": ".py",
   "mimetype": "text/x-python",
   "name": "python",
   "nbconvert_exporter": "python",
   "pygments_lexer": "ipython3",
   "version": "3.11.5"
  },
  "toc": {
   "base_numbering": 1,
   "nav_menu": {},
   "number_sections": true,
   "sideBar": true,
   "skip_h1_title": true,
   "title_cell": "Table of Contents",
   "title_sidebar": "Contents",
   "toc_cell": false,
   "toc_position": {},
   "toc_section_display": true,
   "toc_window_display": false
  }
 },
 "nbformat": 4,
 "nbformat_minor": 2
}
